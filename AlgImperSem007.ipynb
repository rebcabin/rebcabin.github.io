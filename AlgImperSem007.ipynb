{
 "cells": [
  {
   "cell_type": "markdown",
   "id": "3a76f68e-f22a-4278-b747-19b46d5f94ae",
   "metadata": {},
   "source": [
    "### Algebraic Imperative Semantics"
   ]
  },
  {
   "cell_type": "markdown",
   "id": "510d45a6-8421-40ca-9be5-8127c1d18237",
   "metadata": {},
   "source": [
    "#### Version 7\n",
    "#### Brian Beckman\n",
    "#### 25 Dec 2022\n",
    "#### [Creative Commons Attribution 4.0 International Public License](https://creativecommons.org/licenses/by/4.0/legalcode)"
   ]
  },
  {
   "cell_type": "markdown",
   "id": "5a7aaedb-0423-4c26-9144-b1e230dd799a",
   "metadata": {},
   "source": [
    "# Introduction"
   ]
  },
  {
   "cell_type": "markdown",
   "id": "3441580e-c02a-4fa2-8f74-25d127464332",
   "metadata": {},
   "source": [
    "In a classic paper, [_Lambda, the Ultimate Imperative_](https://www.researchgate.net/publication/37596655_Lambda_The_Ultimate_Imperative), Steele and Sussman show how to model most imperative constructs with just _lambda:_"
   ]
  },
  {
   "cell_type": "markdown",
   "id": "732d965e-2640-468a-8dfa-4dc9690b5025",
   "metadata": {},
   "source": [
    "> We demonstrate how to model the following common [imperative] programming constructs in ... an applicative-order language similar to LISP: Simple Recursion, Iteration, Compound Statements and Expressions, GO TO and Assignment, Continuation-Passing, Escape Expressions, Fluid Variables, Call by Name, Call by Need, and Call by Reference. The models require only (possibly self-referent) lambda application, conditionals, and (rarely) assignment."
   ]
  },
  {
   "cell_type": "markdown",
   "id": "5671e4da-8bae-4d07-b787-d0fe038de6b6",
   "metadata": {},
   "source": [
    "It's useful to recap this paper in Python, which has most of the listed imperative constructs. Imagine compiling Python into an intermediate language in which the semantics, even those with side-effects, are laid bare as trees of $\\lambda$ expressions. In such a representation, optimizations are \n",
    "1. easy to write as tree-to-tree transforms, in a closed algebra of expressions\n",
    "1. easy to extend via just function composition (even Kleisli-monadic)\n",
    "2. independent of surface syntax, thus easy to share with other imperative languages like Fortran, C, Java\n",
    "3. independent of back ends, thus easy to run interactively; or to translate into LLVM, x86, ARM64, C, for execution; or to transpile into other surface languages"
   ]
  },
  {
   "cell_type": "markdown",
   "id": "d073480b-92a4-44fc-9a03-e52129093751",
   "metadata": {},
   "source": [
    "The use-cases above are similar to those for a SQL algebraizer. Many SQL implementations \n",
    "1. translate the surface language into bare-bones expressions in a closed relational algebra, free of original syntax\n",
    "2. run the algebraic expressions through symbolic optimizers, which often rearrange the expressions completely\n",
    "2. incrementally extend the system by composing new optimizations\n",
    "3. translate optimized expressions into commands for local and distributed servers"
   ]
  },
  {
   "cell_type": "markdown",
   "id": "3fd51461-7fc1-4df7-953c-3f25a6aa1f01",
   "metadata": {},
   "source": [
    "An older algebraic technique, [Denotational Semantics, was defined for R5RS](https://schemers.org/Documents/Standards/R5RS/HTML/r5rs-Z-H-10.html)"
   ]
  },
  {
   "cell_type": "markdown",
   "id": "e440b17b-ed1e-4a26-a8aa-f00ed59c4bfe",
   "metadata": {},
   "source": [
    "We follow the paper more-or-less directly, with reference to [SICP](https://sarabander.github.io/sicp/)."
   ]
  },
  {
   "cell_type": "markdown",
   "id": "fab97f19-27e0-4004-b9de-f951fcc50e7e",
   "metadata": {},
   "source": [
    "## _Schemulation:_ Python Semantics in Python<a id=\"semantics\"></a>"
   ]
  },
  {
   "cell_type": "markdown",
   "id": "cd1ff76f-d551-46ab-a060-4814ab47ec29",
   "metadata": {},
   "source": [
    "Ideally, we'd compile Python into Scheme or Clojure or Common Lisp, then write transformations, translations, interpreters, debuggers, etc. in Scheme or Clojure or Common Lisp. All of these systems have great support for algebraic data types. However, to maintain a convenient notebook structure and to avoid creeping dependencies, we'll just model Python imperatives in a Scheme-like applicative-order $\\lambda$-calculus embedded in basic Python."
   ]
  },
  {
   "cell_type": "markdown",
   "id": "a7a73270-30c7-4f50-90bf-d95c8f215f6a",
   "metadata": {},
   "source": [
    "Some people may find this weird. Why not just implement Scheme in Python instead of emulating Scheme in Python? It's an engineering judgment call. Most authors of compilers and interpreters spend undue time on syntax before even getting to semantics. Compiler textbooks tell you to do this! Semantics becomes a hidden \"implementation detail,\" but then developers forgive themselves for making an ungodly mess of it. We prefer the other way around. Get the semantics clean, composable, extendable, maintainable, and correct, _first_, then spend time on syntax, if you even care any more. Or just let someone else do it. From the development point of view, syntax is a distraction. It's been solved for decades, but it makes young developers and professors feel powerful. The decision to spend time on syntax before semantics is not engineering, it's self-indulgence."
   ]
  },
  {
   "cell_type": "markdown",
   "id": "3886ba49-9390-4fd9-a4ab-ad13b88a1a47",
   "metadata": {},
   "source": [
    "## Orthogonality as a Design Principle"
   ]
  },
  {
   "cell_type": "markdown",
   "id": "608bdc5e-19a2-4f7d-b350-eb8cd975bb15",
   "metadata": {},
   "source": [
    "We prefer designs that minimize cross-talk. Each facility -- transformation layer or module -- should have the least possible dependency on other facilities. For example, tranformations that affect control flow need not necessarily depend on transformations that affect numerics. This might remind you of groups and subgroups in algebra."
   ]
  },
  {
   "cell_type": "markdown",
   "id": "bdf71eec-c4fa-4ad4-a155-09c4a2327dc7",
   "metadata": {},
   "source": [
    "Contrast to a braided design, where each facility explicitly accounts for every other. Such a design is not usually created on purpose: it accretes as semantics is bodged on to syntax trees. Correcting such a design requires total refactoring after-the-fact. It's much easier to get it right before-the-fact."
   ]
  },
  {
   "cell_type": "markdown",
   "id": "57c016be-1bff-4281-b09d-fb67d3deee4e",
   "metadata": {},
   "source": [
    "## How to Use this Notebook"
   ]
  },
  {
   "cell_type": "markdown",
   "id": "c462dac7-2b05-4854-bc16-9be095f72fd1",
   "metadata": {},
   "source": [
    "The goal of this notebook is to transmit ideas from one human mind to another. I want you to read the code. Most of the examples return easy numerical results like `42 * 43 == 1806`. I want you to do the arithmetic and check the result by looking at them. That's why I don't use Python `assert`, here."
   ]
  },
  {
   "cell_type": "markdown",
   "id": "5ac03658-c4f3-48e6-bf62-11dc370bfd96",
   "metadata": {},
   "source": [
    "Run the cells sequentially, in order. The reason is that some of the cells modify the unique global environment, so that later cells depend on earlier cells. Some cells, such as cells that delete bindings from the global environment, can't be repeated (they're not idempotent)."
   ]
  },
  {
   "cell_type": "markdown",
   "id": "f4aa1b5f-fe02-4eb7-b45c-7c7edb8bfa84",
   "metadata": {},
   "source": [
    "There is a companion Python project that `asserts` the results in pytest, that is, proves the results in the computer. Unlike this notebook, that project is written in non-narrative style. The tests can be run in any order, largely independent of one another."
   ]
  },
  {
   "cell_type": "markdown",
   "id": "d8caba04-fe3a-4832-a31b-6b6803813639",
   "metadata": {},
   "source": [
    "# PART I: BASICS<a id=\"basics\"></a>"
   ]
  },
  {
   "cell_type": "markdown",
   "id": "ebea908d-e479-4d22-933b-194bea01bdfa",
   "metadata": {},
   "source": [
    "# `ECHO` for Debugging"
   ]
  },
  {
   "cell_type": "markdown",
   "id": "deed90ca-09ac-4a11-8a7e-154da30046d0",
   "metadata": {},
   "source": [
    "`ECHO` prints and then returns its argument. Semantically, it's the identity function."
   ]
  },
  {
   "cell_type": "markdown",
   "id": "b5f51a4c-4304-4680-a746-28cb15cf0cfe",
   "metadata": {},
   "source": [
    "Though the print statement in `ECHO` is technically a side-effect, it's not a side-effect pertinent to Schemulator semantics. It's a side-effect at the interpreter level,  for user convenience."
   ]
  },
  {
   "cell_type": "code",
   "execution_count": 1,
   "id": "38acef91-dd46-4f1f-9cec-9ae7aed6b813",
   "metadata": {},
   "outputs": [],
   "source": [
    "from pprint import pprint, pformat\n",
    "from typing import Any\n",
    "def ECHO(key: str, x: Any) -> Any:\n",
    "    \"\"\"In any Lisp, this would be a macro!\"\"\"\n",
    "    print()\n",
    "    pprint({key: x})\n",
    "    return x"
   ]
  },
  {
   "cell_type": "markdown",
   "id": "3096ba84-72a8-4928-814b-ab05acfe721d",
   "metadata": {},
   "source": [
    "# Environment and Frame<a id=\"environment\"></a>"
   ]
  },
  {
   "cell_type": "markdown",
   "id": "81df4344-49c9-4d00-a6f0-9a8904394029",
   "metadata": {},
   "source": [
    "We find it necessary to model Scheme's environments and frames explicitly. We tried multiple Pythonic short-cut alternatives and found that none of them compose well, leading to braided designs."
   ]
  },
  {
   "cell_type": "markdown",
   "id": "ae24100b-5793-4fce-985e-e788d02e5a21",
   "metadata": {},
   "source": [
    "[SICP 3.2](https://sarabander.github.io/sicp/html/3_002e2.xhtml#g_t3_002e2) has some apparent contradictions in the definition of environment and frame. It says that \"an environment is a sequence of frames,\" but the rest of the text and figures clearly imply that an environment has just one frame."
   ]
  },
  {
   "cell_type": "markdown",
   "id": "a497199a-798e-4903-af13-0d2559e1d48e",
   "metadata": {},
   "source": [
    "The best resolution appears to be:"
   ]
  },
  {
   "cell_type": "markdown",
   "id": "2d51e004-559c-4868-af7a-e5f97c2345df",
   "metadata": {},
   "source": [
    "> __DEFINITION__: An ___environment___ is a frame $\\phi$ and a pointer $\\pi$ to an enclosing environment. A ___frame___ is a mathematical function from variable names to values; no variable name may appear more than once in a frame."
   ]
  },
  {
   "cell_type": "markdown",
   "id": "83e26f24-712b-439b-b80f-b5820602996f",
   "metadata": {},
   "source": [
    "We note in passing that this works only for a single thread. [Clojure, for instance, solves that problem with _Vars_](https://clojure.org/reference/vars)."
   ]
  },
  {
   "cell_type": "markdown",
   "id": "8a755018-dc17-4b55-a206-0bfbb7518601",
   "metadata": {},
   "source": [
    "## Greek and ALL CAPS<a id=\"greek\"></a>"
   ]
  },
  {
   "cell_type": "markdown",
   "id": "d0cef101-9abd-46c5-bad3-7d617629d95c",
   "metadata": {},
   "source": [
    "$\\pi$ for an enclosing environment is a nice pun: it evokes $\\pi\\eta\\rho\\iota$, a Greek prefix meaning \"surrounding,\" as in \"perimeter\" (_sic_, not \"parameter\")."
   ]
  },
  {
   "cell_type": "markdown",
   "id": "210e0a3a-376b-4663-a86a-820f87ab2cb8",
   "metadata": {},
   "source": [
    "We use Greek letters for system attributes and variables that will be impossible for users to write if they follow the rule below. So, for example, we don't need `gensym`, a thorn in every Lisp programmer's side."
   ]
  },
  {
   "cell_type": "markdown",
   "id": "c97d3883-644a-44cd-abd1-af590c883d20",
   "metadata": {},
   "source": [
    "> __RULE__: Avoid Greek in user-level code to avoid clobbering system-supplied names."
   ]
  },
  {
   "cell_type": "markdown",
   "id": "6c9fb02d-6dc2-433c-af33-867b222d3c16",
   "metadata": {},
   "source": [
    "Names in ALL CAPS denote system procedures that implement Schemulator."
   ]
  },
  {
   "cell_type": "markdown",
   "id": "5e792017-45b7-4ec9-b7cb-89682ffaa1a3",
   "metadata": {},
   "source": [
    "## Bindings<a id=\"bindings\"></a>"
   ]
  },
  {
   "cell_type": "markdown",
   "id": "27e4595e-51ea-4dcb-a8ae-d5251e2cd0ac",
   "metadata": {},
   "source": [
    "> __DEFINITION__: A ___binding___ is an association from a variable name to a value. A binding is an entry in a frame."
   ]
  },
  {
   "cell_type": "markdown",
   "id": "d1f0c66d-994b-425d-bbe5-18a86a3459a6",
   "metadata": {},
   "source": [
    "We might model a binding as a pair, or as a row in a table, an element of a relation (subset of a Cartesian product), an _item_ in a Python dictionary, or as an attribute of a Python object. We prefer the attribute model because it affords _dot_ notation for lookup, that is, `o.foo` rather than the dictionary's syntax `o['foo']`. Thanks to [divs1210](https://gist.github.com/divs1210?page=3) for this idea."
   ]
  },
  {
   "cell_type": "markdown",
   "id": "de5caced-7ae8-474c-8890-e04046faba5c",
   "metadata": {},
   "source": [
    "If the definitions above are acceptable, the apparent contradiction in SICP is resolved. SICP says that an environment _is_ a sequence of frames. Rather, I'd say that any environment _implies_ a virtual sequence of frames via the chain of $\\pi\\eta\\rho\\iota$ pointers to enclosing environments."
   ]
  },
  {
   "cell_type": "markdown",
   "id": "89cc50c3-7d05-4bfc-8186-3f458601e2a7",
   "metadata": {},
   "source": [
    "> __INVARIANT__: The system maintains a unique ___global environment___, whose _pointer-to-enclosing-environment_ is `None`."
   ]
  },
  {
   "cell_type": "markdown",
   "id": "934ce7e8-5096-4fdc-8da7-71949f6165bd",
   "metadata": {},
   "source": [
    "> __OBSERVATION__: A frame $\\phi$ belongs to a virtual sequence of environments implied by the unidirectional chain of enclosing environments ending at the unique global environment."
   ]
  },
  {
   "cell_type": "markdown",
   "id": "658a7d39-d7cc-4595-bbbf-12148926fff1",
   "metadata": {},
   "source": [
    "> __DEFINITIONS__: The ___value of a variable in an environment___ is the value in the first binding in any frame of the sequence ending at _global_. Bindings lower in the chain may ___shadow___ bindings higher in the chain, rendering them inaccessible. If no frame in a chain specifies a binding for the variable, then the variable is ___unbound___ in the environment. A variable may be ___bound___ in one environment and unbound in another."
   ]
  },
  {
   "cell_type": "markdown",
   "id": "3b1ba719-c8c0-42b1-b8f8-f3ba53d7fea6",
   "metadata": {},
   "source": [
    "In the Environment class, we override `__getattr__` to avoid a separate method for recursive lookup. We can't also override `__setattr__` to call `setattr(self.ϕ ...)` because `self.ϕ` diverges on `getattr(self.ϕ ...) = getattr(getattr(self.ϕ ...))`."
   ]
  },
  {
   "cell_type": "markdown",
   "id": "d45a964d-a4bb-4535-910f-ccd5cb1c9a67",
   "metadata": {},
   "source": [
    "The `Environment` class is lengthy due to code for _splicing_, necessary to bind [___free variables___](#free-variables) in procedure bodies. Jupyter notebooks do not furnish a convenient way to break up the code for classes, so we put essential information in comments; read them as if they were text in the document."
   ]
  },
  {
   "cell_type": "code",
   "execution_count": 2,
   "id": "0029529f-496a-4661-b426-bfc665408c40",
   "metadata": {},
   "outputs": [],
   "source": [
    "from dataclasses import dataclass, field\n",
    "from types import FunctionType\n",
    "from typing import Any\n",
    "@dataclass\n",
    "@dataclass\n",
    "class Environment:\n",
    "    \"\"\"An Environment has a frame ϕ and a pointer π to an enclosing\n",
    "    Environment. Bindings in the frame are _attributes_ on the\n",
    "    object ϕ. Choose an empty function as the carrier object for\n",
    "    such bindings / attributes. Bindings / attributes have a name and\n",
    "    a value. Retrieve the value of binding ξ in fraome ϕ of\n",
    "    Environment E via dot notation as in 'E.ϕ.ξ'. Set the value v\n",
    "    of binding ξ via 'settattr(E.ϕ, ξ, v)'. When getting values of\n",
    "    bindings, it's OK to omit the ϕ, writing 'E.ξ', because of the\n",
    "    overloaded __getattr__ of this class, Environment. Bracket\n",
    "    notation is also OK, as in 'E[\"ξ\"]', because of Environment's\n",
    "    overloaded __getitem__.\"\"\"\n",
    "    ϕ: \"() -> None\"  # \"frame,\" a nice place to hang attributes\n",
    "    π: \"Environment\"  # via Greek πηρι, short name for 'enclosing'\n",
    "\n",
    "    def _is_global(self):\n",
    "        return self.π is None\n",
    "\n",
    "    def _is_empty(self):\n",
    "        return not vars(self.ϕ)\n",
    "\n",
    "    def _copy(self) -> \"Environment\":\n",
    "        \"\"\"same parent π\"\"\"\n",
    "        e = Environment(lambda: None, self.π)\n",
    "        for k, v in vars(self.ϕ).items():\n",
    "            setattr(e.ϕ, k, v)\n",
    "        return e\n",
    "\n",
    "    def _copy_trunk(self) -> \"Environment\":\n",
    "        \"\"\"Don't copy the global at the end, but do leave it\n",
    "        attached.\"\"\"\n",
    "        if self._is_global():\n",
    "            return self\n",
    "        r = self._copy()\n",
    "        r.π = r.π._copy_trunk()  # recurse\n",
    "        return r\n",
    "\n",
    "    def _splice_onto_lower(self, lower: \"Environment\"):\n",
    "        \"\"\"Splice self onto the end of lower._trunk(), which\n",
    "        does not have the global at its end. Self should either \n",
    "        be the global or have the global at its end.\n",
    "\n",
    "        Purpose:\n",
    "        For monkey-patching proc envs, where free vars and\n",
    "        parameters are looked up. 'Lower' comes from the\n",
    "        prevailing env chain when a procedure is evaluated, i.e.,\n",
    "        defined in some env like that established by LET_STAR.\n",
    "        'Lower' may contain bindings for free variables in the \n",
    "        body of the procedure.\n",
    "\n",
    "        _splice_onto_lower is called iff 'self' comes from the\n",
    "        explicit π parameter of a procedure constructor. 'Self'\n",
    "        is global if the procedure has no parameters (i.e., no\n",
    "        non-free variables). This rule is not checked because \n",
    "        it's ignored during testing.\n",
    "\n",
    "        Aside:\n",
    "        When a procedure with parameters is APPLY'd, a fresh\n",
    "        singleton env is consed on to 'self.' The fresh env \n",
    "        contains parameter bindings. When a procedure with no\n",
    "        parameters is APPLY'd, no such env is consed on.\n",
    "\n",
    "        Definitions:\n",
    "        - A chain ends in global with no refs to global inside.\n",
    "        - The tip of a chain is the one env furthest from global.\n",
    "        - The trunk of a chain is all but the final global.\n",
    "        - The root of a chain is the final global.\n",
    "\n",
    "        lemmas:\n",
    "        - A chain cannot be None.\n",
    "        - A chain could be simply a ref to global. That's a\n",
    "          chain with no tip or trunk, only a root.\n",
    "        - The tip of a chain is None if the chain is just the\n",
    "          final global.\n",
    "        - The trunk of a chain is None if the chain is just the\n",
    "          final global.\n",
    "\n",
    "        @precondition: self and lower are non-None chains. There\n",
    "        are two references to the global in the two chains.\n",
    "\n",
    "        @postcondition: a chain whose tip is a mutable copy of\n",
    "        the tip of lower if lower is not empty. The final global\n",
    "        of lower is replaced by self. The resulting chain has\n",
    "        one ref to global at the end (the root).\n",
    "\n",
    "        scenarios:\n",
    "        _splice_onto_lower is called iff self is an explicit\n",
    "        procedure env.\n",
    "\n",
    "        proc env is global      lower is global     return lower\n",
    "        proc env is global      lower is not empty  return lower\n",
    "        proc env is not empty   lower is global     return self\n",
    "        proc env is not empty   lower is not empty  splice\n",
    "        \"\"\"\n",
    "        assert lower is not None\n",
    "        if lower._is_global() or lower._is_empty():\n",
    "            return self\n",
    "        if lower is self:\n",
    "            return self\n",
    "        if self._is_global():\n",
    "            return lower\n",
    "\n",
    "        temp = lower._trunk()\n",
    "        branch = temp\n",
    "        while branch.π:\n",
    "            branch = branch.π\n",
    "        branch.π = self  # MONKEY PATCH!\n",
    "        return temp\n",
    "\n",
    "    def _trunk(self) -> \"Environment\":\n",
    "        \"\"\"all but the last, global environment in a chain;\n",
    "        Remove the pointer to global env in a copy of the\n",
    "        penultimate. Called ONLY by _splice_onto_lower!\n",
    "        \"\"\"\n",
    "        if self._is_global():\n",
    "            return None\n",
    "        else:  # Monkey-patch the last env\n",
    "            result = self._copy_trunk()\n",
    "            branch = result\n",
    "            while not branch.π._is_global():\n",
    "                branch = branch.π\n",
    "            branch.π = None  # danger! Looks global!\n",
    "            # Fix this immediately in _splice_onto_lower\n",
    "        return result\n",
    "\n",
    "    def _get_binding_val(self, var: str) -> Any:\n",
    "        \"\"\"Walk the sequence of Environments upward.\"\"\"\n",
    "        try:\n",
    "            ρ = getattr(self.ϕ, var)\n",
    "        except AttributeError as _:\n",
    "            if self.π is None:\n",
    "                raise NameError(\n",
    "                    f'Environment: Name {var} is unbound.')\n",
    "            else:  # Recurse: walk upwards.\n",
    "                ρ = self.π.__getattr__(var)\n",
    "        return ρ\n",
    "\n",
    "    def __getattr__(self, key: str) -> Any:\n",
    "        \"\"\"recursive lookup by dot notation\"\"\"\n",
    "        return self._get_binding_val(key)\n",
    "\n",
    "    def __getitem__(self, key: str) -> Any:\n",
    "        \"\"\"recursive lookup by bracket notation\"\"\"\n",
    "        return self._get_binding_val(key)\n",
    "\n",
    "    def __repr__(self):\n",
    "        \"\"\"for the debugger\"\"\"\n",
    "        is_global = (self.π is None)\n",
    "        result = (\"(\" + hex(id(self.ϕ))[-4:] +\n",
    "                  (\",ΓΠ\" if is_global else \"\") +\n",
    "                  \") \") + \\\n",
    "                 pformat(str(list(vars(self.ϕ).keys()))) + \\\n",
    "                 (\">\" + self.π.__repr__()\n",
    "                  if not is_global\n",
    "                  else \"\")\n",
    "\n",
    "        return result"
   ]
  },
  {
   "cell_type": "markdown",
   "id": "79898275-2730-4fda-8075-3eede21ec0fa",
   "metadata": {},
   "source": [
    "# Unique Global Environment $\\Gamma\\Pi$<a id=\"global-environment\"></a>"
   ]
  },
  {
   "cell_type": "markdown",
   "id": "0eefcf19-eef4-418f-9f8e-65e7c5e1239c",
   "metadata": {},
   "source": [
    "The unique global environment is $\\Gamma\\Pi$, defined once for each session. The carrier frame $\\phi$ is an empty function, namely `lambda: None`. The example shows setting and getting the binding for a made-up variable, `γόὂ`."
   ]
  },
  {
   "cell_type": "code",
   "execution_count": 3,
   "id": "48491ed9-5a3c-427e-9208-30d95a6c24a4",
   "metadata": {},
   "outputs": [],
   "source": [
    "ΓΠ = Environment(lambda: None, None)  # Γ for \"global,\" Π for \"environment\""
   ]
  },
  {
   "cell_type": "markdown",
   "id": "91842b8e-e02e-4e9f-ad0a-d92dc48d74d0",
   "metadata": {},
   "source": [
    "## Example:"
   ]
  },
  {
   "cell_type": "code",
   "execution_count": 4,
   "id": "52b68fda-042c-4f56-8183-6867047ade90",
   "metadata": {},
   "outputs": [
    {
     "data": {
      "text/plain": [
       "43"
      ]
     },
     "execution_count": 4,
     "metadata": {},
     "output_type": "execute_result"
    }
   ],
   "source": [
    "setattr(ΓΠ.ϕ, 'γόὂ', 43)\n",
    "ΓΠ.γόὂ"
   ]
  },
  {
   "cell_type": "markdown",
   "id": "79b8ea49-1d8f-44e5-96f9-837c3b265298",
   "metadata": {},
   "source": [
    "# Procedure(code{body, params}, $\\pi$)<a id=\"procedure\"></a>"
   ]
  },
  {
   "cell_type": "markdown",
   "id": "79e5021e-ec2f-47ee-a47b-148a29e2e5d7",
   "metadata": {},
   "source": [
    "From SICP again:"
   ]
  },
  {
   "cell_type": "markdown",
   "id": "4ec88221-f8c1-4127-bf8a-bf4097d4eccc",
   "metadata": {},
   "source": [
    "> __DEFINITION__: A ___procedure___ is a pair of _code_ and environment."
   ]
  },
  {
   "cell_type": "markdown",
   "id": "11c48cf9-0230-455e-94a5-2b4e2b823d32",
   "metadata": {},
   "source": [
    "> __DEFINITION__: ___Code___ is a dictionary of two items: a list of parameter names and a `body`. _Body_ is a $\\lambda$ expression taking a single parameter, $\\pi$. $\\pi$ is bound to the [`Environment`](#environment) in which the formal parameters of the procedure are in-turn [bound](#binding), later, to actual arguments at call time."
   ]
  },
  {
   "cell_type": "markdown",
   "id": "84fc465a-cfce-4d01-82a0-4a13ebc0af89",
   "metadata": {},
   "source": [
    "> __DEFINITIONS__: ___Call___, ___invocation___, and ___application___ are synonyms for expressions in which a procedure's formal parameters are bound to actual arguments, which are values of `Any` type."
   ]
  },
  {
   "cell_type": "markdown",
   "id": "3a8753f7-06f5-4f4c-baea-68721b8cc5dc",
   "metadata": {},
   "source": [
    "> __DEFINITION__: ___Arguments___ or ___actual arguments___ are values of `Any` type that appear in 1-to-1 correspondence to parameters in a call expression, a.k.a, invocation expression or application expression."
   ]
  },
  {
   "cell_type": "markdown",
   "id": "c846cc84-1a6e-4eb9-8e2a-c9f43833cc55",
   "metadata": {},
   "source": [
    "Example:"
   ]
  },
  {
   "cell_type": "code",
   "execution_count": 5,
   "id": "763dd9c5-b0b4-4e77-9522-2dd0b72b26f3",
   "metadata": {},
   "outputs": [],
   "source": [
    "{\"body\": lambda π: π.x + (2 * π.y), \n",
    " \"parameters\": ['x', 'y', 'z']};"
   ]
  },
  {
   "cell_type": "markdown",
   "id": "00c4e2a1-083c-4ea9-84ea-bf0290f9b955",
   "metadata": {},
   "source": [
    "## Confusing Terminology<a id=\"confusing\"></a>"
   ]
  },
  {
   "cell_type": "markdown",
   "id": "331b85b3-7020-49c9-af91-50030f9bb884",
   "metadata": {},
   "source": [
    "When speaking of the body of a procedure, variables in the parameter list are called [___bound variables___](#bound-variables); confer `x` and `y` above."
   ]
  },
  {
   "cell_type": "markdown",
   "id": "231327b4-d219-4343-8869-b13d9c88b95d",
   "metadata": {},
   "source": [
    "> __WARNING__: This terminology is confusing, but common."
   ]
  },
  {
   "cell_type": "markdown",
   "id": "a6f5c027-dc5c-4e56-a288-9e71edd6916e",
   "metadata": {},
   "source": [
    "Parameters are not bound to values when the procedure is _defined_, only when the procedure is _called_ with actual arguments. Parameters are confusingly called _bound variables_ I suppose because it's just shorter than calling them \"potentially bound variables\" or \"eventually bound variables.\""
   ]
  },
  {
   "cell_type": "markdown",
   "id": "232d6c55-cec8-4895-be93-fc39ffa91083",
   "metadata": {},
   "source": [
    "## Parameters, Arguments"
   ]
  },
  {
   "cell_type": "markdown",
   "id": "285f3448-88ac-40bd-b9ea-3ed44621e657",
   "metadata": {},
   "source": [
    "In ordinary Python, a call, invocation, or application looks like this:"
   ]
  },
  {
   "cell_type": "code",
   "execution_count": 6,
   "id": "ec99b29f-a29f-4cf1-8178-b995838da969",
   "metadata": {},
   "outputs": [
    {
     "data": {
      "text/plain": [
       "42"
      ]
     },
     "execution_count": 6,
     "metadata": {},
     "output_type": "execute_result"
    }
   ],
   "source": [
    "(lambda x, y, z:  # <~~~ formal parameters\n",
    " x + 2*y)(\n",
    "    40, 1, None)  # <~~~ actual arguments"
   ]
  },
  {
   "cell_type": "markdown",
   "id": "feb6ca28-5c9f-4b3f-9a8f-e49e6cb47868",
   "metadata": {},
   "source": [
    "The formal parameters are `x`, `y`, and `z`. The actual arguments are `40`, `1`, and `None`."
   ]
  },
  {
   "cell_type": "markdown",
   "id": "1e166fa0-a666-4fc1-8821-73ca70fc0d8f",
   "metadata": {},
   "source": [
    "> __DEFINITION__: ___Formal___ means \"machine-checkable.\""
   ]
  },
  {
   "cell_type": "markdown",
   "id": "bd3abfe0-b91f-4bf2-a206-f6b1eb4657b3",
   "metadata": {},
   "source": [
    "Formal parameters are called \"formal\" because one can machine-check properties of the parameter list, such as absence of duplicated symbols."
   ]
  },
  {
   "cell_type": "markdown",
   "id": "c4502f8b-501a-4920-8565-ac675087af38",
   "metadata": {},
   "source": [
    "Not all parameters need be mentioned in the body. Vice versa, the body may mention variables that are not in the parameter list. Such variables are [___free variables___](#free-variables)."
   ]
  },
  {
   "cell_type": "markdown",
   "id": "8c77b15c-b3ed-4bf7-bb9c-4d99bc6a6a3c",
   "metadata": {},
   "source": [
    "In Schemulator, we write the code part of the example above as follows:"
   ]
  },
  {
   "cell_type": "code",
   "execution_count": 7,
   "id": "ec56a47e-70a7-45b8-bdf1-cd864c9d22dc",
   "metadata": {},
   "outputs": [],
   "source": [
    "lambda π: π.x + (2 * π.y);"
   ]
  },
  {
   "cell_type": "markdown",
   "id": "09802b55-829b-47cd-83a1-291534dbe889",
   "metadata": {},
   "source": [
    "Notice that the unused parameter `z` is not mentioned. How do we know it exists? We might wait until the procedure is called with the wrong number of actual arguments, producing a run-time error. That's not great!"
   ]
  },
  {
   "cell_type": "markdown",
   "id": "c7406e48-45cc-4843-ad17-244c4519d18e",
   "metadata": {},
   "source": [
    "To make all parameters explicit, we pair the body code with a list of formal parameters."
   ]
  },
  {
   "cell_type": "code",
   "execution_count": 8,
   "id": "eeecac47-fe12-472d-8e0b-0380cd013913",
   "metadata": {},
   "outputs": [],
   "source": [
    "{\"body\": lambda π: π.x + (2 * π.y), \n",
    " \"parameters\": ['x', 'y', 'z']};"
   ]
  },
  {
   "cell_type": "markdown",
   "id": "593d32b2-3b36-48fb-83d4-4ed19070c37e",
   "metadata": {},
   "source": [
    "When speaking of the parameters of a procedure or the arguments in an invocation of a procedure, we do not mean $\\pi$. Rather, we mean the symbols bound in the environment $\\pi$."
   ]
  },
  {
   "cell_type": "markdown",
   "id": "9ec203bc-3eb0-46cc-967e-a331f5e84f4e",
   "metadata": {},
   "source": [
    "### Ambiguous Language"
   ]
  },
  {
   "cell_type": "markdown",
   "id": "c22581d4-10f0-4911-948e-d4afbeb7b1e9",
   "metadata": {},
   "source": [
    "Sloppily, one says \"a procedure of $n$ arguments\" and really means \"a procedure with $n$ parameters.\" Be aware of this ambiguity. Technically, we may say \"a procedure _call_ with $n$ arguments,\" or \"a procedure _invocation_ with $n$ arguments, or \"a procedure _application_ with $n$ arguments.\""
   ]
  },
  {
   "cell_type": "markdown",
   "id": "050e6d45-b31c-4994-8fa7-9cc0dbd43b8d",
   "metadata": {},
   "source": [
    "### Positional Arguments Only"
   ]
  },
  {
   "cell_type": "markdown",
   "id": "3a8fc27f-fa32-4723-931d-20553f7a12f1",
   "metadata": {},
   "source": [
    "For now, unlike ordinary Python, Schemulator has only positional parameters, 1-to-1 with arguments. That's consistent with [Gambit Scheme](https://github.com/gambit/gambit), which reports \"Wrong number of arguments ...\" if the call has too many or too few arguments."
   ]
  },
  {
   "cell_type": "markdown",
   "id": "1df09706-72d8-4894-82a0-0d42de072f4f",
   "metadata": {},
   "source": [
    "### Anonymous versus Named"
   ]
  },
  {
   "cell_type": "markdown",
   "id": "03c872ba-b683-4ab7-a4f2-6f7e7547cb04",
   "metadata": {},
   "source": [
    "Procedures need not have a name. In ordinary Python, contrast the named procedure `foo`"
   ]
  },
  {
   "cell_type": "code",
   "execution_count": 9,
   "id": "f70c6cd4-8312-4ec2-9f66-68505b2fd74c",
   "metadata": {},
   "outputs": [
    {
     "data": {
      "text/plain": [
       "1764"
      ]
     },
     "execution_count": 9,
     "metadata": {},
     "output_type": "execute_result"
    }
   ],
   "source": [
    "def foo(x):\n",
    "    return x * x\n",
    "foo(42)"
   ]
  },
  {
   "cell_type": "markdown",
   "id": "9b59acd2-b172-497f-bc8e-01dbba2fd3e0",
   "metadata": {},
   "source": [
    "against the anonymous procedure an identical body"
   ]
  },
  {
   "cell_type": "code",
   "execution_count": 10,
   "id": "6d29be30-66cc-401d-a6ce-03dc57de566c",
   "metadata": {},
   "outputs": [
    {
     "data": {
      "text/plain": [
       "1764"
      ]
     },
     "execution_count": 10,
     "metadata": {},
     "output_type": "execute_result"
    }
   ],
   "source": [
    "(lambda x: x * x)(42)"
   ]
  },
  {
   "cell_type": "markdown",
   "id": "366aee97-0679-4639-9b0b-5a5b3c2b5e2c",
   "metadata": {},
   "source": [
    "By default, if Schemulator procedures have a name, that name is bound in the unique global environment, $\\Gamma\\Pi$. Nested definitions in non-global environments, as with `def` inside `def` in ordinary Python, are illustrated below."
   ]
  },
  {
   "cell_type": "markdown",
   "id": "38cd466e-620b-430e-ae9e-f307e5a436da",
   "metadata": {},
   "source": [
    "### Call Notation via `__call__`"
   ]
  },
  {
   "cell_type": "markdown",
   "id": "9745cd89-6728-4ad9-9283-1f746dfc4f11",
   "metadata": {},
   "source": [
    "The `Procedure` class includes a `__call__` override for convenience. To test the call syntax, we need [`APPLY`](#apply). We'll prototype `APPLY` here, just printing actual arguments. [Later, in section `APPLY`](#apply), we implement the real work of binding parameters to arguments. That implementation requires [a codependent procedure, `EVAL`](#eval), which, in-turn, needs `APPLY`. We must get to mutual full definition of `APPLY` and `EVAL` in stages."
   ]
  },
  {
   "cell_type": "markdown",
   "id": "c4b6005e-c21c-402e-abdc-21d3bc02b129",
   "metadata": {},
   "source": [
    "The following definition of `Procedure` illustrates a general technique for defining codependent types. `Procedure` depends on `APPLY` and `APPLY` depends on `Procedure`. The technique is to write TBD types in string quotes in functions like `APPLY`."
   ]
  },
  {
   "cell_type": "code",
   "execution_count": 11,
   "id": "624c88bf-2197-4eed-807c-e7338157eb96",
   "metadata": {},
   "outputs": [],
   "source": [
    "from typing import Dict, List, Tuple, Any\n",
    "Parameters = List[str]  # type synonym; positional, ordered arguments only\n",
    "def APPLY(proc: \"Procedure\",  # <~~~ in quotes because it's not defined yet.\n",
    "          args: List[Any], \n",
    "          π: Environment = ΓΠ) -> Any:  # defaults to global\n",
    "    \"\"\"forward reference; will be corrected. Needed to\n",
    "    spec Procedure.\"\"\"\n",
    "    ECHO(\"APPLY.args\", args)  # Just print, for now.\n",
    "@dataclass\n",
    "class Procedure:\n",
    "    \"\"\"Include __call__ override for convenient syntax.\"\"\"\n",
    "    code: Dict\n",
    "    π: Environment = ΓΠ  # bound in global environment by default\n",
    "\n",
    "    def __init__(self, code, π: Environment = ΓΠ):\n",
    "        if len(set(code[\"parameters\"])) != len(code[\"parameters\"]):\n",
    "            raise ValueError(\n",
    "                f'Procedure: parameters {code[\"parameters\"]}'\n",
    "                ' must not contain duplicate symbols.')\n",
    "        self.code = code\n",
    "        self.π = π\n",
    "\n",
    "    def __call__(self, *args):\n",
    "        result = APPLY(self, args, self.π)\n",
    "        return result\n",
    "\n",
    "    def __repr__(self):\n",
    "        \"\"\"for the debugger\"\"\"\n",
    "        result = pformat({\n",
    "            'Λ': hex(id(self.code['body']))[-4:],\n",
    "            'parms': str(self.code['parameters']),\n",
    "            'env': self.π if self.π.π else 'ΓΠ'\n",
    "        })\n",
    "        return result"
   ]
  },
  {
   "cell_type": "markdown",
   "id": "7692399d-0b11-48a0-b7cc-a69eaa677c6b",
   "metadata": {},
   "source": [
    "## Examples:<a id=\"procedure-examples\"></a>"
   ]
  },
  {
   "cell_type": "markdown",
   "id": "bda3079d-0652-4fdc-942d-230ff10fcd0e",
   "metadata": {},
   "source": [
    "Following SICP 3.2.1, define `square` in the global environment and test `APPLY`."
   ]
  },
  {
   "cell_type": "code",
   "execution_count": 12,
   "id": "d2dd6315-4732-47f2-88a5-963936ef74cb",
   "metadata": {},
   "outputs": [],
   "source": [
    "setattr(  # Bind a variable ...\n",
    "    ΓΠ.ϕ,  # ... in the frame of the global environment ...\n",
    "    \"square\",  # ... a variable named \"square\" ...\n",
    "    Procedure(  # ... to this Schemulator procedure.\n",
    "        {\"body\": lambda π: π.x * π.x,\n",
    "         \"parameters\": ['x']}))  # Don't forget the parameter list!"
   ]
  },
  {
   "cell_type": "markdown",
   "id": "ed3fbdda-f6c4-444c-8e88-0f6ecbae21e9",
   "metadata": {},
   "source": [
    "Test it! Remember, `APPLY`, for now, just prints the arguments of the applied procedure!"
   ]
  },
  {
   "cell_type": "code",
   "execution_count": 13,
   "id": "ae2ed44a-8675-436c-b129-c4a9552371ae",
   "metadata": {},
   "outputs": [
    {
     "name": "stdout",
     "output_type": "stream",
     "text": [
      "\n",
      "{'APPLY.args': (5,)}\n",
      "\n",
      "{'APPLY.args': (5, 6)}\n"
     ]
    }
   ],
   "source": [
    "ΓΠ.square(5)\n",
    "ΓΠ.square(5, 6)"
   ]
  },
  {
   "cell_type": "markdown",
   "id": "9a93dfee-7840-4ea8-99c2-d41a6370899d",
   "metadata": {},
   "source": [
    "Test detection of duplicate parameters:"
   ]
  },
  {
   "cell_type": "code",
   "execution_count": 14,
   "id": "6e675728-2cf6-4782-aa5e-ca7ebe065caf",
   "metadata": {},
   "outputs": [
    {
     "name": "stdout",
     "output_type": "stream",
     "text": [
      "(\"Procedure: parameters ['x', 'x'] must not contain duplicate symbols.\",)\n"
     ]
    }
   ],
   "source": [
    "try: \n",
    "    setattr(\n",
    "        ΓΠ.ϕ,\n",
    "        \"square\",\n",
    "        Procedure(\n",
    "            {\"body\": lambda π: π.x * π.y,\n",
    "             \"parameters\": ['x', 'x']}))\n",
    "except ValueError as e:\n",
    "    print(e.args)"
   ]
  },
  {
   "cell_type": "markdown",
   "id": "c7cded5e-c882-4149-9968-0685dbdb428d",
   "metadata": {},
   "source": [
    "## Function, Routine, Method"
   ]
  },
  {
   "cell_type": "markdown",
   "id": "feb188a9-5c90-417f-b13d-5523137b62b9",
   "metadata": {},
   "source": [
    "> __DEFINITION__: A ___function___ is a mathematical object that associates input arguments to output values."
   ]
  },
  {
   "cell_type": "markdown",
   "id": "a12baa73-1141-44ac-8348-7b0dbdad6505",
   "metadata": {},
   "source": [
    "The best way to think of a function is as a simple lookup table, where a key may appear no more than once."
   ]
  },
  {
   "cell_type": "markdown",
   "id": "41d6a82d-1e30-4de6-99d3-d5d092bd0a34",
   "metadata": {},
   "source": [
    "In Schemulator, a function is a special case of a procedure without side effects. Every invocation of a function with the same arguments produces the same result."
   ]
  },
  {
   "cell_type": "markdown",
   "id": "d001e5fd-094d-4fab-a0bc-23fb39852484",
   "metadata": {},
   "source": [
    "> __DEFINITION__: ___Routine___ is a synonym for _Procedure_."
   ]
  },
  {
   "cell_type": "markdown",
   "id": "1865d4d9-a4fa-40cc-82bb-4d30d4df96dc",
   "metadata": {},
   "source": [
    "> __DEFINITION__: A ___method___ is a procedure whose first argument is an object in ordinary Python."
   ]
  },
  {
   "cell_type": "markdown",
   "id": "13726a49-bbea-4adc-b69b-f8e3c036a79a",
   "metadata": {},
   "source": [
    "This definition hides the entire subject of object-oriented programming, only tangentially relevant here. One only needs to know that much of Schemulator is implemented in terms of Python's classes, objects, and methods."
   ]
  },
  {
   "cell_type": "markdown",
   "id": "decb0745-15d4-4155-9072-db053fa2af66",
   "metadata": {},
   "source": [
    "## Shortcut: $\\Lambda$($\\lambda$, params, $\\pi$)"
   ]
  },
  {
   "cell_type": "markdown",
   "id": "655b3ca2-1d19-4317-b9e7-3b7cbffdaa09",
   "metadata": {},
   "source": [
    "The example procedure above has a name, \"square\", bound in the global environment. \"Square\" is not anonymous, but the `Procedure` value bound to the name \"square\" is anonymous."
   ]
  },
  {
   "cell_type": "markdown",
   "id": "320b9276-0b09-4d32-a407-19719f6ba9dd",
   "metadata": {},
   "source": [
    " $\\Lambda$ is syntactical help to shorten definitions of anonymous procedures. Its default parameter list is empty and its default environment is the unique global environment $\\Gamma{}\\Pi$."
   ]
  },
  {
   "cell_type": "markdown",
   "id": "f8214f69-308a-47f8-9b9d-a8cbc823976c",
   "metadata": {},
   "source": [
    "Procedures need environments for looking up values of free and bound variables (in [the confusing sense highlighte above](#confusing)). To keep things easy, the next few examples have no free variables."
   ]
  },
  {
   "cell_type": "code",
   "execution_count": 15,
   "id": "bc04a5d8-ee84-4f29-9f39-f66c7dff4b66",
   "metadata": {},
   "outputs": [],
   "source": [
    "def Λ(body: \"(π: Any) -> Any\",\n",
    "      parameters=None,  # default empty\n",
    "      π = ΓΠ            # default global\n",
    ") -> Procedure:\n",
    "    ρ = Procedure(\n",
    "        code={\"body\": body, \n",
    "              \"parameters\": parameters or []},\n",
    "        π=π)\n",
    "    return ρ"
   ]
  },
  {
   "cell_type": "markdown",
   "id": "afe75bd7-f270-469e-82c9-c32cc1b5106a",
   "metadata": {},
   "source": [
    "### Example:"
   ]
  },
  {
   "cell_type": "markdown",
   "id": "7f5ab868-971f-47d2-b47b-668bfbf0a109",
   "metadata": {},
   "source": [
    "Test the $\\Lambda$ syntax with the current `APPLY`, which just prints."
   ]
  },
  {
   "cell_type": "code",
   "execution_count": 16,
   "id": "da3388dc-9d9b-47c5-a293-f958340a466e",
   "metadata": {},
   "outputs": [
    {
     "name": "stdout",
     "output_type": "stream",
     "text": [
      "\n",
      "{'APPLY.args': (5,)}\n",
      "\n",
      "{'APPLY.args': (5, 6)}\n"
     ]
    }
   ],
   "source": [
    "setattr(  # Give a name ...\n",
    "    ΓΠ.ϕ,  # ... in the frame of the global environment ...\n",
    "    \"square\",\n",
    "    Λ(lambda π: π.x * π.x, ['x']))  # ... to this anonymous procedure\n",
    "ΓΠ.square(5)\n",
    "ΓΠ.square(5, 6)"
   ]
  },
  {
   "cell_type": "markdown",
   "id": "5aaeb3f7-5214-4343-beae-35f5e5625d76",
   "metadata": {},
   "source": [
    "# Application(head, args, $\\pi$)<a id=\"application\"></a>"
   ]
  },
  {
   "cell_type": "markdown",
   "id": "9372d8ab-c3eb-4b7e-bec7-6926a0064245",
   "metadata": {},
   "source": [
    "> __DEFINITION__: An `Application` is an unevaluated object with a `Procedure` or symbol of type `str` and a list of unevaluated actual arguments."
   ]
  },
  {
   "cell_type": "markdown",
   "id": "6a77c9a3-e3d6-4495-9c04-081e81d994bf",
   "metadata": {},
   "source": [
    "Do not confuse this _Application_, with a capital \"A\", with the word _application_ meaning a call or invocation of a procedure. An _Application_ with capital \"A\" is data representing a procedure call, invocation, or application. We test it later, after [`EVAL`](#eval) and [`APPLY`](#apply) are fully defined."
   ]
  },
  {
   "cell_type": "markdown",
   "id": "91863b01-2a45-41c3-b8e6-7484f193ac73",
   "metadata": {},
   "source": [
    "`Application` is needed in [LET_STAR](#let-star) and related constructs to delay evaluation until the environment is established, where [EVAL](#eval) can evaluate them."
   ]
  },
  {
   "cell_type": "markdown",
   "id": "31140430-e2e9-4585-979e-80c15a924850",
   "metadata": {},
   "source": [
    "`Application` is a placeholder for a more general [QUOTE](#quote) mechanism, which prevents evaluation in all cases (TODO). In real Scheme, `LET` and friends are syntactical forms that delay evaluation via Scheme macros, code rewriters. We prefer explicit delaying via `Application` objects at the semantical level, for clarity. An alternative is an embedded macro DSL (Domain-Specific Language) in Python, overkill here. If we go down that road, we might as well just implement Scheme altogether (TODO: reconsider)."
   ]
  },
  {
   "cell_type": "markdown",
   "id": "d861288e-aa1b-44c0-8cbb-eb12efa275e6",
   "metadata": {},
   "source": [
    "`Application` includes a `__call__` override for natural calling syntax in parentheses (round brackets)."
   ]
  },
  {
   "cell_type": "code",
   "execution_count": 17,
   "id": "f7004787-8d04-4f4e-b3d9-c5dc449a6355",
   "metadata": {},
   "outputs": [],
   "source": [
    "from typing import Union, Any\n",
    "def EVAL_APPLICATION(\n",
    "        expr: \"Application\", \n",
    "        π: Environment = ΓΠ\n",
    ") -> Any:\n",
    "    \"\"\"forward reference; corrected below\"\"\"\n",
    "    pass\n",
    "from dataclasses import (dataclass, field)\n",
    "@dataclass\n",
    "class Application:\n",
    "    head: Union[str, Procedure]\n",
    "    args: List[Any] = field(default_factory=list)  # args, not params!\n",
    "    π: Environment = ΓΠ\n",
    "    def __call__(self):\n",
    "        EVAL_APPLICATION(self, self.π)\n",
    "    def __repr__(self):\n",
    "        \"\"\"for the debugger\"\"\"\n",
    "        result = str({\n",
    "            'Ξ': hex(id(self))[-4:],\n",
    "            'head': self.head,\n",
    "            'args': self.args,\n",
    "            'π': self.π if self.π.π else \"ΓΠ\"\n",
    "            })\n",
    "        return result        "
   ]
  },
  {
   "cell_type": "markdown",
   "id": "145c23d4-fcf4-4515-aa12-31aeeae3b4d3",
   "metadata": {},
   "source": [
    "## Shortcut: $\\Xi$(head, args, $\\pi$)"
   ]
  },
  {
   "cell_type": "markdown",
   "id": "0ed50bfb-df83-4af5-bb84-47e113826c3f",
   "metadata": {},
   "source": [
    "Just as [Procedure](#procedure) has a [system-reserved Greek](#greek) shortcut, $\\Lambda$, we make a Greek shortcut, $\\Xi$, for `Application`."
   ]
  },
  {
   "cell_type": "code",
   "execution_count": 18,
   "id": "f8a9bb0a-62ee-482c-84e2-c2897a1e80c5",
   "metadata": {},
   "outputs": [],
   "source": [
    "Ξ = Application"
   ]
  },
  {
   "cell_type": "markdown",
   "id": "b906b688-6898-42bc-9132-93c24e3ce579",
   "metadata": {},
   "source": [
    "Test later."
   ]
  },
  {
   "cell_type": "markdown",
   "id": "e15b4c8b-a301-49ef-97ca-4cd09f5d7ab4",
   "metadata": {},
   "source": [
    "# QUOTE, QUASIQUOTE, UNQUOTE, MACROS<a id=\"quote\"></a>"
   ]
  },
  {
   "cell_type": "markdown",
   "id": "1efc7baa-675d-4d81-9b2d-fc85ef3859bc",
   "metadata": {},
   "source": [
    "TODO"
   ]
  },
  {
   "cell_type": "markdown",
   "id": "7164510c-865a-4b1b-b794-37660ba48453",
   "metadata": {},
   "source": [
    "# Var(sym)<a id=\"var\"></a>"
   ]
  },
  {
   "cell_type": "markdown",
   "id": "156b1e08-2c96-4ee6-a635-76d2379fed04",
   "metadata": {},
   "source": [
    "In [applications](#application), we sometimes interpret strings as symbolic references to variables in an environment. The type that manages that need is `Var`. We test `Var` [after defining `EVAL`](#eval)."
   ]
  },
  {
   "cell_type": "code",
   "execution_count": 19,
   "id": "e446b347-57de-4da4-a0e0-8ea3a4b21e32",
   "metadata": {},
   "outputs": [],
   "source": [
    "@dataclass\n",
    "class Var:\n",
    "    sym: str"
   ]
  },
  {
   "cell_type": "markdown",
   "id": "b5ac5fb3-84fc-46dd-84e2-a658e7e6c63e",
   "metadata": {},
   "source": [
    "# EVAL(expr, $\\pi$)<a id=\"eval\"></a>"
   ]
  },
  {
   "cell_type": "markdown",
   "id": "dc28795c-1c88-4c36-8b28-ce885c3b7d2e",
   "metadata": {},
   "source": [
    "`EVAL` calls `APPLY` for applications of procedures. But `APPLY` calls `EVAL` on all arguments. To define `EVAL` before `APPLY` is fleshed out, we employ its earlier forward reference stub definition. We can't test `EVAL` until [`APPLY` is corrected, below](#apply)."
   ]
  },
  {
   "cell_type": "markdown",
   "id": "0b7b70ba-0ac2-4965-b0e7-1e8d6f1b84aa",
   "metadata": {},
   "source": [
    "First, we correct `EVAL_APPLICATION`, [originally stubbed above](#application) to define the call syntax of `Application`. The first slot of an `Application` may contain\n",
    "\n",
    "1. a string, [treated as a `Var` in the given environment](#var), that must evaluate to a procedure, or \n",
    "\n",
    "2. an explicit procedure"
   ]
  },
  {
   "cell_type": "markdown",
   "id": "d32d94aa-131a-4805-8a55-69347400ddec",
   "metadata": {},
   "source": [
    "To evaluate an `Application`, evaluate the procedure or string (implicitly a `Var`) in the first slot, then evaluate the arguments, then `APPLY` the procedure."
   ]
  },
  {
   "cell_type": "code",
   "execution_count": 20,
   "id": "c6194306-2954-471b-a0b5-b44acf365017",
   "metadata": {},
   "outputs": [],
   "source": [
    "def EVAL(expr: Any, π: Environment = ΓΠ, tag=None) -> Any:\n",
    "    \"\"\"forward reference, corrected below.\"\"\"\n",
    "    pass\n",
    "def EVAL_APPLICATION(\n",
    "        expr: Application,\n",
    "        π: Environment = ΓΠ\n",
    ") -> Any:\n",
    "    \"\"\"corrected definition; Treats 'head' a free variable in \n",
    "    an expression to recursively evaluate.\"\"\"\n",
    "    if isinstance(expr.head, str):  # 'head' is implicitly a Var.\n",
    "        # 1/4. Evaluate first slot to find proc from string ...\n",
    "        proc = π[expr.head]\n",
    "        # ... yielding a procedure:\n",
    "        assert isinstance(proc, Procedure), \\\n",
    "            f'The head of {expr} must be a string or a Procedure, ' \\\n",
    "            f'not a type({expr.head}) = {type(expr.head)}.'\n",
    "    elif isinstance(expr.head, Procedure):\n",
    "        # 1/4. Evaluate first slot in an env with free vars ...\n",
    "        proc = expr.head\n",
    "    else:\n",
    "        raise ValueError(\n",
    "            f'The head of {expr} must be a string or a Procedure, '\n",
    "            f'not a {expr.head}')\n",
    "    # 2/4. Evaluate the proc to access free vars ...\n",
    "    proc = EVAL(proc, π)\n",
    "    # 3/4. Evaluate all args ...\n",
    "    eargs = [EVAL(arg, π) for arg in expr.args]\n",
    "    # 4/4. Apply the procedure.\n",
    "    ρ = APPLY(proc, eargs, π)  # 3.3. Apply the procedure.\n",
    "    return ρ"
   ]
  },
  {
   "cell_type": "markdown",
   "id": "203a9adf-9d53-4c4a-9f24-412d81855b63",
   "metadata": {},
   "source": [
    "`EVAL_PROCEDURE` splices environments for [free variables](#free-variables)."
   ]
  },
  {
   "cell_type": "code",
   "execution_count": 21,
   "id": "22521f18-d6fa-400d-9d29-c96680052051",
   "metadata": {},
   "outputs": [],
   "source": [
    "def EVAL_PROCEDURE(\n",
    "        λ: Procedure,\n",
    "        π: Environment = ΓΠ\n",
    ") -> Procedure:\n",
    "    λ.π = λ.π._splice_onto_lower(π)\n",
    "    return λ"
   ]
  },
  {
   "cell_type": "markdown",
   "id": "5ae9582d-5007-42ba-90b8-f636bcb5e519",
   "metadata": {},
   "source": [
    "Many types other than `Application`, `Procedure`,  or `Var` evaluate to themselves. `EVAL` only needs cases for collections. [We test that below](#test-collections) after defining [`LET_STAR`](#let-star) and [`LET`](#let)."
   ]
  },
  {
   "cell_type": "code",
   "execution_count": 22,
   "id": "49a0fcbc-8932-4443-a420-d12ce8ea97c2",
   "metadata": {},
   "outputs": [],
   "source": [
    "from typing import Any, Dict, Tuple, List\n",
    "import numpy\n",
    "\n",
    "def EVAL(\n",
    "        expr: Any,\n",
    "        π: Environment = ΓΠ,\n",
    "        tag=None\n",
    ") -> Any:\n",
    "    \"\"\"Python does a lot of this for us.\n",
    "    'Tag' is included to aid debugging, especially\n",
    "    outside this notebook.\"\"\"\n",
    "    if tag == 'debug':\n",
    "        pprint({\"EVAL\": \"\",\n",
    "                \"expr\": expr,\n",
    "                \"type\": type(expr),\n",
    "                \"tag\": tag,\n",
    "                \"env\": π})\n",
    "    if isinstance(expr, Dict):\n",
    "        ρ = {k: EVAL(v, π) for k, v in expr.items()}\n",
    "    elif isinstance(expr, Tuple):\n",
    "        ρ = tuple((EVAL(v, π) for v in expr))\n",
    "    elif isinstance(expr, List):\n",
    "        ρ = [EVAL(v, π) for v in expr]\n",
    "    elif isinstance(expr, numpy.ndarray):\n",
    "        ρ = numpy.vectorize(lambda v: EVAL(v, π))(expr)\n",
    "    elif isinstance(expr, Var):\n",
    "        ρ = π[expr.sym]  # recursive lookup in Environment\n",
    "    elif isinstance(expr, Application):\n",
    "        ρ = EVAL_APPLICATION(expr, π)\n",
    "    elif isinstance(expr, Procedure):\n",
    "        ρ = EVAL_PROCEDURE(expr, π)\n",
    "    else:\n",
    "        ρ = expr\n",
    "    return ρ  # hang a breakpoint here"
   ]
  },
  {
   "cell_type": "markdown",
   "id": "2ca03c76-d169-426a-a1a5-31cf7469f76f",
   "metadata": {},
   "source": [
    "## Test Var Lookup"
   ]
  },
  {
   "cell_type": "markdown",
   "id": "e2b93af6-db65-4303-930f-597a34b0dffe",
   "metadata": {},
   "source": [
    "Earlier, we bound the little [Greek](#greek) system-test variable `γόὂ` in [section \"Global Environment\"](#global-environment)."
   ]
  },
  {
   "cell_type": "code",
   "execution_count": 23,
   "id": "c0b8683f-fe7e-41d7-b56d-a4ee16a04f77",
   "metadata": {},
   "outputs": [
    {
     "data": {
      "text/plain": [
       "43"
      ]
     },
     "execution_count": 23,
     "metadata": {},
     "output_type": "execute_result"
    }
   ],
   "source": [
    "EVAL(Var('γόὂ'))"
   ]
  },
  {
   "cell_type": "markdown",
   "id": "4607233e-f639-447b-beba-829b20c8f624",
   "metadata": {},
   "source": [
    "Without `VAR`, strings are literal data."
   ]
  },
  {
   "cell_type": "code",
   "execution_count": 24,
   "id": "1561a9c1-2cdc-4a7c-9aec-7351ac72f60d",
   "metadata": {},
   "outputs": [
    {
     "data": {
      "text/plain": [
       "'γόὂ'"
      ]
     },
     "execution_count": 24,
     "metadata": {},
     "output_type": "execute_result"
    }
   ],
   "source": [
    "EVAL('γόὂ')"
   ]
  },
  {
   "cell_type": "markdown",
   "id": "2a73a82a-6d1d-4a3c-a946-f7ee9ca354f0",
   "metadata": {},
   "source": [
    "# APPLY(proc, args, $\\pi$)<a id=\"apply\"></a>"
   ]
  },
  {
   "cell_type": "markdown",
   "id": "038ca98a-dbfa-4ba1-8afa-451557914aa5",
   "metadata": {},
   "source": [
    "It's easier to mentally track environment chaining if one remembers that every procedure call creates a new environment for binding formal parameters to actual arguments."
   ]
  },
  {
   "cell_type": "markdown",
   "id": "58fc0d23-c900-47db-a450-0192a498dead",
   "metadata": {},
   "source": [
    "> __MEMORIZE__: `APPLY` makes a new environment parented in the given environment (default, $\\Gamma\\Pi$), then binds parameters in the new environment to actual arguments evaluated in the parent environment."
   ]
  },
  {
   "cell_type": "markdown",
   "id": "29c11f98-ac7a-4a38-b695-0a3b06e46670",
   "metadata": {},
   "source": [
    "Optimization: if a procedure has no parameters, `APPLY` doesn't make a new, empty environment."
   ]
  },
  {
   "cell_type": "markdown",
   "id": "e0d4cb86-c751-4b64-90a2-ef308d895d51",
   "metadata": {},
   "source": [
    "TODO: explore use cases where the environment given to `APPLY` is different from the environment of the procedure given to `APPLY`."
   ]
  },
  {
   "cell_type": "code",
   "execution_count": 25,
   "id": "7804331a-2dcb-4f68-80d0-145c599ee39e",
   "metadata": {},
   "outputs": [],
   "source": [
    "class IllegalArgumentsError(ValueError):\n",
    "    pass\n",
    "\n",
    "def APPLY(\n",
    "        proc: Procedure,\n",
    "        args=None,  # Python doesn't like mutable [] here, ...\n",
    "        π: Environment = ΓΠ\n",
    ") -> Any:\n",
    "    if args is None:\n",
    "        args = []  # ... but here it's OK.\n",
    "    if len(proc.code['parameters']) != len(args):\n",
    "        raise IllegalArgumentsError(\n",
    "            f\"Wrong number of arguments, \"\n",
    "            f\"{len(args)} = len({args}), \"\n",
    "            f\"passed to procedure {proc}, \"\n",
    "            f\"which expects {len(proc.code['parameters'])} = \"\n",
    "            f\"len({proc.code['parameters']}).\"\n",
    "        )\n",
    "    # 1/3. Make a new environment, E1, if needed.\n",
    "    if proc.code['parameters']:\n",
    "        E1 = Environment(lambda: None, π)\n",
    "    else:\n",
    "        E1 = π\n",
    "    # 2/3. Bind parameters in new env E1 to actual args, evaled\n",
    "    #      in the old environment ...\n",
    "    for k, v in zip(proc.code['parameters'], args):\n",
    "        setattr(E1.ϕ, k, EVAL(v, π))\n",
    "    # 3/3. Invoke the code body, ...\n",
    "    ρ = proc.code['body'](E1)\n",
    "    # ... always a lambda of an environment π.\n",
    "    return ρ"
   ]
  },
  {
   "cell_type": "markdown",
   "id": "e7f65a32-ab6f-47b6-9ca0-9c26ed093ea6",
   "metadata": {},
   "source": [
    "## Examples:"
   ]
  },
  {
   "cell_type": "code",
   "execution_count": 26,
   "id": "aa5eb25d-b202-4bcf-ab5c-944417bc491e",
   "metadata": {},
   "outputs": [
    {
     "data": {
      "text/plain": [
       "1764"
      ]
     },
     "execution_count": 26,
     "metadata": {},
     "output_type": "execute_result"
    }
   ],
   "source": [
    "APPLY(ΓΠ.square, [42])"
   ]
  },
  {
   "cell_type": "markdown",
   "id": "c726a8fe-b489-4be4-b3a7-96de9be589f0",
   "metadata": {},
   "source": [
    "Call via \"Pythonic\" round brackets:"
   ]
  },
  {
   "cell_type": "code",
   "execution_count": 27,
   "id": "7cb12c20-323e-4060-853e-f84eaba1b1a5",
   "metadata": {},
   "outputs": [
    {
     "data": {
      "text/plain": [
       "1764"
      ]
     },
     "execution_count": 27,
     "metadata": {},
     "output_type": "execute_result"
    }
   ],
   "source": [
    "ΓΠ.square(42)"
   ]
  },
  {
   "cell_type": "markdown",
   "id": "71b9cb28-b54c-4a74-889a-250517a93767",
   "metadata": {},
   "source": [
    "Works on anonymous procedures, too:"
   ]
  },
  {
   "cell_type": "code",
   "execution_count": 28,
   "id": "f6d34218-7230-4589-b1e3-cc106bbc1882",
   "metadata": {},
   "outputs": [
    {
     "data": {
      "text/plain": [
       "1764"
      ]
     },
     "execution_count": 28,
     "metadata": {},
     "output_type": "execute_result"
    }
   ],
   "source": [
    "Λ(lambda π: π.x * π.x, ['x'])(42)"
   ]
  },
  {
   "cell_type": "markdown",
   "id": "e981eb73-129d-4636-a516-0dfd4e08efe2",
   "metadata": {},
   "source": [
    "Test multiple parameters and arguments:"
   ]
  },
  {
   "cell_type": "code",
   "execution_count": 29,
   "id": "5ebc5e7f-7ff6-4334-84f2-1b2854fd339e",
   "metadata": {},
   "outputs": [
    {
     "name": "stdout",
     "output_type": "stream",
     "text": [
      "\n",
      "{'π': (f1c0) \"['x', 'y']\">(5090,ΓΠ) \"['γόὂ', 'square']\"}\n"
     ]
    },
    {
     "data": {
      "text/plain": [
       "56"
      ]
     },
     "execution_count": 29,
     "metadata": {},
     "output_type": "execute_result"
    }
   ],
   "source": [
    "Λ(lambda π: π.x * ECHO('π', π).y, ['x', 'y'])(8, 7)"
   ]
  },
  {
   "cell_type": "markdown",
   "id": "ce0576bf-18d8-4a25-8961-8493daefb595",
   "metadata": {},
   "source": [
    "The bound variables in the procedures, for example, `x`, don't leak: they are not bound in $\\Gamma\\Pi$:"
   ]
  },
  {
   "cell_type": "code",
   "execution_count": 30,
   "id": "b3abb85c-bab1-4bba-848a-38b46ff5b261",
   "metadata": {},
   "outputs": [
    {
     "name": "stdout",
     "output_type": "stream",
     "text": [
      "('Environment: Name x is unbound.',)\n"
     ]
    }
   ],
   "source": [
    "try:\n",
    "    ΓΠ.x\n",
    "except Exception as e:\n",
    "    print(e.args)"
   ]
  },
  {
   "cell_type": "markdown",
   "id": "910eceff-2c72-4cdf-bdc5-b07ec23c96d5",
   "metadata": {},
   "source": [
    "## Test `Application`"
   ]
  },
  {
   "cell_type": "markdown",
   "id": "9c87a4c8-7cc5-43ac-b1a1-24ac7d0f1df3",
   "metadata": {},
   "source": [
    "Recall that an `Application` is a data object that represents a procedure applied to actual arguments."
   ]
  },
  {
   "cell_type": "code",
   "execution_count": 31,
   "id": "c5d64032-4b96-4cdf-ac64-afa11f14ec08",
   "metadata": {},
   "outputs": [],
   "source": [
    "ωfoo = Application(ΓΠ.square, [42])"
   ]
  },
  {
   "cell_type": "markdown",
   "id": "96c95803-7e84-4f78-b6a6-a08e01d5cee4",
   "metadata": {},
   "source": [
    "Notice that the parameters are _not yet bound to values_, not until the `Application` is evaluated, that is, until call-time of the procedure in the `Application`."
   ]
  },
  {
   "cell_type": "code",
   "execution_count": 32,
   "id": "9f34bd43-5a4e-4530-843e-f942823e8bfc",
   "metadata": {},
   "outputs": [
    {
     "name": "stdout",
     "output_type": "stream",
     "text": [
      "\n",
      "{'ωfoo': {'Ξ': '7b80', 'head': {'env': 'ΓΠ', 'parms': \"['x']\", 'Λ': '4310'}, 'args': [42], 'π': 'ΓΠ'}}\n"
     ]
    }
   ],
   "source": [
    "ECHO('ωfoo', ωfoo);"
   ]
  },
  {
   "cell_type": "markdown",
   "id": "384f8e59-9ee4-4bdc-bf8b-8ebbbfa39398",
   "metadata": {},
   "source": [
    "To perform the procedure call, `EVAL` the `Application`."
   ]
  },
  {
   "cell_type": "code",
   "execution_count": 33,
   "id": "afd3a73f-6e0d-4b1e-96b1-5446db0c1269",
   "metadata": {},
   "outputs": [
    {
     "data": {
      "text/plain": [
       "1764"
      ]
     },
     "execution_count": 33,
     "metadata": {},
     "output_type": "execute_result"
    }
   ],
   "source": [
    "EVAL(Application(ΓΠ.square, [42]))"
   ]
  },
  {
   "cell_type": "markdown",
   "id": "98ed8123-2378-4637-8e59-35d568e694c9",
   "metadata": {},
   "source": [
    " Internally, `EVAL` calls `EVAL_APPLICATION`. The results are identical."
   ]
  },
  {
   "cell_type": "code",
   "execution_count": 34,
   "id": "3b8d6e80-7b5c-4dc0-8842-3fe6d6241004",
   "metadata": {},
   "outputs": [
    {
     "data": {
      "text/plain": [
       "1764"
      ]
     },
     "execution_count": 34,
     "metadata": {},
     "output_type": "execute_result"
    }
   ],
   "source": [
    "EVAL_APPLICATION(Application(ΓΠ.square, [42]))"
   ]
  },
  {
   "cell_type": "markdown",
   "id": "a05ef55a-92ab-423f-8226-f356b33d74e1",
   "metadata": {},
   "source": [
    "We prefer `EVAL` most of the time because it's shorter."
   ]
  },
  {
   "cell_type": "markdown",
   "id": "ab5ee0d5-0b3e-450f-8874-0116729af857",
   "metadata": {},
   "source": [
    "Test the [Greek](#greek) shortcut $\\Xi$ for `Application`, now treating the string in the procedure slot implicitly as a `Var` looked up in $\\Gamma\\Pi$:"
   ]
  },
  {
   "cell_type": "code",
   "execution_count": 35,
   "id": "42fa385e-2ec1-4ccd-8a46-783a35cbeda3",
   "metadata": {},
   "outputs": [
    {
     "data": {
      "text/plain": [
       "1764"
      ]
     },
     "execution_count": 35,
     "metadata": {},
     "output_type": "execute_result"
    }
   ],
   "source": [
    "EVAL(Ξ('square', [42]))"
   ]
  },
  {
   "cell_type": "markdown",
   "id": "7e174677-293f-4df3-a945-ecd2edb49689",
   "metadata": {},
   "source": [
    "`Applications` require explicit `Vars` to help with actual arguments looked up in $\\Gamma\\Pi$:"
   ]
  },
  {
   "cell_type": "code",
   "execution_count": 36,
   "id": "25a4e368-959e-425f-80cd-14d2bd8283e9",
   "metadata": {},
   "outputs": [
    {
     "data": {
      "text/plain": [
       "1849"
      ]
     },
     "execution_count": 36,
     "metadata": {},
     "output_type": "execute_result"
    }
   ],
   "source": [
    "EVAL(Ξ('square',  # find proc in global env\n",
    "       [Var('γόὂ')]))  # find binding in global env"
   ]
  },
  {
   "cell_type": "markdown",
   "id": "efc1603d-c764-4a75-b32f-dc411c100054",
   "metadata": {},
   "source": [
    "However, parameters of enclosing $\\lambda$s are automatically looked up as if they were `Var`s:"
   ]
  },
  {
   "cell_type": "code",
   "execution_count": 37,
   "id": "43cf1a86-1cbf-4d1a-bb59-fe50c9bcaf62",
   "metadata": {},
   "outputs": [
    {
     "name": "stdout",
     "output_type": "stream",
     "text": [
      "\n",
      "{'π': (8c10) \"['ϕοοβαρ']\">(5090,ΓΠ) \"['γόὂ', 'square']\"}\n"
     ]
    },
    {
     "data": {
      "text/plain": [
       "1849"
      ]
     },
     "execution_count": 37,
     "metadata": {},
     "output_type": "execute_result"
    }
   ],
   "source": [
    "Λ(lambda π:\n",
    "  # body of enclosing lambda:\n",
    "  EVAL(\n",
    "      Ξ(ΓΠ.square,  # a Procedure\n",
    "        [Var('ϕοοβαρ')]),  # an actual argument\n",
    "      ECHO('π', π)),  # environment where to find actual arg\n",
    "  ['ϕοοβαρ'])(  # formal parameter of enclosing lambda\n",
    "    43)  # actual argument of call of enclosing lambda"
   ]
  },
  {
   "cell_type": "markdown",
   "id": "9735f126-1735-4df9-9e98-748dc52c3765",
   "metadata": {},
   "source": [
    "If you forget the `Var`, you will try to multiply a `str` times an `int` (the exception automatically converts the `str` to a sequence, explaining \"sequence\" in the error message):"
   ]
  },
  {
   "cell_type": "code",
   "execution_count": 38,
   "id": "57996e30-a144-495d-b508-36f44f163cec",
   "metadata": {},
   "outputs": [
    {
     "name": "stdout",
     "output_type": "stream",
     "text": [
      "(\"can't multiply sequence by non-int of type 'str'\",)\n"
     ]
    }
   ],
   "source": [
    "try:\n",
    "    Λ(lambda π:\n",
    "      # body of outer lambda\n",
    "      EVAL(Ξ('square', ['ϕοοβαρ']), π),  # actual argument\n",
    "      ['ϕοοβαρ'])(  # formal parameter of outer lambda\n",
    "        42)  # actual argument of call of outer lambda\n",
    "    \n",
    "except TypeError as e:\n",
    "    print(e.args)"
   ]
  },
  {
   "cell_type": "markdown",
   "id": "3155d5cc-8f76-4943-ac84-3e21897ea75b",
   "metadata": {},
   "source": [
    "`Applications` may have explicit procedures, instead of strings, in their first slot:"
   ]
  },
  {
   "cell_type": "code",
   "execution_count": 39,
   "id": "84fabf35-40b5-45e9-bf3b-8cfbbfdd9317",
   "metadata": {},
   "outputs": [
    {
     "data": {
      "text/plain": [
       "1849"
      ]
     },
     "execution_count": 39,
     "metadata": {},
     "output_type": "execute_result"
    }
   ],
   "source": [
    "EVAL(\n",
    "    Ξ(Λ(lambda π: π.x * π.x, ['x']), \n",
    "      [Var('γόὂ')]  # find binding in global env\n",
    "     ))"
   ]
  },
  {
   "cell_type": "markdown",
   "id": "7e87e10d-6720-4192-9d35-20b7f545b700",
   "metadata": {},
   "source": [
    "$\\Xi$ honors sub-environments even when looking up procedures and arguments by their symbolic names."
   ]
  },
  {
   "cell_type": "code",
   "execution_count": 40,
   "id": "7bf9b488-79a8-4625-b4f9-44604b285f41",
   "metadata": {},
   "outputs": [
    {
     "data": {
      "text/plain": [
       "1764"
      ]
     },
     "execution_count": 40,
     "metadata": {},
     "output_type": "execute_result"
    }
   ],
   "source": [
    "Λ(lambda π:\n",
    "  EVAL(\n",
    "      Ξ('square',  # Look me up in ΓΠ.\n",
    "        [Var('ϕοοβαρ')]),  # Look me up in π.\n",
    "      π),\n",
    "  ['ϕοοβαρ'])(  # formal parameter of the Λ\n",
    "    42)  # actual argument of implied call of APPLY"
   ]
  },
  {
   "cell_type": "markdown",
   "id": "b446abc6-59c6-4aed-9251-ed2c7987274f",
   "metadata": {},
   "source": [
    "$\\phi\\omicron\\omicron\\beta\\alpha\\rho$ is not bound in the enclosing global environment $\\Gamma\\Pi$, as we see by attempting the `EVAL` in $\\Gamma\\Pi$:"
   ]
  },
  {
   "cell_type": "code",
   "execution_count": 41,
   "id": "c3625f9e-99d0-4174-a6ae-abcc9f9d487a",
   "metadata": {},
   "outputs": [
    {
     "name": "stdout",
     "output_type": "stream",
     "text": [
      "('Environment: Name ϕοοβαρ is unbound.',)\n"
     ]
    }
   ],
   "source": [
    "try:\n",
    "    Λ(lambda π:\n",
    "      EVAL(\n",
    "          Ξ('square', \n",
    "            [Var('ϕοοβαρ')]), \n",
    "          ΓΠ),  # <~~~ wrong env\n",
    "      ['ϕοοβαρ'])(\n",
    "        42)\n",
    "except NameError as e:\n",
    "    print(e.args)"
   ]
  },
  {
   "cell_type": "markdown",
   "id": "9cf13206-d8d2-4f05-91f4-67efcee6dc99",
   "metadata": {},
   "source": [
    "# DEFINE(sym, val, $\\pi$)<a id=\"define\"></a>"
   ]
  },
  {
   "cell_type": "markdown",
   "id": "df57b592-2563-476e-987e-3ca7f780953d",
   "metadata": {},
   "source": [
    "Package up the \"defining\" boilerplate."
   ]
  },
  {
   "cell_type": "markdown",
   "id": "d9c19035-8083-4490-a7fa-eae9d2db1e60",
   "metadata": {},
   "source": [
    "By default, `DEFINE` binds symbols in $\\Gamma\\Pi$. The \"return value\" is consistent with Gambit Scheme, which doesn't return anything from a `define`."
   ]
  },
  {
   "cell_type": "code",
   "execution_count": 42,
   "id": "ff4420fa-eb4f-4ea0-8018-f2bf9e3d6f9d",
   "metadata": {},
   "outputs": [],
   "source": [
    "def DEFINE(\n",
    "        sym: str, \n",
    "        val: Any, \n",
    "        π: Environment=ΓΠ  # default\n",
    ") -> None:\n",
    "    \"\"\"official Scheme\"\"\"\n",
    "    setattr(π.ϕ, sym, val)\n",
    "    return val"
   ]
  },
  {
   "cell_type": "markdown",
   "id": "fbced021-36dc-473b-b791-0982f98794ea",
   "metadata": {},
   "source": [
    "## Examples:"
   ]
  },
  {
   "cell_type": "markdown",
   "id": "2af00abd-1563-4c0c-87fb-387a6c4fd97d",
   "metadata": {},
   "source": [
    "Do some fancy stuff:"
   ]
  },
  {
   "cell_type": "code",
   "execution_count": 43,
   "id": "ad1627a1-77b9-4c30-9f66-a1fc82e6664d",
   "metadata": {},
   "outputs": [
    {
     "data": {
      "text/plain": [
       "array([[ 9, 16],\n",
       "       [ 1,  4]])"
      ]
     },
     "execution_count": 43,
     "metadata": {},
     "output_type": "execute_result"
    }
   ],
   "source": [
    "import numpy\n",
    "ΓΠ.square(numpy.array([[3, 4],[1, 2]]))"
   ]
  },
  {
   "cell_type": "code",
   "execution_count": 44,
   "id": "a02551d8-f48c-4907-82bc-90d46622a0e6",
   "metadata": {},
   "outputs": [],
   "source": [
    "DEFINE(\n",
    "    'saxpy', \n",
    "    Λ(lambda π: \n",
    "      # Fancy!\n",
    "      numpy.dot(π.a, π.x) \\\n",
    "      if isinstance(π.a, numpy.ndarray) \n",
    "      and isinstance (π.x, numpy.ndarray) \\\n",
    "      # Regular\n",
    "      else π.a * π.x + π.y, \n",
    "      ['a', 'x', 'y']));"
   ]
  },
  {
   "cell_type": "code",
   "execution_count": 45,
   "id": "d411832a-9c12-4a9f-ba31-d602aa455b75",
   "metadata": {},
   "outputs": [
    {
     "data": {
      "text/plain": [
       "array([[ 68],\n",
       "       [161]])"
      ]
     },
     "execution_count": 45,
     "metadata": {},
     "output_type": "execute_result"
    }
   ],
   "source": [
    "import numpy\n",
    "ΓΠ.saxpy(numpy.array([[1, 2, 3], [4, 5, 6]]),\n",
    "         numpy.array([[7], [11],[13]]),\n",
    "         numpy.array([[42], [43]]))"
   ]
  },
  {
   "cell_type": "markdown",
   "id": "6dad22bf-322f-4b31-8041-399c42293a2f",
   "metadata": {},
   "source": [
    "or just some ordinary stuff:"
   ]
  },
  {
   "cell_type": "code",
   "execution_count": 46,
   "id": "8e16ae5d-8f34-4543-8f4f-87867469f1d2",
   "metadata": {},
   "outputs": [
    {
     "data": {
      "text/plain": [
       "42"
      ]
     },
     "execution_count": 46,
     "metadata": {},
     "output_type": "execute_result"
    }
   ],
   "source": [
    "ΓΠ.saxpy(4, 10, 2)"
   ]
  },
  {
   "cell_type": "markdown",
   "id": "a1f2597c-cefd-42f4-af81-9e39c8895099",
   "metadata": {},
   "source": [
    "## SICP 3.2.2<a id=\"sicp-322\"></a>"
   ]
  },
  {
   "cell_type": "code",
   "execution_count": 47,
   "id": "8cfcb5e3-3d96-4377-9957-f625e1081331",
   "metadata": {},
   "outputs": [
    {
     "data": {
      "text/plain": [
       "136"
      ]
     },
     "execution_count": 47,
     "metadata": {},
     "output_type": "execute_result"
    }
   ],
   "source": [
    "DEFINE('square', \n",
    "       Λ(lambda π: π.x * π.x, ['x']))\n",
    "\n",
    "DEFINE('sum_of_squares',\n",
    "       Λ(lambda π: π.square(π.x) + π.square(π.y), ['x', 'y']))\n",
    "\n",
    "DEFINE('f',\n",
    "       Λ(lambda π: π.sum_of_squares(1 + π.a, 2 * π.a), ['a']))\n",
    "\n",
    "ΓΠ.f(5)"
   ]
  },
  {
   "cell_type": "markdown",
   "id": "047f29c0-b09d-4e6e-8624-17890edbcf9e",
   "metadata": {},
   "source": [
    "Having `f` defined will bother us below. Get rid of it now."
   ]
  },
  {
   "cell_type": "code",
   "execution_count": 48,
   "id": "1133f7bb-ee49-4489-b481-d941cb2e9434",
   "metadata": {},
   "outputs": [],
   "source": [
    "try:\n",
    "    del ΓΠ.ϕ.f\n",
    "except:\n",
    "    pass"
   ]
  },
  {
   "cell_type": "markdown",
   "id": "a08ca583-5050-4d4c-b427-36e8a5ffea7e",
   "metadata": {},
   "source": [
    "## SICP Exercise 3.9"
   ]
  },
  {
   "cell_type": "code",
   "execution_count": 49,
   "id": "9684ccd8-bdc3-4b1d-8b86-8800972a8d7f",
   "metadata": {},
   "outputs": [
    {
     "data": {
      "text/plain": [
       "720"
      ]
     },
     "execution_count": 49,
     "metadata": {},
     "output_type": "execute_result"
    }
   ],
   "source": [
    "DEFINE('factorial',\n",
    "       Λ(lambda π: 1 if π.n < 2 else \\\n",
    "         π.n * π.factorial(π.n - 1), ['n']))\n",
    "\n",
    "ΓΠ.factorial(6)"
   ]
  },
  {
   "cell_type": "markdown",
   "id": "09a7cbfc-0681-4990-be95-8a6a8253926a",
   "metadata": {},
   "source": [
    "This next example doesn't tail-recurse because Python does not tail-recurse. We mitigate that in section [Tail Recursion](#tail-recursion)."
   ]
  },
  {
   "cell_type": "code",
   "execution_count": 50,
   "id": "337e216e-6675-4929-9c77-4cb4fcf5cdbe",
   "metadata": {},
   "outputs": [
    {
     "data": {
      "text/plain": [
       "720"
      ]
     },
     "execution_count": 50,
     "metadata": {},
     "output_type": "execute_result"
    }
   ],
   "source": [
    "DEFINE('fact_iter',\n",
    "       Λ(lambda π: π.product if π.counter > π.max_count else \\\n",
    "         π.fact_iter(\n",
    "           π.counter * π.product,\n",
    "           π.counter + 1,\n",
    "           π.max_count\n",
    "           ), ['product', 'counter', 'max_count']));\n",
    "\n",
    "ΓΠ.fact_iter(1, 1, 6)"
   ]
  },
  {
   "cell_type": "markdown",
   "id": "49333d00-057e-4136-82f5-602068a7e388",
   "metadata": {},
   "source": [
    "# Procedures that Apply Procedures"
   ]
  },
  {
   "cell_type": "markdown",
   "id": "dceee784-b183-40be-9d47-94b1f2c285f1",
   "metadata": {},
   "source": [
    "Here is a procedure of `f` and `x` that applies `f` to `x`. Bind `f` to `square`, `x` to 42, then invoke `f`."
   ]
  },
  {
   "cell_type": "code",
   "execution_count": 51,
   "id": "cd07f625-5eb2-46c4-8a65-159d1c8c299a",
   "metadata": {},
   "outputs": [
    {
     "data": {
      "text/plain": [
       "1764"
      ]
     },
     "execution_count": 51,
     "metadata": {},
     "output_type": "execute_result"
    }
   ],
   "source": [
    "# Outer parens necessary to break lines for comments (Python syntax booger).\n",
    "(Λ(lambda E1:     # Calling this λ chains environment E1 to ΓΠ.\n",
    "  E1.f(E1.x),     # Apply E1.f to E1.x.\n",
    "  ['f', 'x'])     # formal parameters\n",
    "(ΓΠ.square, 42))  # <~~~ Bind f to square, x to 42."
   ]
  },
  {
   "cell_type": "markdown",
   "id": "63db30a9-559b-4069-8242-2fcbeaa47419",
   "metadata": {},
   "source": [
    "Here is a procedure that applies an internal anonymous procedure of `n` in `E2`. The outer procedure of `m` in `E1` is rooted in $\\Gamma\\Pi$."
   ]
  },
  {
   "cell_type": "code",
   "execution_count": 52,
   "id": "54ec55c0-0ce7-423a-a117-f0bf0f51bb3d",
   "metadata": {},
   "outputs": [
    {
     "data": {
      "text/plain": [
       "1764"
      ]
     },
     "execution_count": 52,
     "metadata": {},
     "output_type": "execute_result"
    }
   ],
   "source": [
    "Λ(lambda E1:      # Calling this λ chains environment E1 to ΓΠ.\n",
    "  Λ(lambda E2:    # Calling this λ chains environment E2 to ΓΠ.\n",
    "    E2.n * E2.n,  # <~~~ n is bound in E2;\n",
    "    ['n']         #      E2 is sibling to E1.\n",
    "   )(             # Parent environment implicitly ΓΠ.\n",
    "     E1.m),       # <~~~ invocation; Look up m in E1, bind to n in E2.\n",
    "  ['m'])(42)      # <~~~ Bind m to 42 in E1."
   ]
  },
  {
   "cell_type": "markdown",
   "id": "6ca0d25b-4113-4d53-bbfd-361c4878914b",
   "metadata": {},
   "source": [
    "The inner environment, `E2` is not explicitly chained to `E1`. In the next example `m` is a [free variable](#free-variable) in the inner $\\lambda$. It is not found in `E2`:"
   ]
  },
  {
   "cell_type": "code",
   "execution_count": 53,
   "id": "c72dfbf2-6db0-4a37-b880-94284d701d8c",
   "metadata": {},
   "outputs": [
    {
     "name": "stdout",
     "output_type": "stream",
     "text": [
      "\n",
      "{'E2': (c5e0) \"['n']\">(5090,ΓΠ) \"['γόὂ', 'square', 'saxpy', 'sum_of_squares', 'factorial', 'fact_iter']\"}\n",
      "('Environment: Name m is unbound.',)\n"
     ]
    }
   ],
   "source": [
    "try:\n",
    "    Λ(lambda E1:      # Calling this λ chains environment E1 to ΓΠ.\n",
    "      Λ(lambda E2:    # Calling this λ chains environment E2 to ΓΠ.\n",
    "        E2.n * ECHO('E2', E2).m,  # <~~~ n is bound in E2; m is not bound in E2.\n",
    "        ['n']         #      E2 is sibling to E1.\n",
    "       )(             # Parent environment implicitly ΓΠ.\n",
    "          E1.m),      # <~~~ invocation. Look up m in E1, bind to n in E2.\n",
    "      ['m'])(42)      # <~~~ Bind m to 42 in E1.\n",
    "except NameError as e:\n",
    "    print(e.args)"
   ]
  },
  {
   "cell_type": "markdown",
   "id": "90c1ebe2-d150-4247-b542-020b2b2c9905",
   "metadata": {},
   "source": [
    "That's not the default behavior in Scheme. Scheme `define` _automatically_ chains environments static closures, in which free variables are bound."
   ]
  },
  {
   "cell_type": "markdown",
   "id": "8a0865eb-636e-4007-bc5f-f51a87568b03",
   "metadata": {},
   "source": [
    "Here's a Scheme example that calls an automatically chained closure:"
   ]
  },
  {
   "cell_type": "raw",
   "id": "be7efa5c-d84c-4aeb-9d42-9378376a48b6",
   "metadata": {},
   "source": [
    "> (define foo (lambda (m) ((lambda (n) (* n m)) m)))\n",
    "> (foo 42)\n",
    "1764"
   ]
  },
  {
   "cell_type": "markdown",
   "id": "773650a2-4b03-4bd6-a8c8-4b69042d5371",
   "metadata": {},
   "source": [
    "How do we emulate this? Schemulator requires an explicit chaining parameter because Schemulator does not know there are free variables in the body of the $\\Lambda$. Schemulator does not know because Schemulator does not parse, on purpose, [as explained in the introduction](#semantics). If Schemulator were Scheme, and thus parsing, it could determine that free variables occur in the body and then it could automatically chain environments. The code presented below would appear in an implementation of Scheme, but the chaining of environments would be syntactically hidden."
   ]
  },
  {
   "cell_type": "markdown",
   "id": "b04ad39c-cf69-4388-890d-e590e4a4d692",
   "metadata": {},
   "source": [
    "Here's the example above in Schemulator:"
   ]
  },
  {
   "cell_type": "code",
   "execution_count": 54,
   "id": "693a105e-ccae-4366-994c-95947c4557c4",
   "metadata": {},
   "outputs": [
    {
     "data": {
      "text/plain": [
       "1764"
      ]
     },
     "execution_count": 54,
     "metadata": {},
     "output_type": "execute_result"
    }
   ],
   "source": [
    "Λ(lambda E1:      # Calling it creates environment E1 in ΓΠ.\n",
    "  Λ(lambda E2:    # !!!! Define in E1 !!!!\n",
    "    E2.n * E2.m,  # <~~~ n in E1, x in E2.\n",
    "    ['n'],        #      (E2 is child of E1, written E1<--E2)\n",
    "    E1)(          # !!!! Parent environment *explicitly* E1 !!!!\n",
    "         E1.m),   # <~~~ Look up n in E1, bind x in E2->E1\n",
    "  ['m'])(42)      # <~~~ Bind n to 42 in E1"
   ]
  },
  {
   "cell_type": "markdown",
   "id": "c2e478e1-0f48-4f5b-a59a-c0602da0f471",
   "metadata": {},
   "source": [
    "Here's a Scheme example that returns a closure and then calls it externally. This also happens to be an example of [_currying_](#thunk)."
   ]
  },
  {
   "cell_type": "raw",
   "id": "358aaee9-ff37-4cdf-854b-beace1412598",
   "metadata": {},
   "source": [
    "> (define foo (lambda (m) (lambda (n) (* n m))))\n",
    "> ((foo 42) 42)\n",
    "1764"
   ]
  },
  {
   "cell_type": "markdown",
   "id": "04edaa8a-a3be-448f-ab1f-f06c8b296d78",
   "metadata": {},
   "source": [
    "Here's the same example in Schemulator. The outer procedure returns the inner closure and the `ECHO` displays the chain of environments."
   ]
  },
  {
   "cell_type": "code",
   "execution_count": 55,
   "id": "6d77dfb5-b7b1-4f91-8dd8-4c72573a67e5",
   "metadata": {},
   "outputs": [
    {
     "name": "stdout",
     "output_type": "stream",
     "text": [
      "\n",
      "{'E2': (c9d0) \"['n']\">(ca60) \"['m']\">(5090,ΓΠ) \"['γόὂ', 'square', 'saxpy', 'sum_of_squares', 'factorial', 'fact_iter']\"}\n"
     ]
    },
    {
     "data": {
      "text/plain": [
       "1764"
      ]
     },
     "execution_count": 55,
     "metadata": {},
     "output_type": "execute_result"
    }
   ],
   "source": [
    "Λ(lambda E1:\n",
    "  Λ(lambda E2:\n",
    "    E2.n * ECHO('E2', E2).m,\n",
    "    ['n'],\n",
    "    E1),\n",
    "  ['m'])(42)(42)"
   ]
  },
  {
   "cell_type": "markdown",
   "id": "547aa5c2-06c5-42a0-8d1e-4109cb9df0f4",
   "metadata": {},
   "source": [
    "## Static Closure"
   ]
  },
  {
   "cell_type": "markdown",
   "id": "d534ecd0-a47c-4119-88c3-1b9f541c96f6",
   "metadata": {},
   "source": [
    "Static [closures](#closures) are created at define-time. In the next example, we assign a static closure to a Python variable, `foo`, then invoke it."
   ]
  },
  {
   "cell_type": "code",
   "execution_count": 56,
   "id": "17a70032-7964-47bb-860c-6191ba88ad4e",
   "metadata": {},
   "outputs": [
    {
     "name": "stdout",
     "output_type": "stream",
     "text": [
      "\n",
      "{'E2': (ce50) \"['n']\">(6710) \"['m']\">(5090,ΓΠ) \"['γόὂ', 'square', 'saxpy', 'sum_of_squares', 'factorial', 'fact_iter']\"}\n"
     ]
    },
    {
     "data": {
      "text/plain": [
       "1764"
      ]
     },
     "execution_count": 56,
     "metadata": {},
     "output_type": "execute_result"
    }
   ],
   "source": [
    "foo = Λ(lambda E1:\n",
    "        Λ(lambda E2:  # This Λ ...\n",
    "          E2.n * ECHO('E2', E2).m,\n",
    "          ['n'],\n",
    "          E1)  # <~~~ is defined in E1\n",
    "        (E1.m),\n",
    "        ['m'])\n",
    "foo(42)"
   ]
  },
  {
   "cell_type": "markdown",
   "id": "af12683f-580c-485f-9d03-5dfa8ca58936",
   "metadata": {},
   "source": [
    "## Dynamic Closure"
   ]
  },
  {
   "cell_type": "markdown",
   "id": "8eaa3229-26b2-434c-abf6-6ad06fd9e410",
   "metadata": {},
   "source": [
    "If we explicitly `EVAL` the inner procedure of `E2` in the environment `E1` of the outer procedure, the evaluator dynamically splices the environments. The downside of this approach is that evaluation of the closure, `bar`, splices the environments on every invocation. The upside is that it lets us create closures at run time from unclosed or partially closed procedures."
   ]
  },
  {
   "cell_type": "code",
   "execution_count": 57,
   "id": "1b31b75e-564d-47fe-963c-0bde9e32a64a",
   "metadata": {},
   "outputs": [
    {
     "name": "stdout",
     "output_type": "stream",
     "text": [
      "\n",
      "{'E2': (d1b0) \"['n']\">(d090) \"['m']\">(5090,ΓΠ) \"['γόὂ', 'square', 'saxpy', 'sum_of_squares', 'factorial', 'fact_iter']\"}\n"
     ]
    },
    {
     "data": {
      "text/plain": [
       "1764"
      ]
     },
     "execution_count": 57,
     "metadata": {},
     "output_type": "execute_result"
    }
   ],
   "source": [
    "bar = Λ(lambda E1:\n",
    "        EVAL(\n",
    "            Λ(lambda E2:  # <~~~ This Λ is ...\n",
    "              E2.n * ECHO('E2', E2).m,\n",
    "              ['n']\n",
    "             ),  # <~~~ ... defined in global, and ...\n",
    "            E1)  # <~~~ ... evaluated in E1; envrmt spliced.\n",
    "        (E1.m),\n",
    "        ['m'])\n",
    "bar(42)"
   ]
  },
  {
   "cell_type": "markdown",
   "id": "84107b3e-78af-4892-a15c-3d521ecdbe57",
   "metadata": {},
   "source": [
    "Scheme does not support dynamic closures, i.e., re-defining environments at run time. In the following, there is no way for `m` to acquire a binding:"
   ]
  },
  {
   "cell_type": "raw",
   "id": "c045dbd3-9524-401d-adc6-63edf44acf7d",
   "metadata": {},
   "source": [
    "> (define foo (lambda (n) (* n m))) ;; m can never be bound!\n",
    "> foo\n",
    "#<procedure #5 foo>\n",
    "> ((lambda (m) (foo 42)) 43)\n",
    "*** ERROR IN foo, (console)@8.28 -- Unbound variable: m"
   ]
  },
  {
   "cell_type": "markdown",
   "id": "0d07570c-50e8-4656-936a-fe77148b4c59",
   "metadata": {},
   "source": [
    "If we do both, defining _and_ evaluating the inner $\\lambda$ in E1, we get only one copy of E1 containing `m`. Dynamic splicing in [`Environment`](#environment) checks this case and optimizes it away:"
   ]
  },
  {
   "cell_type": "code",
   "execution_count": 58,
   "id": "228de8e2-3a94-4c1f-b51b-5ef114c9806d",
   "metadata": {},
   "outputs": [
    {
     "name": "stdout",
     "output_type": "stream",
     "text": [
      "\n",
      "{'E2': (d480) \"['n']\">(d360) \"['m']\">(5090,ΓΠ) \"['γόὂ', 'square', 'saxpy', 'sum_of_squares', 'factorial', 'fact_iter']\"}\n"
     ]
    },
    {
     "data": {
      "text/plain": [
       "1764"
      ]
     },
     "execution_count": 58,
     "metadata": {},
     "output_type": "execute_result"
    }
   ],
   "source": [
    "Λ(lambda E1:        \n",
    "  EVAL(               # EVAL the inner procedure itself ....\n",
    "      Λ(lambda E2:  \n",
    "        E2.n * ECHO('E2', E2).m,  # <~~~ n and m are bound in E2;\n",
    "        ['n'], E1         # !!!! explicitly defined in outer E1\n",
    "       ), E1)         # .... in the outer environment E1.\n",
    "  (E1.m),             # <~~~ Look up m in E1, bind to n in E2.\n",
    "  ['m'])(42)          # <~~~ Bind m to 42 in E1."
   ]
  },
  {
   "cell_type": "markdown",
   "id": "d426d108-60b8-4d3d-aa34-9ae1c55c06cc",
   "metadata": {},
   "source": [
    "## Shadowing"
   ]
  },
  {
   "cell_type": "markdown",
   "id": "65909014-44a9-4938-b646-61b8e0d4df36",
   "metadata": {},
   "source": [
    "Because the two variables `m` and `n` are in different environments, they can have the same name. `E2.n` ___shadows___ `E1.n`, which is inaccessible from `E2`."
   ]
  },
  {
   "cell_type": "code",
   "execution_count": 59,
   "id": "5aca4f8c-6401-4d1b-b687-3bb56a0e7146",
   "metadata": {},
   "outputs": [
    {
     "name": "stdout",
     "output_type": "stream",
     "text": [
      "\n",
      "{'E1': (d6c0) \"['n']\">(5090,ΓΠ) \"['γόὂ', 'square', 'saxpy', 'sum_of_squares', 'factorial', 'fact_iter']\"}\n",
      "\n",
      "{'E2': (d870) \"['n']\">(d6c0) \"['n']\">(5090,ΓΠ) \"['γόὂ', 'square', 'saxpy', 'sum_of_squares', 'factorial', 'fact_iter']\"}\n"
     ]
    },
    {
     "data": {
      "text/plain": [
       "1764"
      ]
     },
     "execution_count": 59,
     "metadata": {},
     "output_type": "execute_result"
    }
   ],
   "source": [
    "Λ(lambda E1:\n",
    "  Λ(lambda E2:\n",
    "    E2.n * ECHO('E2', E2).n,\n",
    "    ['n'],\n",
    "   E1)\n",
    "  (ECHO('E1', E1).n),\n",
    "  ['n'])(42)"
   ]
  },
  {
   "cell_type": "markdown",
   "id": "a4af2acd-c522-40db-bea0-85611e6091b1",
   "metadata": {},
   "source": [
    "# Procedures that Return Procedures"
   ]
  },
  {
   "cell_type": "markdown",
   "id": "9242bdab-3121-4b5b-b456-00c580d276ec",
   "metadata": {},
   "source": [
    "The outer $\\Lambda$ below is the identity function: it returns its argument. It's applied to `ΓΠ.square`, returning it, and the result is applied to 42:"
   ]
  },
  {
   "cell_type": "code",
   "execution_count": 60,
   "id": "151a96a5-226d-400f-bc35-f612dd17fd4c",
   "metadata": {},
   "outputs": [
    {
     "data": {
      "text/plain": [
       "1764"
      ]
     },
     "execution_count": 60,
     "metadata": {},
     "output_type": "execute_result"
    }
   ],
   "source": [
    "Λ(lambda E1:  # Calling it creates environment E1 in ΓΠ.\n",
    "  E1.f,       # Just return the value of parameter f.\n",
    "  ['f'])(     # Parent environment is implicitly ΓΠ.\n",
    " ΓΠ.square)(  # <~~~ 'square' is bound in ΓΠ.\n",
    " 42)          # Apply the returned procedure."
   ]
  },
  {
   "cell_type": "markdown",
   "id": "5e9e93e8-ae81-49ed-9d71-a2fbb6916b49",
   "metadata": {},
   "source": [
    "Return a fresh anonymous procedure:"
   ]
  },
  {
   "cell_type": "code",
   "execution_count": 61,
   "id": "563871af-7158-4864-b361-1f4916660c0f",
   "metadata": {},
   "outputs": [
    {
     "data": {
      "text/plain": [
       "1764"
      ]
     },
     "execution_count": 61,
     "metadata": {},
     "output_type": "execute_result"
    }
   ],
   "source": [
    "Λ(lambda π: π.f, ['f'])(             # identity function as above ...\n",
    "    Λ(lambda π: π.x * π.x, ['x']))(  # ... applied to anonymous procedure;\n",
    "42)                                  # Apply the returned procedure."
   ]
  },
  {
   "cell_type": "markdown",
   "id": "6303abd1-bb0a-4067-94ff-6e1a430fd7ab",
   "metadata": {},
   "source": [
    "# Thunks and Currying<a id=\"thunk\"></a>"
   ]
  },
  {
   "cell_type": "markdown",
   "id": "bb1512af-c2c4-4a76-95a3-ed1f97cd0dbf",
   "metadata": {},
   "source": [
    "> __DEFINITION__: A ___thunk___ is a procedure of no arguments."
   ]
  },
  {
   "cell_type": "markdown",
   "id": "29e49f49-999f-4c50-a87d-ed9bbfa607c8",
   "metadata": {},
   "source": [
    "> __DEFINITION__: A ___1-thunk___ is a procedure of one argument. 1-thunks are the only kind of procedure, and they're all pure functions, with no side-effects."
   ]
  },
  {
   "cell_type": "markdown",
   "id": "400b202a-ef66-4759-910f-a94757e470c1",
   "metadata": {},
   "source": [
    "> __DEFINITION__: A ___curried___ function is a procedure of many arguments transformed into a composition of 1-thunks."
   ]
  },
  {
   "cell_type": "markdown",
   "id": "073d6cae-8b47-422d-b94f-e3df5c426ad8",
   "metadata": {},
   "source": [
    "For example, in ordinary Python, the following $\\lambda$ of `x` and `y`:"
   ]
  },
  {
   "cell_type": "code",
   "execution_count": 62,
   "id": "93e18561-7c08-4d1b-bd9f-2af807294e06",
   "metadata": {},
   "outputs": [
    {
     "data": {
      "text/plain": [
       "1807"
      ]
     },
     "execution_count": 62,
     "metadata": {},
     "output_type": "execute_result"
    }
   ],
   "source": [
    "(lambda x, y: x + y**2)(43, 42)"
   ]
  },
  {
   "cell_type": "markdown",
   "id": "6b5604e5-92f1-4964-b017-550f2ac99a90",
   "metadata": {},
   "source": [
    "is curried into the following: a $\\lambda$ of `x` returning a $\\lambda$ of `y`:"
   ]
  },
  {
   "cell_type": "code",
   "execution_count": 63,
   "id": "066e0d54-7624-4cc2-91a4-595f9d775c33",
   "metadata": {},
   "outputs": [
    {
     "data": {
      "text/plain": [
       "1807"
      ]
     },
     "execution_count": 63,
     "metadata": {},
     "output_type": "execute_result"
    }
   ],
   "source": [
    "(lambda x: (lambda y: x + y**2))(43)(42)"
   ]
  },
  {
   "cell_type": "markdown",
   "id": "0445af31-c0bb-4878-bde2-0cf49cc3aa15",
   "metadata": {},
   "source": [
    "Here are these examples in Schemulator."
   ]
  },
  {
   "cell_type": "code",
   "execution_count": 64,
   "id": "c601ec12-c8ba-4e95-8cf8-d46e9ecf301b",
   "metadata": {},
   "outputs": [
    {
     "data": {
      "text/plain": [
       "1807"
      ]
     },
     "execution_count": 64,
     "metadata": {},
     "output_type": "execute_result"
    }
   ],
   "source": [
    "Λ(lambda π: π.x + π.y**2, ['x', 'y'])(43, 42)"
   ]
  },
  {
   "cell_type": "code",
   "execution_count": 65,
   "id": "95617ab3-6183-4c13-806c-a8fb42b834ad",
   "metadata": {},
   "outputs": [
    {
     "data": {
      "text/plain": [
       "1807"
      ]
     },
     "execution_count": 65,
     "metadata": {},
     "output_type": "execute_result"
    }
   ],
   "source": [
    "Λ(lambda πo: \n",
    "  Λ(lambda πi: πi.x + πi.y**2, \n",
    "    ['y'], \n",
    "    πo),  # <~~~ explicit chaining\n",
    "  ['x'])(43)(42)"
   ]
  },
  {
   "cell_type": "markdown",
   "id": "12c9e926-8f5b-4a06-920b-cbf73cbbe467",
   "metadata": {},
   "source": [
    "Notice that `x` occurs [free](#free-variables) in the inner $\\lambda$ but [bound](#bound-variables) in the outer $\\lambda$. As always, be wary of [the confusing terminology \"bound variable\"](#confusing). Also notice that the curried form requires two invocations, one for each formal parameter of the two 1-thunks."
   ]
  },
  {
   "cell_type": "markdown",
   "id": "4c30a8ce-37f0-41bd-9f69-b1317bf2ab4d",
   "metadata": {},
   "source": [
    "The name \"curried\" comes from Haskell Curry, who developed the theory of analyzing all functions as 1-thunks. Haskell Curry also gave his name to the World's most prominent pure functional programming language, Haskell."
   ]
  },
  {
   "cell_type": "markdown",
   "id": "95af66dd-1cbb-41ad-b00b-4c2f15d47eaf",
   "metadata": {},
   "source": [
    "In many examples below, we will work with curried functions."
   ]
  },
  {
   "cell_type": "markdown",
   "id": "9c0db61f-bae2-42fb-884d-55b6a7df19fc",
   "metadata": {},
   "source": [
    "# Partial Evaluation and Automatic Currying"
   ]
  },
  {
   "cell_type": "markdown",
   "id": "b0469965-13a7-4df1-8b63-5522c0c6bed9",
   "metadata": {},
   "source": [
    "TODO"
   ]
  },
  {
   "cell_type": "markdown",
   "id": "2a2d573f-fc3b-4057-92c5-dfb0dc3fc907",
   "metadata": {},
   "source": [
    "# $\\Upsilon$: Squaring Square Roots of Functions"
   ]
  },
  {
   "cell_type": "markdown",
   "id": "c3164771-52de-4e45-9abc-d3ad53ad92e1",
   "metadata": {},
   "source": [
    "Anonymous recursive procedures are fundamental."
   ]
  },
  {
   "cell_type": "markdown",
   "id": "2857dfad-44b2-4cee-915f-3fd3d57cc620",
   "metadata": {},
   "source": [
    "> __OBSERVATION__: The Ultimate Imperative requires anonymous tail-recursive procedures."
   ]
  },
  {
   "cell_type": "markdown",
   "id": "dac02459-05c5-441a-9b76-cde69e431ab0",
   "metadata": {},
   "source": [
    "We develop them fully in the following few sections."
   ]
  },
  {
   "cell_type": "markdown",
   "id": "fa941f14-a865-46ff-8d63-6fe3c91610fa",
   "metadata": {},
   "source": [
    "[See this other noteobook](https://github.com/rebcabin/rebcabin.github.io/blob/main/PythonYCombinators.md) for detailed explanations of the following development."
   ]
  },
  {
   "cell_type": "markdown",
   "id": "4599b260-3c75-44ab-82ff-4e8138b06b84",
   "metadata": {},
   "source": [
    "The running example is non tail-recursive factorial."
   ]
  },
  {
   "cell_type": "markdown",
   "id": "7e55ba32-d65f-479e-8be9-c13e4fb7382c",
   "metadata": {},
   "source": [
    "Don't forget non-default `πsf`, lest `sf` be unbound in the inner $\\lambda$. `sf` is the \"square root\" of the recursive function we want, square-root in an abstract algebraic sense where function application is multiplication:"
   ]
  },
  {
   "cell_type": "code",
   "execution_count": 66,
   "id": "e451dac2-5973-4a25-beef-5b682c8f8aba",
   "metadata": {},
   "outputs": [
    {
     "data": {
      "text/plain": [
       "720"
      ]
     },
     "execution_count": 66,
     "metadata": {},
     "output_type": "execute_result"
    }
   ],
   "source": [
    "Λ(lambda πsf:  # <~~~ Apply this Λ ...\n",
    "  Λ(lambda πn: \n",
    "    # Observe the \"multiplication\" sf(sf):\n",
    "    1 if πn.n < 1 else πn.n * πn.sf(πn.sf)(πn.n - 1), \n",
    "    ['n'], πsf), \n",
    "  ['sf'])(  # <~~~ ... to a copy of itself.\n",
    "    Λ(lambda πsf:  # <~~~ bind this Λ to upper 'sf'\n",
    "      Λ(lambda πn: \n",
    "        1 if πn.n < 1 else πn.n * πn.sf(πn.sf)(πn.n - 1), \n",
    "        ['n'], πsf), \n",
    "      ['sf']))(6)"
   ]
  },
  {
   "cell_type": "markdown",
   "id": "b7576a93-7e2c-44fa-84ce-27a162577bbf",
   "metadata": {},
   "source": [
    "Abstract `sf(sf)(m)` into a `f`, a delayed $\\lambda$ of `m`. The environments are chained through every level, as exhibited by the `ECHO`:"
   ]
  },
  {
   "cell_type": "code",
   "execution_count": 67,
   "id": "5a767251-c8a9-4c40-a2b6-236c33b659c8",
   "metadata": {},
   "outputs": [
    {
     "name": "stdout",
     "output_type": "stream",
     "text": [
      "\n",
      "{'πm': (5bd0) \"['m']\">(5c60) \"['sf']\">(5090,ΓΠ) \"['γόὂ', 'square', 'saxpy', 'sum_of_squares', 'factorial', 'fact_iter']\"}\n"
     ]
    },
    {
     "data": {
      "text/plain": [
       "720"
      ]
     },
     "execution_count": 67,
     "metadata": {},
     "output_type": "execute_result"
    }
   ],
   "source": [
    "Λ(lambda πsf:\n",
    "  Λ(lambda πf:  # Domain code d is a function of business code f.\n",
    "    Λ(lambda πn:  # Business code f is a function of business parameter n.\n",
    "      1 if πn.n < 1 else πn.n * πn.f(πn.n - 1), \n",
    "      ['n'], πf), \n",
    "    ['f'], πsf)(\n",
    "      Λ(lambda πm:  # Delayed application of business code sf(sf).\n",
    "        πm.sf(πm.sf)(ECHO('πm', πm).m), \n",
    "        ['m'], πsf)), \n",
    "  ['sf'])(  # <~~~ Apply to copy of self:\n",
    "Λ(lambda πsf:\n",
    "  Λ(lambda πf:  # Domain code d is a function of business code f.\n",
    "    Λ(lambda πn:  # Business code f is a function of business parameter n.\n",
    "      1 if πn.n < 1 else πn.n * πn.f(πn.n - 1), \n",
    "      ['n'], πf), \n",
    "    ['f'], πsf)(\n",
    "      Λ(lambda πm:  # Delayed application of business code sf(sf).\n",
    "        πm.sf(πm.sf)(πm.m), \n",
    "        ['m'], πsf)), \n",
    "  ['sf']))(6)"
   ]
  },
  {
   "cell_type": "markdown",
   "id": "733e321d-96ec-4701-9e86-ecf053af7240",
   "metadata": {},
   "source": [
    "Abstract the ___domain code___ into `d`, a function of the ___business code___ `f`, which is, in-turn, a function of the ___business parameter___ `n`."
   ]
  },
  {
   "cell_type": "code",
   "execution_count": 68,
   "id": "57a340f0-4da0-492f-93fd-0f6561b1d307",
   "metadata": {},
   "outputs": [
    {
     "name": "stdout",
     "output_type": "stream",
     "text": [
      "\n",
      "{'πm': (5750) \"['m']\">(4d30) \"['sf']\">(4dc0) \"['d']\">(5090,ΓΠ) \"['γόὂ', 'square', 'saxpy', 'sum_of_squares', 'factorial', 'fact_iter']\"}\n"
     ]
    },
    {
     "data": {
      "text/plain": [
       "720"
      ]
     },
     "execution_count": 68,
     "metadata": {},
     "output_type": "execute_result"
    }
   ],
   "source": [
    "Λ(lambda πd:\n",
    "  Λ(lambda πsf:  # sf; copy this Λ below ...\n",
    "    πd.d(Λ(lambda πm: πm.sf(πm.sf)(ECHO('πm', πm).m),\n",
    "          ['m'], πsf)),\n",
    "    ['sf'], πd)(  # <~~~ \"squaring,\" i.e., self-application\n",
    "      Λ(lambda πsf:  # sf; .... right here\n",
    "        πd.d(Λ(lambda πm: πm.sf(πm.sf)(πm.m), \n",
    "              ['m'], πsf)),\n",
    "        ['sf'], πd)), \n",
    "  ['d'])(  # d is the formal parameter for domain code\n",
    "    Λ(lambda πf:  # Domain code d is a function of business code f.\n",
    "      Λ(lambda πn:  # Business code f is a function of business parameter n.\n",
    "        1 if πn.n < 1 else πn.n * πn.f(πn.n - 1), \n",
    "        ['n'], πf),  # n: business parameter\n",
    "      ['f'])  # square of sf, recursive function\n",
    "    )(6)"
   ]
  },
  {
   "cell_type": "markdown",
   "id": "3b15c6ba-b8ca-4b44-9889-a3072254912a",
   "metadata": {},
   "source": [
    "Abstract the squaring (self-application) into `g`:"
   ]
  },
  {
   "cell_type": "code",
   "execution_count": 69,
   "id": "310477d3-5718-4d51-9596-12286c93d866",
   "metadata": {},
   "outputs": [
    {
     "data": {
      "text/plain": [
       "720"
      ]
     },
     "execution_count": 69,
     "metadata": {},
     "output_type": "execute_result"
    }
   ],
   "source": [
    "Λ(lambda πd:  # function of domain code, d\n",
    "  Λ(lambda πg:  # generic squaring gizmo \n",
    "    πg.g(πg.g), \n",
    "    ['g'], πd)(\n",
    "      Λ(lambda πsf: \n",
    "        πd.d(Λ(lambda πm: πm.sf(πm.sf)(πm.m), \n",
    "               ['m'], πsf)),\n",
    "        ['sf'], πd)), \n",
    "  ['d'])(  # formal parameter d for domain code\n",
    "    Λ(lambda πf:  # Domain code d is a function of business code f.\n",
    "      Λ(lambda πn:  # Business code f is a function of business parameter n.\n",
    "        1 if πn.n < 1 else πn.n * πn.f(πn.n - 1), # business code\n",
    "        ['n'], πf),  # n: business parameter\n",
    "      ['f'])  # square of sf, recursive function\n",
    ")(6)"
   ]
  },
  {
   "cell_type": "markdown",
   "id": "e795c1ea-5886-46c7-8a6e-e17898af7d3d",
   "metadata": {},
   "source": [
    "## Recursive Factorial via $\\Upsilon{}1$"
   ]
  },
  {
   "cell_type": "markdown",
   "id": "8c2a3bae-3fe2-470b-b7b2-f5b679a0de0e",
   "metadata": {},
   "source": [
    "The glyph that looks like \"Y\" is actually capital Upsilon ($\\Upsilon$ in $\\LaTeX$). Names in user code should not collide with it if users remember to [avoid Greek](#greek)."
   ]
  },
  {
   "cell_type": "markdown",
   "id": "d63a5781-6a63-4363-87af-64e353fcd5f9",
   "metadata": {},
   "source": [
    "Package into a system function, $\\Upsilon{}1$, for later use. The \"1\" in the name means that this is domain codes that return [1-thunk](#thunk) business codes, procedures of one parameter:"
   ]
  },
  {
   "cell_type": "code",
   "execution_count": 70,
   "id": "c7c62c77-027f-4cc9-9bac-9e4d6124fa3a",
   "metadata": {},
   "outputs": [
    {
     "data": {
      "text/plain": [
       "{'env': 'ΓΠ', 'parms': \"['d']\", 'Λ': '5750'}"
      ]
     },
     "execution_count": 70,
     "metadata": {},
     "output_type": "execute_result"
    }
   ],
   "source": [
    "DEFINE('Υ1', \n",
    "       Λ(lambda πd: # function of domain code, d\n",
    "         Λ(lambda πg: πg.g(πg.g), ['g'], πd)(\n",
    "             # of business code of one parameter\n",
    "             Λ(lambda πsf: \n",
    "               πd.d(Λ(lambda πm: πm.sf(πm.sf)(πm.m), \n",
    "                      ['m'], πsf)),\n",
    "               ['sf'], πd)), \n",
    "         ['d']))"
   ]
  },
  {
   "cell_type": "markdown",
   "id": "bc7f006f-a562-497e-be22-36be2c63b634",
   "metadata": {},
   "source": [
    "### Example:"
   ]
  },
  {
   "cell_type": "code",
   "execution_count": 71,
   "id": "03ffcf72-8f4f-427c-87b6-42e1c651ac88",
   "metadata": {},
   "outputs": [
    {
     "data": {
      "text/plain": [
       "720"
      ]
     },
     "execution_count": 71,
     "metadata": {},
     "output_type": "execute_result"
    }
   ],
   "source": [
    "DEFINE('fact_recursive',\n",
    "      Λ(lambda π: # domain code; function of business code, f\n",
    "        Λ(lambda π: \n",
    "          1 if π.n < 1 else π.n * π.f(π.n - 1), # business code\n",
    "          ['n'], π), # 1 business parameter, n\n",
    "        ['f'])) # recursive function\n",
    "\n",
    "ΓΠ.Υ1(ΓΠ.fact_recursive)(6)"
   ]
  },
  {
   "cell_type": "markdown",
   "id": "ee3789f3-095d-428d-b299-d70b914a2b26",
   "metadata": {},
   "source": [
    "## Iterative Factorial via $\\Upsilon{}3$<a id=\"iterative-factorial\"></a>"
   ]
  },
  {
   "cell_type": "markdown",
   "id": "82691675-93ae-4d19-8e7e-b5f2e7d92387",
   "metadata": {},
   "source": [
    "$\\Upsilon$ can be tailored for a given number of business parameters. This one is for three."
   ]
  },
  {
   "cell_type": "code",
   "execution_count": 72,
   "id": "6ee91c25-be26-401d-b4de-e218b3cd1ba8",
   "metadata": {},
   "outputs": [],
   "source": [
    "# λ d: (λ g: g[g])(λ sf: d[λ m, c, x: sf[sf][m, c, x]]) \n",
    "DEFINE('Υ3', \n",
    "       Λ(lambda πd:  # of d, the domain code ...\n",
    "         Λ(lambda πg: πg.g(πg.g), ['g'], πd)(\n",
    "             # ... of business code of three parameters\n",
    "             Λ(lambda πsf: πd.d(  # domain code\n",
    "                 Λ(lambda π: \n",
    "                   π.sf(π.sf)(π.μ, π.γ, π.ξ),  # business code\n",
    "                   ['μ', 'γ', 'ξ'], πsf)),  # business parameters\n",
    "               ['sf'], πd)), \n",
    "         ['d']));"
   ]
  },
  {
   "cell_type": "markdown",
   "id": "8d8c7031-324e-4002-abf1-d30225209a24",
   "metadata": {},
   "source": [
    "Later, we generalize $\\Upsilon$ to any number $N$ of business parameters."
   ]
  },
  {
   "cell_type": "markdown",
   "id": "5f2828c7-3d41-4067-ba30-4077ea9731cc",
   "metadata": {},
   "source": [
    "Here is user-level domain code, redefining `fact_iter` in domain-code form. Any domain code is a function of `f`, recursive business code. In this case, `f` is a function of 3 business parameters. This will get us to a tail-recursive solution in the [section on tail recursion](#tail-recursion)."
   ]
  },
  {
   "cell_type": "markdown",
   "id": "fa4237b5-1c9b-4640-85c8-9bc72aa69aa6",
   "metadata": {},
   "source": [
    "### Example:"
   ]
  },
  {
   "cell_type": "code",
   "execution_count": 73,
   "id": "85b368a2-2dbc-42ab-9045-f1fbe5b750df",
   "metadata": {},
   "outputs": [
    {
     "data": {
      "text/plain": [
       "720"
      ]
     },
     "execution_count": 73,
     "metadata": {},
     "output_type": "execute_result"
    }
   ],
   "source": [
    "# λ f: λ m, c, x: m if c > x else f(m*c, c+1, x)\n",
    "DEFINE('fact_iter', # domain code is a function of f ...\n",
    "       Λ(lambda π: # ... which is business code.\n",
    "         Λ(lambda π: \n",
    "           π.m \n",
    "           if π.c > π.x \n",
    "           else π.f(π.m * π.c, π.c + 1, π.x), # business code\n",
    "           ['m', 'c', 'x'], π), # business parameters\n",
    "         ['f']));\n",
    "\n",
    "ΓΠ.Υ3(ΓΠ.fact_iter)(1, 1, 6)"
   ]
  },
  {
   "cell_type": "markdown",
   "id": "baa87f5a-d74b-43af-b51a-82a2dc288e96",
   "metadata": {},
   "source": [
    "# Tail Recursion<a id=\"tail-recursion\"></a>"
   ]
  },
  {
   "cell_type": "markdown",
   "id": "dfb59f0b-799e-4cbf-8733-d6c31f790859",
   "metadata": {},
   "source": [
    "> __OBSERVATION__: The Ultimate Imperative requires anonymous _tail-recursive_ procedures."
   ]
  },
  {
   "cell_type": "markdown",
   "id": "53926c86-eb59-4a15-8edc-a539aacacd76",
   "metadata": {},
   "source": [
    "Thanks to [Thomas Baruchel for the idea of Exceptions to implement tail recursion](https://stackoverflow.com/questions/13591970/does-python-optimize-tail-recursion)."
   ]
  },
  {
   "cell_type": "markdown",
   "id": "8f04fbcb-e60a-42e3-89c0-8fa9662a6926",
   "metadata": {},
   "source": [
    "If users are aware that their domain code is tail-recursive, then they may call it via `LOOP` instead of via $\\Upsilon$."
   ]
  },
  {
   "cell_type": "markdown",
   "id": "7a44d66c-03de-4db1-9642-e0a1c6882369",
   "metadata": {},
   "source": [
    "Scheme detects tail recursion automatically. Tt parses user code and marks un-nested tail calls. Schemulator doesn't parse, [on purpose](#semantics), and [Python infamously avoids tail recursion](https://stackoverflow.com/questions/13591970/does-python-optimize-tail-recursion). In Python and Schemulator, users must invoke tail recursion explicitly. This isn't terrible. Tail-calls are lexically obvious (un-nested self-calls), so users should always know. In Clojure, there is precedent: users explicitly write `loop` and `recur`. In any event, tail-recursive domain code can always be called via non-tail-recursive $\\Upsilon$."
   ]
  },
  {
   "cell_type": "markdown",
   "id": "ddb4d2d8-e845-45ec-abb4-be35168e9f9c",
   "metadata": {},
   "source": [
    "## `LOOP3`"
   ]
  },
  {
   "cell_type": "markdown",
   "id": "7cf86244-cba1-41b7-8b82-c13e3f6db014",
   "metadata": {},
   "source": [
    "`LOOP3` has the same signature as $\\Upsilon3$; it takes domain code of business code of three arguments as its sole argument."
   ]
  },
  {
   "cell_type": "markdown",
   "id": "c13bdfde-a541-4126-8910-0213df02c8cc",
   "metadata": {},
   "source": [
    "The glyph that looks like \"P\" below is Greek Capital Rho for \"recur.\" Names in user code will not collide with P if users remember to [avoid Greek](#greek). As with $\\Upsilon$, Rho and `LOOP` must know their argument counts. That's OK for now (TODO: reconsider)."
   ]
  },
  {
   "cell_type": "markdown",
   "id": "872094eb-d9fd-473c-8d10-746eed1bf7ce",
   "metadata": {},
   "source": [
    "> __WARNING__: ***Results are undefined if any `LOOP` function is called with non-tail-recursive domain code.***"
   ]
  },
  {
   "cell_type": "code",
   "execution_count": 74,
   "id": "94bf948f-c5fd-46dc-844e-9aaf1a3a2b80",
   "metadata": {},
   "outputs": [],
   "source": [
    "class TailCall(Exception):  \n",
    "    \"\"\"αναδρομική κλήση\"\"\"\n",
    "    def __init__(self, *args):\n",
    "        \"\"\"Overwrite old args with new.\"\"\"\n",
    "        self.args = args\n",
    "\n",
    "def RECUR(*args):  \n",
    "    \"\"\"υψώνω: in sincere flattery of Clojure\"\"\"\n",
    "    raise TailCall(*args)\n",
    "\n",
    "def LOOP3(d: Procedure) -> Procedure:  # domain code\n",
    "    \"\"\"in sincere flattery of Clojure, and thanks to Thomas Baruchel.\"\"\"\n",
    "    # in the global environment, ΓΠ,\n",
    "    DEFINE('Ρ3', Λ(lambda π: RECUR(π.m, π.c, π.x), ['m', 'c', 'x']));\n",
    "    def looper(*args):\n",
    "        \"\"\"Expression form of a while-loop statement.\"\"\"\n",
    "        while True:\n",
    "            try: \n",
    "                return d(ΓΠ.Ρ3)(*args)\n",
    "            except TailCall as e:\n",
    "                args = e.args\n",
    "    ρ = Λ(lambda π: looper(π.m, π.c, π.x), ['m', 'c', 'x'], π=d.π)\n",
    "    return ρ"
   ]
  },
  {
   "cell_type": "markdown",
   "id": "57160a71-557b-4338-bf55-5cd6c108b997",
   "metadata": {},
   "source": [
    "## Example:"
   ]
  },
  {
   "cell_type": "code",
   "execution_count": 75,
   "id": "99fd8104-9a3b-4d9a-adb6-0f08a290a723",
   "metadata": {},
   "outputs": [
    {
     "data": {
      "text/plain": [
       "720"
      ]
     },
     "execution_count": 75,
     "metadata": {},
     "output_type": "execute_result"
    }
   ],
   "source": [
    "LOOP3(ΓΠ.fact_iter)(1, 1, 6)"
   ]
  },
  {
   "cell_type": "markdown",
   "id": "2a1535b8-6e3f-4071-987d-af88c22a6166",
   "metadata": {},
   "source": [
    "## Prove It on `fact_iter`"
   ]
  },
  {
   "cell_type": "markdown",
   "id": "b969d0b0-2677-4681-b7f4-4fc92e03fd72",
   "metadata": {},
   "source": [
    "The recursive call via $\\Upsilon$ blows Python's recursion limit."
   ]
  },
  {
   "cell_type": "code",
   "execution_count": 76,
   "id": "22aa12bb-ce0d-4485-8671-89cc03088334",
   "metadata": {},
   "outputs": [
    {
     "name": "stdout",
     "output_type": "stream",
     "text": [
      "('maximum recursion depth exceeded in __instancecheck__',)\n"
     ]
    }
   ],
   "source": [
    "try:\n",
    "    print(ΓΠ.Υ3(ΓΠ.fact_iter)(1, 1, 400))\n",
    "except RecursionError as e:\n",
    "    print(e.args)"
   ]
  },
  {
   "cell_type": "markdown",
   "id": "1d8b113d-d655-4316-ae18-f0289ca764c4",
   "metadata": {},
   "source": [
    "Call via `LOOP3` does not. Notice the domain code `fact_iter` is EXACTLY the same as in the recursive call above."
   ]
  },
  {
   "cell_type": "code",
   "execution_count": 77,
   "id": "ead045e6-152f-45b6-8ffd-6e786fbd92e3",
   "metadata": {},
   "outputs": [
    {
     "name": "stdout",
     "output_type": "stream",
     "text": [
      "64034522846623895262347970319503005850702583026002959458684445942802397169186831436278478647463264676294350575035856810848298162883517435228961988646802997937341654150838162426461942352307046244325015114448670890662773914918117331955996440709549671345290477020322434911210797593280795101545372667251627877890009349763765710326350331533965349868386831339352024373788157786791506311858702618270169819740062983025308591298346162272304558339520759611505302236086810433297255194852674432232438669948422404232599805551610635942376961399231917134063858996537970147827206606320217379472010321356624613809077942304597360699567595836096158715129913822286578579549361617654480453222007825818400848436415591229454275384803558374518022675900061399560145595206127211192918105032491008000000000000000000000000000000000000000000000000000000000000000000000000000000000000000000000000000\n"
     ]
    }
   ],
   "source": [
    "try:\n",
    "    print(LOOP3(ΓΠ.fact_iter)(1, 1, 400))\n",
    "except RecursionError as e:\n",
    "    print(e.args)"
   ]
  },
  {
   "cell_type": "markdown",
   "id": "8ef9da0d-2fc9-4507-ba99-13979b7f1cf5",
   "metadata": {},
   "source": [
    "## Tail-Recursive Fibonacci<a id=\"tail-recursive-fibonacci\"></a>"
   ]
  },
  {
   "cell_type": "markdown",
   "id": "60b0fecb-ebee-4d3f-8090-8f5db2455eb4",
   "metadata": {},
   "source": [
    "Write domain code for catastropically slow, non-tail-recursive, exponentially diverging Fibonacci:"
   ]
  },
  {
   "cell_type": "code",
   "execution_count": 78,
   "id": "24124806-e810-41be-8e4a-6f6f46285ed1",
   "metadata": {},
   "outputs": [
    {
     "data": {
      "text/plain": [
       "13"
      ]
     },
     "execution_count": 78,
     "metadata": {},
     "output_type": "execute_result"
    }
   ],
   "source": [
    "DEFINE('fib_slow', \n",
    "       Λ(lambda π: \n",
    "         Λ(lambda π: 1 if π.n < 2 else \n",
    "           π.f(π.n - 1) + π.f(π.n - 2), ['n'], π),\n",
    "         ['f']))\n",
    "\n",
    "ΓΠ.Υ1(ΓΠ.fib_slow)(6)"
   ]
  },
  {
   "cell_type": "markdown",
   "id": "4f7f288c-9039-40cc-9c01-003182f35e82",
   "metadata": {},
   "source": [
    "This is miserable even for $n=23$. Don't call it for bigger arguments."
   ]
  },
  {
   "cell_type": "code",
   "execution_count": 79,
   "id": "2dd5dea4-5f9a-440b-a384-679bd0a7c2f0",
   "metadata": {},
   "outputs": [
    {
     "data": {
      "text/plain": [
       "46368"
      ]
     },
     "execution_count": 79,
     "metadata": {},
     "output_type": "execute_result"
    }
   ],
   "source": [
    "ΓΠ.Υ1(ΓΠ.fib_slow)(23)"
   ]
  },
  {
   "cell_type": "markdown",
   "id": "aea67273-35ab-432d-9798-ad0026a2cbbb",
   "metadata": {},
   "source": [
    "The following takes 10 seconds. Uncomment if you want to see the time per iteration: about 1,000 ms; YES, a full second!"
   ]
  },
  {
   "cell_type": "code",
   "execution_count": 80,
   "id": "856660f2-c796-4c20-89e9-ccdbf1229705",
   "metadata": {},
   "outputs": [],
   "source": [
    "# timeit(ΓΠ.Υ1(ΓΠ.fib_slow)(23))"
   ]
  },
  {
   "cell_type": "markdown",
   "id": "d32b88ec-94c0-4f45-9512-403a30ae82d6",
   "metadata": {},
   "source": [
    "Without linearization, Fibonacci 500 would not complete in $10^{30}$ times the Age of the Universe. One way to linearize is tail recursion. Another way is [memoization](#memoization) (_sic:_ not _memorization_)."
   ]
  },
  {
   "cell_type": "markdown",
   "id": "71b0e222-4c0a-4a58-bba2-1c977255ae6c",
   "metadata": {},
   "source": [
    "Tail-recursive memoization is possible but not necessary. A tail-recursive Fibonacci easy and blazingly fast:"
   ]
  },
  {
   "cell_type": "code",
   "execution_count": 81,
   "id": "a3ce9fbc-3609-4751-87fc-91437bd65a5e",
   "metadata": {},
   "outputs": [],
   "source": [
    "DEFINE('fib_iter',\n",
    "       Λ(lambda π:\n",
    "         Λ(lambda π: π.b if π.n < 1 else \n",
    "           π.f(π.b, π.a + π.b, π.n - 1),\n",
    "           ['a', 'b', 'n'], π),\n",
    "         ['f']));"
   ]
  },
  {
   "cell_type": "markdown",
   "id": "ea746bc4-101b-45ae-b3f3-a990f87ff58a",
   "metadata": {},
   "source": [
    "Check it:"
   ]
  },
  {
   "cell_type": "code",
   "execution_count": 82,
   "id": "fac98926-a4b3-4002-b421-5007ca391f49",
   "metadata": {},
   "outputs": [
    {
     "data": {
      "text/plain": [
       "46368"
      ]
     },
     "execution_count": 82,
     "metadata": {},
     "output_type": "execute_result"
    }
   ],
   "source": [
    "LOOP3(ΓΠ.fib_iter)(0, 1, 23)"
   ]
  },
  {
   "cell_type": "markdown",
   "id": "a83ccb6d-ede9-4910-a237-9c6cbacedc5b",
   "metadata": {},
   "source": [
    "Time it."
   ]
  },
  {
   "cell_type": "markdown",
   "id": "26832976-3cd3-484a-913b-192fc30d6185",
   "metadata": {},
   "source": [
    "The following takes 10 seconds. Uncomment if you want see 250 _micro_ seconds, or so, 4000 times faster on this argument, 23. Exponentially faster on bigger arguments."
   ]
  },
  {
   "cell_type": "code",
   "execution_count": 83,
   "id": "fe6d7ec8-cd48-4172-a9d9-fe64346dee16",
   "metadata": {},
   "outputs": [],
   "source": [
    "# timeit(LOOP3(ΓΠ.fib_iter)(0, 1, 23))"
   ]
  },
  {
   "cell_type": "markdown",
   "id": "9d003b80-33b9-46e6-899c-e6d8a8b01337",
   "metadata": {},
   "source": [
    "Stress it, remembering that the non-tail-recursive version would not complete in astronomical time:"
   ]
  },
  {
   "cell_type": "code",
   "execution_count": 84,
   "id": "2ea94848-5fba-46f2-aa48-209b085369d8",
   "metadata": {},
   "outputs": [
    {
     "data": {
      "text/plain": [
       "225591516161936330872512695036072072046011324913758190588638866418474627738686883405015987052796968498626"
      ]
     },
     "execution_count": 84,
     "metadata": {},
     "output_type": "execute_result"
    }
   ],
   "source": [
    "LOOP3(ΓΠ.fib_iter)(0, 1, 500)"
   ]
  },
  {
   "cell_type": "markdown",
   "id": "c29ff3d0-9914-43f1-889e-2afea66b6666",
   "metadata": {},
   "source": [
    "# Memoized [sic] Fibonacci<a id=\"memoization\"></a>"
   ]
  },
  {
   "cell_type": "markdown",
   "id": "7f721c31-60f9-497c-9326-687c660d4bce",
   "metadata": {},
   "source": [
    "Linearize execution of Fibonacci by recording intermediate results in a memo table instead of recomputing them. This is an easy instance of [_Dynamic Programming_](https://en.wikipedia.org/wiki/Dynamic_programming)."
   ]
  },
  {
   "cell_type": "markdown",
   "id": "92f61b47-e64c-4517-9eb9-457fd965d1bb",
   "metadata": {},
   "source": [
    "## Curried Memo Table"
   ]
  },
  {
   "cell_type": "markdown",
   "id": "66097304-2a5e-422e-ab4e-9bfe688402d8",
   "metadata": {},
   "source": [
    "One way to pass a memo table is through a Curried second argument. We'll need $\\Upsilon2C$, generic for 2-parameter, Curried business code:"
   ]
  },
  {
   "cell_type": "code",
   "execution_count": 85,
   "id": "4982e8bc-cc80-48d4-9615-7a752c1de4be",
   "metadata": {},
   "outputs": [],
   "source": [
    "DEFINE('Υ2C', \n",
    "       Λ(lambda π: # function of domain code, d ...\n",
    "         Λ(lambda π: π.g(π.g), ['g'], π)(\n",
    "             # with business code of 2 parameters, curried\n",
    "             Λ(lambda π: \n",
    "               π.d(Λ(lambda π: \n",
    "                     Λ(lambda π: π.sf(π.sf)(π.m)(π.n), \n",
    "                       ['n'], π), ['m'], π)),\n",
    "               ['sf'], π)), \n",
    "         ['d']));"
   ]
  },
  {
   "cell_type": "markdown",
   "id": "3ca165b1-330d-40c1-8db0-f1a0aac8cf07",
   "metadata": {},
   "source": [
    "Notice that we eased our burden of writing this $\\Upsilon$ by not bothering to distinguish the environment parameters $\\pi$ by name. Ordinary scoping rules disambiguate them, affording us a more fluid and concise style."
   ]
  },
  {
   "cell_type": "markdown",
   "id": "1f31346b-83e1-4ff1-91a1-10c1a1ceae32",
   "metadata": {},
   "source": [
    "The domain code for a memoized, Curried Fibonacci follows. The parameter `a` is the _accumulator_, _associator_, or memo table, whatever word you like best. This is easiest to read (and to write) from the bottom up. It looks horrendous, but it isn't really. We disambiguated the names of the environment parameters as a guide. We won't do so in the future. In the `ECHO` output, count the 13 levels of chained environments."
   ]
  },
  {
   "cell_type": "code",
   "execution_count": 86,
   "id": "1db24f2a-3644-47e0-8062-f3994ccf354a",
   "metadata": {},
   "outputs": [
    {
     "name": "stdout",
     "output_type": "stream",
     "text": [
      "\n",
      "{'πa2': (1750) \"['a2']\">(15a0) \"['r2']\">(1510) \"['m2']\">(0c10) \"['fim2']\">(08b0) \"['n_2']\">(0a60) \"['a1']\">(0670) \"['r1']\">(05e0) \"['m1']\">(0280) \"['fim1']\">(00d0) \"['n_1']\">(13f0) \"['n']\">(1000) \"['a']\">(1360) \"['f']\">(5090,ΓΠ) (\"['γόὂ', 'square', 'saxpy', 'sum_of_squares', 'factorial', 'fact_iter', 'Υ1', \"\n",
      " \"'fact_recursive', 'Υ3', 'Ρ3', 'fib_slow', 'fib_iter', 'Υ2C', 'fib_fast']\")}\n"
     ]
    },
    {
     "data": {
      "text/plain": [
       "46368"
      ]
     },
     "execution_count": 86,
     "metadata": {},
     "output_type": "execute_result"
    }
   ],
   "source": [
    "DEFINE('fib_fast',\n",
    "       Λ(lambda πf: # of f; level 1\n",
    "         Λ(lambda πa: # of a; level 2\n",
    "           Λ(lambda πn: # of n; level 3\n",
    "             (πn.a, 1) if πn.n < 2 else\n",
    "             Λ(lambda πn1: # of n_1; level 4\n",
    "               (πn1.a, πn1.a[πn1.n_1]) # optimizer should remove these two lines\n",
    "               if πn1.n_1 in πn1.a else # ^^^\n",
    "               Λ(lambda πfim1: # of fim1; level 5\n",
    "                 Λ(lambda πm1: # of m1; level 6\n",
    "                   Λ(lambda πr1: # of r1; level 7\n",
    "                     Λ(lambda πa1: # of a1; level 8\n",
    "                       Λ(lambda πn2: # of n_2; level 9\n",
    "                         (πn2.a1, πn2.r1 + πn2.a1[πn2.n_2]) # <~~~ a quick exit\n",
    "                         if πn2.n_2 in πn2.a1 else \n",
    "                         Λ(lambda πfim2: # of fim2; level 10\n",
    "                           Λ(lambda πm2: # of m2; level 11\n",
    "                             Λ(lambda πr2: # of r2; level 12\n",
    "                               Λ(lambda πa2: # of a2; level 13\n",
    "                                 (ECHO('πa2', πa2).a2, πa2.r1 + πa2.r2), # <~~~ the money line\n",
    "                                 ['a2'], πr2)(πr2.m2[0] | {πr2.n_2: πr2.r2}),  # <~~~ update memo\n",
    "                               ['r2'], πm2)(πm2.m2[1]), # unpack\n",
    "                             ['m2'], πfim2)(πfim2.fim2(πfim2.n_2)), # unpack\n",
    "                           ['fim2'], πn2)(πn2.f(πn2.a1)), # <~~~ recurse\n",
    "                         ['n_2'], πa1)(πa1.n - 2), # DRY\n",
    "                       ['a1'], πr1)(πr1.m1[0] | {πr1.n_1: πr1.r1}), # <~~~ update memo\n",
    "                     ['r1'], πm1)(πm1.m1[1]), # unpack\n",
    "                   ['m1'], πfim1)(πfim1.fim1(πfim1.n_1)), # unpack\n",
    "                 ['fim1'], πn1)(πn1.f(πn1.a)), # <~~~ recurse\n",
    "               ['n_1'], πn)(πn.n - 1), # DRY\n",
    "             ['n'], πa), # business parameter\n",
    "           ['a'], πf), # curried memo\n",
    "         ['f'])) # domain code \n",
    "ΓΠ.Υ2C(ΓΠ.fib_fast)({})(23)[1]"
   ]
  },
  {
   "cell_type": "markdown",
   "id": "47d41260-b255-4a3b-aa9e-ccf5caa820ea",
   "metadata": {},
   "source": [
    "It's about 1 millisecond per iteration, 1,000 times faster than the original. The following takes 10 seconds. Uncomment if you want proof."
   ]
  },
  {
   "cell_type": "code",
   "execution_count": 87,
   "id": "73e6fad5-4202-4b6b-9d26-4d9d5bf91422",
   "metadata": {},
   "outputs": [],
   "source": [
    "# timeit(ΓΠ.Υ2C(ΓΠ.fib_fast)({})(23)[1])"
   ]
  },
  {
   "cell_type": "markdown",
   "id": "ef1731e0-d277-4e02-bfa8-ed2c67bf2598",
   "metadata": {},
   "source": [
    "Still blows the recursion limit:"
   ]
  },
  {
   "cell_type": "code",
   "execution_count": 88,
   "id": "01ddb2e3-7b21-4946-a0a3-12f89725e619",
   "metadata": {},
   "outputs": [
    {
     "name": "stdout",
     "output_type": "stream",
     "text": [
      "('maximum recursion depth exceeded while calling a Python object',)\n"
     ]
    }
   ],
   "source": [
    "try:\n",
    "    print(ΓΠ.Υ2C(ΓΠ.fib_fast)({})(200)[1])\n",
    "except RecursionError as e:\n",
    "    print(e.args)"
   ]
  },
  {
   "cell_type": "markdown",
   "id": "124d07a8-d8ab-4804-943e-71bb44c1ea0f",
   "metadata": {},
   "source": [
    "We fix that immediately below."
   ]
  },
  {
   "cell_type": "markdown",
   "id": "a62017ed-455d-4813-9f94-769d26ff68b8",
   "metadata": {},
   "source": [
    "## Memo Table as Business Parameter"
   ]
  },
  {
   "cell_type": "markdown",
   "id": "92aa3076-eb91-4402-a916-7f53e5f1ced2",
   "metadata": {},
   "source": [
    "Before doing tail-recursion with a memo table, show the memo as un-Curried. Currying is useful in general, but complicates $\\Upsilon$. Get rid of it. Notice, also, that we no longer bother to disambiguate the environment parameters, letting Nature take care of it."
   ]
  },
  {
   "cell_type": "code",
   "execution_count": 89,
   "id": "640a45c0-c543-452a-b5e8-637ddfd94ff9",
   "metadata": {},
   "outputs": [],
   "source": [
    "DEFINE('fib_fast_uncurried',\n",
    "      Λ(lambda π: # of f; level 1\n",
    "        Λ(lambda π: # of a, n; level 2\n",
    "          (π.a, 1) if π.n < 2 else\n",
    "          Λ(lambda π: # of n_1; level 3\n",
    "            Λ(lambda π: # of t1; level 4\n",
    "              Λ(lambda π: # of m1; level 5\n",
    "                Λ(lambda π: # of r1; level 6\n",
    "                  Λ(lambda π: # of a1; level 7\n",
    "                    Λ(lambda π: # of n_2; level 8\n",
    "                      (π.a1, π.r1 + π.a1[π.n_2]) # <~~~ quick exit\n",
    "                      if π.n_2 in π.a1 else \n",
    "                      Λ(lambda π: # of t_2; level 9\n",
    "                        Λ(lambda π: # of m_2; level 10\n",
    "                          Λ(lambda π: # of r_2; level 11\n",
    "                            Λ(lambda π: # of a_2; level 12\n",
    "                              (π.a2, π.r1 + π.r2), # <~~~ the money line\n",
    "                              ['a2'], π)(π.m2 | {π.n_2: π.r2}), # <~~~ update memo\n",
    "                            ['r2'], π)(π.t2[1]), # nupaci\n",
    "                          ['m2'], π)(π.t2[0]), # unpack\n",
    "                        ['t2'], π)(π.f(π.a1, π.n_2)), # <~~~ recurse\n",
    "                      ['n_2'], π)(π.n - 2), # dry\n",
    "                    ['a1'], π)(π.m1 | {π.n_1: π.r1}), # <~~~ update memo\n",
    "                  ['r1'], π)(π.t1[1]), # unpac\n",
    "                ['m1'], π)(π.t1[0]), # unpack\n",
    "              ['t1'], π)(π.f(π.a, π.n_1)), # <~~~ recurse\n",
    "            ['n_1'], π)(π.n - 1), # DRY\n",
    "          ['a', 'n'], π), # busines parameters\n",
    "        ['f'])); # domain-code signature"
   ]
  },
  {
   "cell_type": "markdown",
   "id": "daed92f6-647e-4852-a04d-cf6059089903",
   "metadata": {},
   "source": [
    "Now need only an ordinary $\\Upsilon2$ to call it:"
   ]
  },
  {
   "cell_type": "code",
   "execution_count": 90,
   "id": "8ee3fb3a-70d0-48b6-ba17-f9276fe977f7",
   "metadata": {},
   "outputs": [],
   "source": [
    "DEFINE('Υ2', \n",
    "       Λ(lambda π: # of d, the domain code ...\n",
    "         Λ(lambda π: π.g(π.g), ['g'], π)(\n",
    "             # of business code of two parameters\n",
    "             Λ(lambda π: \n",
    "               π.d(Λ(lambda π: π.sf(π.sf)(π.m, π.c), \n",
    "                     ['m', 'c'], π)), \n",
    "               ['sf'], π)), \n",
    "         ['d']));"
   ]
  },
  {
   "cell_type": "markdown",
   "id": "a75570c2-aefc-4994-a9c9-8f212abe3df0",
   "metadata": {},
   "source": [
    "The recursion limit is a little higher, but we don't want any of that."
   ]
  },
  {
   "cell_type": "code",
   "execution_count": 91,
   "id": "37005807-3bee-4119-a98b-e75c2b328429",
   "metadata": {},
   "outputs": [
    {
     "name": "stdout",
     "output_type": "stream",
     "text": [
      "453973694165307953197296969697410619233826\n"
     ]
    }
   ],
   "source": [
    "try:\n",
    "    print(ΓΠ.Υ2(ΓΠ.fib_fast_uncurried)({}, 200)[1])\n",
    "except RecursionError as e:\n",
    "    print(e.args)"
   ]
  },
  {
   "cell_type": "code",
   "execution_count": 92,
   "id": "94a76533-3bf2-44a5-9ef7-2a556878997a",
   "metadata": {},
   "outputs": [
    {
     "name": "stdout",
     "output_type": "stream",
     "text": [
      "('maximum recursion depth exceeded in __instancecheck__',)\n"
     ]
    }
   ],
   "source": [
    "try:\n",
    "    print(ΓΠ.Υ2(ΓΠ.fib_fast_uncurried)({}, 250)[1])\n",
    "except RecursionError as e:\n",
    "    print(e.args)"
   ]
  },
  {
   "cell_type": "markdown",
   "id": "ababf2db-2ee2-4cd2-884a-87ea16bc1023",
   "metadata": {},
   "source": [
    "This code is not tail-recursive, because it sums the results of two tail-recursive calls. An attempt to call it through a specialization of `LOOP` produces incorrect results, as warned above:"
   ]
  },
  {
   "cell_type": "code",
   "execution_count": 93,
   "id": "b21816c8-54ad-4405-9108-c87c707e885c",
   "metadata": {},
   "outputs": [],
   "source": [
    "def LOOP2(d: Procedure) -> Procedure:  # domain code\n",
    "    \"\"\"in sincere flattery of Clojure, and thanks to Thomas Baruchel.\"\"\"\n",
    "    nyms = ['a', 'β']\n",
    "    # in the global environment, ΓΠ,\n",
    "    DEFINE('Ρ2',\n",
    "           Λ(lambda π:\n",
    "             RECUR(*[π[nym] for nym in nyms]),\n",
    "             nyms))\n",
    "\n",
    "    def looper(*args):\n",
    "        \"\"\"Expression form of a while-loop statement.\"\"\"\n",
    "        while True:\n",
    "            try:\n",
    "                return d(ΓΠ.Ρ2)(*args)\n",
    "            except TailCall as e:\n",
    "                args = e.args\n",
    "\n",
    "    ρ = Λ(lambda π:\n",
    "          looper(*[π[nym] for nym in nyms]),\n",
    "          nyms,\n",
    "          π=d.π)\n",
    "\n",
    "    return ρ"
   ]
  },
  {
   "cell_type": "code",
   "execution_count": 94,
   "id": "3a6f37a8-830b-4da9-99a7-289fbbbf0f65",
   "metadata": {},
   "outputs": [
    {
     "name": "stdout",
     "output_type": "stream",
     "text": [
      "({}, 1)\n"
     ]
    }
   ],
   "source": [
    "try:\n",
    "    print(LOOP2(ΓΠ.fib_fast_uncurried)({}, 250))\n",
    "except RecursionError as e:\n",
    "    print(e.args)"
   ]
  },
  {
   "cell_type": "markdown",
   "id": "a4c688de-5aec-4525-bb93-fcb70d99d508",
   "metadata": {},
   "source": [
    "## Recursive With Memo"
   ]
  },
  {
   "cell_type": "markdown",
   "id": "c3bc8b75-88e3-4fac-b4be-351d8a3b80ce",
   "metadata": {},
   "source": [
    "Section [Tail-Recursive Fibonacci](#tail-recursive-fibonacci) exhibits a very short solution without a memo table. Could we write a tail-recursive version with a memo table? Is it worth the effort? Perhaps as a mental exercise. It grows into a function of 5 parameters:"
   ]
  },
  {
   "cell_type": "markdown",
   "id": "f81a08a1-e77e-4d85-9567-de25543afcdf",
   "metadata": {},
   "source": [
    "Pseudocode:"
   ]
  },
  {
   "cell_type": "markdown",
   "id": "864b27fe-4b2c-4683-a417-ca6a31d1eb1e",
   "metadata": {},
   "source": [
    "```\n",
    "f(r1, r2, a, n, x):\n",
    "    (a, 1) if n < 1 else\n",
    "    f(r2, r1 + r2, a | {x - (n-1): r1, x - (n-2): r2}, x)\n",
    "```"
   ]
  },
  {
   "cell_type": "markdown",
   "id": "83f000c1-3393-4b4f-ae30-890ff8761ab5",
   "metadata": {},
   "source": [
    "### Non-Tail-Recursive"
   ]
  },
  {
   "cell_type": "code",
   "execution_count": 95,
   "id": "94bf2bed-d912-48bd-9120-9cf2918930bf",
   "metadata": {},
   "outputs": [],
   "source": [
    "DEFINE('Υ5', \n",
    "       Λ(lambda π: # of d, the domain code ...\n",
    "         Λ(lambda π: π.g(π.g), ['g'], π)(\n",
    "             # of business code of five parameters\n",
    "             Λ(lambda π: π.d(\n",
    "                 Λ(lambda π: π.sf(π.sf)(π.m, π.c, π.x, π.a, π.b), \n",
    "                   ['m', 'c', 'x', 'a', 'b'], π)), \n",
    "               ['sf'], π)), \n",
    "         ['d']));"
   ]
  },
  {
   "cell_type": "code",
   "execution_count": 96,
   "id": "a8c3af0c-5449-4e84-97ee-5c5601d2377f",
   "metadata": {},
   "outputs": [],
   "source": [
    "DEFINE('fib_tc_memo',\n",
    "      Λ(lambda π: \n",
    "        Λ(lambda π:\n",
    "          (π.a | {π.x: π.r2}, π.r2) if π.n < 1 else \\\n",
    "          π.f(π.r2, π.r1 + π.r2, \n",
    "              π.a | {π.x-π.n: π.r2},\n",
    "              π.n - 1,\n",
    "              π.x),\n",
    "         ['r1', 'r2', 'a', 'n', 'x'], π), \n",
    "        ['f']));"
   ]
  },
  {
   "cell_type": "code",
   "execution_count": 97,
   "id": "9788fe5f-b8a4-4113-b976-873d3ddb6ef8",
   "metadata": {},
   "outputs": [
    {
     "data": {
      "text/plain": [
       "({0: 1,\n",
       "  1: 1,\n",
       "  2: 2,\n",
       "  3: 3,\n",
       "  4: 5,\n",
       "  5: 8,\n",
       "  6: 13,\n",
       "  7: 21,\n",
       "  8: 34,\n",
       "  9: 55,\n",
       "  10: 89,\n",
       "  11: 144,\n",
       "  12: 233,\n",
       "  13: 377,\n",
       "  14: 610,\n",
       "  15: 987,\n",
       "  16: 1597,\n",
       "  17: 2584,\n",
       "  18: 4181,\n",
       "  19: 6765,\n",
       "  20: 10946,\n",
       "  21: 17711,\n",
       "  22: 28657,\n",
       "  23: 46368},\n",
       " 46368)"
      ]
     },
     "execution_count": 97,
     "metadata": {},
     "output_type": "execute_result"
    }
   ],
   "source": [
    "ΓΠ.Υ5(ΓΠ.fib_tc_memo)(0, 1, {}, 23, 23)"
   ]
  },
  {
   "cell_type": "markdown",
   "id": "c1758ef2-ff1f-4c4c-a6c0-02c5f551df3f",
   "metadata": {
    "tags": []
   },
   "source": [
    "### Tail-Recusive"
   ]
  },
  {
   "cell_type": "code",
   "execution_count": 98,
   "id": "6b03a478-9fbf-4b6f-a9b5-8a2a1d3e2c43",
   "metadata": {},
   "outputs": [],
   "source": [
    "def LOOP5(d: Procedure) -> Procedure:\n",
    "    \"\"\"in sincere flattery of Clojure, and thanks to Thomas Baruchel.\"\"\"\n",
    "    DEFINE('Ρ5', Λ(lambda π: \n",
    "                   RECUR(π.m, π.c, π.x, π.a, π.b), \n",
    "                   ['m', 'c', 'x', 'a', 'b']));\n",
    "    def looper(*args):\n",
    "        \"\"\"Expression form of a while-loop statement.\"\"\"\n",
    "        while True:\n",
    "            try: \n",
    "                return d(ΓΠ.Ρ5)(*args)\n",
    "            except TailCall as e:\n",
    "                args = e.args\n",
    "    ρ = Λ(lambda π: \n",
    "               looper(π.m, π.c, π.x, π.a, π.b), \n",
    "               ['m', 'c', 'x', 'a', 'b'], π=d.π)\n",
    "    return ρ"
   ]
  },
  {
   "cell_type": "code",
   "execution_count": 99,
   "id": "32c44d8e-70e2-4590-8465-88fcc50eddda",
   "metadata": {},
   "outputs": [
    {
     "data": {
      "text/plain": [
       "({0: 1,\n",
       "  1: 1,\n",
       "  2: 2,\n",
       "  3: 3,\n",
       "  4: 5,\n",
       "  5: 8,\n",
       "  6: 13,\n",
       "  7: 21,\n",
       "  8: 34,\n",
       "  9: 55,\n",
       "  10: 89,\n",
       "  11: 144,\n",
       "  12: 233,\n",
       "  13: 377,\n",
       "  14: 610,\n",
       "  15: 987,\n",
       "  16: 1597,\n",
       "  17: 2584,\n",
       "  18: 4181,\n",
       "  19: 6765,\n",
       "  20: 10946,\n",
       "  21: 17711,\n",
       "  22: 28657,\n",
       "  23: 46368},\n",
       " 46368)"
      ]
     },
     "execution_count": 99,
     "metadata": {},
     "output_type": "execute_result"
    }
   ],
   "source": [
    "LOOP5(ΓΠ.fib_tc_memo)(0, 1, {}, 23, 23)"
   ]
  },
  {
   "cell_type": "markdown",
   "id": "a0b3be7e-25d4-4bdd-9df5-1da2689b1ce8",
   "metadata": {},
   "source": [
    "### Test the Limits"
   ]
  },
  {
   "cell_type": "code",
   "execution_count": 100,
   "id": "cc6bf21b-7ffd-4254-b9d1-832cfe29a61d",
   "metadata": {},
   "outputs": [
    {
     "name": "stdout",
     "output_type": "stream",
     "text": [
      "('maximum recursion depth exceeded',)\n"
     ]
    }
   ],
   "source": [
    "try:\n",
    "    print(ΓΠ.Υ5(ΓΠ.fib_tc_memo)(0, 1, {}, 500, 500)[1])\n",
    "except RecursionError as e:\n",
    "    print(e.args)    "
   ]
  },
  {
   "cell_type": "code",
   "execution_count": 101,
   "id": "f45aac52-2387-4c89-9927-ca593cdc4fb7",
   "metadata": {},
   "outputs": [
    {
     "name": "stdout",
     "output_type": "stream",
     "text": [
      "225591516161936330872512695036072072046011324913758190588638866418474627738686883405015987052796968498626\n"
     ]
    }
   ],
   "source": [
    "try:\n",
    "    print(LOOP5(ΓΠ.fib_tc_memo)(0, 1, {}, 500, 500)[1])\n",
    "except RecursionError as e:\n",
    "    print(e.args)"
   ]
  },
  {
   "cell_type": "markdown",
   "id": "607b8ad3-e2f3-4f23-8d4a-9350356700c7",
   "metadata": {},
   "source": [
    "# `LOOP` and $\\Upsilon$ of $N$ Business Parameters"
   ]
  },
  {
   "cell_type": "markdown",
   "id": "58748f5a-f187-4e13-a585-fb20e3ba3468",
   "metadata": {},
   "source": [
    "We finish off [PART 1: BASICS](#basics) with straightforward generalizations of `LOOP` and $\\Upsilon$ to any number of business parameters, without undue explanation. We test them below in the section on `DO`."
   ]
  },
  {
   "cell_type": "code",
   "execution_count": 102,
   "id": "aa1ff18d-0aec-4fd7-9131-d89dcb883d20",
   "metadata": {},
   "outputs": [],
   "source": [
    "def LOOPN(\n",
    "        d: Procedure, \n",
    "        vars_: List[str]  # <~~~ NOTA BENE, extra parameters to LOOPN\n",
    ") -> Procedure:\n",
    "    \"\"\"in sincere flattery of Clojure, and thanks to Thomas Baruchel.\"\"\"\n",
    "    DEFINE('ΡN',\n",
    "           Λ(lambda π:\n",
    "             RECUR(*[π[var] for var in vars_]),\n",
    "             vars_))\n",
    "\n",
    "    def looper(*args):\n",
    "        \"\"\"Expression form of a while-loop statement.\"\"\"\n",
    "        while True:\n",
    "            try:\n",
    "                return d(ΓΠ.ΡN)(*args)\n",
    "            except TailCall as e:\n",
    "                args = e.args\n",
    "\n",
    "    ρ = Λ(lambda π:\n",
    "          looper(*[π[var] for var in vars_]),\n",
    "          vars_,\n",
    "          π=d.π)\n",
    "\n",
    "    return ρ"
   ]
  },
  {
   "cell_type": "code",
   "execution_count": 103,
   "id": "a962090f-b5b7-4b4c-9d07-58592aa55c0c",
   "metadata": {},
   "outputs": [],
   "source": [
    "DEFINE('ΥN',\n",
    "       Λ(lambda πd:  # of d, the domain code and vars ...\n",
    "         Λ(lambda πg: πg.g(πg.g), ['g'], πd)(\n",
    "             # of business code of N parameters\n",
    "             Λ(lambda πsf:\n",
    "               πd.d(Λ(lambda πvs:\n",
    "                      πvs.sf(πvs.sf)(\n",
    "                          *[πvs[var] for var in πvs.vars_]),\n",
    "                      πsf.vars_,  # <~~~ list of parameters\n",
    "                      πsf)),\n",
    "               ['sf'], πd)),\n",
    "         ['d', 'vars_']));"
   ]
  },
  {
   "cell_type": "markdown",
   "id": "17d8b2f1-148c-4f94-869c-23c496232949",
   "metadata": {},
   "source": [
    "# PART II: IMPERATIVES<a id=\"imperatives\"></a>"
   ]
  },
  {
   "cell_type": "markdown",
   "id": "cc670d2c-232f-410e-a131-838ff89f373a",
   "metadata": {},
   "source": [
    "Everything above is Schemulator set-up. We finally get to the Pynultimate Imperatives."
   ]
  },
  {
   "cell_type": "markdown",
   "id": "ae349e3a-073b-4234-be24-b41695ad1836",
   "metadata": {},
   "source": [
    "# SET_BANG<a id=\"set-bang\"></a>"
   ]
  },
  {
   "cell_type": "markdown",
   "id": "401070fe-932b-403a-90f1-0efdcd7736bb",
   "metadata": {},
   "source": [
    "This is assignment without lambda. We do better later, but SICP and _Lambda the Ultimate Imperative_ use it. Implement it just to complete coverage of Chapter 3 of SICP."
   ]
  },
  {
   "cell_type": "markdown",
   "id": "866241f6-4dd9-47b5-a2a5-9d43b53129c8",
   "metadata": {},
   "source": [
    "This has its own recursive lookup, exactly the same as that in [`Procedure`](#procedure), just for a different purpose."
   ]
  },
  {
   "cell_type": "markdown",
   "id": "139882ff-e0f9-47dd-8da5-9cb461c4b872",
   "metadata": {},
   "source": [
    "Tested below in [BLOCK](#block). Like Gambit and unlike Common Lisp and Emacs Lisp, we can only `set!` symbols that are already `define`d."
   ]
  },
  {
   "cell_type": "code",
   "execution_count": 104,
   "id": "1e4a8c72-e0de-4db1-962d-615e12b7e99e",
   "metadata": {},
   "outputs": [],
   "source": [
    "def SET_BANG(\n",
    "        sym: str, \n",
    "        val: Any, \n",
    "        π: Environment = ΓΠ\n",
    ") -> None:\n",
    "    ee = EVAL(val, π)\n",
    "    \"\"\"recursive lookup\"\"\"\n",
    "    while π is not None:\n",
    "        # Find the right π; ...\n",
    "        try:\n",
    "            getattr(π.ϕ, sym)  # ... don't recurse via π[sym]\n",
    "            break\n",
    "        except AttributeError as _:\n",
    "            if π.π is None:\n",
    "                raise NameError(f'Set!: Name {sym} is unbound.')\n",
    "            else:  # recurse\n",
    "                π = π.π\n",
    "    setattr(π.ϕ, sym, ee)\n",
    "    return None  # following Gambit Scheme"
   ]
  },
  {
   "cell_type": "markdown",
   "id": "60ccc1b6-5edb-440c-9768-666a1c5db14e",
   "metadata": {},
   "source": [
    "# BLOCK / BEGIN<a id=\"block\"></a>"
   ]
  },
  {
   "cell_type": "markdown",
   "id": "29032b89-bab4-452f-a972-6d1f5c8e6aa1",
   "metadata": {},
   "source": [
    "Sequenced execution is not fundamental, but sequential dependence is fundamental. To simulate sequential execution, chain calls of sequentially dependent $\\lambda$s. Feed the result of each call into the single argument of the next."
   ]
  },
  {
   "cell_type": "markdown",
   "id": "e53c5f8e-bc61-42c2-8a0e-90c47f0b7ab2",
   "metadata": {},
   "source": [
    "In the following implementation, every $\\lambda$ must be a [***thunk***](#thunk): a procedure of no arguments (our $\\lambda$s always have the conventional parameter $\\pi$; our thunks do not use any parameters bound in $\\pi$). All but the last thunk are for side-effect; all thunks are evaluated; all but the last value are discarded."
   ]
  },
  {
   "cell_type": "markdown",
   "id": "ce5016cd-c21e-4c9b-80dd-31a925420292",
   "metadata": {},
   "source": [
    "Steele's paper calls this form `BLOCK`. Scheme calls it `BEGIN`. Common Lisp calls it `PROGN`."
   ]
  },
  {
   "cell_type": "code",
   "execution_count": 105,
   "id": "bc162fa1-85db-4214-84a2-86be90d05724",
   "metadata": {},
   "outputs": [],
   "source": [
    "def BLOCK(\n",
    "        *ss: \"Procedure | Procedure\",  # <~~~ PEP 438 type notation\n",
    "        π: Environment = ΓΠ\n",
    ") -> Any:\n",
    "    ρ = None\n",
    "    for s in ss:\n",
    "        ρ = APPLY(s, [], π=π)  # <~~~ thunks take no args\n",
    "    return ρ"
   ]
  },
  {
   "cell_type": "markdown",
   "id": "3d80a960-d95d-4264-8211-a356d0cdd079",
   "metadata": {},
   "source": [
    "## Examples:"
   ]
  },
  {
   "cell_type": "markdown",
   "id": "4df6c26c-747b-4812-92f8-4cc30259308f",
   "metadata": {},
   "source": [
    "This block first sets `x` in $\\Gamma\\Pi$ to 6 and then accesses that variable:"
   ]
  },
  {
   "cell_type": "code",
   "execution_count": 106,
   "id": "84a420fe-0e03-4924-a69e-c7e95b0cea5e",
   "metadata": {},
   "outputs": [
    {
     "data": {
      "text/plain": [
       "42"
      ]
     },
     "execution_count": 106,
     "metadata": {},
     "output_type": "execute_result"
    }
   ],
   "source": [
    "DEFINE('x', 0)  # <~~~ Binding must preexist in ΓΠ for SET_BANG\n",
    "BLOCK(\n",
    "    Λ(lambda π: SET_BANG('x', 6, π)), \n",
    "    Λ(lambda π: π.x * 7))"
   ]
  },
  {
   "cell_type": "code",
   "execution_count": 107,
   "id": "07226e23-d9f7-4597-8660-b7e9a63dd6e2",
   "metadata": {},
   "outputs": [
    {
     "data": {
      "text/plain": [
       "1764"
      ]
     },
     "execution_count": 107,
     "metadata": {},
     "output_type": "execute_result"
    }
   ],
   "source": [
    "DEFINE('y', 42)  # <~~~ in ΓΠ\n",
    "BLOCK(\n",
    "    Λ(lambda π: SET_BANG('x', 6, π)), \n",
    "    Λ(lambda π: SET_BANG('x', π.x * 7, π)),\n",
    "    Λ(lambda π: π.x * π.y))"
   ]
  },
  {
   "cell_type": "markdown",
   "id": "00824a16-8bfb-4dc4-bd1c-127f855ed9a2",
   "metadata": {},
   "source": [
    "Check for unbound variables."
   ]
  },
  {
   "cell_type": "code",
   "execution_count": 108,
   "id": "80769b48-f66c-401b-b329-6d5d7bc4d1a5",
   "metadata": {},
   "outputs": [
    {
     "name": "stdout",
     "output_type": "stream",
     "text": [
      "{'expect 0': 1764}\n",
      "('Environment: Name z is unbound.',)\n"
     ]
    }
   ],
   "source": [
    "try:\n",
    "    BLOCK(\n",
    "        Λ(lambda π: SET_BANG('x', 6, π)), \n",
    "        Λ(lambda π: SET_BANG('x', π.x * 7, π)),\n",
    "        Λ(lambda π: print({'expect 0': π.x * π.y})),\n",
    "        Λ(lambda π: π.z))  # <~~~ no binding\n",
    "except NameError as e:\n",
    "    print(e.args)"
   ]
  },
  {
   "cell_type": "markdown",
   "id": "2da2ede4-5b62-49de-be73-265f43df370b",
   "metadata": {},
   "source": [
    "Test BLOCK in a non-global environment $\\pi$:"
   ]
  },
  {
   "cell_type": "code",
   "execution_count": 109,
   "id": "45bb3a77-f3c5-4432-ac59-3d40f162b24c",
   "metadata": {},
   "outputs": [
    {
     "name": "stdout",
     "output_type": "stream",
     "text": [
      "42\n"
     ]
    }
   ],
   "source": [
    "Λ(lambda π0:  # <~~~ Make a non-global π.\n",
    "  print(\n",
    "  BLOCK(\n",
    "      Λ(lambda π: SET_BANG('x1', 7, π), π=π0),\n",
    "      Λ(lambda π: SET_BANG('y1', 6, π), π=π0),\n",
    "      Λ(lambda π: π.x1 * π.y1, π=π0),\n",
    "      π=π0\n",
    "  )),\n",
    "  ['x1', 'y1'])(0, 0)"
   ]
  },
  {
   "cell_type": "markdown",
   "id": "3747c2db-b496-4f0c-bd12-87fa875fd131",
   "metadata": {},
   "source": [
    "BLOCK automatically propagates the environments, so the $\\pi_0$ arguments to the individual $\\lambda$s are overkill:"
   ]
  },
  {
   "cell_type": "code",
   "execution_count": 110,
   "id": "1bc94a35-0500-434d-93d4-81a0bdbc4594",
   "metadata": {},
   "outputs": [
    {
     "name": "stdout",
     "output_type": "stream",
     "text": [
      "42\n"
     ]
    }
   ],
   "source": [
    "Λ(lambda π0:  # <~~~ Make a non-global π.\n",
    "  print(\n",
    "  BLOCK(\n",
    "      Λ(lambda π: SET_BANG('x1', 7, π)),\n",
    "      Λ(lambda π: SET_BANG('y1', 6, π)),\n",
    "      Λ(lambda π: π.x1 * π.y1),\n",
    "      π=π0\n",
    "  )),\n",
    "  ['x1', 'y1'])(0, 0)"
   ]
  },
  {
   "cell_type": "markdown",
   "id": "5aec1e98-d1f8-47db-903c-589759f4df74",
   "metadata": {},
   "source": [
    "Names `x1` and `y1` are not bound in the global environment, even though they were in the non-global environment. The following example proves no \"binding leakage.\""
   ]
  },
  {
   "cell_type": "code",
   "execution_count": 111,
   "id": "5e8aba92-fb9b-4961-8217-34899913d4ea",
   "metadata": {},
   "outputs": [
    {
     "name": "stdout",
     "output_type": "stream",
     "text": [
      "('Environment: Name x1 is unbound.',)\n",
      "('Environment: Name y1 is unbound.',)\n"
     ]
    }
   ],
   "source": [
    "try:\n",
    "    ΓΠ.x1\n",
    "except NameError as e:\n",
    "    print(e.args)\n",
    "    \n",
    "try:\n",
    "    ΓΠ.y1\n",
    "except NameError as e:\n",
    "    print(e.args)"
   ]
  },
  {
   "cell_type": "markdown",
   "id": "e7f9ebd6-1bf4-408d-8a48-0d3a717a6e4b",
   "metadata": {},
   "source": [
    "Check that intermediate lambdas that don't return `None` are NOT a problem:"
   ]
  },
  {
   "cell_type": "code",
   "execution_count": 112,
   "id": "063d0286-1c31-4131-b135-fed037dde217",
   "metadata": {},
   "outputs": [
    {
     "data": {
      "text/plain": [
       "1764"
      ]
     },
     "execution_count": 112,
     "metadata": {},
     "output_type": "execute_result"
    }
   ],
   "source": [
    "BLOCK(\n",
    "    Λ(lambda π: SET_BANG('x', 6, π)), \n",
    "    Λ(lambda π: SET_BANG('x', π.x * 7, π)),\n",
    "    Λ(lambda π: π.x * π.y),\n",
    "    Λ(lambda π: π.x * π.y))"
   ]
  },
  {
   "cell_type": "markdown",
   "id": "eb6df8c2-d720-4422-a437-f9b210f9909c",
   "metadata": {},
   "source": [
    "Check nested `BLOCK`s. Don't forget to wrap the nested `BLOCK` in a [thunk](#thunk)!"
   ]
  },
  {
   "cell_type": "code",
   "execution_count": 113,
   "id": "05656424-7c8d-4a6a-b9b7-19c5dcc81591",
   "metadata": {},
   "outputs": [
    {
     "name": "stdout",
     "output_type": "stream",
     "text": [
      "\n",
      "{'π': (5090,ΓΠ) (\"['γόὂ', 'square', 'saxpy', 'sum_of_squares', 'factorial', 'fact_iter', 'Υ1', \"\n",
      " \"'fact_recursive', 'Υ3', 'Ρ3', 'fib_slow', 'fib_iter', 'Υ2C', 'fib_fast', \"\n",
      " \"'fib_fast_uncurried', 'Υ2', 'Ρ2', 'Υ5', 'fib_tc_memo', 'Ρ5', 'ΥN', 'x', 'y']\")}\n"
     ]
    },
    {
     "data": {
      "text/plain": [
       "1764"
      ]
     },
     "execution_count": 113,
     "metadata": {},
     "output_type": "execute_result"
    }
   ],
   "source": [
    "BLOCK(\n",
    "    Λ(lambda π: SET_BANG('x', 6, ECHO('π', π))), \n",
    "    Λ(lambda π:  # <~~~ Don't forget to wrap it!\n",
    "      BLOCK(Λ(lambda π: SET_BANG('x', π.x * 7, π)),\n",
    "            Λ(lambda π: π.x * π.y))))"
   ]
  },
  {
   "cell_type": "markdown",
   "id": "1057eace-d7c7-4330-8c39-e6b417efffb6",
   "metadata": {},
   "source": [
    "# Clear the Global Environment"
   ]
  },
  {
   "cell_type": "markdown",
   "id": "3023e86a-0e13-42d6-a3e4-5c518a9edfff",
   "metadata": {},
   "source": [
    "Get rid of `x` and `y` and other gaseous bindings lest they cause trouble below. We shouldn't just make a new global environment because some system procedures, like [`DEFINE`](#define), are closed over the old one and we'd just have to specify `ΓΠ` everywhere explicitly rather than using the convenient defaults."
   ]
  },
  {
   "cell_type": "code",
   "execution_count": 114,
   "id": "f22c95fc-7699-418d-8ebe-86dbae10e050",
   "metadata": {},
   "outputs": [
    {
     "data": {
      "text/plain": [
       "(5090,ΓΠ) \"['square', 'Υ1', 'Υ3', 'Ρ3', 'Υ2C', 'Υ2', 'Ρ2', 'Υ5', 'Ρ5', 'ΥN']\""
      ]
     },
     "execution_count": 114,
     "metadata": {},
     "output_type": "execute_result"
    }
   ],
   "source": [
    "del ΓΠ.ϕ.γόὂ\n",
    "del ΓΠ.ϕ.saxpy\n",
    "del ΓΠ.ϕ.sum_of_squares\n",
    "del ΓΠ.ϕ.factorial\n",
    "del ΓΠ.ϕ.fact_iter\n",
    "del ΓΠ.ϕ.fact_recursive\n",
    "del ΓΠ.ϕ.fib_slow\n",
    "del ΓΠ.ϕ.fib_iter\n",
    "del ΓΠ.ϕ.fib_fast\n",
    "del ΓΠ.ϕ.fib_fast_uncurried\n",
    "del ΓΠ.ϕ.fib_tc_memo\n",
    "del ΓΠ.ϕ.x\n",
    "del ΓΠ.ϕ.y\n",
    "ΓΠ"
   ]
  },
  {
   "cell_type": "markdown",
   "id": "edca7a0b-ddac-404d-a98e-ae142731bd58",
   "metadata": {},
   "source": [
    "`PN` does not appear because we have not yet called `LOOPN`."
   ]
  },
  {
   "cell_type": "markdown",
   "id": "4c454245-b5a9-4797-872a-8a8c10537989",
   "metadata": {},
   "source": [
    "Define the Scheme-like synonym `BEGIN` for `BLOCK`:"
   ]
  },
  {
   "cell_type": "code",
   "execution_count": 115,
   "id": "49281976-102f-49f7-bc50-44ddf550dda4",
   "metadata": {},
   "outputs": [],
   "source": [
    "BEGIN = BLOCK"
   ]
  },
  {
   "cell_type": "markdown",
   "id": "0c6e7c85-c08b-4195-82ee-de5fe74a94e2",
   "metadata": {},
   "source": [
    "# LET*, LET, LETREC<a id=\"the-lets\"></a>"
   ]
  },
  {
   "cell_type": "markdown",
   "id": "4b02fe5b-edda-4c8a-a362-aa42207d8710",
   "metadata": {},
   "source": [
    "`LET_STAR` is sequential binding of locals, syntactically like assignment, but purely with $\\lambda$ expressions. Later bindings may depend on earlier ones. `LET` is parallel binding, where bindings are independent and unordered, but can't depend on one another. `LETREC` is mutually recursive `LET`, where any bindings may depend on any and all other bindings."
   ]
  },
  {
   "cell_type": "markdown",
   "id": "e829e372-36c8-47fe-979d-f80f32741340",
   "metadata": {},
   "source": [
    "We face a design choice: should the binding pairs be a list of tuples, as in Scheme, or a flat list of pairs, as in Clojure? The former introduces a level of collections, the latter simplifies implementation via slicinng, but introduces more checks for types and for element counts. We choose the Scheme-like option because the Schemulator is supposed to be like Scheme on the surface unless there is a profound reason not to be."
   ]
  },
  {
   "cell_type": "markdown",
   "id": "5e21fafb-9888-45d0-af14-c63790a01dd5",
   "metadata": {},
   "source": [
    "Remember that $\\Xi$ is a [Greek](#greek) shortcut for [`Application`](#application). Body of any of the _Lets_ must be an `Application` so that the environment $\\pi$ can be propagated at the point where it is known."
   ]
  },
  {
   "cell_type": "markdown",
   "id": "c7674450-e98f-4fd9-bb79-a1462e681399",
   "metadata": {},
   "source": [
    "> __WARNING__: ***Results of `LET*`, `LET`, and `LETREC` are undefined if the body is not an [`Application`](#application) or $\\Xi$.***"
   ]
  },
  {
   "cell_type": "markdown",
   "id": "5fc1dbb1-fc95-42b3-8ae3-b2e95b687a9c",
   "metadata": {},
   "source": [
    "## LET_STAR<a id=\"let-star\"></a>"
   ]
  },
  {
   "cell_type": "code",
   "execution_count": 116,
   "id": "3f83dd4e-056e-4fd9-b71d-31d3aa2be956",
   "metadata": {},
   "outputs": [],
   "source": [
    "def LET_STAR(\n",
    "        binding_pairs: List[Tuple[str, Any]],\n",
    "        body: Union[Application, Procedure],\n",
    "        πl: Environment = ΓΠ\n",
    ") -> Any:\n",
    "    if len(binding_pairs) == 0:  # <~~~ Empty bindings are allowed.\n",
    "        ρ = EVAL(body, πl)\n",
    "        return ρ\n",
    "    key, val = binding_pairs[0]\n",
    "    E1 = Environment(lambda: None, πl)\n",
    "    setattr(E1.ϕ, key, EVAL(val, πl))\n",
    "    if len(binding_pairs) == 1:\n",
    "        return EVAL(body, E1)\n",
    "    else:\n",
    "        return LET_STAR(binding_pairs[1:], body, E1)"
   ]
  },
  {
   "cell_type": "markdown",
   "id": "1d24f55f-08aa-4c39-b328-9ad8d748e99a",
   "metadata": {},
   "source": [
    "### Examples:"
   ]
  },
  {
   "cell_type": "markdown",
   "id": "71ab923a-0e08-4038-ae3d-66e455479614",
   "metadata": {},
   "source": [
    "Test depth 0, no bindings. The final expression can be a procedure:"
   ]
  },
  {
   "cell_type": "code",
   "execution_count": 117,
   "id": "2217f772-2cdc-4066-a918-49bd79fd77ed",
   "metadata": {},
   "outputs": [
    {
     "data": {
      "text/plain": [
       "{'env': 'ΓΠ', 'parms': \"['x']\", 'Λ': 'cd30'}"
      ]
     },
     "execution_count": 117,
     "metadata": {},
     "output_type": "execute_result"
    }
   ],
   "source": [
    "LET_STAR([], \n",
    "         Λ(lambda π: 43 * π.x, ['x']))"
   ]
  },
  {
   "cell_type": "markdown",
   "id": "5d0bd2b6-cb07-434d-be0a-5ed59590f685",
   "metadata": {},
   "source": [
    "Which can be called:"
   ]
  },
  {
   "cell_type": "code",
   "execution_count": 118,
   "id": "c13ff80b-c3e1-4856-ae03-312090574db6",
   "metadata": {},
   "outputs": [
    {
     "data": {
      "text/plain": [
       "1806"
      ]
     },
     "execution_count": 118,
     "metadata": {},
     "output_type": "execute_result"
    }
   ],
   "source": [
    "LET_STAR([], \n",
    "         Λ(lambda π: 43 * π.x, ['x']))(42)"
   ]
  },
  {
   "cell_type": "markdown",
   "id": "fef99c7a-6fff-4d06-b635-32fa6c41ee09",
   "metadata": {},
   "source": [
    "Applications are evaluated in place:"
   ]
  },
  {
   "cell_type": "code",
   "execution_count": 119,
   "id": "501a9d8a-acf7-4689-839e-207969d5746b",
   "metadata": {},
   "outputs": [
    {
     "data": {
      "text/plain": [
       "1806"
      ]
     },
     "execution_count": 119,
     "metadata": {},
     "output_type": "execute_result"
    }
   ],
   "source": [
    "LET_STAR([], \n",
    "         Ξ(Λ(lambda π: 43 * 42)))"
   ]
  },
  {
   "cell_type": "markdown",
   "id": "14cc0e3c-affe-4c01-abd1-1152b84a38d3",
   "metadata": {},
   "source": [
    "The `LET_STAR` chains bindings in environments and evaluates applications in the chain. Procedures in applications enjoy free variables from any environments in the chain."
   ]
  },
  {
   "cell_type": "code",
   "execution_count": 120,
   "id": "7f0ec588-0b25-47ed-b38e-3de98f53a9e6",
   "metadata": {},
   "outputs": [
    {
     "name": "stdout",
     "output_type": "stream",
     "text": [
      "\n",
      "{'π': (8940) \"['z']\">(5090,ΓΠ) \"['square', 'Υ1', 'Υ3', 'Ρ3', 'Υ2C', 'Υ2', 'Ρ2', 'Υ5', 'Ρ5', 'ΥN']\"}\n"
     ]
    },
    {
     "data": {
      "text/plain": [
       "1764"
      ]
     },
     "execution_count": 120,
     "metadata": {},
     "output_type": "execute_result"
    }
   ],
   "source": [
    "LET_STAR([('z', 42)],\n",
    "        Ξ(Λ(lambda π: ECHO('π', π).z * π.z)))"
   ]
  },
  {
   "cell_type": "markdown",
   "id": "e860f1d7-dac5-4c3b-8d5b-00f1ef2eb2f8",
   "metadata": {},
   "source": [
    "Later bindings can acces and can shadow earlier ones:"
   ]
  },
  {
   "cell_type": "code",
   "execution_count": 121,
   "id": "2d2aa16c-5159-4060-b2cb-38052287f674",
   "metadata": {},
   "outputs": [
    {
     "name": "stdout",
     "output_type": "stream",
     "text": [
      "\n",
      "{'π': (8a60) \"['z']\">(88b0) \"['z']\">(5090,ΓΠ) \"['square', 'Υ1', 'Υ3', 'Ρ3', 'Υ2C', 'Υ2', 'Ρ2', 'Υ5', 'Ρ5', 'ΥN']\"}\n"
     ]
    },
    {
     "data": {
      "text/plain": [
       "1849"
      ]
     },
     "execution_count": 121,
     "metadata": {},
     "output_type": "execute_result"
    }
   ],
   "source": [
    "LET_STAR([('z', 42),\n",
    "          ('z', Ξ(Λ(lambda π: π.z + 1)))],\n",
    "        Ξ(Λ(lambda π: ECHO('π', π).z * π.z)))"
   ]
  },
  {
   "cell_type": "code",
   "execution_count": 122,
   "id": "d8187599-ccef-47c9-bf5a-348760c1f77a",
   "metadata": {},
   "outputs": [
    {
     "data": {
      "text/plain": [
       "{'env': (8dc0) \"['z']\">(5090,ΓΠ) \"['square', 'Υ1', 'Υ3', 'Ρ3', 'Υ2C', 'Υ2', 'Ρ2', 'Υ5', 'Ρ5', 'ΥN']\",\n",
       " 'parms': '[]',\n",
       " 'Λ': '8ca0'}"
      ]
     },
     "execution_count": 122,
     "metadata": {},
     "output_type": "execute_result"
    }
   ],
   "source": [
    "LET_STAR([('z', 42)],\n",
    "        Λ(lambda π: π.z * π.z))"
   ]
  },
  {
   "cell_type": "code",
   "execution_count": 123,
   "id": "a45cf789-1948-47a6-ae1e-0743cf9012ca",
   "metadata": {},
   "outputs": [
    {
     "data": {
      "text/plain": [
       "1764"
      ]
     },
     "execution_count": 123,
     "metadata": {},
     "output_type": "execute_result"
    }
   ],
   "source": [
    "LET_STAR([('z', 42)],\n",
    "        Λ(lambda π: π.z * π.z))()"
   ]
  },
  {
   "cell_type": "markdown",
   "id": "bb9ab036-edad-4e66-bed6-8704c3593825",
   "metadata": {},
   "source": [
    "Test depth 1 (don't forget the `Var` in $\\Xi$:"
   ]
  },
  {
   "cell_type": "code",
   "execution_count": 124,
   "id": "0584e527-b08d-4734-a768-dd5a71f7e376",
   "metadata": {},
   "outputs": [
    {
     "data": {
      "text/plain": [
       "1764"
      ]
     },
     "execution_count": 124,
     "metadata": {},
     "output_type": "execute_result"
    }
   ],
   "source": [
    "LET_STAR([('z', 42)], \n",
    "         Ξ(ΓΠ.square, [Var('z')]))"
   ]
  },
  {
   "cell_type": "markdown",
   "id": "78a11739-a9ce-4cf7-9887-3b595ca158c0",
   "metadata": {},
   "source": [
    "### Free Variables<a id=\"free-variables\"></a>"
   ]
  },
  {
   "cell_type": "markdown",
   "id": "9c829e85-53fa-4d1f-8b37-5428603f4cfb",
   "metadata": {},
   "source": [
    "> __DEFINITION__: A ___free variable___ in the body of a lambda is a variable _NOT_ in the parameter list."
   ]
  },
  {
   "cell_type": "markdown",
   "id": "03968775-31bc-4131-a485-f155f7a48356",
   "metadata": {},
   "source": [
    "`z`, `y`, and `y` are free in the $\\lambda$s below:"
   ]
  },
  {
   "cell_type": "markdown",
   "id": "f2bd15cd-bdca-44e5-8b45-903a138cad05",
   "metadata": {},
   "source": [
    "Test depth 2 with free variables:"
   ]
  },
  {
   "cell_type": "code",
   "execution_count": 125,
   "id": "a9303158-5ada-43cc-ad31-4d1e90fe7fb8",
   "metadata": {},
   "outputs": [
    {
     "name": "stdout",
     "output_type": "stream",
     "text": [
      "1806\n"
     ]
    }
   ],
   "source": [
    "LET_STAR([('z', 42), \n",
    "          ('y', 43)], \n",
    "         Ξ(Λ(lambda π: print(π.z * π.y))))"
   ]
  },
  {
   "cell_type": "markdown",
   "id": "69ec4e94-c26d-47c0-8eb2-af4f0cfa3ebb",
   "metadata": {},
   "source": [
    "Inspect them with an `ECHO` around the environment variable:"
   ]
  },
  {
   "cell_type": "code",
   "execution_count": 126,
   "id": "56940d9a-77d4-4bf0-86c3-307138d08d78",
   "metadata": {},
   "outputs": [
    {
     "name": "stdout",
     "output_type": "stream",
     "text": [
      "\n",
      "{'π': (9a20) \"['y']\">(9990) \"['z']\">(5090,ΓΠ) \"['square', 'Υ1', 'Υ3', 'Ρ3', 'Υ2C', 'Υ2', 'Ρ2', 'Υ5', 'Ρ5', 'ΥN']\"}\n",
      "1806\n"
     ]
    }
   ],
   "source": [
    "LET_STAR([('z', 42), \n",
    "          ('y', 43)], \n",
    "         Ξ(Λ(lambda π: print(ECHO('π', π).z * π.y))))"
   ]
  },
  {
   "cell_type": "markdown",
   "id": "ceeb290c-6aea-4e51-99ba-e745e24afb84",
   "metadata": {},
   "source": [
    "Test depth 3 with free varialbes:"
   ]
  },
  {
   "cell_type": "code",
   "execution_count": 127,
   "id": "0076db3f-7fa2-4546-9371-e8ebfe035e26",
   "metadata": {},
   "outputs": [
    {
     "name": "stdout",
     "output_type": "stream",
     "text": [
      "\n",
      "{'π': (9e10) \"['w']\">(9d80) \"['y']\">(9cf0) \"['z']\">(5090,ΓΠ) \"['square', 'Υ1', 'Υ3', 'Ρ3', 'Υ2C', 'Υ2', 'Ρ2', 'Υ5', 'Ρ5', 'ΥN']\"}\n",
      "1806\n"
     ]
    }
   ],
   "source": [
    "LET_STAR([('z', 42), \n",
    "          ('y', Ξ(Λ(lambda π: π.z + 1))), \n",
    "          ('w', Ξ(Λ(lambda π: π.z * π.y)))],\n",
    "         body=Ξ(Λ(lambda π: print(ECHO('π', π).w))))"
   ]
  },
  {
   "cell_type": "markdown",
   "id": "58405f1a-83a7-4cf7-9a8d-0089ea6a65e3",
   "metadata": {},
   "source": [
    "### Bound Variables<a id=\"bound-variables\"></a>"
   ]
  },
  {
   "cell_type": "markdown",
   "id": "be1bb3b3-0680-4134-a144-2205b1b605d4",
   "metadata": {},
   "source": [
    "> __DEFINITION__: A ___bound variable___ in the body of a $\\lambda$ is a variable that appears in the parameter list."
   ]
  },
  {
   "cell_type": "markdown",
   "id": "55336a2b-db28-4018-8cb7-dbb37ddb29ad",
   "metadata": {},
   "source": [
    "Remember that [this definition of bound variables is confusing](#confusing)."
   ]
  },
  {
   "cell_type": "markdown",
   "id": "925ca3c5-e6b1-4b95-802e-65afa73cde7f",
   "metadata": {},
   "source": [
    "### Closed Term<a id=\"closed-term\"></a>"
   ]
  },
  {
   "cell_type": "markdown",
   "id": "d6d059f5-452b-4464-9441-ebe7cf1b3ffb",
   "metadata": {},
   "source": [
    "> __DEFINITION__: A ___closed procedure___ or ___closed term___ is a procedure with no free variables (see [this web page](https://web.mat.bham.ac.uk/R.W.Kaye/logic/freevar.html))."
   ]
  },
  {
   "cell_type": "markdown",
   "id": "e53d8194-80fc-45f6-9f30-367e7c6024ed",
   "metadata": {},
   "source": [
    "Test depth 3 with bound variables. To access earlier bindings, write an [`Application` or $\\Xi$](#application) that, when evaluated, [accesses earlier bindings as `Var`s](#var). Notice the bound vars shadow free vars with the same names."
   ]
  },
  {
   "cell_type": "code",
   "execution_count": 128,
   "id": "cac34a72-3ea7-48bf-8b20-3b55ae35a35d",
   "metadata": {},
   "outputs": [
    {
     "name": "stdout",
     "output_type": "stream",
     "text": [
      "\n",
      "{'π': (a0e0) \"['z', 'y']\">(9fc0) \"['y']\">(9f30) \"['z']\">(5090,ΓΠ) \"['square', 'Υ1', 'Υ3', 'Ρ3', 'Υ2C', 'Υ2', 'Ρ2', 'Υ5', 'Ρ5', 'ΥN']\"}\n",
      "\n",
      "{'π0': (a050) \"['w']\">(9fc0) \"['y']\">(9f30) \"['z']\">(5090,ΓΠ) \"['square', 'Υ1', 'Υ3', 'Ρ3', 'Υ2C', 'Υ2', 'Ρ2', 'Υ5', 'Ρ5', 'ΥN']\"}\n",
      "1806\n"
     ]
    }
   ],
   "source": [
    "LET_STAR([('z', 42), \n",
    "          ('y', Ξ(Λ(lambda π: π.z + 1, ['z']),  # <~~~ z shadows ...\n",
    "                  [Var('z')])),  # <~~~ ... this Var.\n",
    "          # Shadowing occurs here, too.\n",
    "          ('w', Ξ(Λ(lambda π: ECHO('π', π).z * π.y, ['z', 'y']), \n",
    "                  [Var('z'), Var('y')])\n",
    "          )], \n",
    "         body=Ξ(Λ(lambda π0: print(ECHO('π0', π0).w))))"
   ]
  },
  {
   "cell_type": "markdown",
   "id": "f27e8f29-4b00-447c-a138-b589bdfad431",
   "metadata": {},
   "source": [
    "The names of the bound variables do not matter. In this case, we avoid shadowing, so the names `z`, `y`, and `w` are available in the body of `w`'s procedure:"
   ]
  },
  {
   "cell_type": "code",
   "execution_count": 129,
   "id": "7bcf9efa-85e0-4264-bdb7-9d2584e01b75",
   "metadata": {},
   "outputs": [
    {
     "name": "stdout",
     "output_type": "stream",
     "text": [
      "\n",
      "{'π': (a4d0) \"['zzz', 'yy']\">(a3b0) \"['y']\">(a320) \"['z']\">(5090,ΓΠ) \"['square', 'Υ1', 'Υ3', 'Ρ3', 'Υ2C', 'Υ2', 'Ρ2', 'Υ5', 'Ρ5', 'ΥN']\"}\n"
     ]
    },
    {
     "data": {
      "text/plain": [
       "1806"
      ]
     },
     "execution_count": 129,
     "metadata": {},
     "output_type": "execute_result"
    }
   ],
   "source": [
    "LET_STAR([('z', 42), \n",
    "          ('y', Ξ(Λ(lambda π: π.zz + 1, ['zz']),\n",
    "                  [Var('z')])), \n",
    "          # Use parameters:\n",
    "          ('w', Ξ(Λ(lambda π: ECHO('π', π).zzz * π.yy, ['zzz', 'yy']), \n",
    "                  [Var('z'), Var('y')])\n",
    "          )], \n",
    "         body=Ξ(Λ(lambda π: π.w)))"
   ]
  },
  {
   "cell_type": "code",
   "execution_count": 130,
   "id": "469590cb-b3da-401c-85c5-be9c57f669d0",
   "metadata": {},
   "outputs": [
    {
     "name": "stdout",
     "output_type": "stream",
     "text": [
      "\n",
      "{'π': (a830) \"['zzz', 'yy']\">(a710) \"['y']\">(a680) \"['z']\">(5090,ΓΠ) \"['square', 'Υ1', 'Υ3', 'Ρ3', 'Υ2C', 'Υ2', 'Ρ2', 'Υ5', 'Ρ5', 'ΥN']\"}\n"
     ]
    },
    {
     "data": {
      "text/plain": [
       "1806"
      ]
     },
     "execution_count": 130,
     "metadata": {},
     "output_type": "execute_result"
    }
   ],
   "source": [
    "LET_STAR([('z', 42), \n",
    "          ('y', Ξ(Λ(lambda π: π.zz + 1, ['zz']),\n",
    "                  [Var('z')])), \n",
    "          # Ignore parameters; use free variables:\n",
    "          ('w', Ξ(Λ(lambda π: ECHO('π', π).z * π.y, ['zzz', 'yy']), \n",
    "                  [Var('z'), Var('y')])\n",
    "          )], \n",
    "         body=Ξ(Λ(lambda π: π.w)))"
   ]
  },
  {
   "cell_type": "markdown",
   "id": "d12b0cb5-d8a8-4231-9661-cd486fe7358c",
   "metadata": {},
   "source": [
    "### Closures<a id=\"closures\"></a>"
   ]
  },
  {
   "cell_type": "markdown",
   "id": "996ae99f-25c0-4b3d-8a19-f60ee9f12888",
   "metadata": {},
   "source": [
    "> __DEFINITION__: A ___closure___ is a procedure along with its environment chain. All variables, free and bound, may be ___resolved___ in the environment chain."
   ]
  },
  {
   "cell_type": "markdown",
   "id": "9e4d3f51-1441-410c-9849-356c0323f446",
   "metadata": {},
   "source": [
    "The body of this next example evaluates `g` without returning a closure:"
   ]
  },
  {
   "cell_type": "code",
   "execution_count": 131,
   "id": "6cbf4e85-acb7-44b5-8b77-7a3584e77386",
   "metadata": {},
   "outputs": [
    {
     "name": "stdout",
     "output_type": "stream",
     "text": [
      "\n",
      "{'π': (a830) \"['g']\">(5090,ΓΠ) \"['square', 'Υ1', 'Υ3', 'Ρ3', 'Υ2C', 'Υ2', 'Ρ2', 'Υ5', 'Ρ5', 'ΥN']\"}\n"
     ]
    },
    {
     "data": {
      "text/plain": [
       "1764"
      ]
     },
     "execution_count": 131,
     "metadata": {},
     "output_type": "execute_result"
    }
   ],
   "source": [
    "LET_STAR([('g', Λ(lambda π: π.x * π.x, ['x']))],\n",
    "        body=Ξ(Λ(lambda π: ECHO('π', π).g(42))))"
   ]
  },
  {
   "cell_type": "markdown",
   "id": "44c62024-3941-4351-99c0-f3146003bbe9",
   "metadata": {},
   "source": [
    "But, we may return a closure, meaning that its environment chain is still alive. We may invoke it outside the `LET_STAR`.The application $\\Xi$ pulls the closure out of the environment created by `LET_STAR`."
   ]
  },
  {
   "cell_type": "code",
   "execution_count": 132,
   "id": "1c33f60d-9a26-434c-aee0-716fd46f9f5b",
   "metadata": {},
   "outputs": [
    {
     "name": "stdout",
     "output_type": "stream",
     "text": [
      "\n",
      "{'π': (a9e0) \"['g']\">(5090,ΓΠ) \"['square', 'Υ1', 'Υ3', 'Ρ3', 'Υ2C', 'Υ2', 'Ρ2', 'Υ5', 'Ρ5', 'ΥN']\"}\n"
     ]
    },
    {
     "data": {
      "text/plain": [
       "1764"
      ]
     },
     "execution_count": 132,
     "metadata": {},
     "output_type": "execute_result"
    }
   ],
   "source": [
    "α = LET_STAR([('g', Λ(lambda π: π.x * π.x, ['x']))],\n",
    "             body=Ξ(Λ(lambda π: ECHO('π', π).g)))\n",
    "α(42)"
   ]
  },
  {
   "cell_type": "markdown",
   "id": "1ff5a659-ab5c-40e3-859e-b7d0b4e9b74f",
   "metadata": {},
   "source": [
    "Without he application `Ξ`, the value is an unevaluated procedure returning a closure:"
   ]
  },
  {
   "cell_type": "code",
   "execution_count": 133,
   "id": "97386a04-7568-4368-8743-3c4726cc8975",
   "metadata": {},
   "outputs": [
    {
     "data": {
      "text/plain": [
       "{'env': (ad40) \"['g']\">(5090,ΓΠ) \"['square', 'Υ1', 'Υ3', 'Ρ3', 'Υ2C', 'Υ2', 'Ρ2', 'Υ5', 'Ρ5', 'ΥN']\",\n",
       " 'parms': '[]',\n",
       " 'Λ': 'acb0'}"
      ]
     },
     "execution_count": 133,
     "metadata": {},
     "output_type": "execute_result"
    }
   ],
   "source": [
    "LET_STAR([('g', Λ(lambda π: π.x * π.x, ['x']))],\n",
    "        body=Λ(lambda π: π.g))"
   ]
  },
  {
   "cell_type": "markdown",
   "id": "9b13b75f-2afe-4615-be1a-e53fad6e8adc",
   "metadata": {},
   "source": [
    "We can evaluate the returned closure with an extra, explicit call:"
   ]
  },
  {
   "cell_type": "code",
   "execution_count": 134,
   "id": "12d0818f-7eb8-42f5-add4-d0d06bf4945e",
   "metadata": {},
   "outputs": [
    {
     "data": {
      "text/plain": [
       "1764"
      ]
     },
     "execution_count": 134,
     "metadata": {},
     "output_type": "execute_result"
    }
   ],
   "source": [
    "foo = LET_STAR([('g', Λ(lambda π: π.x * π.x, ['x']))],\n",
    "               body=Λ(lambda π: π.g))\n",
    "foo()(42)"
   ]
  },
  {
   "cell_type": "code",
   "execution_count": 135,
   "id": "81ad1716-43a4-4a02-8ef2-3b57ea480af7",
   "metadata": {},
   "outputs": [],
   "source": [
    "try:\n",
    "    LET_STAR([('g', Λ(lambda π: π.x * π.x, ['x']))],\n",
    "             body=Λ(lambda π: π.g))()\n",
    "except NameError as e:\n",
    "    print(e.args)"
   ]
  },
  {
   "cell_type": "code",
   "execution_count": 136,
   "id": "2991d153-8096-4bf5-ac30-4bcdd1d1884a",
   "metadata": {},
   "outputs": [],
   "source": [
    "try:\n",
    "    LET_STAR([('g', Λ(lambda π: π.x * π.x, ['x']))],\n",
    "             body=Λ(lambda π: π.g(42)))()\n",
    "except NameError as e:\n",
    "    print(e.args)"
   ]
  },
  {
   "cell_type": "markdown",
   "id": "781b4b75-b89d-461f-aff7-5e91375c61cd",
   "metadata": {},
   "source": [
    "Ensure no leakage:"
   ]
  },
  {
   "cell_type": "code",
   "execution_count": 137,
   "id": "4e64bfaa-5ed9-4f99-9dd3-cb4442d611cf",
   "metadata": {},
   "outputs": [
    {
     "name": "stdout",
     "output_type": "stream",
     "text": [
      "('Environment: Name g is unbound.',)\n"
     ]
    }
   ],
   "source": [
    "try:\n",
    "    ΓΠ.g\n",
    "except Exception as e:\n",
    "    print(e.args)"
   ]
  },
  {
   "cell_type": "markdown",
   "id": "1f316b79-04b7-4f33-8f8b-48571570a17b",
   "metadata": {},
   "source": [
    "Procedures can be bound variables, too, with arbitrary names:"
   ]
  },
  {
   "cell_type": "code",
   "execution_count": 138,
   "id": "8bc49527-62dc-4b73-b82c-1dbabc9b0549",
   "metadata": {},
   "outputs": [
    {
     "data": {
      "text/plain": [
       "1764"
      ]
     },
     "execution_count": 138,
     "metadata": {},
     "output_type": "execute_result"
    }
   ],
   "source": [
    "LET_STAR([('g', Λ(lambda π: π.x * π.x, ['x']))],\n",
    "         body=Ξ(Λ(lambda π: π.gg(42), ['gg']), [Var('g')]))"
   ]
  },
  {
   "cell_type": "markdown",
   "id": "60ccc5da-fdf8-4874-83bb-1b4151ed001e",
   "metadata": {},
   "source": [
    "Unevaluated, it's still a closure:"
   ]
  },
  {
   "cell_type": "code",
   "execution_count": 139,
   "id": "a35211b4-2c58-44c1-a5ee-bbe45049ca6f",
   "metadata": {},
   "outputs": [
    {
     "data": {
      "text/plain": [
       "1764"
      ]
     },
     "execution_count": 139,
     "metadata": {},
     "output_type": "execute_result"
    }
   ],
   "source": [
    "LET_STAR([('g', Λ(lambda π: π.x * π.x, ['x']))],\n",
    "         body=Ξ(Λ(lambda π: π.gg, ['gg']), [Var('g')]))(\n",
    "42)"
   ]
  },
  {
   "cell_type": "markdown",
   "id": "bf937c0a-6a6f-4b18-8238-cbe416eeaa07",
   "metadata": {},
   "source": [
    "## LET<a id=\"let\"></a>"
   ]
  },
  {
   "cell_type": "markdown",
   "id": "529efe77-d4e1-4da6-8eaf-407a86103d93",
   "metadata": {},
   "source": [
    "`LET` is parallel \"assignment.\" All variables must be bound in the enclosing environment and may not depend on one another. This implementation is not curried. `body` is usually an [`Application`](#application)."
   ]
  },
  {
   "cell_type": "code",
   "execution_count": 140,
   "id": "495699f6-16d8-4476-be69-11caba02a937",
   "metadata": {},
   "outputs": [],
   "source": [
    "def LET(\n",
    "        pairs: List[Tuple[str, Any]],\n",
    "        body: Application,\n",
    "        π: Environment = ΓΠ\n",
    ") -> Any:\n",
    "    if len(pairs) == 0:\n",
    "        ρ = EVAL(body, π)\n",
    "        return ρ\n",
    "    E1 = Environment(lambda: None, π)\n",
    "    for p in pairs:\n",
    "        if isinstance(p[1], Procedure):\n",
    "            p[1].π = E1\n",
    "    _ = [setattr(E1.ϕ, p[0], EVAL(p[1], π))\n",
    "         for p in pairs]\n",
    "    ρ = EVAL(body, E1)\n",
    "    return ρ "
   ]
  },
  {
   "cell_type": "markdown",
   "id": "8c786a33-ec48-4dd7-bb80-a9aa75fb9159",
   "metadata": {},
   "source": [
    "### Examples:"
   ]
  },
  {
   "cell_type": "markdown",
   "id": "a89ae848-02f6-4a88-b3fc-f9d2d361b96d",
   "metadata": {},
   "source": [
    "Test depth 0:"
   ]
  },
  {
   "cell_type": "code",
   "execution_count": 141,
   "id": "f405f4b4-b22f-4413-bebd-3b87b31715b1",
   "metadata": {},
   "outputs": [
    {
     "name": "stdout",
     "output_type": "stream",
     "text": [
      "1806\n"
     ]
    }
   ],
   "source": [
    "LET([], \n",
    "    Ξ(Λ(lambda π: print(43 * 42))))"
   ]
  },
  {
   "cell_type": "markdown",
   "id": "cd1e2e8d-deec-462d-935f-532ffc5535bc",
   "metadata": {},
   "source": [
    "Test depth 1:"
   ]
  },
  {
   "cell_type": "code",
   "execution_count": 142,
   "id": "4828f755-1d66-4d7e-8c10-78236acd722f",
   "metadata": {},
   "outputs": [
    {
     "data": {
      "text/plain": [
       "1764"
      ]
     },
     "execution_count": 142,
     "metadata": {},
     "output_type": "execute_result"
    }
   ],
   "source": [
    "LET([('z', 42)], \n",
    "    Ξ(ΓΠ.square, [Var('z')]))"
   ]
  },
  {
   "cell_type": "markdown",
   "id": "9381bbde-ea94-464a-8243-8a83ac438874",
   "metadata": {},
   "source": [
    "Test depth 2:"
   ]
  },
  {
   "cell_type": "code",
   "execution_count": 143,
   "id": "5eb6e591-53d6-489f-afda-1c37287c8761",
   "metadata": {},
   "outputs": [
    {
     "name": "stdout",
     "output_type": "stream",
     "text": [
      "1806\n"
     ]
    }
   ],
   "source": [
    "LET([('z', 42), \n",
    "     ('y', 43)], \n",
    "    Ξ(Λ(lambda π: print(π.z * π.y))))"
   ]
  },
  {
   "cell_type": "markdown",
   "id": "44ad86a1-7993-4a72-998e-94ee5d3e64ca",
   "metadata": {},
   "source": [
    "Reversed:"
   ]
  },
  {
   "cell_type": "code",
   "execution_count": 144,
   "id": "27af5f88-8d56-42b4-8898-0cdf1442f3a1",
   "metadata": {},
   "outputs": [
    {
     "name": "stdout",
     "output_type": "stream",
     "text": [
      "1806\n"
     ]
    }
   ],
   "source": [
    "LET([('y', 42), \n",
    "     ('z', 43)], \n",
    "    Ξ(Λ(lambda π: print(π.z * π.y))))"
   ]
  },
  {
   "cell_type": "markdown",
   "id": "40c318d4-1990-4051-8fab-4880f271edad",
   "metadata": {},
   "source": [
    "With applications as values, the inner `y` is evaluated in the local environment, not leaking down from the global environment $\\Gamma\\Pi$, where `y` is 0:"
   ]
  },
  {
   "cell_type": "code",
   "execution_count": 145,
   "id": "4e70bec9-ac6b-4f55-8019-fe1036008287",
   "metadata": {},
   "outputs": [
    {
     "name": "stdout",
     "output_type": "stream",
     "text": [
      "42\n"
     ]
    }
   ],
   "source": [
    "DEFINE('y', 0)\n",
    "LET([('y', 42), \n",
    "     ('z', Ξ(Λ(lambda π: π.y + 1)))],  # Outer y = 0, not inner y = 42\n",
    "    Ξ(Λ(lambda π: print(π.z * π.y))))  # Inner y = 42 * inner z = 1"
   ]
  },
  {
   "cell_type": "markdown",
   "id": "ca4d28db-9a90-45d0-aebb-a53dd6b198b6",
   "metadata": {},
   "source": [
    "Order does not matter:"
   ]
  },
  {
   "cell_type": "code",
   "execution_count": 146,
   "id": "92c8b341-0805-41fc-8c24-a1afe81b449d",
   "metadata": {},
   "outputs": [
    {
     "name": "stdout",
     "output_type": "stream",
     "text": [
      "42\n"
     ]
    }
   ],
   "source": [
    "LET([('z', Ξ(Λ(lambda π: π.y + 1))),  # Outer y = 0, not inner y = 42\n",
    "     ('y', 42)], \n",
    "    Ξ(Λ(lambda π: print(π.z * π.y)))) # Inner y = 42 * inner z = 1"
   ]
  },
  {
   "cell_type": "markdown",
   "id": "206d3031-4ce0-4031-a349-4bd1174df468",
   "metadata": {},
   "source": [
    "Print the environment to check that all symbols are bound in it:"
   ]
  },
  {
   "cell_type": "code",
   "execution_count": 147,
   "id": "6375b3bf-e4aa-43cb-8299-0ed5a5dc7626",
   "metadata": {},
   "outputs": [
    {
     "name": "stdout",
     "output_type": "stream",
     "text": [
      "\n",
      "{'π': (13f0) \"['z', 'y']\">(5090,ΓΠ) \"['square', 'Υ1', 'Υ3', 'Ρ3', 'Υ2C', 'Υ2', 'Ρ2', 'Υ5', 'Ρ5', 'ΥN', 'y']\"}\n",
      "42\n"
     ]
    }
   ],
   "source": [
    "LET([('z', Ξ(Λ(lambda π: π.y + 1))),  # Outer y = 0, not inner y = 42\n",
    "     ('y', 42)], \n",
    "    Ξ(Λ(lambda π: print(ECHO('π', π).z * π.y)))) # Inner y = 42 * inner z = 1"
   ]
  },
  {
   "cell_type": "markdown",
   "id": "8a4ce675-d0ef-4261-ab06-06b8e2e81358",
   "metadata": {},
   "source": [
    "Prove global `y` is unchanged and that `z` is bound only in local environment, not global."
   ]
  },
  {
   "cell_type": "code",
   "execution_count": 148,
   "id": "39d3eeb0-7aa6-4d74-8409-27317742e107",
   "metadata": {},
   "outputs": [
    {
     "name": "stdout",
     "output_type": "stream",
     "text": [
      "{'expect y = 0': 0}\n",
      "('Environment: Name z is unbound.',)\n"
     ]
    }
   ],
   "source": [
    "print({'expect y = 0':  ΓΠ.y})\n",
    "try:\n",
    "    print(ΓΠ.z)\n",
    "except NameError as e:\n",
    "    print(e.args)"
   ]
  },
  {
   "cell_type": "markdown",
   "id": "f1918279-fdf6-4fbd-b868-4038f36de04f",
   "metadata": {},
   "source": [
    "Test nested `LET`. Don't forget to chain the environments! The default is $\\Gamma\\Pi$."
   ]
  },
  {
   "cell_type": "code",
   "execution_count": 149,
   "id": "15492364-219f-4d82-88e7-59ad47b40ea3",
   "metadata": {},
   "outputs": [
    {
     "data": {
      "text/plain": [
       "1806"
      ]
     },
     "execution_count": 149,
     "metadata": {},
     "output_type": "execute_result"
    }
   ],
   "source": [
    "LET([('z0', 42)],\n",
    "    Ξ(Λ(lambda π0:\n",
    "        LET([('y0', Ξ(Λ(lambda π1: π1.z0 + 1)))],\n",
    "            Ξ(Λ(lambda π2: π2.z0 * π2.y0)),\n",
    "            π=π0))))  # <~~~ Don't forget to chain!"
   ]
  },
  {
   "cell_type": "markdown",
   "id": "bee9c699-e136-4e7d-b362-91e409eba454",
   "metadata": {},
   "source": [
    "The free variable `x` in the $\\lambda$ below is looked up in the local environment established by `LET`."
   ]
  },
  {
   "cell_type": "markdown",
   "id": "773117ec-0cd1-4564-ae73-5c34f1674e2f",
   "metadata": {},
   "source": [
    "First, delete `x` again, just in case, so we can check that it does not get bound accidentally."
   ]
  },
  {
   "cell_type": "code",
   "execution_count": 150,
   "id": "67786cf7-c446-4654-915a-fa3392707544",
   "metadata": {},
   "outputs": [],
   "source": [
    "try: \n",
    "    del ΓΠ.ϕ.x\n",
    "except:\n",
    "    pass"
   ]
  },
  {
   "cell_type": "code",
   "execution_count": 151,
   "id": "17a59513-eb4d-4821-87de-f1bedfa1fe87",
   "metadata": {},
   "outputs": [
    {
     "data": {
      "text/plain": [
       "1764"
      ]
     },
     "execution_count": 151,
     "metadata": {},
     "output_type": "execute_result"
    }
   ],
   "source": [
    "LET([('x', 42)],\n",
    "   Ξ(Λ(lambda π: π.x * π.x)))"
   ]
  },
  {
   "cell_type": "markdown",
   "id": "44e0c8b0-b0df-4405-9831-9d0329b1b2d1",
   "metadata": {},
   "source": [
    "The variable `x` did not leak out of the local environment:"
   ]
  },
  {
   "cell_type": "code",
   "execution_count": 152,
   "id": "f15f7bb5-a621-4ccb-8631-acbaf15b3a5c",
   "metadata": {},
   "outputs": [
    {
     "name": "stdout",
     "output_type": "stream",
     "text": [
      "('Environment: Name x is unbound.',)\n"
     ]
    }
   ],
   "source": [
    "try:\n",
    "    ΓΠ.x\n",
    "except Exception as e:\n",
    "    print(e.args)"
   ]
  },
  {
   "cell_type": "markdown",
   "id": "997bf7a1-dbb1-436b-a8f7-17f42ec02534",
   "metadata": {},
   "source": [
    "We can get the same result as above when the internal $\\lambda$ does not have free variables. When evaluating the application $\\Xi$, grab the local value of `x` as an actual argument and substitute it for the bound variable `y` in the body of the $\\lambda$:"
   ]
  },
  {
   "cell_type": "code",
   "execution_count": 153,
   "id": "81c275b0-298d-4207-bcd4-4aacf8756af2",
   "metadata": {},
   "outputs": [
    {
     "data": {
      "text/plain": [
       "1764"
      ]
     },
     "execution_count": 153,
     "metadata": {},
     "output_type": "execute_result"
    }
   ],
   "source": [
    "LET([('x', 42)],\n",
    "   Ξ(Λ(lambda π: π.y * π.y, ['y']), [Var('x')]))"
   ]
  },
  {
   "cell_type": "markdown",
   "id": "3df52383-578a-4974-9b3f-c64cdc93f5dd",
   "metadata": {},
   "source": [
    "### Test `EVAL` on Collections<a id=\"test-collections\"></a>"
   ]
  },
  {
   "cell_type": "markdown",
   "id": "9825bb18-482c-4a3c-855e-697f7cd38cfc",
   "metadata": {},
   "source": [
    "[Notice that `EVAL` recurses into Dicts, Tuples, Lists, and numpy arrays](#eval). `LET_STAR` and `LET` gives us good tools for testing that."
   ]
  },
  {
   "cell_type": "markdown",
   "id": "00fffc10-1741-4c03-b8fa-090c99789c23",
   "metadata": {},
   "source": [
    "Lists, with free variables:"
   ]
  },
  {
   "cell_type": "code",
   "execution_count": 154,
   "id": "7b46cd90-c6d2-4128-9180-8dc6a94b567a",
   "metadata": {},
   "outputs": [
    {
     "data": {
      "text/plain": [
       "[42, 43, 42, 43, 42, 43]"
      ]
     },
     "execution_count": 154,
     "metadata": {},
     "output_type": "execute_result"
    }
   ],
   "source": [
    "LET_STAR([\n",
    "    ('forty_two', 42),\n",
    "    ('x', Ξ(Λ(lambda π: [π.forty_two, π.forty_two + 1]))),\n",
    "    ('y', 3)],\n",
    "   Ξ(Λ(lambda π: π.x * π.y)))"
   ]
  },
  {
   "cell_type": "markdown",
   "id": "97f6378c-476d-46cd-a9f6-c11589df87b9",
   "metadata": {},
   "source": [
    "With bound variables:"
   ]
  },
  {
   "cell_type": "code",
   "execution_count": 155,
   "id": "ff78124f-5d42-4d0f-a2bf-4e4536511063",
   "metadata": {},
   "outputs": [
    {
     "data": {
      "text/plain": [
       "[42, 43, 42, 43, 42, 43]"
      ]
     },
     "execution_count": 155,
     "metadata": {},
     "output_type": "execute_result"
    }
   ],
   "source": [
    "LET_STAR([\n",
    "    ('forty_two', 42),\n",
    "    ('x', Ξ(Λ(lambda π: [π.forty_two, π.forty_two + 1]))),\n",
    "    ('y', 3)],\n",
    "   Ξ(Λ(lambda π: π.xx * π.yy, ['xx', 'yy']), [Var('x'), Var('y')]))"
   ]
  },
  {
   "cell_type": "markdown",
   "id": "f2e02b1d-03eb-46a3-b764-f69653b63513",
   "metadata": {},
   "source": [
    "Tuples, with free variables:"
   ]
  },
  {
   "cell_type": "code",
   "execution_count": 156,
   "id": "59bb00b3-99d9-4fe5-ac82-09cbee6b9f6a",
   "metadata": {},
   "outputs": [
    {
     "data": {
      "text/plain": [
       "(42, 43, 42, 43, 42, 43)"
      ]
     },
     "execution_count": 156,
     "metadata": {},
     "output_type": "execute_result"
    }
   ],
   "source": [
    "LET_STAR([\n",
    "    ('forty_two', 42),\n",
    "    ('x', Ξ(Λ(lambda π: (π.forty_two, π.forty_two + 1)))),\n",
    "    ('y', 3)],\n",
    "   Ξ(Λ(lambda π: π.x * π.y)))"
   ]
  },
  {
   "cell_type": "markdown",
   "id": "4d32416b-49e1-4d52-948e-91e7bdb5c5df",
   "metadata": {},
   "source": [
    "Dictionaries, with free variables:"
   ]
  },
  {
   "cell_type": "code",
   "execution_count": 157,
   "id": "37f15bc4-c42a-4ee3-bdc5-6ec3c0fa9133",
   "metadata": {},
   "outputs": [
    {
     "data": {
      "text/plain": [
       "[42, 43, 42, 43, 42, 43]"
      ]
     },
     "execution_count": 157,
     "metadata": {},
     "output_type": "execute_result"
    }
   ],
   "source": [
    "LET_STAR([\n",
    "    ('forty_two', 42),\n",
    "    ('x', Ξ(Λ(lambda π: {'π.forty_two': π.forty_two, \n",
    "                         'forty-three': π.forty_two + 1}))),\n",
    "    ('y', 3)],\n",
    "   Ξ(Λ(lambda π: [π.x['π.forty_two'], \n",
    "                  π.x['forty-three']] * π.y)))"
   ]
  },
  {
   "cell_type": "markdown",
   "id": "3c46ac52-05ae-4f1a-9d31-3ab983966e79",
   "metadata": {},
   "source": [
    "Numpy arrays, with free variables:"
   ]
  },
  {
   "cell_type": "code",
   "execution_count": 158,
   "id": "decb0ed0-ee2c-48f5-b1f1-9691aea25fcb",
   "metadata": {},
   "outputs": [
    {
     "data": {
      "text/plain": [
       "array([126, 129])"
      ]
     },
     "execution_count": 158,
     "metadata": {},
     "output_type": "execute_result"
    }
   ],
   "source": [
    "LET_STAR([\n",
    "    ('forty_two', 42),\n",
    "    ('x', Ξ(Λ(lambda π: numpy.array(\n",
    "        [π.forty_two,\n",
    "         π.forty_two + 1])))),\n",
    "    ('y', 3)],\n",
    "    Ξ(Λ(lambda π: π.x * π.y)))"
   ]
  },
  {
   "cell_type": "markdown",
   "id": "43b4a5b9-89c1-4b89-9893-3bbfef511201",
   "metadata": {},
   "source": [
    "## LETREC<a id=\"letrec\"></a>"
   ]
  },
  {
   "cell_type": "markdown",
   "id": "4a76f626-05d7-4029-8fb3-f2d9bbbe11d1",
   "metadata": {},
   "source": [
    "`LETREC` binds codependent values in a new environment _before_ evaluating them. `LET` evaluates values before binding them."
   ]
  },
  {
   "cell_type": "markdown",
   "id": "304565df-04c6-4ef1-8439-5a374d99e486",
   "metadata": {},
   "source": [
    "`LETREC` patches the environments of any contained procedures to ensure they have access to new bindings. [Lengthy code in `EVAL` does the monkey-patching for us](#eval) later. `LETREC` differs from `LET` only in the absence of `EVAL`s on the value side. Those `EVAL`s are done later."
   ]
  },
  {
   "cell_type": "code",
   "execution_count": 159,
   "id": "f2954dc5-5536-4ba3-95b0-6cfe7370e39f",
   "metadata": {},
   "outputs": [],
   "source": [
    "def LETREC(\n",
    "        pairs: List[Tuple[str, Any]],\n",
    "        body: Union[Application, Procedure],\n",
    "        π: Environment = ΓΠ\n",
    ") -> Any:\n",
    "    if len(pairs) == 0:\n",
    "        ρ = EVAL(body, π)  \n",
    "        return ρ\n",
    "    E1 = Environment(lambda: None, π)\n",
    "    for p in pairs:\n",
    "        if isinstance(p[1], Procedure):\n",
    "            p[1].π = E1\n",
    "    _ = [setattr(E1.ϕ, p[0], p[1]) for p in pairs]  # <~~~ DON'T EVAL!\n",
    "    ρ = EVAL(body, E1)\n",
    "    return ρ"
   ]
  },
  {
   "cell_type": "markdown",
   "id": "3dfb2246-f587-4f69-98ec-9afe3c7c8dda",
   "metadata": {},
   "source": [
    "### Examples"
   ]
  },
  {
   "cell_type": "markdown",
   "id": "9a489529-d904-43e5-b8bb-b94e8c3b4340",
   "metadata": {},
   "source": [
    "Factorial, familiar by now, accesses itself through the patched environment; `fact` is a free variable in the body of `fact`:"
   ]
  },
  {
   "cell_type": "code",
   "execution_count": 160,
   "id": "aac4f65f-5100-4994-94d8-bba37901d2e5",
   "metadata": {},
   "outputs": [
    {
     "data": {
      "text/plain": [
       "720"
      ]
     },
     "execution_count": 160,
     "metadata": {},
     "output_type": "execute_result"
    }
   ],
   "source": [
    "LETREC([('fact', \n",
    "         Λ(lambda π: \n",
    "           (π.a\n",
    "            if π.m <= 0 \n",
    "            else π.fact(π.m - 1, π.m * π.a)),\n",
    "           ['m', 'a']))],\n",
    "       Ξ(Λ(lambda π: π.fact(6, 1))))"
   ]
  },
  {
   "cell_type": "markdown",
   "id": "ad3f80fa-a1d5-4d06-8482-5f2f55c1df48",
   "metadata": {},
   "source": [
    "Here is a version that fails if the patching is not done correctly:"
   ]
  },
  {
   "cell_type": "code",
   "execution_count": 161,
   "id": "f8875259-c09f-49a3-8a51-cd80e1dac9f4",
   "metadata": {},
   "outputs": [
    {
     "data": {
      "text/plain": [
       "720"
      ]
     },
     "execution_count": 161,
     "metadata": {},
     "output_type": "execute_result"
    }
   ],
   "source": [
    "Λ(lambda π: \n",
    "  LETREC([('fact', \n",
    "           Λ(lambda π: \n",
    "             (π.a\n",
    "              if π.m <= π.m0  # <~~~ Watch out!\n",
    "              else π.fact(π.m - 1, π.m * π.a)),\n",
    "             ['m', 'a']))],\n",
    "         Ξ(Λ(lambda π: π.fact(6, 1))),\n",
    "         π),  # <~~~ access 'm0'\n",
    " ['m0'])(0)"
   ]
  },
  {
   "cell_type": "markdown",
   "id": "edf591ce-b570-47e2-8b7e-51aba24de601",
   "metadata": {},
   "source": [
    "The final application $\\Xi$ is necessary to actually evaluate the final $\\Lambda$, lest it be simply returned unevaluated:"
   ]
  },
  {
   "cell_type": "code",
   "execution_count": 162,
   "id": "1e99af43-d37b-4d5a-a76a-e6d1fefe8de5",
   "metadata": {},
   "outputs": [
    {
     "data": {
      "text/plain": [
       "{'env': (3e20) \"['fact']\">(5090,ΓΠ) \"['square', 'Υ1', 'Υ3', 'Ρ3', 'Υ2C', 'Υ2', 'Ρ2', 'Υ5', 'Ρ5', 'ΥN', 'y']\",\n",
       " 'parms': '[]',\n",
       " 'Λ': '3d90'}"
      ]
     },
     "execution_count": 162,
     "metadata": {},
     "output_type": "execute_result"
    }
   ],
   "source": [
    "LETREC([('fact', \n",
    "         Λ(lambda π: \n",
    "           (π.a\n",
    "            if π.m <= 0 \n",
    "            else π.fact(π.m - 1, π.m * π.a)),\n",
    "           ['m', 'a']))],\n",
    "       Λ(lambda π: π.fact(6, 1)))"
   ]
  },
  {
   "cell_type": "markdown",
   "id": "a53ed687-b2b3-42b8-8947-9a573d29afc5",
   "metadata": {},
   "source": [
    "But we can evaluate it:"
   ]
  },
  {
   "cell_type": "code",
   "execution_count": 163,
   "id": "3a40030f-15c7-42bc-b2cd-4249772c940b",
   "metadata": {},
   "outputs": [
    {
     "data": {
      "text/plain": [
       "720"
      ]
     },
     "execution_count": 163,
     "metadata": {},
     "output_type": "execute_result"
    }
   ],
   "source": [
    "LETREC([('fact', \n",
    "         Λ(lambda π: \n",
    "           (π.a\n",
    "            if π.m <= 0 \n",
    "            else π.fact(π.m - 1, π.m * π.a)),\n",
    "           ['m', 'a']))],\n",
    "       Λ(lambda π: π.fact(6, 1)))()  # <~~~ extra evaluation!"
   ]
  },
  {
   "cell_type": "markdown",
   "id": "2061ac59-9441-43d3-8f3d-d196b0884f39",
   "metadata": {},
   "source": [
    "One can unroll the final application into formal parameters and actual arguments:"
   ]
  },
  {
   "cell_type": "code",
   "execution_count": 164,
   "id": "654accf6-a478-43d3-b069-13742f8292bd",
   "metadata": {},
   "outputs": [
    {
     "data": {
      "text/plain": [
       "720"
      ]
     },
     "execution_count": 164,
     "metadata": {},
     "output_type": "execute_result"
    }
   ],
   "source": [
    "LETREC([('fact', \n",
    "         Λ(lambda π: \n",
    "           (π.a\n",
    "            if π.m <= 0 \n",
    "            else π.fact(π.m - 1, π.m * π.a)),\n",
    "           ['m', 'a']))],\n",
    "       Ξ(Λ(lambda π: π.fact(π.n, π.b), \n",
    "           ['n', 'b']),  # <~~~ formal parameters\n",
    "         [6, 1]))  # <~~~ actual arguments"
   ]
  },
  {
   "cell_type": "markdown",
   "id": "e72b8809-d6fd-4353-b83f-50aebbbc59c8",
   "metadata": {},
   "source": [
    "Mutually codependent procedures are OK:"
   ]
  },
  {
   "cell_type": "code",
   "execution_count": 165,
   "id": "5c2ec481-1941-411c-a435-282ab87786c1",
   "metadata": {},
   "outputs": [
    {
     "data": {
      "text/plain": [
       "1806"
      ]
     },
     "execution_count": 165,
     "metadata": {},
     "output_type": "execute_result"
    }
   ],
   "source": [
    "LETREC([('z0', Λ(lambda π: 1 + π.y0(), ['y0'])),\n",
    "        ('y0', Λ(lambda π: 42))],\n",
    "      Ξ(Λ(lambda π: π.y0() * π.z0(π.y0))))"
   ]
  },
  {
   "cell_type": "markdown",
   "id": "e1d26990-363f-4c18-ab2c-5e41b3d5df6e",
   "metadata": {},
   "source": [
    "Check that `y0` does not leak into the global environment:"
   ]
  },
  {
   "cell_type": "code",
   "execution_count": 166,
   "id": "769a33a1-484b-4ee1-a223-e3f369b0b2ac",
   "metadata": {},
   "outputs": [
    {
     "name": "stdout",
     "output_type": "stream",
     "text": [
      "('Environment: Name y0 is unbound.',)\n"
     ]
    }
   ],
   "source": [
    "try:\n",
    "    print(ΓΠ.y0)\n",
    "except NameError as e:\n",
    "    print(e.args)"
   ]
  },
  {
   "cell_type": "markdown",
   "id": "c9b961ac-bb58-41a3-af29-fb474813994f",
   "metadata": {},
   "source": [
    "The following shows that `z0` also does not leak from `LETREC`:"
   ]
  },
  {
   "cell_type": "code",
   "execution_count": 167,
   "id": "63760902-b138-49bb-8606-44dffdf24e17",
   "metadata": {},
   "outputs": [
    {
     "name": "stdout",
     "output_type": "stream",
     "text": [
      "('Environment: Name z0 is unbound.',)\n"
     ]
    }
   ],
   "source": [
    "try:\n",
    "    print(ΓΠ.z0)\n",
    "except NameError as e:\n",
    "    print(e.args)"
   ]
  },
  {
   "cell_type": "markdown",
   "id": "e59d618a-2c97-460c-8a4e-6acbc79c3f3d",
   "metadata": {},
   "source": [
    "The following example is [borrowed from the Racket documentation](https://docs.racket-lang.org/reference/let.html)."
   ]
  },
  {
   "cell_type": "code",
   "execution_count": 168,
   "id": "942af98b-8cda-481f-8858-9687463d6e28",
   "metadata": {},
   "outputs": [
    {
     "data": {
      "text/plain": [
       "(True, False, False, True)"
      ]
     },
     "execution_count": 168,
     "metadata": {},
     "output_type": "execute_result"
    }
   ],
   "source": [
    "LETREC([('is_even',\n",
    "         Λ(lambda π: True if π.n == 0 else (not π.is_odd(π.n)), \n",
    "           ['n'])),\n",
    "        ('is_odd', \n",
    "         Λ(lambda π: π.n != 0 and π.is_even(abs(π.n) - 1),\n",
    "           ['n']))],\n",
    "      Ξ(Λ(lambda π: (\n",
    "          π.is_even( 42),\n",
    "          π.is_even(-43),\n",
    "          π.is_odd (-42),\n",
    "          π.is_odd ( 43),\n",
    "      ))))"
   ]
  },
  {
   "cell_type": "markdown",
   "id": "a72e3989-91ce-4f1e-b3ad-e03e16a8cad3",
   "metadata": {},
   "source": [
    "# LABELS<a id=\"labels\"></a>"
   ]
  },
  {
   "cell_type": "markdown",
   "id": "3f55b1de-ce43-4a4b-b2d4-8afefc3ce2f5",
   "metadata": {},
   "source": [
    "`LABELS` is a special case of `LETREC` where all the values are mutually codependent procedures."
   ]
  },
  {
   "cell_type": "code",
   "execution_count": 169,
   "id": "c9f7dd11-555a-44da-a771-e0b15e7b6393",
   "metadata": {},
   "outputs": [],
   "source": [
    "def LABELS(\n",
    "        binding_pairs: List[Tuple[str, Any]], \n",
    "        body: Application, \n",
    "        π: Environment = ΓΠ\n",
    ") -> Any:\n",
    "    for pair in binding_pairs:\n",
    "        if not isinstance(pair[1], Procedure):\n",
    "            raise IllegalArgumentsError(\n",
    "                f'all values in labels must be Procedures; '\n",
    "                f'this value {pair[1]} is not')\n",
    "    result = LETREC(binding_pairs, body, π)\n",
    "    return result  # <~~~ Hang breakpoint here."
   ]
  },
  {
   "cell_type": "markdown",
   "id": "54d7e25d-e521-4242-ab0c-38c5db542252",
   "metadata": {},
   "source": [
    "Our old friend, factorial:"
   ]
  },
  {
   "cell_type": "code",
   "execution_count": 170,
   "id": "647755df-14df-463c-b6ed-8341f98f174a",
   "metadata": {},
   "outputs": [
    {
     "data": {
      "text/plain": [
       "720"
      ]
     },
     "execution_count": 170,
     "metadata": {},
     "output_type": "execute_result"
    }
   ],
   "source": [
    "LABELS([('fact_iter_nom',\n",
    "        Λ(lambda π: \n",
    "        (π.a \n",
    "         if π.m <= 0 \n",
    "         else π.fact_iter_nom(π.m - 1, π.a * π.m)),\n",
    "       ['m', 'a']))],\n",
    "      Ξ(Λ(lambda π: π.fact_iter_nom(6, 1))))"
   ]
  },
  {
   "cell_type": "markdown",
   "id": "03ee3244-c682-460d-aaa8-40f3e877c9cf",
   "metadata": {},
   "source": [
    "Test monkey patching again:"
   ]
  },
  {
   "cell_type": "code",
   "execution_count": 171,
   "id": "7e27c9e6-a208-409f-9abd-15fbafccf385",
   "metadata": {},
   "outputs": [
    {
     "data": {
      "text/plain": [
       "720"
      ]
     },
     "execution_count": 171,
     "metadata": {},
     "output_type": "execute_result"
    }
   ],
   "source": [
    "Λ(lambda πo: \n",
    "  LABELS([('fact_iter_nom',\n",
    "           Λ(lambda π: \n",
    "             (π.a \n",
    "              if π.m <= π.m0  # <~~~ Watch out!\n",
    "              else π.fact_iter_nom(π.m - 1, π.a * π.m)),\n",
    "             ['m', 'a']))],\n",
    "         Ξ(Λ(lambda π: π.fact_iter_nom(6, 1))),\n",
    "         πo),\n",
    "  ['m0'])(1)  # <~~~ Works with 1, also."
   ]
  },
  {
   "cell_type": "markdown",
   "id": "02e4d11a-108c-4ca2-a65d-e9f90c755dd3",
   "metadata": {},
   "source": [
    "# DO"
   ]
  },
  {
   "cell_type": "markdown",
   "id": "dd4ff505-5836-4b85-9b15-20888ec5a2fc",
   "metadata": {},
   "source": [
    "Here is the specification of `DO` from Steele's paper, without further explanation here:"
   ]
  },
  {
   "cell_type": "markdown",
   "id": "d954695a-44e1-4352-a9e7-ef751ee6735a",
   "metadata": {},
   "source": [
    "```\n",
    "(DO ((<var1> <init1> <step1>)\n",
    "     (<var2> <init2> <step2>)\n",
    "     ...\n",
    "     (<varN> <initN> <stepN>))\n",
    "    (<pred> <value>) \n",
    "    <optional body>)\n",
    "```"
   ]
  },
  {
   "cell_type": "markdown",
   "id": "44a909ff-5152-4cb4-a129-475a2650525d",
   "metadata": {},
   "source": [
    "First, a non-tail-recursive version:"
   ]
  },
  {
   "cell_type": "code",
   "execution_count": 186,
   "id": "319848ba-3751-403a-bf93-43abf0c6fbc9",
   "metadata": {},
   "outputs": [],
   "source": [
    "def CHECK_TYPE(x: Any, t: Any) -> Any:\n",
    "    assert isinstance(x, t)\n",
    "    return x\n",
    "\n",
    "def DO_NTC(\n",
    "        triples: List[Tuple[str, Any, Procedure]],\n",
    "        pred: Procedure,\n",
    "        value: Any,\n",
    "        body: Procedure,\n",
    "        π: Environment = ΓΠ\n",
    ") -> Any:\n",
    "    \"\"\"(DO ((<var1> <init1> <λstep1>)\n",
    "            (<var2> <init2> <λstep2>\n",
    "            . . .\n",
    "            (<varñ> <initñ> <λstepñ))\n",
    "            (<λpred> <λvalue>)\n",
    "            <λbody>\n",
    "            <env=None>).\n",
    "    Steps are evaluated sequentially.\n",
    "    Tail-recursive version requires a LOOPN.\n",
    "    \"\"\"\n",
    "    vars = [CHECK_TYPE(t[0], str) for t in triples]\n",
    "    inits = [t[1] for t in triples]\n",
    "    steps = [CHECK_TYPE(t[2], Procedure) for t in triples]\n",
    "    E1 = Environment(lambda: None, π)\n",
    "    _ = [setattr(E1.ϕ, f'σteps_{i}', step)\n",
    "         for i, step in enumerate(steps)]\n",
    "    setattr(E1.ϕ, 'πred', CHECK_TYPE(pred, Procedure))\n",
    "    setattr(E1.ϕ, 'vaλue', CHECK_TYPE(value, Procedure))\n",
    "    setattr(E1.ϕ, 'βody', CHECK_TYPE(body, Procedure))\n",
    "    r = LABELS([(\n",
    "        'λoop',\n",
    "        Λ(lambda πb:\n",
    "          (EVAL(Ξ('vaλue'), πb)\n",
    "           if EVAL(Ξ('πred'), πb)\n",
    "           else πb.λoop(  # <~~~ non-tail recursion\n",
    "              EVAL(Ξ('βody'), πb),\n",
    "              *[EVAL(Ξ(f'σteps_{i}'), πb)\n",
    "                for i in range(len(steps))])),\n",
    "          ['βody_result', *vars]))],\n",
    "        Ξ('λoop',\n",
    "          [None, *[EVAL(init, E1) for init in inits]]),\n",
    "        E1)\n",
    "    return r"
   ]
  },
  {
   "cell_type": "markdown",
   "id": "f3f97b4c-7686-40c0-bdb2-6220aa1c49f7",
   "metadata": {},
   "source": [
    "Our old friend, factorial, as non-tail-recursive `DO`:"
   ]
  },
  {
   "cell_type": "code",
   "execution_count": 187,
   "id": "9a6316da-2f46-4e63-a162-a3a3d9404185",
   "metadata": {},
   "outputs": [
    {
     "data": {
      "text/plain": [
       "720"
      ]
     },
     "execution_count": 187,
     "metadata": {},
     "output_type": "execute_result"
    }
   ],
   "source": [
    "Λ(lambda πo:\n",
    "  DO_NTC([('m', πo.m, Λ(lambda π: π.m - 1)),\n",
    "          ('a', 1, Λ(lambda π: π.a * π.m))],\n",
    "         pred=Λ(lambda π: π.m <= 1),\n",
    "         value=Λ(lambda π: π.a),\n",
    "         body=Λ(lambda π: None),\n",
    "         π=πo),\n",
    "  ['m'])(6)"
   ]
  },
  {
   "cell_type": "markdown",
   "id": "0eb44bbc-5da9-47c9-b902-58307c521b98",
   "metadata": {},
   "source": [
    "This blows recursion, naturally:"
   ]
  },
  {
   "cell_type": "code",
   "execution_count": 188,
   "id": "883b659c-f1dd-41d9-9507-8f1edaea0508",
   "metadata": {},
   "outputs": [
    {
     "name": "stdout",
     "output_type": "stream",
     "text": [
      "('maximum recursion depth exceeded',)\n"
     ]
    }
   ],
   "source": [
    "try:\n",
    "    Λ(lambda πo:\n",
    "      DO_NTC([('m', πo.m, Λ(lambda π: π.m - 1)),\n",
    "              ('a', 1, Λ(lambda π: π.a * π.m))],\n",
    "             pred=Λ(lambda π: π.m <= 1),\n",
    "             value=Λ(lambda π: π.a),\n",
    "             body=Λ(lambda π: None),\n",
    "             π=πo),\n",
    "      ['m'])(800)\n",
    "except RecursionError as e:\n",
    "    print(e.args)"
   ]
  },
  {
   "cell_type": "markdown",
   "id": "60af703e-e7df-4fbe-8199-47764876ad9c",
   "metadata": {},
   "source": [
    "A tail-recursive version, with the natural name `DO`. This uses `LOOPN`, defined earlier. Because tail-recursion must be the base case in Schemulator, we don't bother to test $\\Upsilon{}N$, here:"
   ]
  },
  {
   "cell_type": "code",
   "execution_count": 189,
   "id": "2bfec8e1-b311-46f4-8b6b-9d197f77596e",
   "metadata": {},
   "outputs": [],
   "source": [
    "def DO(\n",
    "        triples: List[Tuple[str, Any, Procedure]],\n",
    "        pred: Procedure,\n",
    "        value: Any,\n",
    "        body: Procedure,\n",
    "        π: Environment = ΓΠ):\n",
    "    \"\"\"(DO ((<var1> <init1> <λstep1>)\n",
    "            (<var2> <init2> <λstep2>\n",
    "            . . .\n",
    "            (<varñ> <initñ> <λstepñ))\n",
    "            (<λpred> <λvalue>)\n",
    "            <λbody>\n",
    "            <env=None>).\n",
    "    Steps are evaluated sequentially.\n",
    "    Tail-recursive version requires a LOOPN.\n",
    "    \"\"\"\n",
    "    vars = [CHECK_TYPE(t[0], str) for t in triples]\n",
    "    inits = [t[1] for t in triples]\n",
    "    steps = [CHECK_TYPE(t[2], Procedure) for t in triples]\n",
    "    E1 = Environment(lambda: None, π)\n",
    "    _ = [setattr(E1.ϕ, f'σteps_{i}', step)\n",
    "         for i, step in enumerate(steps)]\n",
    "    setattr(E1.ϕ, 'πred', CHECK_TYPE(pred, Procedure))\n",
    "    setattr(E1.ϕ, 'vaλue', CHECK_TYPE(value, Procedure))\n",
    "    setattr(E1.ϕ, 'βody', CHECK_TYPE(body, Procedure))\n",
    "    r = LABELS([(\n",
    "        'λoop',\n",
    "        Λ(lambda πd:  # Domain code is a functino of 'λf', ...\n",
    "          Λ(lambda πb:  # ... which is busines code of N params.\n",
    "            (EVAL(Ξ('vaλue'), πb)\n",
    "             if EVAL(Ξ('πred'), πb)\n",
    "             else πb.λf(  # <~~~ tail recursion\n",
    "                EVAL(Ξ('βody'), πb),\n",
    "                *[EVAL(Ξ(f'σteps_{i}'), πb)\n",
    "                  for i in range(len(steps))])),\n",
    "            ['βody_result', *vars], π=πd),\n",
    "          ['λf'], π=E1))],\n",
    "        Ξ(Λ(lambda π:\n",
    "            LOOPN(π.λoop, ['βody_result', *vars])  # <~~~ Tail Recursion\n",
    "            (None, *[EVAL(init, E1) for init in inits]))),\n",
    "        E1)\n",
    "    return r"
   ]
  },
  {
   "cell_type": "code",
   "execution_count": 183,
   "id": "2cf2b18b-032c-41db-a100-60c32d347167",
   "metadata": {},
   "outputs": [
    {
     "data": {
      "text/plain": [
       "720"
      ]
     },
     "execution_count": 183,
     "metadata": {},
     "output_type": "execute_result"
    }
   ],
   "source": [
    "Λ(lambda πo:\n",
    "  DO([('m', πo.m, Λ(lambda π: π.m - 1)),\n",
    "      ('a', 1, Λ(lambda π: π.a * π.m))],\n",
    "     pred=Λ(lambda π: π.m <= 1),\n",
    "     value=Λ(lambda π: π.a),\n",
    "     body=Λ(lambda π: None),\n",
    "     π=πo),\n",
    "  ['m'])(6)"
   ]
  },
  {
   "cell_type": "code",
   "execution_count": 184,
   "id": "330f1b31-1222-4119-a655-a0b4c162cfe0",
   "metadata": {},
   "outputs": [
    {
     "data": {
      "text/plain": [
       "771053011335386004144639397775028360595556401816010239163410994033970851827093069367090769795539033092647861224230677444659785152639745401480184653174909762504470638274259120173309701702610875092918816846985842150593623718603861642063078834117234098513725265045402523056575658860621238870412640219629971024686826624713383660963127048195572279707711688352620259869140994901287895747290410722496106151954257267396322405556727354786893725785838732404646243357335918597747405776328924775897564519583591354080898117023132762250714057271344110948164029940588827847780442314473200479525138318208302427727803133219305210952507605948994314345449325259594876385922128494560437296428386002940601874072732488897504223793518377180605441783116649708269946061380230531018291930510748665577803014523251797790388615033756544830374909440162270182952303329091720438210637097105616258387051884030288933650309756289188364568672104084185529365727646234588306683493594765274559497543759651733699820639731702116912963247441294200297800087061725868223880865243583365623482704395893652711840735418799773763054887588219943984673401051362280384187818611005035187862707840912942753454646054674870155072495767509778534059298038364204076299048072934501046255175378323008217670731649519955699084482330798811049166276249251326544312580289357812924825898217462848297648349400838815410152872456707653654424335818651136964880049831580548028614922852377435001511377656015730959254647171290930517340367287657007606177675483830521499707873449016844402390203746633086969747680671468541687265823637922007413849118593487710272883164905548707198762911703545119701275432473548172544699118836274377270607420652133092686282081777383674487881628800801928103015832821021286322120460874941697199487758769730544922012389694504960000000000000000000000000000000000000000000000000000000000000000000000000000000000000000000000000000000000000000000000000000000000000000000000000000000000000000000000000000000000000000000000000000000"
      ]
     },
     "execution_count": 184,
     "metadata": {},
     "output_type": "execute_result"
    }
   ],
   "source": [
    "Λ(lambda πo:\n",
    "  DO([('m', πo.m, Λ(lambda π: π.m - 1)),\n",
    "      ('a', 1, Λ(lambda π: π.a * π.m))],\n",
    "     pred=Λ(lambda π: π.m <= 1),\n",
    "     value=Λ(lambda π: π.a),\n",
    "     body=Λ(lambda π: None),\n",
    "     π=πo),\n",
    "  ['m'])(800)"
   ]
  },
  {
   "cell_type": "markdown",
   "id": "97681661-302d-41dd-96d1-da6d95d460ef",
   "metadata": {},
   "source": [
    "# COND"
   ]
  },
  {
   "cell_type": "markdown",
   "id": "d7af12c5-2dad-4e65-8be3-25e2ec23a12f",
   "metadata": {},
   "source": [
    "TODO"
   ]
  },
  {
   "cell_type": "markdown",
   "id": "6c8ab79e-f72c-4b70-97e1-27c04868749e",
   "metadata": {},
   "source": [
    "# Junkyard"
   ]
  },
  {
   "cell_type": "markdown",
   "id": "767801fa-a7e5-40d5-bc10-b5b2fa8b2194",
   "metadata": {},
   "source": [
    "Ignore everything below. It's saved in case we need it someday."
   ]
  }
 ],
 "metadata": {
  "jupytext": {
   "formats": "ipynb,md:myst"
  },
  "kernelspec": {
   "display_name": "Python 3 (ipykernel)",
   "language": "python",
   "name": "python3"
  },
  "language_info": {
   "codemirror_mode": {
    "name": "ipython",
    "version": 3
   },
   "file_extension": ".py",
   "mimetype": "text/x-python",
   "name": "python",
   "nbconvert_exporter": "python",
   "pygments_lexer": "ipython3",
   "version": "3.10.5"
  }
 },
 "nbformat": 4,
 "nbformat_minor": 5
}
