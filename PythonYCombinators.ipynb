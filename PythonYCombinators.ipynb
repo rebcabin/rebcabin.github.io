{
 "cells": [
  {
   "cell_type": "markdown",
   "id": "3339d433-4de0-4d74-b3c6-aab8d573c73b",
   "metadata": {},
   "source": [
    "# Anonymous Recursive Functions in Python"
   ]
  },
  {
   "cell_type": "markdown",
   "id": "e2954c6d-d479-4d0c-b720-f7b30b899193",
   "metadata": {},
   "source": [
    "## or, How to Square the Square Root of a Function"
   ]
  },
  {
   "cell_type": "markdown",
   "id": "a31d0593-3ce9-48f6-b699-f0bc7e920b40",
   "metadata": {},
   "source": [
    "#### Brian Beckman"
   ]
  },
  {
   "cell_type": "markdown",
   "id": "580378d0-1477-4b91-b641-5a3b1197bb49",
   "metadata": {},
   "source": [
    "#### 3 Nov 2022"
   ]
  },
  {
   "cell_type": "markdown",
   "id": "cf8e5bc6-7acb-4c07-b200-4c4a7fefcf6e",
   "metadata": {},
   "source": [
    "# Prologue"
   ]
  },
  {
   "cell_type": "markdown",
   "id": "81bd49ee-3c02-4f03-88c0-a99558500517",
   "metadata": {},
   "source": [
    "This is a Python version of the Mathematica notebook, [YCombinator005.nb](https://github.com/rebcabin/rebcabin.github.io/blob/main/YCombinator005.nb), with [PDF File](https://github.com/rebcabin/rebcabin.github.io/blob/main/YCombinator005.pdf). The primary difference between the Mathematica and Python versions is that we can write [static types](https://docs.python.org/3.10/library/typing.html) in Python. Static types afford the hope of compilation to fast machine code. "
   ]
  },
  {
   "cell_type": "markdown",
   "id": "b12f3ded-cb08-45c2-b090-160e80474b67",
   "metadata": {},
   "source": [
    "Though Python does not actually check static types, various tools like [mypy](http://mypy-lang.org/) and [PyCharm](https://www.jetbrains.com/pycharm/download/#section=mac) check them and produce warnings on errors.  "
   ]
  },
  {
   "cell_type": "markdown",
   "id": "c684c7b4-4e3b-491b-9642-7439ea3cc7b2",
   "metadata": {},
   "source": [
    "The code in this notebook passes PyCharm's type-checking. It has two errors under mypy for two cyclic (recursive) type definitions. I do not know a way around this, but I don't consider it serious. After all, the entire topic is \"recursion.\" PyCharm's type checker evidently tolerates my recursive types. Also, there are new typing services in Python 3.10 that I might try later."
   ]
  },
  {
   "cell_type": "markdown",
   "id": "bb51f61b-d3d3-4e93-808c-ff66c787428d",
   "metadata": {},
   "source": [
    "I present the dynamically-typed theory, like the original Mathematica, then follow up with static types that can be compiled, say by [LPython](https://lpython.org)."
   ]
  },
  {
   "cell_type": "markdown",
   "id": "3642a76a-4345-4aab-aced-b32847a9b0cc",
   "metadata": {},
   "source": [
    "# Introduction"
   ]
  },
  {
   "cell_type": "markdown",
   "id": "7b050c73-ebdf-4324-95ce-f75e6ae97c75",
   "metadata": {},
   "source": [
    "Imagine a simplistic Python server that lets us evaluate expressions one at a time, but does not let us define functions or global variables. Why such restrictions? So that users can't fill up server memory with definitions in a putative denial-of-service attack."
   ]
  },
  {
   "cell_type": "markdown",
   "id": "6c28f763-dfcf-4ed8-9514-9974caf74afb",
   "metadata": {},
   "source": [
    "For an example, I'd like to compute the factorial of a certain number, say 6, but the server doesn't offer a built-in for factorial. If I could define functions, I'd first send up"
   ]
  },
  {
   "cell_type": "code",
   "execution_count": 5,
   "id": "52d02980-b98a-46ff-843a-32b4c18ed446",
   "metadata": {},
   "outputs": [],
   "source": [
    "def factorial_recursive(n: int) -> int:\n",
    "    result = 1 if (n < 1) else n * factorial_recursive(n - 1)\n",
    "    return result"
   ]
  },
  {
   "cell_type": "markdown",
   "id": "fa701076-1392-4e22-b3f4-170901078d13",
   "metadata": {},
   "source": [
    "and then, later, send up"
   ]
  },
  {
   "cell_type": "code",
   "execution_count": 6,
   "id": "f6b10c7a-e3b0-48f1-9748-dea183e0ed29",
   "metadata": {},
   "outputs": [
    {
     "data": {
      "text/plain": [
       "720"
      ]
     },
     "execution_count": 6,
     "metadata": {},
     "output_type": "execute_result"
    }
   ],
   "source": [
    "factorial_recursive(6)"
   ]
  },
  {
   "cell_type": "markdown",
   "id": "a35a431a-bcf9-4b1a-a624-e50540f9d0c8",
   "metadata": {},
   "source": [
    "But that's two shots, and I only get one shot. Am I out of luck? No. In fact, the following does the trick, as this article explains:"
   ]
  },
  {
   "cell_type": "code",
   "execution_count": 7,
   "id": "dd3018fb-0a82-4e0d-8c8f-18916f3bb98d",
   "metadata": {},
   "outputs": [
    {
     "data": {
      "text/plain": [
       "720"
      ]
     },
     "execution_count": 7,
     "metadata": {},
     "output_type": "execute_result"
    }
   ],
   "source": [
    "((lambda d:\n",
    "  (lambda g: g(g))\n",
    "  (lambda sf:  # <~~~ square root of 'f'\n",
    "   d(lambda m: (sf(sf))(m))))  # <~~~ ... sf squared\n",
    " (lambda f:\n",
    "  (lambda n:         # v~~~ f at work\n",
    "   1 if n < 1 else n * f(n - 1))))(6)  # <~~~ business end"
   ]
  },
  {
   "cell_type": "markdown",
   "id": "058bdf93-9082-45cd-b798-02178323da86",
   "metadata": {},
   "source": [
    "That's a flurry of symbols, I know, but this article makes it clear, I promise. See the business end, where, seemingly magically, `f` has become the recursive function _factorial_? `f` is the \"square\" of the \"square root\" `sf` of factorial, where \"squaring a function\" means \"applying the function to itself.\""
   ]
  },
  {
   "cell_type": "markdown",
   "id": "b1afa145-4f08-4fad-86cf-d6e9b29870bb",
   "metadata": {},
   "source": [
    "## Bonus: Fast Fibonacci"
   ]
  },
  {
   "cell_type": "markdown",
   "id": "97a573bc-aaca-4177-838d-d58de7d5d646",
   "metadata": {},
   "source": [
    "As a bonus, I show how to _memoize_ [sic] anonymous recursive functions to reduce their run-time complexity. Memoizing is a kind of [_dynamic programming_](https://en.wikipedia.org/wiki/Dynamic_programming)."
   ]
  },
  {
   "cell_type": "markdown",
   "id": "2bd378f8-2c3f-42b8-90d9-4a42db9c67e8",
   "metadata": {},
   "source": [
    "# Anonymous Functions"
   ]
  },
  {
   "cell_type": "markdown",
   "id": "5faa86c2-b89a-46aa-8d32-4c5d78f0468e",
   "metadata": {},
   "source": [
    "We already know how to define anonymous functions: [Python's lambda expressions](https://docs.python.org/3.10/reference/expressions.html?highlight=lambda#lambda). Here is one that computes its argument `x` times its argument plus 1, `(x + 1)`:"
   ]
  },
  {
   "cell_type": "code",
   "execution_count": 8,
   "id": "4bbed055-21b4-4913-a469-967a24ba6540",
   "metadata": {},
   "outputs": [
    {
     "data": {
      "text/plain": [
       "<function __main__.<lambda>(x)>"
      ]
     },
     "execution_count": 8,
     "metadata": {},
     "output_type": "execute_result"
    }
   ],
   "source": [
    "(lambda x: x * (x + 1))"
   ]
  },
  {
   "cell_type": "markdown",
   "id": "29a43f58-6fab-4f90-83b4-cece5ce6f648",
   "metadata": {},
   "source": [
    "In the expression above, `x` is a _formal parameter_. It gets the value of its _actual argument_ through _function application_, as follows, with the argument following the lambda in parentheses or round brackets:"
   ]
  },
  {
   "cell_type": "code",
   "execution_count": 9,
   "id": "8f1cea3b-0955-4dc6-b57e-fc3fa1586d29",
   "metadata": {},
   "outputs": [
    {
     "data": {
      "text/plain": [
       "42"
      ]
     },
     "execution_count": 9,
     "metadata": {},
     "output_type": "execute_result"
    }
   ],
   "source": [
    "(lambda x: x * (x + 1))(6)"
   ]
  },
  {
   "cell_type": "markdown",
   "id": "eddc1cfe-c6aa-4f1d-b579-a6c2ba0d18ba",
   "metadata": {},
   "source": [
    "## Notation"
   ]
  },
  {
   "cell_type": "markdown",
   "id": "b924b6a7-56c4-49c7-9547-a1600e59de21",
   "metadata": {},
   "source": [
    "In the following, script letters like $\\mathscr{D}$ , $\\mathscr{E}$, $\\mathscr{F}$, and $\\mathscr{Y}$, are _notional names_: names we can't write for the one-shot Python server, but names of things we need to think about and don't want to keep writing out over and over again. For example, we'll see the following multiple times:"
   ]
  },
  {
   "cell_type": "raw",
   "id": "2c334aae-9119-4c6f-ad02-c080c7b91c73",
   "metadata": {},
   "source": [
    "(lambda d:\n",
    " (lambda g: g(g))\n",
    " (lambda sf:\n",
    "  d(lambda m: (sf(sf))(m))))"
   ]
  },
  {
   "cell_type": "markdown",
   "id": "4abeb2ea-bb4c-4d60-a83e-530f2e964612",
   "metadata": {},
   "source": [
    "That's a literal, denotable expression that we send to the server as part of other expressions. But it's too much to look at while thinking, so we just call it $\\mathscr{Y}$ for the sake of discussion. In fact, explaining $\\mathscr{Y}$ is the whole point of this article. It's a gadget that passes the delayed square of `sf` into domain code `d` for application. It pulls the square root magically out of a hat."
   ]
  },
  {
   "cell_type": "markdown",
   "id": "8c960c40-3f5e-448a-8a0d-8ae80f5251fa",
   "metadata": {},
   "source": [
    "# Recursion as Squaring the Square Root"
   ]
  },
  {
   "cell_type": "markdown",
   "id": "efa23673-1fc9-4add-b09e-4a0feb135898",
   "metadata": {},
   "source": [
    "We want `fact`, but the server doesn't let us define or name `fact`. But the server _does_ give us temporary names that go away in one shot: formal parameters of lambda expressions. So if we can name $\\sqrt{\\mathtt{fact}}$ as a parameter and then apply it to itself -- square it -- we get the same effect as `fact`. "
   ]
  },
  {
   "cell_type": "markdown",
   "id": "2ce114ce-a2ba-4b23-8d59-4676a69d3a63",
   "metadata": {},
   "source": [
    "More generally, for any function $\\mathscr{F}$, pass $\\sqrt{\\mathscr{F}}$ as an actual argument to $\\sqrt{\\mathscr{F}}$. Bind the actual argument $\\sqrt{\\mathscr{F}}$ to the parameter `sf`. In the body of $\\sqrt{\\mathscr{F}}$, refer to $\\mathscr{F}$ by the expression $\\mathtt{sf(sf)}=\\sqrt{\\mathscr{F}}\\left(\\sqrt{\\mathscr{F}}\\right)=\\left(\\sqrt{\\mathscr{F}}\\right)^2= \\mathscr{F}$. Square the square root by self-application to get the recursive function $\\mathscr{F}$ that we want. What a great trick! "
   ]
  },
  {
   "cell_type": "markdown",
   "id": "04a122a0-e526-44ed-8534-ba931e699828",
   "metadata": {},
   "source": [
    "Turns out we can easily compute $\\sqrt{\\mathscr{F}}$ for any function $\\mathscr{F}$. We do `fact` and `fib` as examples, then generalize. As a bonus, we speed up `fib` with a reusable technique."
   ]
  },
  {
   "cell_type": "markdown",
   "id": "3ef647c4-462d-4d37-ac23-5a346fda4015",
   "metadata": {},
   "source": [
    "## The Square Root of Factorial"
   ]
  },
  {
   "cell_type": "markdown",
   "id": "63987d44-190d-412d-b1b4-37a868e15b9a",
   "metadata": {},
   "source": [
    "To get the square root of factorial, just _assume it exists_ and has a name, `sf`, in the only allowed place, as the parameter of a lambda expression. Notionally, call the lambda expression $\\sqrt{\\mathscr{F}}$. In the body of $\\sqrt{\\mathscr{F}}$, apply `sf(sf)`, the square of `sf`, wherever you want factorial, $\\mathscr{F}$. What is the value of `sf`? Just $\\sqrt{\\mathscr{F}}$ itself! So $\\sqrt{\\mathscr{F}}\\left(\\sqrt{\\mathscr{F}}\\right)$ must be factorial, and we can apply it to numerical arguments:"
   ]
  },
  {
   "cell_type": "code",
   "execution_count": 6,
   "id": "390bc8ea-053b-4ce3-954e-7c5f73af53d8",
   "metadata": {},
   "outputs": [
    {
     "data": {
      "text/plain": [
       "720"
      ]
     },
     "execution_count": 6,
     "metadata": {},
     "output_type": "execute_result"
    }
   ],
   "source": [
    "((lambda sf: (lambda n: 1 if n < 1 else n * sf(sf)(n - 1)))\n",
    " (lambda sf: (lambda n: 1 if n < 1 else n * sf(sf)(n - 1))))(6)"
   ]
  },
  {
   "cell_type": "markdown",
   "id": "8ead4a6d-f73e-4353-a1c0-545934768db4",
   "metadata": {},
   "source": [
    "> The technique of assuming something exists and then reasoning about its properties is as old as Pythagoras. The Pythagoreans discovered that $\\sqrt{2}$, while the length of the hypotenuse of a right triangle with unit legs, is not a rational number, and they denied its existence, yet knowing its square. They were so appalled by this discovery that they instituted the death penalty for revealing it. It's possible that they executed [Hippasus](https://en.wikipedia.org/wiki/Hippasus) for revealing it. Similar stories surround the discoveries of 0, negative numbers, transcendental numbers, imaginary numbers, quaternions, and more. These were all disturbing violations of the prior known rules that only made sense through their implications. "
   ]
  },
  {
   "cell_type": "markdown",
   "id": "4a2bd98a-cb74-45ad-9809-501cf6586e36",
   "metadata": {},
   "source": [
    "Before the final actual argument, `6`, there is a lambda expression $\\sqrt{\\mathscr{F}}$=`(lambda sf: ...)` of one parameter `sf`. That lambda expression is\n",
    "applied to a cut-and-paste copy of its whole self. That self-application,  "
   ]
  },
  {
   "cell_type": "raw",
   "id": "f6c9fae3-a3c9-425a-9104-4dba026123fe",
   "metadata": {},
   "source": [
    "((lambda sf: ...)(lambda sf: ...))"
   ]
  },
  {
   "cell_type": "markdown",
   "id": "d72976f2-7d48-4e51-b7b5-8ada878a965f",
   "metadata": {},
   "source": [
    "squares $\\sqrt{\\mathscr{F}}$. Inside the recursive body -- inside the business part `(... if ... else ...)` -- there is a similar self-application, `sf(sf)`, applied to a numerical argument, `n - 1`. The external squaring, `((lambda sf: ...)(lambda sf: ...))` produces the same result as the internal squaring `sf(sf)`. "
   ]
  },
  {
   "cell_type": "markdown",
   "id": "1c7e1dad-9cc8-4f61-a4da-1baba02caba2",
   "metadata": {},
   "source": [
    "That's it! "
   ]
  },
  {
   "cell_type": "markdown",
   "id": "c5b03984-0f81-48bb-9d6a-0190e3d7aaa0",
   "metadata": {},
   "source": [
    "Stop here if all you care about is a programming pattern for anonymousa recursive functions: just replace the business part -- `(... if ... else ...))` -- in both copies where it occurs, with your desired business code, and call your recursive function via the reusable self-application syntax `sf(sf)`. "
   ]
  },
  {
   "cell_type": "markdown",
   "id": "808b0f37-0d89-44ef-a615-cd056056648f",
   "metadata": {},
   "source": [
    "However, there are worthwhile improvements. We can automate the programming pattern. We can write a general function $\\mathscr{Y}$ that squares the square root of any function $\\mathscr{F}$ and avoid all copy-paste code. That's a big deal! _Don't Repeat Yourself_ is a foundational principle of software engineering, a principle that avoids pitfalls in development and maintenance. "
   ]
  },
  {
   "cell_type": "markdown",
   "id": "0b41761e-f3ad-457b-b331-b6886f559205",
   "metadata": {},
   "source": [
    "# Four Improvements: Two Abstractions, One Model, Packaging"
   ]
  },
  {
   "cell_type": "markdown",
   "id": "5b27cd78-8e8f-45be-aa12-a8b057e4a05b",
   "metadata": {},
   "source": [
    "We have a square root $\\sqrt{\\mathscr{F}}$, that, when squared, produces the recursive ***domain function*** $\\mathscr{F}$ of the ***domain parameters***. $\\mathscr{F}$ does the real work we want. The domain function encapsulates -- returns -- the ***business function*** `(lambda n: ...)` that may refer to $\\mathscr{F}$. "
   ]
  },
  {
   "cell_type": "markdown",
   "id": "1cb112ec-5db8-4f0a-a2eb-e2f528a18005",
   "metadata": {},
   "source": [
    "Let's make a ***combinator*** (a function of a function) that can convert any function into a new function that receives its self application, `f=sf(sf)`, as its first argument. This is a twist on the prior development. We want `sf(sf)` as the value of the first parameter `f`. We want to write `((...)(lambda f: (lambda n: ...))(6)` in our example, with `(lambda f: (lambda n: ...))` as the domain function `sf(sf)` and `(lambda n: ...)` as the business function. Solve for `(...)`."
   ]
  },
  {
   "cell_type": "markdown",
   "id": "e70ad0a3-11ae-4568-9d4a-82f942ef37e9",
   "metadata": {},
   "source": [
    "First, start with the prior development, in which `sf` is the parameter in a cut-and-paste squaring of $\\sqrt{\\mathscr{F}}$. Inside the business code, replace `sf(sf)` by the parameter `f` of a new anonymous function of `f`, the domain function. Apply the new anonymous function of `f`  to `sf(sf)`. "
   ]
  },
  {
   "cell_type": "markdown",
   "id": "21d1e85a-8315-494a-a617-f7db19b3f939",
   "metadata": {},
   "source": [
    "> That's what ***abstraction*** means in general: replacing an expression $\\mathscr{E}$ with a parameter `e` of a new anonymous function, then applying that new function to $\\mathscr{E}$ as an actual argument, which becomes the value of the parameter `e`. "
   ]
  },
  {
   "cell_type": "markdown",
   "id": "0b15f08f-f238-4a77-ae66-64b3e4c45d88",
   "metadata": {},
   "source": [
    "Second, abstract the domain code into a parameter `d` of the final, general combinator $\\mathscr{Y}$ (a notional name only) so that we write the domain code only once. "
   ]
  },
  {
   "cell_type": "markdown",
   "id": "a7f8de89-3f8b-44c5-bfcf-3468851db00c",
   "metadata": {},
   "source": [
    "Here are all the improvements, spelled out for factorial:"
   ]
  },
  {
   "cell_type": "markdown",
   "id": "3eebe360-83e4-494e-b512-2b1da216aec5",
   "metadata": {},
   "source": [
    "## Step 1: Abstract the Internal Self-Application"
   ]
  },
  {
   "cell_type": "markdown",
   "id": "89a38dfb-dd5f-4145-94bc-42eea9e0181b",
   "metadata": {},
   "source": [
    "The fragment on each line, below, is the new abstracted function of `f` applied to `sf(sf)`. However, this new abstraction fails to terminate even before applied to a numerical argument:"
   ]
  },
  {
   "cell_type": "code",
   "execution_count": 10,
   "id": "10870ecd-f506-43e2-9f03-d8a7365e718d",
   "metadata": {},
   "outputs": [
    {
     "ename": "RecursionError",
     "evalue": "maximum recursion depth exceeded",
     "output_type": "error",
     "traceback": [
      "\u001b[0;31m---------------------------------------------------------------------------\u001b[0m",
      "\u001b[0;31mRecursionError\u001b[0m                            Traceback (most recent call last)",
      "Input \u001b[0;32mIn [10]\u001b[0m, in \u001b[0;36m<cell line: 1>\u001b[0;34m()\u001b[0m\n\u001b[0;32m----> 1\u001b[0m (\u001b[43m(\u001b[49m\u001b[38;5;28;43;01mlambda\u001b[39;49;00m\u001b[43m \u001b[49m\u001b[43msf\u001b[49m\u001b[43m:\u001b[49m\u001b[43m \u001b[49m\u001b[43m(\u001b[49m\u001b[38;5;28;43;01mlambda\u001b[39;49;00m\u001b[43m \u001b[49m\u001b[43mf\u001b[49m\u001b[43m:\u001b[49m\u001b[43m \u001b[49m\u001b[43m(\u001b[49m\u001b[38;5;28;43;01mlambda\u001b[39;49;00m\u001b[43m \u001b[49m\u001b[43mn\u001b[49m\u001b[43m:\u001b[49m\u001b[43m \u001b[49m\u001b[38;5;241;43m1\u001b[39;49m\u001b[43m \u001b[49m\u001b[38;5;28;43;01mif\u001b[39;49;00m\u001b[43m \u001b[49m\u001b[43mn\u001b[49m\u001b[43m \u001b[49m\u001b[38;5;241;43m<\u001b[39;49m\u001b[43m \u001b[49m\u001b[38;5;241;43m1\u001b[39;49m\u001b[43m \u001b[49m\u001b[38;5;28;43;01melse\u001b[39;49;00m\u001b[43m \u001b[49m\u001b[43mn\u001b[49m\u001b[43m \u001b[49m\u001b[38;5;241;43m*\u001b[39;49m\u001b[43m \u001b[49m\u001b[43mf\u001b[49m\u001b[43m(\u001b[49m\u001b[43mn\u001b[49m\u001b[43m \u001b[49m\u001b[38;5;241;43m-\u001b[39;49m\u001b[43m \u001b[49m\u001b[38;5;241;43m1\u001b[39;49m\u001b[43m)\u001b[49m\u001b[43m)\u001b[49m\u001b[43m)\u001b[49m\u001b[43m(\u001b[49m\u001b[43msf\u001b[49m\u001b[43m(\u001b[49m\u001b[43msf\u001b[49m\u001b[43m)\u001b[49m\u001b[43m)\u001b[49m\u001b[43m)\u001b[49m\n\u001b[1;32m      2\u001b[0m \u001b[43m \u001b[49m\u001b[43m(\u001b[49m\u001b[38;5;28;43;01mlambda\u001b[39;49;00m\u001b[43m \u001b[49m\u001b[43msf\u001b[49m\u001b[43m:\u001b[49m\u001b[43m \u001b[49m\u001b[43m(\u001b[49m\u001b[38;5;28;43;01mlambda\u001b[39;49;00m\u001b[43m \u001b[49m\u001b[43mf\u001b[49m\u001b[43m:\u001b[49m\u001b[43m \u001b[49m\u001b[43m(\u001b[49m\u001b[38;5;28;43;01mlambda\u001b[39;49;00m\u001b[43m \u001b[49m\u001b[43mn\u001b[49m\u001b[43m:\u001b[49m\u001b[43m \u001b[49m\u001b[38;5;241;43m1\u001b[39;49m\u001b[43m \u001b[49m\u001b[38;5;28;43;01mif\u001b[39;49;00m\u001b[43m \u001b[49m\u001b[43mn\u001b[49m\u001b[43m \u001b[49m\u001b[38;5;241;43m<\u001b[39;49m\u001b[43m \u001b[49m\u001b[38;5;241;43m1\u001b[39;49m\u001b[43m \u001b[49m\u001b[38;5;28;43;01melse\u001b[39;49;00m\u001b[43m \u001b[49m\u001b[43mn\u001b[49m\u001b[43m \u001b[49m\u001b[38;5;241;43m*\u001b[39;49m\u001b[43m \u001b[49m\u001b[43mf\u001b[49m\u001b[43m(\u001b[49m\u001b[43mn\u001b[49m\u001b[43m \u001b[49m\u001b[38;5;241;43m-\u001b[39;49m\u001b[43m \u001b[49m\u001b[38;5;241;43m1\u001b[39;49m\u001b[43m)\u001b[49m\u001b[43m)\u001b[49m\u001b[43m)\u001b[49m\u001b[43m(\u001b[49m\u001b[43msf\u001b[49m\u001b[43m(\u001b[49m\u001b[43msf\u001b[49m\u001b[43m)\u001b[49m\u001b[43m)\u001b[49m\u001b[43m)\u001b[49m)\n",
      "Input \u001b[0;32mIn [10]\u001b[0m, in \u001b[0;36m<lambda>\u001b[0;34m(sf)\u001b[0m\n\u001b[0;32m----> 1\u001b[0m ((\u001b[38;5;28;01mlambda\u001b[39;00m sf: (\u001b[38;5;28;01mlambda\u001b[39;00m f: (\u001b[38;5;28;01mlambda\u001b[39;00m n: \u001b[38;5;241m1\u001b[39m \u001b[38;5;28;01mif\u001b[39;00m n \u001b[38;5;241m<\u001b[39m \u001b[38;5;241m1\u001b[39m \u001b[38;5;28;01melse\u001b[39;00m n \u001b[38;5;241m*\u001b[39m f(n \u001b[38;5;241m-\u001b[39m \u001b[38;5;241m1\u001b[39m)))(\u001b[43msf\u001b[49m\u001b[43m(\u001b[49m\u001b[43msf\u001b[49m\u001b[43m)\u001b[49m))\n\u001b[1;32m      2\u001b[0m  (\u001b[38;5;28;01mlambda\u001b[39;00m sf: (\u001b[38;5;28;01mlambda\u001b[39;00m f: (\u001b[38;5;28;01mlambda\u001b[39;00m n: \u001b[38;5;241m1\u001b[39m \u001b[38;5;28;01mif\u001b[39;00m n \u001b[38;5;241m<\u001b[39m \u001b[38;5;241m1\u001b[39m \u001b[38;5;28;01melse\u001b[39;00m n \u001b[38;5;241m*\u001b[39m f(n \u001b[38;5;241m-\u001b[39m \u001b[38;5;241m1\u001b[39m)))(sf(sf))))\n",
      "Input \u001b[0;32mIn [10]\u001b[0m, in \u001b[0;36m<lambda>\u001b[0;34m(sf)\u001b[0m\n\u001b[1;32m      1\u001b[0m ((\u001b[38;5;28;01mlambda\u001b[39;00m sf: (\u001b[38;5;28;01mlambda\u001b[39;00m f: (\u001b[38;5;28;01mlambda\u001b[39;00m n: \u001b[38;5;241m1\u001b[39m \u001b[38;5;28;01mif\u001b[39;00m n \u001b[38;5;241m<\u001b[39m \u001b[38;5;241m1\u001b[39m \u001b[38;5;28;01melse\u001b[39;00m n \u001b[38;5;241m*\u001b[39m f(n \u001b[38;5;241m-\u001b[39m \u001b[38;5;241m1\u001b[39m)))(sf(sf)))\n\u001b[0;32m----> 2\u001b[0m  (\u001b[38;5;28;01mlambda\u001b[39;00m sf: (\u001b[38;5;28;01mlambda\u001b[39;00m f: (\u001b[38;5;28;01mlambda\u001b[39;00m n: \u001b[38;5;241m1\u001b[39m \u001b[38;5;28;01mif\u001b[39;00m n \u001b[38;5;241m<\u001b[39m \u001b[38;5;241m1\u001b[39m \u001b[38;5;28;01melse\u001b[39;00m n \u001b[38;5;241m*\u001b[39m f(n \u001b[38;5;241m-\u001b[39m \u001b[38;5;241m1\u001b[39m)))(\u001b[43msf\u001b[49m\u001b[43m(\u001b[49m\u001b[43msf\u001b[49m\u001b[43m)\u001b[49m)))\n",
      "Input \u001b[0;32mIn [10]\u001b[0m, in \u001b[0;36m<lambda>\u001b[0;34m(sf)\u001b[0m\n\u001b[1;32m      1\u001b[0m ((\u001b[38;5;28;01mlambda\u001b[39;00m sf: (\u001b[38;5;28;01mlambda\u001b[39;00m f: (\u001b[38;5;28;01mlambda\u001b[39;00m n: \u001b[38;5;241m1\u001b[39m \u001b[38;5;28;01mif\u001b[39;00m n \u001b[38;5;241m<\u001b[39m \u001b[38;5;241m1\u001b[39m \u001b[38;5;28;01melse\u001b[39;00m n \u001b[38;5;241m*\u001b[39m f(n \u001b[38;5;241m-\u001b[39m \u001b[38;5;241m1\u001b[39m)))(sf(sf)))\n\u001b[0;32m----> 2\u001b[0m  (\u001b[38;5;28;01mlambda\u001b[39;00m sf: (\u001b[38;5;28;01mlambda\u001b[39;00m f: (\u001b[38;5;28;01mlambda\u001b[39;00m n: \u001b[38;5;241m1\u001b[39m \u001b[38;5;28;01mif\u001b[39;00m n \u001b[38;5;241m<\u001b[39m \u001b[38;5;241m1\u001b[39m \u001b[38;5;28;01melse\u001b[39;00m n \u001b[38;5;241m*\u001b[39m f(n \u001b[38;5;241m-\u001b[39m \u001b[38;5;241m1\u001b[39m)))(\u001b[43msf\u001b[49m\u001b[43m(\u001b[49m\u001b[43msf\u001b[49m\u001b[43m)\u001b[49m)))\n",
      "    \u001b[0;31m[... skipping similar frames: <lambda> at line 2 (2969 times)]\u001b[0m\n",
      "Input \u001b[0;32mIn [10]\u001b[0m, in \u001b[0;36m<lambda>\u001b[0;34m(sf)\u001b[0m\n\u001b[1;32m      1\u001b[0m ((\u001b[38;5;28;01mlambda\u001b[39;00m sf: (\u001b[38;5;28;01mlambda\u001b[39;00m f: (\u001b[38;5;28;01mlambda\u001b[39;00m n: \u001b[38;5;241m1\u001b[39m \u001b[38;5;28;01mif\u001b[39;00m n \u001b[38;5;241m<\u001b[39m \u001b[38;5;241m1\u001b[39m \u001b[38;5;28;01melse\u001b[39;00m n \u001b[38;5;241m*\u001b[39m f(n \u001b[38;5;241m-\u001b[39m \u001b[38;5;241m1\u001b[39m)))(sf(sf)))\n\u001b[0;32m----> 2\u001b[0m  (\u001b[38;5;28;01mlambda\u001b[39;00m sf: (\u001b[38;5;28;01mlambda\u001b[39;00m f: (\u001b[38;5;28;01mlambda\u001b[39;00m n: \u001b[38;5;241m1\u001b[39m \u001b[38;5;28;01mif\u001b[39;00m n \u001b[38;5;241m<\u001b[39m \u001b[38;5;241m1\u001b[39m \u001b[38;5;28;01melse\u001b[39;00m n \u001b[38;5;241m*\u001b[39m f(n \u001b[38;5;241m-\u001b[39m \u001b[38;5;241m1\u001b[39m)))(\u001b[43msf\u001b[49m\u001b[43m(\u001b[49m\u001b[43msf\u001b[49m\u001b[43m)\u001b[49m)))\n",
      "\u001b[0;31mRecursionError\u001b[0m: maximum recursion depth exceeded"
     ]
    }
   ],
   "source": [
    "((lambda sf: (lambda f: (lambda n: 1 if n < 1 else n * f(n - 1)))(sf(sf)))\n",
    " (lambda sf: (lambda f: (lambda n: 1 if n < 1 else n * f(n - 1)))(sf(sf))))"
   ]
  },
  {
   "cell_type": "markdown",
   "id": "8f4b4f5b-9c83-401d-9329-341518af4a4b",
   "metadata": {},
   "source": [
    "Why? Let's calculate. Let $\\mathscr{s}\\mathscr{F}$, notionally, stand for this function of `sf` that binds `sf(sf)` to the parameter `f`:"
   ]
  },
  {
   "cell_type": "code",
   "execution_count": 11,
   "id": "4d83b0a0-7f37-4de1-b639-ba0a811e6259",
   "metadata": {},
   "outputs": [],
   "source": [
    "𝓈ℱ = (lambda sf: (lambda f: (lambda n: 1 if n < 1 else n * f(n - 1)))(sf(sf)))"
   ]
  },
  {
   "cell_type": "code",
   "execution_count": 12,
   "id": "9817c30a-64aa-43d7-a9e7-5fb8538705e4",
   "metadata": {},
   "outputs": [
    {
     "data": {
      "text/plain": [
       "<function __main__.<lambda>(sf)>"
      ]
     },
     "execution_count": 12,
     "metadata": {},
     "output_type": "execute_result"
    }
   ],
   "source": [
    "𝓈ℱ"
   ]
  },
  {
   "cell_type": "markdown",
   "id": "f9e57d8e-5571-48c8-9677-204e4b363017",
   "metadata": {},
   "source": [
    "So far, so good. Apply $\\mathscr{s}\\mathscr{F}$ -- this function of `sf` -- to a copy of itself exactly as before: "
   ]
  },
  {
   "cell_type": "code",
   "execution_count": 13,
   "id": "4578ce5d-bd51-49f8-8293-83005d828216",
   "metadata": {},
   "outputs": [
    {
     "ename": "RecursionError",
     "evalue": "maximum recursion depth exceeded",
     "output_type": "error",
     "traceback": [
      "\u001b[0;31m---------------------------------------------------------------------------\u001b[0m",
      "\u001b[0;31mRecursionError\u001b[0m                            Traceback (most recent call last)",
      "Input \u001b[0;32mIn [13]\u001b[0m, in \u001b[0;36m<cell line: 1>\u001b[0;34m()\u001b[0m\n\u001b[0;32m----> 1\u001b[0m \u001b[43m𝓈ℱ\u001b[49m\u001b[43m(\u001b[49m\u001b[43m𝓈ℱ\u001b[49m\u001b[43m)\u001b[49m\n",
      "Input \u001b[0;32mIn [11]\u001b[0m, in \u001b[0;36m<lambda>\u001b[0;34m(sf)\u001b[0m\n\u001b[0;32m----> 1\u001b[0m 𝓈ℱ \u001b[38;5;241m=\u001b[39m (\u001b[38;5;28;01mlambda\u001b[39;00m sf: (\u001b[38;5;28;01mlambda\u001b[39;00m f: (\u001b[38;5;28;01mlambda\u001b[39;00m n: \u001b[38;5;241m1\u001b[39m \u001b[38;5;28;01mif\u001b[39;00m n \u001b[38;5;241m<\u001b[39m \u001b[38;5;241m1\u001b[39m \u001b[38;5;28;01melse\u001b[39;00m n \u001b[38;5;241m*\u001b[39m f(n \u001b[38;5;241m-\u001b[39m \u001b[38;5;241m1\u001b[39m)))(\u001b[43msf\u001b[49m\u001b[43m(\u001b[49m\u001b[43msf\u001b[49m\u001b[43m)\u001b[49m))\n",
      "Input \u001b[0;32mIn [11]\u001b[0m, in \u001b[0;36m<lambda>\u001b[0;34m(sf)\u001b[0m\n\u001b[0;32m----> 1\u001b[0m 𝓈ℱ \u001b[38;5;241m=\u001b[39m (\u001b[38;5;28;01mlambda\u001b[39;00m sf: (\u001b[38;5;28;01mlambda\u001b[39;00m f: (\u001b[38;5;28;01mlambda\u001b[39;00m n: \u001b[38;5;241m1\u001b[39m \u001b[38;5;28;01mif\u001b[39;00m n \u001b[38;5;241m<\u001b[39m \u001b[38;5;241m1\u001b[39m \u001b[38;5;28;01melse\u001b[39;00m n \u001b[38;5;241m*\u001b[39m f(n \u001b[38;5;241m-\u001b[39m \u001b[38;5;241m1\u001b[39m)))(\u001b[43msf\u001b[49m\u001b[43m(\u001b[49m\u001b[43msf\u001b[49m\u001b[43m)\u001b[49m))\n",
      "    \u001b[0;31m[... skipping similar frames: <lambda> at line 1 (2970 times)]\u001b[0m\n",
      "Input \u001b[0;32mIn [11]\u001b[0m, in \u001b[0;36m<lambda>\u001b[0;34m(sf)\u001b[0m\n\u001b[0;32m----> 1\u001b[0m 𝓈ℱ \u001b[38;5;241m=\u001b[39m (\u001b[38;5;28;01mlambda\u001b[39;00m sf: (\u001b[38;5;28;01mlambda\u001b[39;00m f: (\u001b[38;5;28;01mlambda\u001b[39;00m n: \u001b[38;5;241m1\u001b[39m \u001b[38;5;28;01mif\u001b[39;00m n \u001b[38;5;241m<\u001b[39m \u001b[38;5;241m1\u001b[39m \u001b[38;5;28;01melse\u001b[39;00m n \u001b[38;5;241m*\u001b[39m f(n \u001b[38;5;241m-\u001b[39m \u001b[38;5;241m1\u001b[39m)))(\u001b[43msf\u001b[49m\u001b[43m(\u001b[49m\u001b[43msf\u001b[49m\u001b[43m)\u001b[49m))\n",
      "\u001b[0;31mRecursionError\u001b[0m: maximum recursion depth exceeded"
     ]
    }
   ],
   "source": [
    "𝓈ℱ(𝓈ℱ)"
   ]
  },
  {
   "cell_type": "markdown",
   "id": "a008afdf-c955-472f-82d6-dd8e45274d18",
   "metadata": {},
   "source": [
    "This can't work. The argument `sf(sf)` is evaluated to $\\mathscr{s}\\mathscr{F}\\left(\\mathscr{s}\\mathscr{F}\\right)$ before being bound to `f` , but there we go evaluating `sf(sf)` again before knowing what it is! "
   ]
  },
  {
   "cell_type": "markdown",
   "id": "459317af-4f53-4f09-9942-cda3d6262ba7",
   "metadata": {},
   "source": [
    "> That is ***applicative-order evaluation*** or ***call-by-value*** -- evaluate arguments before applying the function. It's the norm in most practical programming languages like Mathematica, Scheme, Python, C/C++, etc. It's too early for this job. An alternative is ***normal-order evaluation*** or ***call-by-name***."
   ]
  },
  {
   "cell_type": "markdown",
   "id": "35f71230-b7ca-4db8-be53-42b2442601c9",
   "metadata": {},
   "source": [
    "This unbounded recursion has nothing to do with the business code inside `(lambda f: ...)`; we never get there. The following has trivial business code:"
   ]
  },
  {
   "cell_type": "code",
   "execution_count": 11,
   "id": "9fe0d7b6-8175-4e20-8e3a-eb7ceac7a0ee",
   "metadata": {},
   "outputs": [
    {
     "ename": "RecursionError",
     "evalue": "maximum recursion depth exceeded",
     "output_type": "error",
     "traceback": [
      "\u001b[0;31m---------------------------------------------------------------------------\u001b[0m",
      "\u001b[0;31mRecursionError\u001b[0m                            Traceback (most recent call last)",
      "Input \u001b[0;32mIn [11]\u001b[0m, in \u001b[0;36m<cell line: 1>\u001b[0;34m()\u001b[0m\n\u001b[0;32m----> 1\u001b[0m (\u001b[43m(\u001b[49m\u001b[38;5;28;43;01mlambda\u001b[39;49;00m\u001b[43m \u001b[49m\u001b[43msf\u001b[49m\u001b[43m:\u001b[49m\u001b[43m \u001b[49m\u001b[43m(\u001b[49m\u001b[38;5;28;43;01mlambda\u001b[39;49;00m\u001b[43m \u001b[49m\u001b[43mf\u001b[49m\u001b[43m:\u001b[49m\u001b[43m \u001b[49m\u001b[43m(\u001b[49m\u001b[38;5;28;43;01mlambda\u001b[39;49;00m\u001b[43m \u001b[49m\u001b[43mn\u001b[49m\u001b[43m:\u001b[49m\u001b[43m \u001b[49m\u001b[38;5;241;43m0\u001b[39;49m\u001b[43m)\u001b[49m\u001b[43m)\u001b[49m\u001b[43m(\u001b[49m\u001b[43msf\u001b[49m\u001b[43m(\u001b[49m\u001b[43msf\u001b[49m\u001b[43m)\u001b[49m\u001b[43m)\u001b[49m\u001b[43m)\u001b[49m\n\u001b[1;32m      2\u001b[0m \u001b[43m \u001b[49m\u001b[43m(\u001b[49m\u001b[38;5;28;43;01mlambda\u001b[39;49;00m\u001b[43m \u001b[49m\u001b[43msf\u001b[49m\u001b[43m:\u001b[49m\u001b[43m \u001b[49m\u001b[43m(\u001b[49m\u001b[38;5;28;43;01mlambda\u001b[39;49;00m\u001b[43m \u001b[49m\u001b[43mf\u001b[49m\u001b[43m:\u001b[49m\u001b[43m \u001b[49m\u001b[43m(\u001b[49m\u001b[38;5;28;43;01mlambda\u001b[39;49;00m\u001b[43m \u001b[49m\u001b[43mn\u001b[49m\u001b[43m:\u001b[49m\u001b[43m \u001b[49m\u001b[38;5;241;43m0\u001b[39;49m\u001b[43m)\u001b[49m\u001b[43m)\u001b[49m\u001b[43m(\u001b[49m\u001b[43msf\u001b[49m\u001b[43m(\u001b[49m\u001b[43msf\u001b[49m\u001b[43m)\u001b[49m\u001b[43m)\u001b[49m\u001b[43m)\u001b[49m)\n",
      "Input \u001b[0;32mIn [11]\u001b[0m, in \u001b[0;36m<lambda>\u001b[0;34m(sf)\u001b[0m\n\u001b[0;32m----> 1\u001b[0m ((\u001b[38;5;28;01mlambda\u001b[39;00m sf: (\u001b[38;5;28;01mlambda\u001b[39;00m f: (\u001b[38;5;28;01mlambda\u001b[39;00m n: \u001b[38;5;241m0\u001b[39m))(\u001b[43msf\u001b[49m\u001b[43m(\u001b[49m\u001b[43msf\u001b[49m\u001b[43m)\u001b[49m))\n\u001b[1;32m      2\u001b[0m  (\u001b[38;5;28;01mlambda\u001b[39;00m sf: (\u001b[38;5;28;01mlambda\u001b[39;00m f: (\u001b[38;5;28;01mlambda\u001b[39;00m n: \u001b[38;5;241m0\u001b[39m))(sf(sf))))\n",
      "Input \u001b[0;32mIn [11]\u001b[0m, in \u001b[0;36m<lambda>\u001b[0;34m(sf)\u001b[0m\n\u001b[1;32m      1\u001b[0m ((\u001b[38;5;28;01mlambda\u001b[39;00m sf: (\u001b[38;5;28;01mlambda\u001b[39;00m f: (\u001b[38;5;28;01mlambda\u001b[39;00m n: \u001b[38;5;241m0\u001b[39m))(sf(sf)))\n\u001b[0;32m----> 2\u001b[0m  (\u001b[38;5;28;01mlambda\u001b[39;00m sf: (\u001b[38;5;28;01mlambda\u001b[39;00m f: (\u001b[38;5;28;01mlambda\u001b[39;00m n: \u001b[38;5;241m0\u001b[39m))(\u001b[43msf\u001b[49m\u001b[43m(\u001b[49m\u001b[43msf\u001b[49m\u001b[43m)\u001b[49m)))\n",
      "Input \u001b[0;32mIn [11]\u001b[0m, in \u001b[0;36m<lambda>\u001b[0;34m(sf)\u001b[0m\n\u001b[1;32m      1\u001b[0m ((\u001b[38;5;28;01mlambda\u001b[39;00m sf: (\u001b[38;5;28;01mlambda\u001b[39;00m f: (\u001b[38;5;28;01mlambda\u001b[39;00m n: \u001b[38;5;241m0\u001b[39m))(sf(sf)))\n\u001b[0;32m----> 2\u001b[0m  (\u001b[38;5;28;01mlambda\u001b[39;00m sf: (\u001b[38;5;28;01mlambda\u001b[39;00m f: (\u001b[38;5;28;01mlambda\u001b[39;00m n: \u001b[38;5;241m0\u001b[39m))(\u001b[43msf\u001b[49m\u001b[43m(\u001b[49m\u001b[43msf\u001b[49m\u001b[43m)\u001b[49m)))\n",
      "    \u001b[0;31m[... skipping similar frames: <lambda> at line 2 (2969 times)]\u001b[0m\n",
      "Input \u001b[0;32mIn [11]\u001b[0m, in \u001b[0;36m<lambda>\u001b[0;34m(sf)\u001b[0m\n\u001b[1;32m      1\u001b[0m ((\u001b[38;5;28;01mlambda\u001b[39;00m sf: (\u001b[38;5;28;01mlambda\u001b[39;00m f: (\u001b[38;5;28;01mlambda\u001b[39;00m n: \u001b[38;5;241m0\u001b[39m))(sf(sf)))\n\u001b[0;32m----> 2\u001b[0m  (\u001b[38;5;28;01mlambda\u001b[39;00m sf: (\u001b[38;5;28;01mlambda\u001b[39;00m f: (\u001b[38;5;28;01mlambda\u001b[39;00m n: \u001b[38;5;241m0\u001b[39m))(\u001b[43msf\u001b[49m\u001b[43m(\u001b[49m\u001b[43msf\u001b[49m\u001b[43m)\u001b[49m)))\n",
      "\u001b[0;31mRecursionError\u001b[0m: maximum recursion depth exceeded"
     ]
    }
   ],
   "source": [
    "((lambda sf: (lambda f: (lambda n: 0))(sf(sf)))\n",
    " (lambda sf: (lambda f: (lambda n: 0))(sf(sf))))"
   ]
  },
  {
   "cell_type": "markdown",
   "id": "98a35af0-55f0-4e25-a42e-d4d7eb64f826",
   "metadata": {},
   "source": [
    "### Delay the Squaring"
   ]
  },
  {
   "cell_type": "markdown",
   "id": "6af820ac-9abf-44e8-9e11-0790c16b6ff8",
   "metadata": {},
   "source": [
    "Delay evaluation of `sf(sf)` by redefining $\\mathscr{s}\\mathscr{F}$ to apply, instead of `f`, "
   ]
  },
  {
   "cell_type": "code",
   "execution_count": 12,
   "id": "c62c9888-9323-4fb2-9a29-f87e5a5ac3b2",
   "metadata": {},
   "outputs": [
    {
     "data": {
      "text/plain": [
       "<function __main__.<lambda>(m)>"
      ]
     },
     "execution_count": 12,
     "metadata": {},
     "output_type": "execute_result"
    }
   ],
   "source": [
    "(lambda m: sf(sf)(m))"
   ]
  },
  {
   "cell_type": "markdown",
   "id": "f1198a30-0572-4b3a-b672-7df1a0fe2bad",
   "metadata": {},
   "source": [
    "to the numerical argument, as follows:"
   ]
  },
  {
   "cell_type": "code",
   "execution_count": 13,
   "id": "55c9afff-5303-403a-a32f-451cbaf80b24",
   "metadata": {},
   "outputs": [
    {
     "data": {
      "text/plain": [
       "<function __main__.<lambda>(sf)>"
      ]
     },
     "execution_count": 13,
     "metadata": {},
     "output_type": "execute_result"
    }
   ],
   "source": [
    "(lambda sf: \n",
    " (lambda f: \n",
    "  (lambda n: 1 if n < 1 else n * f(n - 1)))\\\n",
    " (lambda m: sf(sf)(m))(n - 1))"
   ]
  },
  {
   "cell_type": "markdown",
   "id": "581924e5-cf33-4eb4-94a6-e9018c7f6764",
   "metadata": {},
   "source": [
    "`(lambda m: sf(sf)(m))` always has the same value as `sf(sf)` when applied to any argument. The two expressions just evaluate `sf(sf)` at different times. In the first case, `sf(sf)` is evaluated later when `(lambda m: sf(sf)(m))` is applied to the argument `n`, substituting the value of `n` for the parameter `m`. "
   ]
  },
  {
   "cell_type": "markdown",
   "id": "835bd7d9-db67-4f09-ad37-d390e7b65062",
   "metadata": {},
   "source": [
    "> This is a general technique for delaying the application of any function: replace the application with a function of some (any) parameter, the new function getting evaluated at the correct time. "
   ]
  },
  {
   "cell_type": "markdown",
   "id": "7ae8a8ce-50e2-4eb6-948f-5a4b4d2b0827",
   "metadata": {},
   "source": [
    "> In lazy languages like Haskell, this step is automatic and implicit -- we don't write it -- because evaluatio is always delayed. That's similar to normal-order evaluation, maybe even equivalent."
   ]
  },
  {
   "cell_type": "markdown",
   "id": "99e7cf2c-a836-4059-8f19-bfdddd4a5b00",
   "metadata": {},
   "source": [
    "Let's back off and write our very first original self-application with `(lambda m: sf(sf)(m))` manually in place of `f`."
   ]
  },
  {
   "cell_type": "code",
   "execution_count": 14,
   "id": "84282de1-fac6-4b8b-ae39-c9c135643059",
   "metadata": {},
   "outputs": [
    {
     "data": {
      "text/plain": [
       "720"
      ]
     },
     "execution_count": 14,
     "metadata": {},
     "output_type": "execute_result"
    }
   ],
   "source": [
    "((lambda sf: \n",
    "  (lambda n: 1 if n < 1 else n * (lambda m: sf(sf)(m))(n - 1)))\n",
    " (lambda sf: \n",
    "  (lambda n: 1 if n < 1 else n * (lambda m: sf(sf)(m))(n - 1))))(6)"
   ]
  },
  {
   "cell_type": "markdown",
   "id": "4ea55d57-5e86-41e3-ac5a-513bf05dfc8b",
   "metadata": {},
   "source": [
    "the result does not spin forever because evaluation of `sf(sf)` is delayed until needed on the argument $n=6$."
   ]
  },
  {
   "cell_type": "markdown",
   "id": "ad561de1-0260-4b46-804b-6846acb19b56",
   "metadata": {},
   "source": [
    "Now, as before, abstract `(lambda m: sf(sf)(m)`, merely a delayed version of `sf(sf)`, into a parameter `f` of a new lambda, the domain function:"
   ]
  },
  {
   "cell_type": "code",
   "execution_count": 15,
   "id": "717c633c-b046-4ada-ae54-8f0f41e804b6",
   "metadata": {},
   "outputs": [
    {
     "data": {
      "text/plain": [
       "720"
      ]
     },
     "execution_count": 15,
     "metadata": {},
     "output_type": "execute_result"
    }
   ],
   "source": [
    "((lambda sf: \n",
    "  (lambda f:\n",
    "   (lambda n: 1 if n < 1 else n * f(n - 1)))(lambda m: sf(sf)(m)))\n",
    " (lambda sf: \n",
    "  (lambda f:\n",
    "   (lambda n: 1 if n < 1 else n * f(n - 1)))(lambda m: sf(sf)(m))))(6)"
   ]
  },
  {
   "cell_type": "markdown",
   "id": "d4b1c833-ac45-48dd-a415-76e9dd5330bf",
   "metadata": {},
   "source": [
    "## Step 2: Abstract the Domain Code"
   ]
  },
  {
   "cell_type": "markdown",
   "id": "9aed3281-fa8a-45fa-aa3e-8aa9d9027bad",
   "metadata": {},
   "source": [
    "The abstraction on `f` now completely and minimally encloses the domain code :"
   ]
  },
  {
   "cell_type": "code",
   "execution_count": 16,
   "id": "99a2391a-b4d8-4164-80e2-c94721aaeaa9",
   "metadata": {},
   "outputs": [],
   "source": [
    "𝒟 = (lambda f: (lambda n: 1 if n < 1 else n * f(n-1)))"
   ]
  },
  {
   "cell_type": "markdown",
   "id": "64647562-4497-40e5-b2f9-b96fd4a349c4",
   "metadata": {},
   "source": [
    "but that code is still copy-pasted. Abstract it:"
   ]
  },
  {
   "cell_type": "markdown",
   "id": "491955e0-413f-4a29-82fe-2bd34dcf5886",
   "metadata": {},
   "source": [
    "1. Write a new function of a parameter `d` \n",
    "2. with a body that replaces $\\mathscr{D}$,the old function of `f`, with an application of `d`.\n",
    "3. Apply that new function of `d` to the old function of `f`"
   ]
  },
  {
   "cell_type": "code",
   "execution_count": 17,
   "id": "ba38604f-71ee-4ea2-809f-8bb65e5e4289",
   "metadata": {},
   "outputs": [
    {
     "data": {
      "text/plain": [
       "720"
      ]
     },
     "execution_count": 17,
     "metadata": {},
     "output_type": "execute_result"
    }
   ],
   "source": [
    "((lambda d: \n",
    "  (lambda sf: d(lambda m: sf(sf)(m)))\n",
    "  (lambda sf: d(lambda m: sf(sf)(m))))\n",
    " (lambda f:  # this is 𝒟\n",
    "  (lambda n: 1 if n < 1 else n * f(n - 1))))(6)"
   ]
  },
  {
   "cell_type": "markdown",
   "id": "76e17c32-fb93-4ecc-a551-293bfbb7036f",
   "metadata": {},
   "source": [
    "We still have some copy-paste repetion. Let's get rid of it ..."
   ]
  },
  {
   "cell_type": "markdown",
   "id": "2ddb0667-6794-498d-a937-fd8d82860fde",
   "metadata": {},
   "source": [
    "## Step 3: Model the Self-Application"
   ]
  },
  {
   "cell_type": "markdown",
   "id": "c7015716-7a58-4c00-b3ee-cdd1830cd20e",
   "metadata": {},
   "source": [
    "... by abstraction again! Write a function `(lambda g: g(g))` that just self-applies any other function. Replace the self-application "
   ]
  },
  {
   "cell_type": "raw",
   "id": "3fbe6e36-e4e6-47bd-980b-3b43b8009d69",
   "metadata": {},
   "source": [
    "(lambda sf: d(lambda m: sf(sf)(m)))\n",
    "(lambda sf: d(lambda m: sf(sf)(m)))"
   ]
  },
  {
   "cell_type": "markdown",
   "id": "895af844-81c3-4476-bf75-4645cf0fe4ab",
   "metadata": {},
   "source": [
    "with an application of `(lambda g: g(g))` to `(lambda sf: d(lambda m: sf(sf)(m)))`:"
   ]
  },
  {
   "cell_type": "code",
   "execution_count": 18,
   "id": "6e0424ea-703e-4a8a-bc58-68a71775032c",
   "metadata": {},
   "outputs": [
    {
     "data": {
      "text/plain": [
       "720"
      ]
     },
     "execution_count": 18,
     "metadata": {},
     "output_type": "execute_result"
    }
   ],
   "source": [
    "((lambda d: \n",
    "  (lambda g: g(g))\n",
    "  (lambda sf: \n",
    "   d(lambda m: sf(sf)(m))))\n",
    " (lambda f:  # this is 𝒟\n",
    "  (lambda n: \n",
    "   1 if n < 1 else n * f(n - 1))))(6)"
   ]
  },
  {
   "cell_type": "markdown",
   "id": "8bc442a3-298c-4283-92bb-f37c38d9c210",
   "metadata": {},
   "source": [
    "We're done! That's the same expression we had in cell no. 3 up top."
   ]
  },
  {
   "cell_type": "markdown",
   "id": "754839a2-70d3-4cd0-adf2-ca08b6bf3bff",
   "metadata": {},
   "source": [
    "### Demonstrate the Generality"
   ]
  },
  {
   "cell_type": "markdown",
   "id": "d38565fe-38e2-4f91-b94e-14862b4f50ee",
   "metadata": {},
   "source": [
    "Try the outer combinator -- which always stays the same -- on some new domain code, which we only write once. This is slow Fibonacci, as we shall see:"
   ]
  },
  {
   "cell_type": "code",
   "execution_count": 19,
   "id": "b19979ea-4b6e-49c7-87e3-9c7b50aa766c",
   "metadata": {},
   "outputs": [
    {
     "data": {
      "text/plain": [
       "13"
      ]
     },
     "execution_count": 19,
     "metadata": {},
     "output_type": "execute_result"
    }
   ],
   "source": [
    "((lambda d: (lambda g: g(g))\n",
    "  (lambda sf: \n",
    "   d(lambda m: sf(sf)(m))))\n",
    " (lambda f:  # this is 𝒟\n",
    "  (lambda n: \n",
    "   1 if n < 2 else f(n - 1) + f(n - 2))))(6)"
   ]
  },
  {
   "cell_type": "markdown",
   "id": "3788973b-c5df-42e6-9fcd-61befbe9e057",
   "metadata": {},
   "source": [
    "## Step 4: Package as a Combinator"
   ]
  },
  {
   "cell_type": "markdown",
   "id": "c275f7ca-0daf-468e-9a1f-cae76d97201a",
   "metadata": {},
   "source": [
    "Package the outer combinator as a notional function $\\mathscr{Y}$:"
   ]
  },
  {
   "cell_type": "code",
   "execution_count": 20,
   "id": "aa44141b-b7b5-4afe-b5f3-0d558b6f043f",
   "metadata": {},
   "outputs": [],
   "source": [
    "𝒴 = (lambda d: (lambda g: g(g))\n",
    "      (lambda sf: d(lambda m: sf(sf)(m))))"
   ]
  },
  {
   "cell_type": "markdown",
   "id": "578fb1c2-5273-4d8a-9dd5-21799a9f891c",
   "metadata": {},
   "source": [
    "and test on our two examples"
   ]
  },
  {
   "cell_type": "code",
   "execution_count": 21,
   "id": "077cf604-df6e-4e48-8937-93292802fab9",
   "metadata": {},
   "outputs": [
    {
     "data": {
      "text/plain": [
       "720"
      ]
     },
     "execution_count": 21,
     "metadata": {},
     "output_type": "execute_result"
    }
   ],
   "source": [
    "𝒴(lambda f: \n",
    "   (lambda n: \n",
    "    1 if n < 1 else n * f(n - 1)))(6)"
   ]
  },
  {
   "cell_type": "code",
   "execution_count": 22,
   "id": "218781af-268f-47af-9977-08855f412c8e",
   "metadata": {},
   "outputs": [
    {
     "data": {
      "text/plain": [
       "13"
      ]
     },
     "execution_count": 22,
     "metadata": {},
     "output_type": "execute_result"
    }
   ],
   "source": [
    "𝒴(lambda f: \n",
    "   (lambda n: \n",
    "    1 if n < 2 else f(n - 1) + f(n - 2)))(6)"
   ]
  },
  {
   "cell_type": "markdown",
   "id": "4e7683fb-962b-4898-b02b-f61b55ade28c",
   "metadata": {},
   "source": [
    "# Static Types"
   ]
  },
  {
   "cell_type": "markdown",
   "id": "1c2060f6-fd7f-4a98-bda8-dc7fce906f79",
   "metadata": {},
   "source": [
    "Temporarily forgetting about our one-shot server, let's write static types. Why? Because a compiler might generate fast code if it knew the types; and, because it's interesting. We leave the world of lambdas and enter the world of `def`."
   ]
  },
  {
   "cell_type": "markdown",
   "id": "8c59226d-f66d-4087-9ce0-95794b6fa020",
   "metadata": {},
   "source": [
    "## Domain Code: FI2I to FI2I"
   ]
  },
  {
   "cell_type": "markdown",
   "id": "7e518e90-cf75-4200-9e39-1e889c18b52d",
   "metadata": {},
   "source": [
    "The busines code for factorial, `(lambda n: 1 if n < 1 ...)`, is a function from an integer `n` to an integer, a type that we call `FI2I`:"
   ]
  },
  {
   "cell_type": "code",
   "execution_count": 23,
   "id": "0a5b5261-6038-4ec3-bc00-4a62fbbb1c29",
   "metadata": {},
   "outputs": [],
   "source": [
    "from typing import Callable\n",
    "FI2I = Callable[[int], int]  # int -> int"
   ]
  },
  {
   "cell_type": "markdown",
   "id": "1b500ec6-66f4-4c1a-b0e5-9fd8e55eeca4",
   "metadata": {},
   "source": [
    "> [Type aliases](https://docs.python.org/3.10/library/typing.html#type-aliases) might afford an improvement over the technique in this article."
   ]
  },
  {
   "cell_type": "markdown",
   "id": "c7ad3d7b-b20d-4ad2-a42d-6b6faaefd874",
   "metadata": {},
   "source": [
    "The input to $\\mathscr{Y}$ is $\\mathscr{D}$, the _domain code_. $\\mathscr{D}$ is a function of `f`. We have already deduced that `f` must be $\\mathscr{F}$ = factorial, type `FI2I`. $\\mathscr{D}$ takes a `FI2I`, `f`, and returns the business function, also of type `FI2I`. $\\mathscr{D}$ must be of type `FI2I` $\\rightarrow$ `FI2I`. Here is $\\mathscr{D}$ for factorial:"
   ]
  },
  {
   "cell_type": "code",
   "execution_count": 24,
   "id": "fc304bd3-a38c-4d24-8d4e-66b63741990a",
   "metadata": {},
   "outputs": [],
   "source": [
    "def factorial_domain_code(factorial: FI2I) -> FI2I:\n",
    "    \"\"\"Supply a FI2I factorial and return a FI2I.\"\"\"\n",
    "    def fn(n: int) -> int:\n",
    "        \"\"\"My type is FI2I.\"\"\"\n",
    "        return 1 if n < 1 else n * factorial(n - 1)\n",
    "    return fn"
   ]
  },
  {
   "cell_type": "markdown",
   "id": "65911ce0-f8ba-4942-b765-4af31a629f75",
   "metadata": {},
   "source": [
    "Just to confirm that $\\mathscr{Y}$ works on this, recall that we notionally defined $\\mathscr{D}$ to be the type-free lambda version of this code in cell 16. So, notionally, again:"
   ]
  },
  {
   "cell_type": "code",
   "execution_count": 25,
   "id": "6c6eb0d0-7a77-4763-98e9-260f274394f8",
   "metadata": {},
   "outputs": [
    {
     "data": {
      "text/plain": [
       "720"
      ]
     },
     "execution_count": 25,
     "metadata": {},
     "output_type": "execute_result"
    }
   ],
   "source": [
    "𝒴(𝒟)(6)"
   ]
  },
  {
   "cell_type": "markdown",
   "id": "800f683f-f9e6-4505-b251-0738c00765a6",
   "metadata": {},
   "source": [
    "and"
   ]
  },
  {
   "cell_type": "code",
   "execution_count": 26,
   "id": "a442a5ec-acd5-4dff-9d58-c277db60a560",
   "metadata": {},
   "outputs": [
    {
     "data": {
      "text/plain": [
       "720"
      ]
     },
     "execution_count": 26,
     "metadata": {},
     "output_type": "execute_result"
    }
   ],
   "source": [
    "𝒴(factorial_domain_code)(6)"
   ]
  },
  {
   "cell_type": "markdown",
   "id": "e240cd62-08e5-4934-b745-0ee2ad295ac0",
   "metadata": {},
   "source": [
    "Here is $\\mathscr{D}$ for slow Fibonacci:"
   ]
  },
  {
   "cell_type": "code",
   "execution_count": 27,
   "id": "c641f0fa-f29f-4a66-a647-44c60dd1a4ae",
   "metadata": {},
   "outputs": [],
   "source": [
    "def fibonacci_slow_domain_code(fib_slow: FI2I) -> FI2I:\n",
    "    \"\"\"Supply a FI2I Fibonacci and return a FI2I.\"\"\"\n",
    "    def fn(n: int) -> int:\n",
    "        \"\"\"My type is FI2I.\"\"\"\n",
    "        return 1 if n < 2 else fib_slow(n - 1) + fib_slow(n - 2)\n",
    "    return fn"
   ]
  },
  {
   "cell_type": "markdown",
   "id": "6e89dc7a-d45c-44aa-976b-2dbb65a107d6",
   "metadata": {},
   "source": [
    "\"Slow Fibonacci\" implies we have a fast version, and we'll get to it. But, for now, check:"
   ]
  },
  {
   "cell_type": "code",
   "execution_count": 28,
   "id": "bb4165ca-1e48-49f3-9c71-4450bee0b478",
   "metadata": {},
   "outputs": [
    {
     "data": {
      "text/plain": [
       "13"
      ]
     },
     "execution_count": 28,
     "metadata": {},
     "output_type": "execute_result"
    }
   ],
   "source": [
    "𝒴(fibonacci_slow_domain_code)(6)"
   ]
  },
  {
   "cell_type": "markdown",
   "id": "89ac738b-ba11-47d0-a313-06a454af6672",
   "metadata": {},
   "source": [
    "## Y: FI2I2FI2I to FI2I"
   ]
  },
  {
   "cell_type": "markdown",
   "id": "8de3e25c-2ab9-43c7-8f51-7d3f4ae2d7c1",
   "metadata": {},
   "source": [
    "We've established that $\\mathscr{D}$ is of type `FI2I` $\\rightarrow$ `FI2I`. Let's call that `FI2I2FI2I`"
   ]
  },
  {
   "cell_type": "code",
   "execution_count": 29,
   "id": "842c97e9-a499-42ae-a5b7-3998c98f9d4a",
   "metadata": {},
   "outputs": [],
   "source": [
    "FI2I2FI2I = Callable[[FI2I], FI2I]  # (int -> int) -> (int -> int)"
   ]
  },
  {
   "cell_type": "markdown",
   "id": "23f1a29d-bd8e-4b48-9ae6-f6e7568ea812",
   "metadata": {},
   "source": [
    "$\\mathscr{Y}\\left(\\mathscr{D}\\right)$, when applied to an `int`, returns an `int`, so $\\mathscr{Y}\\left(\\mathscr{D}\\right)$ is of type `FI2I` and $\\mathscr{Y}$ must have type `FI2I2FI2I` $\\rightarrow$ `FI2I`. We're at the end of the road, so we don't need a name for `FI2I2FI2I` $\\rightarrow$ `FI2I`, but let's write out the pieces of $\\mathscr{Y}$ and dig out their types:"
   ]
  },
  {
   "cell_type": "markdown",
   "id": "5b70df34-249f-4f51-8543-dba54ab1c95c",
   "metadata": {},
   "source": [
    "First, we need a type for the square root of factorial. Factorial is a `FI2I`, and its square root is a function that, given a square root, returns a `FI2I`. "
   ]
  },
  {
   "cell_type": "markdown",
   "id": "2c503857-7b21-44f8-89fc-5d810e409982",
   "metadata": {},
   "source": [
    "### Self-Apply: Type SQRT_FI2I"
   ]
  },
  {
   "cell_type": "code",
   "execution_count": 30,
   "id": "2aa36fa8-d9e0-4180-8d6f-1740c79041a9",
   "metadata": {},
   "outputs": [],
   "source": [
    "SQRT_FI2I = Callable[[\"SQRT_FI2I\"], FI2I]  # *a -> (int -> int)"
   ]
  },
  {
   "cell_type": "markdown",
   "id": "15092286-ebdf-41a3-ab3d-9c929c8e3c63",
   "metadata": {},
   "source": [
    "This is the type that gives mypy some trouble, but not PyCharm. Mypy is presumably weak for recursively defined types: the type `SQRT_FI2I` is equal to the type `SQRT_FI2I` to `FI2I`. "
   ]
  },
  {
   "cell_type": "markdown",
   "id": "263999ab-8e29-4ee5-b4b3-9fcaee351cff",
   "metadata": {},
   "source": [
    "Conceptually, however, I see no difficulty. `SQRT_FI2I`, then, is the type of lookup tables that have instances of `SQRT_FI2I` as keys and corresponding instances of `FI2I` as values. In practice, we'd hash the keys so that we don't have key slots containing copies of the entire lookup table, an infinite telescope. "
   ]
  },
  {
   "cell_type": "markdown",
   "id": "3c510f45-3b6b-4a2b-97b4-afae83eee10f",
   "metadata": {},
   "source": [
    "I don't think there is even any theoretical problem: I can't think of a Russel's Paradox or a Gödel construction, either of which would lead to real trouble. In any event, we move on without worrying more about it."
   ]
  },
  {
   "cell_type": "markdown",
   "id": "1c4925a2-815a-4137-9ee6-9b37b1c3f1ae",
   "metadata": {},
   "source": [
    "`self_apply`, which we earlier wrote as `(lambda g: g(g))`, must take a `SQRT_FI2I` and return a `FI2I`. It is both of type `SQRT_FI2I` and of type `SQRT_FI2I` $\\rightarrow$ `FI2I`."
   ]
  },
  {
   "cell_type": "code",
   "execution_count": 31,
   "id": "f555c5ee-9f03-4215-9995-ebc701dde3d4",
   "metadata": {},
   "outputs": [],
   "source": [
    "def self_apply(g: SQRT_FI2I) -> FI2I:\n",
    "    \"\"\"Square the square root of an int->int function by \n",
    "    self-applying it.\"\"\"\n",
    "    result: FI2I = g(g)\n",
    "    return result"
   ]
  },
  {
   "cell_type": "markdown",
   "id": "0135346f-6d4b-46aa-ad09-a6da61feb3fb",
   "metadata": {},
   "source": [
    "> We have the habit of assigning return values to typed variables, then returning the value of those variables, as in lines 4 and 5 above. This habit helps with two things (1) gives a place for debugger breakpoints (2) gives type checkers one more chance."
   ]
  },
  {
   "cell_type": "markdown",
   "id": "bc2410fd-42f4-40a6-bea4-bf1953cdc821",
   "metadata": {},
   "source": [
    "### Delayed: int $\\rightarrow$ int"
   ]
  },
  {
   "cell_type": "markdown",
   "id": "795ebd9e-dd36-4b67-8840-72f56eaa883a",
   "metadata": {},
   "source": [
    "The `delayed` function, which we previously wrote as `(lambda m: sf(sf)(m))`, takes an `int` and returns an `int`, so is of type `FI2I`. However, it refers to `sf` (it's a ***closure*** that _closes_ over `sf`), so we can't write it until we have a scope in which `sf` is defined. `delayed` can't take `sf` as a second parameter because all our functions take one parameter -- that's been an unwritten rule all along. "
   ]
  },
  {
   "cell_type": "markdown",
   "id": "94f727ef-fed5-435b-b9aa-9cafb1bc5d46",
   "metadata": {},
   "source": [
    "> One says such functions are ***Curried***, after Haskell Curry, the famous logician who gave his name to much of what we're talking about. "
   ]
  },
  {
   "cell_type": "markdown",
   "id": "a551dc40-a1dd-4dbd-a297-4776f09aaf28",
   "metadata": {},
   "source": [
    "### LSF: SQRT_FI2I $\\rightarrow$ FI2I"
   ]
  },
  {
   "cell_type": "markdown",
   "id": "e62e4570-7d56-43e2-b809-511af6b7b920",
   "metadata": {},
   "source": [
    "Therefore, `delayed` must be defined inside another function that takes `sf` as a parameter. We've seen that function many times, but never given it a name (obviously). But now we must give it a name because we want to give it a type. Let's call it `lsf` for _lambda of `sf`_. Without types, it looks like domain code applied to the generic `delayed` function:"
   ]
  },
  {
   "cell_type": "raw",
   "id": "f557cf06-526d-4fa4-8060-8546201bef69",
   "metadata": {},
   "source": [
    "(lambda sf: \n",
    "   d(lambda m: sf(sf)(m)))"
   ]
  },
  {
   "cell_type": "markdown",
   "id": "ebd21dd7-e440-4109-b9fa-40504101b1c1",
   "metadata": {},
   "source": [
    "`d`, domain code, has type `FI2I` $\\rightarrow$ `FI2I`, and `delayed` has type `FI2I`, so the output type of `lsf` must be `FI2I`. Its input type is `SQRT_FI2I`, so we now have both `lsf` and `delayed`."
   ]
  },
  {
   "cell_type": "markdown",
   "id": "0d0ce3ae-ca6e-498a-a1b0-d8b28c396cb4",
   "metadata": {},
   "source": [
    "### Closing Over Domain Code"
   ]
  },
  {
   "cell_type": "markdown",
   "id": "94ffe17e-ef54-41f3-8960-384645db0d46",
   "metadata": {},
   "source": [
    "Just as `delayed` closes over `sf` (the square root), `lsf` closes over the domain code `d`. We must actually write `fsf` _inside_ $\\mathscr{Y}$=`yc`, which takes `d`:"
   ]
  },
  {
   "cell_type": "code",
   "execution_count": 32,
   "id": "5a4d85b0-60b3-47dd-bfed-8627da9ae210",
   "metadata": {},
   "outputs": [],
   "source": [
    "def yc(d: FI2I2FI2I) -> FI2I:\n",
    "    \"\"\"I am the redoubtable Y Combinator of one parameter. Return\n",
    "    a FI2I given a FI2I2FI2I, which is a FI2I -> FI2I.\"\"\"\n",
    "\n",
    "    def lsf(sf: SQRT_FI2I) -> FI2I:\n",
    "        \"\"\"Lambda of the square root of a FI2I. Return domain code d\n",
    "        applied to a delayed square of the square root sf, d(delayed).\n",
    "        My type is SQRT_FI2I -> FI2I, which is the same as\n",
    "        SQRT_FI2I!\"\"\"\n",
    "\n",
    "        def delayed(m: int) -> int:\n",
    "            \"\"\"My type is FI2I. Give me an int and I'll give you an int.\n",
    "            I know all about sf because I'm also a closure over the\n",
    "            environment that contains the parameter of lsf.\"\"\"\n",
    "            result_delay: int = (sf(sf))(m)\n",
    "            return result_delay\n",
    "\n",
    "        # d takes a FI2I and returns a FI2I\n",
    "        result_lsf: FI2I = d(delayed)\n",
    "        return result_lsf\n",
    "\n",
    "    result_yc: FI2I = self_apply(lsf)\n",
    "    return result_yc"
   ]
  },
  {
   "cell_type": "markdown",
   "id": "5f4bd469-1353-4892-8410-4f56e10134a1",
   "metadata": {},
   "source": [
    "Check it:"
   ]
  },
  {
   "cell_type": "code",
   "execution_count": 33,
   "id": "5f33a133-75c2-4b89-817f-aa2b186d9f5f",
   "metadata": {},
   "outputs": [
    {
     "data": {
      "text/plain": [
       "720"
      ]
     },
     "execution_count": 33,
     "metadata": {},
     "output_type": "execute_result"
    }
   ],
   "source": [
    "yc(factorial_domain_code)(6)"
   ]
  },
  {
   "cell_type": "code",
   "execution_count": 34,
   "id": "c9190892-af47-4233-897d-2675e999083e",
   "metadata": {},
   "outputs": [
    {
     "data": {
      "text/plain": [
       "377"
      ]
     },
     "execution_count": 34,
     "metadata": {},
     "output_type": "execute_result"
    }
   ],
   "source": [
    "yc(fibonacci_slow_domain_code)(13)"
   ]
  },
  {
   "cell_type": "markdown",
   "id": "c183e4f9-437f-49e1-8542-9b7176d74481",
   "metadata": {},
   "source": [
    "We're not done yet, though."
   ]
  },
  {
   "cell_type": "markdown",
   "id": "4b1e4621-9308-4353-946b-c16674092d09",
   "metadata": {},
   "source": [
    "# Fibonacci is Too Slow!"
   ]
  },
  {
   "cell_type": "markdown",
   "id": "e90bd7a9-893a-4bfe-bfd1-0591aabbed69",
   "metadata": {},
   "source": [
    "Recursive Fibonacci is a schoolbook example of a recursive function done wrong. Our paranoid expression server certainly will not let us run for a whole second, which is what it takes to compute Fibonacci on 30."
   ]
  },
  {
   "cell_type": "code",
   "execution_count": 35,
   "id": "db916e55-7110-4b0a-b3c1-532bf7595b28",
   "metadata": {},
   "outputs": [
    {
     "name": "stdout",
     "output_type": "stream",
     "text": [
      "1.15 s ± 2.9 ms per loop (mean ± std. dev. of 7 runs, 1 loop each)\n"
     ]
    }
   ],
   "source": [
    "timeit(yc(fibonacci_slow_domain_code)(30))"
   ]
  },
  {
   "cell_type": "markdown",
   "id": "88bfb3eb-9a87-4dfb-9110-a9582a1972a1",
   "metadata": {},
   "source": [
    "I ran a few samples, finding that adding 25 to the input number increases the run time of slow Fibonacci by a factor of a million. Slow Fibonacci of 125 would not complete in $10^{24}$ microseconds, and that's longer than the [age of the Universe](http://physicsguide.blogspot.com/2006/02/age-of-universe-scientific-notation.html)."
   ]
  },
  {
   "cell_type": "code",
   "execution_count": 36,
   "id": "d005b46f-9995-4e19-a6ff-f325a0669c59",
   "metadata": {},
   "outputs": [
    {
     "data": {
      "image/png": "[encoded data removed]",
      "text/plain": [
       "<Figure size 640x480 with 1 Axes>"
      ]
     },
     "metadata": {},
     "output_type": "display_data"
    }
   ],
   "source": [
    "x = [5, 10, 15, 20, 25, 30]\n",
    "y = [6.72, 75.2, 841, 9_360, 102_000, 1_140_000]\n",
    "%matplotlib inline\n",
    "import matplotlib.pyplot as plt\n",
    "plt.style.use('seaborn-whitegrid')\n",
    "plt.xlabel('fibonacci input')\n",
    "plt.ylabel('log base 10 run time in microseconds')\n",
    "from math import log\n",
    "plt.plot(x, list(map((lambda p: log(p, 10)), y)), '-o', color='black');"
   ]
  },
  {
   "cell_type": "markdown",
   "id": "d2cb5b5d-6d39-42f3-89be-60ecb7547ae8",
   "metadata": {},
   "source": [
    "Again we ask, \"are we out of luck\" for one-shot _fast_ Fibonacci? Again we answer, \"No!\""
   ]
  },
  {
   "cell_type": "markdown",
   "id": "3eed0cb5-4d28-4891-9804-99b854752a2b",
   "metadata": {},
   "source": [
    "Slow Fibonacci is slow because it recursively computes the same values over and over again. `fib(6)` has 24 sub-computations: `fib(5)` once, `fib(4)` twice, `fib(3)` thrice, `fib(2)` five times, `fib(1)` nine times, `fib(0)` five times. `fib(7)` has a copy of `fib(6)` -- 24 sub-calls -- and a copy of `fib(5)` -- 15 sub-calls. `fib(125)` has around $10^{25}$ sub-calls."
   ]
  },
  {
   "cell_type": "raw",
   "id": "ad756af1-1ab6-45f8-8837-b5fe146b7479",
   "metadata": {},
   "source": [
    "fib(6) +- fib(5) +- fib(4) +- fib(3) +- fib(2) +- fib(1) -- 1\n",
    "       |         |         |         |         `- fib(0) -- 1\n",
    "       |         |         |          ` fib(1) -- 1\n",
    "       |         |          ` fib(2) +- fib(1) -- 1\n",
    "       |         |                   `- fib(0) -- 1\n",
    "       |         |            fib(1) -- 1\n",
    "       |          ` fib(3) +- fib(2) +- fib(1) -- 1\n",
    "       |                   |         `- fib(0) -- 1\n",
    "       |                    ` fib(1) -- 1\n",
    "        ` fib(4) +- fib(3) +- fib(2) +- fib(1) -- 1\n",
    "                 |         |         `- fib(0) -- 1\n",
    "                 |          ` fib(1) -- 1\n",
    "                  ` fib(2) +- fib(1) -- 1\n",
    "                           `- fib(0) -- 1"
   ]
  },
  {
   "cell_type": "markdown",
   "id": "667f161b-397e-44fd-b3f4-79e5d0e68c8f",
   "metadata": {},
   "source": [
    "Let's replace repeated evaluations with table lookups, approximately constant time. We'll need a $\\mathscr{Y}$ that can take two arguments: a running lookup table `a` -- for \"assoc\" -- and the numerical argument `n`."
   ]
  },
  {
   "cell_type": "markdown",
   "id": "240e7af7-3a3b-4d70-b74f-4088692b0b56",
   "metadata": {},
   "source": [
    "# $\\mathscr{Y}$ of Two Arguments"
   ]
  },
  {
   "cell_type": "markdown",
   "id": "4138da34-d807-407c-baad-dda1ffe29800",
   "metadata": {},
   "source": [
    "Currying makes it trivial to extend non-typed $\\mathscr{Y}$ to any number of arguments."
   ]
  },
  {
   "cell_type": "raw",
   "id": "1cfc9493-aebf-4199-90c1-00b8a6dcca82",
   "metadata": {},
   "source": [
    "(lambda d:\n",
    " (lambda g: g(g))\n",
    " (lambda sf:\n",
    "  d(lambda m:\n",
    "    (lambda n:  # <~~~ pile on more arguments\n",
    "     (sf(sf))(m)(n)))))  # <~~~ call on them here\n",
    " (lambda f:  # <~~~ domain function of ...\n",
    "  (lambda m:  # <~~~ ... the first argument and ...\n",
    "   (lambda n:   # <~~~ ... more arguments\n",
    "    -- business code that depends on f, m, n -- \n",
    "    )))"
   ]
  },
  {
   "cell_type": "markdown",
   "id": "af91dd13-112a-478a-a8f4-528f3a9dbf20",
   "metadata": {},
   "source": [
    "Writing types for lookup tables is more delicate. In a reversal of the prior development, we do the typed version first, then the untyped version."
   ]
  },
  {
   "cell_type": "markdown",
   "id": "78f27390-5dfa-4a59-981c-21a8033a235e",
   "metadata": {},
   "source": [
    "# Fast Fib Types"
   ]
  },
  {
   "cell_type": "code",
   "execution_count": 37,
   "id": "f299d6bc-75fb-4b6e-bbb2-d066098ba1b5",
   "metadata": {},
   "outputs": [],
   "source": [
    "from typing import Dict, Tuple"
   ]
  },
  {
   "cell_type": "markdown",
   "id": "5136ad69-1a25-4172-ac3c-4ff77b7473cc",
   "metadata": {},
   "source": [
    "Let `ASSOC` be the type of the lookup table. We'll pass instances of this type to the parameter `m`, paired with values in a type called `MEMO`:"
   ]
  },
  {
   "cell_type": "code",
   "execution_count": 38,
   "id": "a3c56661-5550-40ac-ad9e-b1a22162c4ca",
   "metadata": {},
   "outputs": [],
   "source": [
    "ASSOC = Dict[int, int]\n",
    "MEMO = Tuple[ASSOC, int]"
   ]
  },
  {
   "cell_type": "markdown",
   "id": "924d4782-8b06-406d-aa18-3064ec86c12f",
   "metadata": {},
   "source": [
    "The rest of the types are \n",
    "1. `FIMEMO`, function from integer to memo\n",
    "2. `FAFIMEMO`, function from assoc to function of integer returning a memo\n",
    "3. `FAFIM2FAFIM`, function from a `FAFIMEMO` to a `FIFIMEMO`\n",
    "4. `SQRT_FAFIMEMO`, function from `SQRT_FAFIMEMO`"
   ]
  },
  {
   "cell_type": "code",
   "execution_count": 39,
   "id": "0273a150-870b-45dd-a2d6-8275f519226d",
   "metadata": {},
   "outputs": [],
   "source": [
    "FIMEMO = Callable[[int], MEMO]\n",
    "FAFIMEMO = Callable[[ASSOC], FIMEMO]\n",
    "FAFIM2FAFIM = Callable[[FAFIMEMO], FAFIMEMO]\n",
    "SQRT_FAFIMEMO = Callable[[\"SQRT_FAFIMEMO\"], FAFIMEMO]"
   ]
  },
  {
   "cell_type": "markdown",
   "id": "b372f27c-d684-40d4-9998-3ffdff203167",
   "metadata": {},
   "source": [
    "## Fast Fib Domain Code"
   ]
  },
  {
   "cell_type": "markdown",
   "id": "2fac8c7b-e9e7-468c-9a76-6c61caed93ca",
   "metadata": {},
   "source": [
    "Except for the types, this is straightforward. It first checks the memo tables `a` and `a1` for presence of keys `n - 1` and `n - 2` via `in` expressions, and only calls the recursive function `f` when lookup fails. In that case, it updates the tables with new values so that recursive calls already on the stack can just look up results. It's best to analyze the types from the inside out, convincing ourselves that they can't be anything else."
   ]
  },
  {
   "cell_type": "code",
   "execution_count": 40,
   "id": "1085df80-7880-43ad-84f3-dd9865b03f45",
   "metadata": {},
   "outputs": [],
   "source": [
    "def ff(f: FAFIMEMO) -> FAFIMEMO:\n",
    "    \"\"\"My type is FAFIM2FAFIM.\"\"\"\n",
    "    def fa(a: ASSOC) -> FIMEMO:\n",
    "        \"\"\"My type is FAFIMEMO.\"\"\"\n",
    "        def fn(n: int) -> MEMO:\n",
    "            \"\"\"My type is FIMEMO.\"\"\"\n",
    "            if n < 2:\n",
    "                return a, 1\n",
    "            else:\n",
    "                if n - 1 in a:\n",
    "                    a1 = a\n",
    "                    r1 = a[n - 1]\n",
    "                else:\n",
    "                    a1, r1 = f(a)(n - 1)\n",
    "                    a1[n - 1] = r1\n",
    "                if n - 2 in a1:\n",
    "                    a2 = a1\n",
    "                    r2 = a1[n - 2]\n",
    "                else:\n",
    "                    a2, r2 = f(a1)(n - 2)\n",
    "                    a2[n - 2] = r2\n",
    "                result_fn: MEMO = (a2, r1 + r2)\n",
    "                return result_fn\n",
    "        result_fa: FIMEMO = fn\n",
    "        return result_fa\n",
    "    result_ff: FAFIMEMO = fa\n",
    "    return result_ff"
   ]
  },
  {
   "cell_type": "markdown",
   "id": "d0132db3-c47c-4af2-b673-5c6957c8de34",
   "metadata": {},
   "source": [
    "## Two-Argument Self-Apply"
   ]
  },
  {
   "cell_type": "markdown",
   "id": "c56bafa6-e584-4a07-8a8d-b74bf00c22b5",
   "metadata": {},
   "source": [
    "... is the same as one-argument self apply due to Currying, except for the types:"
   ]
  },
  {
   "cell_type": "code",
   "execution_count": 41,
   "id": "d88ae0aa-3e14-49db-99ce-370ded3b01e7",
   "metadata": {},
   "outputs": [],
   "source": [
    "def self_apply_2(g: SQRT_FAFIMEMO) -> FAFIMEMO:\n",
    "    result_gg: FAFIMEMO = g(g)\n",
    "    return result_gg"
   ]
  },
  {
   "cell_type": "markdown",
   "id": "bf4f4d8c-14db-4018-98be-ab98fe4410bc",
   "metadata": {},
   "source": [
    "## Two-Argument $\\mathscr{Y}$"
   ]
  },
  {
   "cell_type": "markdown",
   "id": "6da7395d-a1da-4f50-9da1-75414decd17b",
   "metadata": {},
   "source": [
    "Again, except for the types, this is no different than the type-free version at the top of this section. "
   ]
  },
  {
   "cell_type": "code",
   "execution_count": 42,
   "id": "7be6dceb-3c0b-48e6-b173-8c9f7bcab115",
   "metadata": {},
   "outputs": [],
   "source": [
    "def yc2(domain_code: FAFIM2FAFIM) -> FAFIMEMO:\n",
    "    def lsf(sf: SQRT_FAFIMEMO) -> FAFIMEMO:\n",
    "        def dmn(m: ASSOC) -> FIMEMO:\n",
    "            \"\"\"My type is FAFIMEMO.\"\"\"\n",
    "            def dn(n: int) -> MEMO:\n",
    "                \"\"\"My type is FIMEMO.\"\"\"\n",
    "                result_dn: MEMO = (sf(sf))(m)(n)\n",
    "                return result_dn\n",
    "            result_dm: FIMEMO = dn\n",
    "            return result_dm\n",
    "        result_lsf: FAFIMEMO = domain_code(dmn)\n",
    "        return result_lsf\n",
    "    result_y2c: FAFIMEMO = self_apply_2(lsf)\n",
    "    return result_y2c"
   ]
  },
  {
   "cell_type": "markdown",
   "id": "629eb190-01f0-4399-bfab-5656ee323b1b",
   "metadata": {},
   "source": [
    "Check it:"
   ]
  },
  {
   "cell_type": "code",
   "execution_count": 43,
   "id": "d72cee4b-15be-409b-bf00-74ee18a84b05",
   "metadata": {},
   "outputs": [
    {
     "data": {
      "text/plain": [
       "({1: 1, 0: 1, 2: 2, 3: 3, 4: 5, 5: 8}, 13)"
      ]
     },
     "execution_count": 43,
     "metadata": {},
     "output_type": "execute_result"
    }
   ],
   "source": [
    "yc2(ff)({})(6)"
   ]
  },
  {
   "cell_type": "markdown",
   "id": "578e5f5f-3028-4083-96e7-9653272389d1",
   "metadata": {},
   "source": [
    "Chop off the final dictionary:"
   ]
  },
  {
   "cell_type": "code",
   "execution_count": 44,
   "id": "c67f55d0-579f-41cf-a1ac-68ccd7696cd0",
   "metadata": {},
   "outputs": [
    {
     "data": {
      "text/plain": [
       "13"
      ]
     },
     "execution_count": 44,
     "metadata": {},
     "output_type": "execute_result"
    }
   ],
   "source": [
    "yc2(ff)({})(6)[1]"
   ]
  },
  {
   "cell_type": "markdown",
   "id": "108bb7cc-c926-4ca8-9dbd-303b4d4a30d5",
   "metadata": {},
   "source": [
    "Try it on an absurdly large argument (don't worry, it's instantaneous). The slow version would not complete in $10^{30}$ times the age of the Universe:"
   ]
  },
  {
   "cell_type": "code",
   "execution_count": 45,
   "id": "01f58cb4-c31a-476a-bff8-9fc7affeb8f0",
   "metadata": {},
   "outputs": [
    {
     "data": {
      "text/plain": [
       "284812298108489611757988937681460995615380088782304890986477195645969271404032323901"
      ]
     },
     "execution_count": 45,
     "metadata": {},
     "output_type": "execute_result"
    }
   ],
   "source": [
    "yc2(ff)({})(400)[1]"
   ]
  },
  {
   "cell_type": "markdown",
   "id": "b3241929-bc74-46c1-87c0-bc6673ee5787",
   "metadata": {},
   "source": [
    "## Python Recursion Limits"
   ]
  },
  {
   "cell_type": "markdown",
   "id": "5f965017-aafc-473e-a107-f279e388689b",
   "metadata": {},
   "source": [
    "Python cannot optimize tail calls, so it runs out of execution stack at `yc2(ff)({})(500)`. The type-free version, below, runs out at around 250 because it has more internal functions to replace the statement logic in the business code `ff.fa.fn` above. "
   ]
  },
  {
   "cell_type": "markdown",
   "id": "cae96f6f-461a-4951-8195-bd1ee7dd8866",
   "metadata": {},
   "source": [
    "# Fast Fib with No `def`s"
   ]
  },
  {
   "cell_type": "markdown",
   "id": "cda94eb7-0c90-46b2-9ae5-ffa00139dadb",
   "metadata": {},
   "source": [
    "We'll show it at work, first, then explain how we derived it."
   ]
  },
  {
   "cell_type": "code",
   "execution_count": 46,
   "id": "711c3386-3082-4c3e-b9e7-6a921dc23d82",
   "metadata": {},
   "outputs": [
    {
     "data": {
      "text/plain": [
       "12776523572924732586037033894655031898659556447352249"
      ]
     },
     "execution_count": 46,
     "metadata": {},
     "output_type": "execute_result"
    }
   ],
   "source": [
    "((lambda d:  # This is yc2; d is the domain code.\n",
    "  (lambda g: g(g))  # self-apply-2\n",
    "  (lambda sf:  # square root of recursion\n",
    "   d(lambda m:  # Call the domain code with the buesiness code,\n",
    "     (lambda n:  # which is Curried over two arguments. \n",
    "      (sf(sf))(m)(n)))))\n",
    "((lambda f:  # ordinary signature of domain code\n",
    "  (lambda a:  # two-argument business code ...\n",
    "   (lambda n:  # ...\n",
    "    (a, 1) if n < 2 else  # early escapt\n",
    "    ((lambda n_1:\n",
    "      (a, a[n_1]) if n_1 in a else  # check the memo's assoc\n",
    "      ((lambda fim1:  # function from integer to memo\n",
    "        ((lambda m1:  # memo = (assoc, int)\n",
    "          ((lambda r1:  # int\n",
    "            ((lambda a1:  # assoc \n",
    "              ((lambda n_2:  # DRY\n",
    "                (a1, r1 + a1[n_2]) if n_2 in a1 else  # check memo\n",
    "                ((lambda fim2:  # function from integer to memo\n",
    "                  ((lambda m2:  # memo = (assoc, int)\n",
    "                    ((lambda r2:  # int\n",
    "                      ((lambda a2:  # assoc\n",
    "                        (a2, r1 + r2))  # final answer\n",
    "                       (m2[0] | {n_2: r2})))  # merge the assoc\n",
    "                     (m2[1])))  # fetch an int from the memo\n",
    "                   (fim2(n_2))))  # compute memo from int\n",
    "                 (f(a1))))  # compute fim2 from assoc 1\n",
    "               (n - 2)))  # DRY\n",
    "             (m1[0] | {n_1: r1})))  # merge the assoc\n",
    "           (m1[1])))  # fetch an int from the memo\n",
    "         (fim1(n_1))))  # compute memo from int\n",
    "       (f(a))))  # compute fim1 from input assoc {}\n",
    "     (n - 1)  # DRY\n",
    "    ))))))({})(250)[1]"
   ]
  },
  {
   "cell_type": "markdown",
   "id": "4201fc69-03ce-494c-ba1a-28167c18f17d",
   "metadata": {},
   "source": [
    "## A Torture Test for Humans and for Compilers"
   ]
  },
  {
   "cell_type": "markdown",
   "id": "e693cdf3-7e26-415d-9d47-535d89dd4f0c",
   "metadata": {},
   "source": [
    "Ok, I hope you're laughing at me, now. However, this is exactly the kind of expression we'd expect to see inside a Python compiler that converted the statement logic of `ff.fa.fn` into expressions. It's NOT just an intellectual exercise! It's a torture test for compilers. "
   ]
  },
  {
   "cell_type": "markdown",
   "id": "6457001d-b7dd-4563-9994-0c78288ac729",
   "metadata": {},
   "source": [
    "However, it's practically impossible to get this absurd expression right without some mechanical help. For that help, I went to Clojure and Emacs which can close up parentheses easily. I hope you'll see that the following Clojure domain code is a straight transcription of the Python `ff.fa.fn` above. It was easy to write, though a little unnatural because of the Currying. I won't walk through it, but I'll show how it unpacks into the monster above."
   ]
  },
  {
   "cell_type": "raw",
   "id": "693d35a1-1359-461b-aef4-6ed1682c619f",
   "metadata": {},
   "source": [
    "(def dafib\n",
    "  (fn [f]\n",
    "    (fn [a]   ;; an ASSOC :: int -> int\n",
    "      (fn [n] ;; :: int\n",
    "        (if (< n 2N)\n",
    "          [a, 1N] ;; :: MEMO = [ASSOC, Integer]\n",
    "          (let [n-1 (- n 1N)]\n",
    "            (if (a n-1)    ;; membership check\n",
    "              [a, (a n-1)] ;; early return\n",
    "              (let [fim1 (f a)\n",
    "                    m1 (fim1 n-1)\n",
    "                    r1 (m1 1) ;; pick element 1 of m1\n",
    "                    a1 (merge (m1 0) {n-1 r1})\n",
    "                    n-2 (- n 2)]\n",
    "                (if (a1 n-2)            ;; membership check\n",
    "                  [a1, (+ r1 (a1 n-2))] ;; early return\n",
    "                  (let [fim2 (f a1)\n",
    "                        m2 (fim2 n-2)\n",
    "                        r2 (m2 1) ;; pick elt. 1 of m2\n",
    "                        a2 (merge (m2 0) {n-2 r2})]\n",
    "                    [a2, (+ r1 r2)]))))))))))"
   ]
  },
  {
   "cell_type": "markdown",
   "id": "6df933c4-b82a-48ae-9ae9-80b9b7136037",
   "metadata": {},
   "source": [
    "Python has no _let_ (except, see [this gist](https://gist.github.com/divs1210/d218d4b747b08751b2a232260321cdeb)). But `(let [x V] E)` is precisely `((lambda x: E)(V))`, and that's it, that's how we get all the nested lambdas."
   ]
  }
 ],
 "metadata": {
  "jupytext": {
   "formats": "ipynb,md"
  },
  "kernelspec": {
   "display_name": "Python 3 (ipykernel)",
   "language": "python",
   "name": "python3"
  },
  "language_info": {
   "codemirror_mode": {
    "name": "ipython",
    "version": 3
   },
   "file_extension": ".py",
   "mimetype": "text/x-python",
   "name": "python",
   "nbconvert_exporter": "python",
   "pygments_lexer": "ipython3",
   "version": "3.9.7"
  }
 },
 "nbformat": 4,
 "nbformat_minor": 5
}
