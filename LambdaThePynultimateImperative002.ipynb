{
 "cells": [
  {
   "cell_type": "markdown",
   "id": "3a76f68e-f22a-4278-b747-19b46d5f94ae",
   "metadata": {},
   "source": [
    "# Lambda, the Pynultimate Imperative"
   ]
  },
  {
   "cell_type": "markdown",
   "id": "510d45a6-8421-40ca-9be5-8127c1d18237",
   "metadata": {},
   "source": [
    "#### Version 2\n",
    "#### Brian Beckman\n",
    "#### 9 Nov 2022"
   ]
  },
  {
   "cell_type": "markdown",
   "id": "5a7aaedb-0423-4c26-9144-b1e230dd799a",
   "metadata": {},
   "source": [
    "# Introduction"
   ]
  },
  {
   "cell_type": "markdown",
   "id": "3441580e-c02a-4fa2-8f74-25d127464332",
   "metadata": {},
   "source": [
    "In a classic paper, [_Lambda, the Ultimate Imperative_](https://www.researchgate.net/publication/37596655_Lambda_The_Ultimate_Imperative), Steele and Sussman show how to model most imperative constructs with just _lambda_:"
   ]
  },
  {
   "cell_type": "markdown",
   "id": "732d965e-2640-468a-8dfa-4dc9690b5025",
   "metadata": {},
   "source": [
    "> We demonstrate how to model the following common [imperative] programming constructs in ... an applicative-order language similar to LISP: Simple Recursion, Iteration, Compound Statements and Expressions, GO TO and Assignment, Continuation-Passing, Escape Expressions, Fluid Variables, Call by Name, Call by Need, and Call by Reference. The models require only (possibly self-referent) lambda application, conditionals, and (rarely) assignment. "
   ]
  },
  {
   "cell_type": "markdown",
   "id": "5671e4da-8bae-4d07-b787-d0fe038de6b6",
   "metadata": {},
   "source": [
    "It's useful to recap this paper in Python, which has most of the listed imperative constructs. Imagine compiling Python into an intermediate language in which the semantics, even those with side-effects, are laid bare as trees of $\\lambda$ expressions. In such a representation, optimizations are \n",
    "1. easy to write as tree-to-tree transforms\n",
    "1. easy to extend via just function composition\n",
    "2. independent of surface syntax, thus easy to share with other imperative languages like Fortran, C, Java\n",
    "3. independent of back ends, thus easy to run interactively; or to translate into LLVM, x86, ARM64, C, for execution; or to transpile into other surface languages"
   ]
  },
  {
   "cell_type": "markdown",
   "id": "d073480b-92a4-44fc-9a03-e52129093751",
   "metadata": {},
   "source": [
    "The use-cases above are similar to those for a SQL algebraizer. Many SQL implementations \n",
    "1. translate the surface language into bare-bones expressions in a closed relational algebra, free of original syntax\n",
    "2. run the algebraic expressions through symbolic optimizers, which often rearrange the expressions completely\n",
    "2. incrementally extend the system by composing new optimization\n",
    "3. translate optimized expressions into commands for local and distributed servers"
   ]
  },
  {
   "cell_type": "markdown",
   "id": "e440b17b-ed1e-4a26-a8aa-f00ed59c4bfe",
   "metadata": {},
   "source": [
    "We follow the paper more-or-less directly, with gleanings from [SICP](https://sarabander.github.io/sicp/)."
   ]
  },
  {
   "cell_type": "markdown",
   "id": "fab97f19-27e0-4004-b9de-f951fcc50e7e",
   "metadata": {},
   "source": [
    "## _Schemulation:_ Python Semantics in Python"
   ]
  },
  {
   "cell_type": "markdown",
   "id": "cd1ff76f-d551-46ab-a060-4814ab47ec29",
   "metadata": {},
   "source": [
    "Ideally, we'd compile Python into Scheme or Clojure or Common Lisp, then write transformations, translations, interpreters, debuggers, etc. in Scheme or Clojure or Common Lisp. However, to maintain a convenient notebook structure and to avoid creeping dependencies, we'll just model Python imperatives in a Scheme-like applicative-order $\\lambda$ calculus embedded in basic Python. "
   ]
  },
  {
   "cell_type": "markdown",
   "id": "3886ba49-9390-4fd9-a4ab-ad13b88a1a47",
   "metadata": {},
   "source": [
    "## Orthogonality as a Design Principle"
   ]
  },
  {
   "cell_type": "markdown",
   "id": "608bdc5e-19a2-4f7d-b350-eb8cd975bb15",
   "metadata": {},
   "source": [
    "We prefer designs that minimize cross-talk. Each facility -- transformation layer or module -- should have the least possible dependency on other facilities. For example, tranformations that affect control flow need not necessarily depend on transformations that affect numerics."
   ]
  },
  {
   "cell_type": "markdown",
   "id": "bdf71eec-c4fa-4ad4-a155-09c4a2327dc7",
   "metadata": {},
   "source": [
    "Contrast to a braided design, where each facility explicitly accounts for every other."
   ]
  },
  {
   "cell_type": "markdown",
   "id": "3096ba84-72a8-4928-814b-ab05acfe721d",
   "metadata": {},
   "source": [
    "# Environment and Frame"
   ]
  },
  {
   "cell_type": "markdown",
   "id": "81df4344-49c9-4d00-a6f0-9a8904394029",
   "metadata": {},
   "source": [
    "We find it necessary to model Scheme's environments and frames explicitly. We tried multiple short-cut alternatives and found that none of them compose well."
   ]
  },
  {
   "cell_type": "markdown",
   "id": "ae24100b-5793-4fce-985e-e788d02e5a21",
   "metadata": {},
   "source": [
    "[SICP 3.2](https://sarabander.github.io/sicp/html/3_002e2.xhtml#g_t3_002e2) has some apparent contradictions in the definition of environment and frame. It says that \"an environment is a sequence of frames,\" but the rest of the text and figures clearly imply that an environment has just one frame. "
   ]
  },
  {
   "cell_type": "markdown",
   "id": "a497199a-798e-4903-af13-0d2559e1d48e",
   "metadata": {},
   "source": [
    "The best resolution appears to be:"
   ]
  },
  {
   "cell_type": "markdown",
   "id": "2d51e004-559c-4868-af7a-e5f97c2345df",
   "metadata": {},
   "source": [
    "> An ___environment___ is a frame $\\phi$ and a pointer $\\pi$ to an enclosing environment. A ___frame___ is a mathematical function from variable names to values; no variable name may appear more than once in a frame. "
   ]
  },
  {
   "cell_type": "markdown",
   "id": "83e26f24-712b-439b-b80f-b5820602996f",
   "metadata": {},
   "source": [
    "We note in passing that this works only for a single thread. [Clojure, for instance, solves that problem with _Vars_](https://clojure.org/reference/vars). "
   ]
  },
  {
   "cell_type": "markdown",
   "id": "d0cef101-9abd-46c5-bad3-7d617629d95c",
   "metadata": {},
   "source": [
    "$\\pi$ is a nice pun: it evokes $\\pi\\eta\\rho\\iota$, a Greek prefix meaning \"surrounding.\""
   ]
  },
  {
   "cell_type": "markdown",
   "id": "a5b3bc82-e54a-483d-b316-d73fca0e1a19",
   "metadata": {},
   "source": [
    "We use Greek letters for system attributes. User code should avoid Greek to avoid clobbering system attributes."
   ]
  },
  {
   "cell_type": "markdown",
   "id": "27e4595e-51ea-4dcb-a8ae-d5251e2cd0ac",
   "metadata": {},
   "source": [
    "> A ___binding___ is an association from a variable name to a value, that is, an entry in a frame. "
   ]
  },
  {
   "cell_type": "markdown",
   "id": "eff2aff9-b04b-484e-a6ac-6f51ab2fa9de",
   "metadata": {},
   "source": [
    "We might model a binding as a pair, or as a row in a table, an element of a relation (subset of a Cartesian product), an element of a Python dictionary, or as an attribute of a Python object. We prefer the attribute model because it affords _dot_ notation for lookup, that is, `o.foo` rather than the dictionary's syntax `o['foo']`."
   ]
  },
  {
   "cell_type": "markdown",
   "id": "de5caced-7ae8-474c-8890-e04046faba5c",
   "metadata": {},
   "source": [
    "If the definitions above are acceptable, the apparent contradiction in SICP is resolved. SICP says that an environment _is_ a sequence of frames. Rather, I'd say that any environment _implies_ a virtual sequence of frames via the chain of $\\pi\\eta\\rho\\iota$ pointers to enclosing environments."
   ]
  },
  {
   "cell_type": "markdown",
   "id": "89cc50c3-7d05-4bfc-8186-3f458601e2a7",
   "metadata": {},
   "source": [
    "> The system maintains a unique ___global environment___, whose _pointer-to-enclosing-environment_ is `None`. "
   ]
  },
  {
   "cell_type": "markdown",
   "id": "895febad-d1a1-4d58-95b3-69945e624d04",
   "metadata": {},
   "source": [
    "> A frame $\\phi$ belongs to a virtual sequence of environments implied by the unidirectional pointer-chain of enclosing environments rooted in $\\phi$ and ending at the unique global environment. The ___value of a variable in an environment___ is the value in the first binding in any frame of that sequence. Bindings lower in the chain may ___shadow___ bindings higher in the chain, rendering them inaccessible. If no frame in a chain specifies a binding for the variable, then the variable is ___unbound___ in the environment. A variable may be ___bound___ in one environment and unbound in another."
   ]
  },
  {
   "cell_type": "markdown",
   "id": "8a712cf9-9f68-4f00-af45-b471433059be",
   "metadata": {},
   "source": [
    "Thanks to [divs1210](https://gist.github.com/divs1210?page=3) for the idea of assigning attributes to a dummy function object."
   ]
  },
  {
   "cell_type": "markdown",
   "id": "3b1ba719-c8c0-42b1-b8f8-f3ba53d7fea6",
   "metadata": {},
   "source": [
    "We override `__getattr__` to avoid a separate function for recursive lookup. We can't also override `__setaddr__` to call `setattr(self.$\\phi$ ...)` because `self.$\\phi$` diverges on `getattr(self.$\\phi$ ...)`."
   ]
  },
  {
   "cell_type": "code",
   "execution_count": 55,
   "id": "ff41f461-d806-48f4-914e-b4c07c50c116",
   "metadata": {},
   "outputs": [
    {
     "data": {
      "text/plain": [
       "43"
      ]
     },
     "execution_count": 55,
     "metadata": {},
     "output_type": "execute_result"
    }
   ],
   "source": [
    "from dataclasses import dataclass, field\n",
    "from types import FunctionType\n",
    "@dataclass\n",
    "class Environment:\n",
    "    \"\"\"Set attributes via settattr(env.ϕ, key, val). When getting\n",
    "    attributes, it's ok to omit the ϕ.\"\"\"\n",
    "    ϕ: FunctionType   # \"frame,\" also nice place to hang attributes via 'setattr'\n",
    "    π: \"Environment\"  # via Greek πηρι, short name for 'enclosing'\n",
    "    def __getattr__(self, key):\n",
    "        \"\"\"recursive lookup\"\"\"\n",
    "        try:\n",
    "            result = getattr(self.ϕ, key)\n",
    "        except AttributeError as _:\n",
    "            if self.π is None:\n",
    "                raise NameError(f'Name {key} is unbound.')\n",
    "            else:  # recurse\n",
    "                result = self.π.__getattr__(key)\n",
    "        return result\n",
    "# diverges because it calls __getattr__ for 'self.ϕ'\n",
    "#    def __setattr__(self, key, val):\n",
    "#        setattr(getattr(self, 'ϕ'), key, val)\n",
    "#        setattr(self.ϕ, key, val)\n",
    "# The ugliness of 'setattr' is hidden in DEFINE and DEFINE_PROC.\n",
    "    \n",
    "ΓΠ = Environment(lambda: None, None)  # Γ for \"global,\" Π for \"environment\"\n",
    "setattr(ΓΠ.ϕ, 'γόὂ', 43)\n",
    "ΓΠ.γόὂ"
   ]
  },
  {
   "cell_type": "markdown",
   "id": "79b8ea49-1d8f-44e5-96f9-837c3b265298",
   "metadata": {},
   "source": [
    "# Procedure"
   ]
  },
  {
   "cell_type": "markdown",
   "id": "424d31a1-8399-444f-8675-13a4cbc1493f",
   "metadata": {},
   "source": [
    "A ___procedure___ is a pair of code and environment. ___Code___ is a dictionary of parameter names and a $\\lambda$ expression. The $\\lambda$, by convention, takes a sigle argument, $\\pi$, the environment in which its formal parameters are bound to actual arguments via some application of the procedure, as described in SICP 3.2. This convention seems to be the best we can do for composable $\\lambda$s in Schemulator. For now, we support only positional arguments, one-to-one with the argument list. That's consistent with [Gambit Scheme](https://github.com/gambit/gambit), which reports \"Wrong number of arguments ...\" if the application has too many or too few arguments."
   ]
  },
  {
   "cell_type": "markdown",
   "id": "065d9200-3936-48ce-9f08-6ee9080f87ff",
   "metadata": {},
   "source": [
    "Experimental: `__getitem__` call syntax."
   ]
  },
  {
   "cell_type": "code",
   "execution_count": 68,
   "id": "624c88bf-2197-4eed-807c-e7338157eb96",
   "metadata": {},
   "outputs": [],
   "source": [
    "from typing import Dict, List, Tuple\n",
    "Parameters = List[str]  # positional arguments only\n",
    "def APPLY(proc, args, π):\n",
    "    \"\"\"forward reference; Will be redefined.\"\"\"\n",
    "    print(args)\n",
    "@dataclass\n",
    "class Procedure:\n",
    "    code: Dict\n",
    "    π: Environment\n",
    "    def __getitem__(self, keys):\n",
    "        if isinstance(keys, List) or isinstance(keys, Tuple):\n",
    "            return APPLY(self, keys, self.π)\n",
    "        else:\n",
    "            return APPLY(self, [keys], self.π)"
   ]
  },
  {
   "cell_type": "markdown",
   "id": "bda3079d-0652-4fdc-942d-230ff10fcd0e",
   "metadata": {},
   "source": [
    "Following the example for _square_ in SICP 3.2.1, let's define it in the global environment and test the invocation of `APPLY`:"
   ]
  },
  {
   "cell_type": "code",
   "execution_count": 69,
   "id": "a2501887-60eb-4d19-8f3b-e2ee5b565c67",
   "metadata": {},
   "outputs": [
    {
     "name": "stdout",
     "output_type": "stream",
     "text": [
      "[5]\n",
      "(5, 6)\n"
     ]
    }
   ],
   "source": [
    "setattr(\n",
    "    ΓΠ.ϕ, \n",
    "    \"square\", \n",
    "    Procedure(\n",
    "        {\"body\": lambda π: π.x * π.x,  # ugly, I know; sorry :(\n",
    "         \"parameters\": ['x']}, \n",
    "        ΓΠ))\n",
    "ΓΠ.square[5]\n",
    "ΓΠ.square[5, 6]"
   ]
  },
  {
   "cell_type": "markdown",
   "id": "b5ac5fb3-84fc-46dd-84e2-a658e7e6c63e",
   "metadata": {},
   "source": [
    "## EVAL"
   ]
  },
  {
   "cell_type": "markdown",
   "id": "7a0145a0-1898-404c-9eab-5188d207d23b",
   "metadata": {},
   "source": [
    "work in progress"
   ]
  },
  {
   "cell_type": "code",
   "execution_count": 70,
   "id": "ceab5fd6-9187-4121-972b-444a17d799a5",
   "metadata": {},
   "outputs": [],
   "source": [
    "from typing import Any\n",
    "def EVAL(expr: Any, π: Environment) -> Any:\n",
    "    \"\"\"Python does almost all this for us.\"\"\"\n",
    "    if isinstance(expr, int) or \\\n",
    "       isinstance(expr, float) or \\\n",
    "       isinstance(expr, str) or \\\n",
    "       isinstance(expr, bool):\n",
    "        result = expr\n",
    "    elif isinstance(expr, Procedure):\n",
    "        result = expr\n",
    "    else:\n",
    "        raise ValueError\n",
    "    return result"
   ]
  },
  {
   "cell_type": "markdown",
   "id": "2a73a82a-6d1d-4a3c-a946-f7ee9ca354f0",
   "metadata": {},
   "source": [
    "## APPLY"
   ]
  },
  {
   "cell_type": "code",
   "execution_count": 71,
   "id": "a57cad60-aee7-45fc-b3c8-f85ff5d9a1d4",
   "metadata": {},
   "outputs": [
    {
     "name": "stdout",
     "output_type": "stream",
     "text": [
      "25\n"
     ]
    }
   ],
   "source": [
    "class IllegalArgumentsError(ValueError):\n",
    "    pass\n",
    "\n",
    "def APPLY(proc: Procedure, args: List[Any], π:Environment) -> Any:\n",
    "    \"\"\"How about a nice __getitem__ overload on 'Procedure' for this.\"\"\"\n",
    "    if len(proc.code['parameters']) != len(args):\n",
    "        raise IllegalArgumentsError(\n",
    "            f\"Wrong number of arguments passed to procedure {proc}\")\n",
    "    evaled_args = [EVAL(arg, π) for arg in args]\n",
    "    E1 = Environment(lambda: None, π)\n",
    "    for k, v in zip(proc.code['parameters'], evaled_args):\n",
    "        setattr(E1.ϕ, k, v)\n",
    "    result = proc.code['body'](E1)\n",
    "    return result\n",
    "    \n",
    "print(APPLY(ΓΠ.square, [5], ΓΠ))"
   ]
  },
  {
   "cell_type": "markdown",
   "id": "37b3eea5-23a6-44b1-8f78-70ff0ae274f1",
   "metadata": {},
   "source": [
    "Square-bracket notation (like Wolfram / Mathematica) works"
   ]
  },
  {
   "cell_type": "code",
   "execution_count": 72,
   "id": "ace82a62-e2b7-4586-9f6b-b2b914fe7cc0",
   "metadata": {},
   "outputs": [
    {
     "name": "stdout",
     "output_type": "stream",
     "text": [
      "25\n"
     ]
    }
   ],
   "source": [
    "print(ΓΠ.square[5])"
   ]
  },
  {
   "cell_type": "markdown",
   "id": "71b9cb28-b54c-4a74-889a-250517a93767",
   "metadata": {},
   "source": [
    "Works on anonymous procedures, too:"
   ]
  },
  {
   "cell_type": "code",
   "execution_count": 73,
   "id": "f6d34218-7230-4589-b1e3-cc106bbc1882",
   "metadata": {},
   "outputs": [
    {
     "name": "stdout",
     "output_type": "stream",
     "text": [
      "25\n"
     ]
    }
   ],
   "source": [
    "print(\n",
    "    Procedure(code={\n",
    "        \"body\": lambda π: π.x * π.x, \n",
    "        \"parameters\": ['x']}, π=ΓΠ)\n",
    "    [5])"
   ]
  },
  {
   "cell_type": "markdown",
   "id": "849f69ba-fcc5-471b-97f2-1f838b398904",
   "metadata": {},
   "source": [
    "procedures that return procedures:"
   ]
  },
  {
   "cell_type": "code",
   "execution_count": 75,
   "id": "e675f6e6-bfd7-4f87-b427-a4c9c539af92",
   "metadata": {},
   "outputs": [
    {
     "name": "stdout",
     "output_type": "stream",
     "text": [
      "False\n"
     ]
    },
    {
     "data": {
      "text/plain": [
       "Procedure(code={'body': <function <lambda> at 0x107d59310>, 'parameters': ['f']}, π=Environment(φ=<function <lambda> at 0x107d73310>, π=None))"
      ]
     },
     "execution_count": 75,
     "metadata": {},
     "output_type": "execute_result"
    }
   ],
   "source": [
    "print('f' in dir(ΓΠ.ϕ))\n",
    "# λ d: (λ g: g(g))(λ sf: d[λ m: sf[sf][m]]) from \n",
    "Procedure(code={\"body\":\n",
    "               parameters: ['d']})\n",
    "Procedure(code={\"body\": \n",
    "                lambda π: \n",
    "                Procedure(code={\"body\": lambda π: \n",
    "                                π.product if π.counter > π.max_count else \\\n",
    "                                π.f[π.counter * π.product, π.counter + 1, π.max_count],\n",
    "                                \"parameters\": ['product', 'counter', 'max_count']}, π=π),\n",
    "                \"parameters\": ['f']}, π=ΓΠ)\n",
    "\n",
    "#    [1, 1, 6], π=ΓΠ)"
   ]
  },
  {
   "cell_type": "markdown",
   "id": "9cf13206-d8d2-4f05-91f4-67efcee6dc99",
   "metadata": {},
   "source": [
    "## DEFINE"
   ]
  },
  {
   "cell_type": "markdown",
   "id": "df57b592-2563-476e-987e-3ca7f780953d",
   "metadata": {},
   "source": [
    "Package up the \"defining\" boilerplate."
   ]
  },
  {
   "cell_type": "code",
   "execution_count": 8,
   "id": "2f7313b3-271a-4073-b4a0-7f17290bcf71",
   "metadata": {},
   "outputs": [
    {
     "data": {
      "text/plain": [
       "42"
      ]
     },
     "execution_count": 8,
     "metadata": {},
     "output_type": "execute_result"
    }
   ],
   "source": [
    "def DEFINE(sym: str, val: Any, π: Environment) -> None:\n",
    "    \"\"\"official Scheme\"\"\"\n",
    "    setattr(π.ϕ, sym, val)\n",
    "def DEFINE_PROC(sym: str, \n",
    "                parameters: List[str], \n",
    "                body: FunctionType, \n",
    "                π: Environment) -> None:\n",
    "    \"\"\"unofficial convenience (alternative syntax in Scheme)\"\"\"\n",
    "    DEFINE(\n",
    "        sym,\n",
    "        Procedure(\n",
    "            {\"body\": body, \"parameters\": parameters}, \n",
    "            π),\n",
    "        π)\n",
    "    \n",
    "DEFINE_PROC('saxpy', ['a', 'x', 'y'],\n",
    "            lambda π: π.a * π.x + π.y, \n",
    "            ΓΠ)  # ugly, i know; sorry :(\n",
    "\n",
    "ΓΠ.saxpy[4, 10, 2]"
   ]
  },
  {
   "cell_type": "markdown",
   "id": "a1f2597c-cefd-42f4-af81-9e39c8895099",
   "metadata": {},
   "source": [
    "### SICP 3.2.2"
   ]
  },
  {
   "cell_type": "code",
   "execution_count": 14,
   "id": "8cfcb5e3-3d96-4377-9957-f625e1081331",
   "metadata": {},
   "outputs": [
    {
     "data": {
      "text/plain": [
       "136"
      ]
     },
     "execution_count": 14,
     "metadata": {},
     "output_type": "execute_result"
    }
   ],
   "source": [
    "DEFINE_PROC('square', ['x'], \n",
    "            lambda π: π.x * π.x, \n",
    "            ΓΠ)\n",
    "\n",
    "DEFINE_PROC('sum_of_squares', ['x', 'y'],\n",
    "           lambda π: \\\n",
    "            π.square[π.x] + π.square[π.y],\n",
    "           ΓΠ)\n",
    "\n",
    "DEFINE_PROC('f', ['a'],\n",
    "           lambda π: \\\n",
    "            π.sum_of_squares[1 + π.a, 2 * π.a],\n",
    "            ΓΠ)\n",
    "\n",
    "ΓΠ.f[5]"
   ]
  },
  {
   "cell_type": "markdown",
   "id": "a08ca583-5050-4d4c-b427-36e8a5ffea7e",
   "metadata": {},
   "source": [
    "### Exercise 3.9"
   ]
  },
  {
   "cell_type": "code",
   "execution_count": 16,
   "id": "9684ccd8-bdc3-4b1d-8b86-8800972a8d7f",
   "metadata": {},
   "outputs": [
    {
     "data": {
      "text/plain": [
       "720"
      ]
     },
     "execution_count": 16,
     "metadata": {},
     "output_type": "execute_result"
    }
   ],
   "source": [
    "DEFINE_PROC('factorial', ['n'],\n",
    "           lambda π: 1 if π.n < 2 else \\\n",
    "            π.n * π.factorial[π.n - 1],\n",
    "           ΓΠ)\n",
    "\n",
    "ΓΠ.factorial[6]"
   ]
  },
  {
   "cell_type": "markdown",
   "id": "09a7cbfc-0681-4990-be95-8a6a8253926a",
   "metadata": {},
   "source": [
    "This doesn't tail-recurse because Python does not tail-recurse. See [Tail Recursion](#tail-recursion) for mitigation work-in-progress."
   ]
  },
  {
   "cell_type": "code",
   "execution_count": 18,
   "id": "01406a4e-ff0b-4ecb-bc1a-67f2173ea03f",
   "metadata": {},
   "outputs": [
    {
     "data": {
      "text/plain": [
       "720"
      ]
     },
     "execution_count": 18,
     "metadata": {},
     "output_type": "execute_result"
    }
   ],
   "source": [
    "DEFINE_PROC('fact_iter', ['product', 'counter', 'max_count'],\n",
    "           lambda π: π.product if π.counter > π.max_count else \\\n",
    "           π.fact_iter[\n",
    "               π.counter * π.product,\n",
    "               π.counter + 1,\n",
    "               π.max_count\n",
    "           ], ΓΠ)\n",
    "\n",
    "ΓΠ.fact_iter[1, 1, 6]"
   ]
  },
  {
   "cell_type": "markdown",
   "id": "baa87f5a-d74b-43af-b51a-82a2dc288e96",
   "metadata": {},
   "source": [
    "# Tail Recursion<a id=\"tail-recursion\"></a>"
   ]
  },
  {
   "cell_type": "markdown",
   "id": "947be86a-ef5e-4e6c-ab0a-82f0de6e4ca8",
   "metadata": {},
   "source": [
    "Thanks to [Thomas Baruchel for this idea on tail recursion](https://stackoverflow.com/questions/13591970/does-python-optimize-tail-recursion). The input function must have the form of [_domain code_ as explained in this notebook](https://github.com/rebcabin/rebcabin.github.io/blob/main/PythonYCombinators.ipynb), i.e., `lambda f: lambda args: ...`. This isn't Scheme proper, but it's akin to Clojure, where the user must explicitly write `loop` and `recur`, presumably implemented quite like this."
   ]
  },
  {
   "cell_type": "code",
   "execution_count": 53,
   "id": "b5ae4eaa-fb90-436d-bc27-72f7af6b282f",
   "metadata": {},
   "outputs": [
    {
     "data": {
      "text/plain": [
       "720"
      ]
     },
     "execution_count": 53,
     "metadata": {},
     "output_type": "execute_result"
    }
   ],
   "source": [
    "class RecursiveCall(Exception):\n",
    "    def __init__(self, *args):\n",
    "        self.args = args\n",
    "\n",
    "def RECUR(*args):\n",
    "    raise RecursiveCall(*args)\n",
    "\n",
    "def bet0(func):\n",
    "    def recursor(*args):\n",
    "        raise RecursiveCall(*args)\n",
    "    \n",
    "    def wrapper(*args):\n",
    "        while True:\n",
    "            try:\n",
    "                return func(RECUR)(*args)\n",
    "            except RecursiveCall as e:\n",
    "                args = e.args\n",
    "    return wrapper\n",
    "\n",
    "bet0(lambda f: lambda product, counter, max_count: \\\n",
    "     product if counter > max_count else \\\n",
    "     f(counter * product, counter + 1, max_count))(1, 1, 6)\n",
    "\n",
    "DEFINE(\n",
    "    'fact_iter_tail_recursive', \n",
    "    ['product', 'counter', 'max_count'],\n",
    "    "
   ]
  },
  {
   "cell_type": "code",
   "execution_count": 51,
   "id": "1b5af550-aa55-4058-bbed-8e0d4346088a",
   "metadata": {},
   "outputs": [
    {
     "data": {
      "text/plain": [
       "720"
      ]
     },
     "execution_count": 51,
     "metadata": {},
     "output_type": "execute_result"
    }
   ],
   "source": [
    "def bet0(func):\n",
    "    class RecursiveCall(Exception):\n",
    "        def __init__(self, *args):\n",
    "            self.args = args\n",
    "\n",
    "    def recursor(*args):\n",
    "        raise RecursiveCall(*args)\n",
    "    \n",
    "    def wrapper(*args):\n",
    "        while True:\n",
    "            try:\n",
    "                return func(recursor)(*args)\n",
    "            except RecursiveCall as e:\n",
    "                args = e.args\n",
    "    return wrapper\n",
    "\n",
    "bet0(lambda f: lambda product, counter, max_count: \\\n",
    "     product if counter > max_count else \\\n",
    "     f(counter * product, counter + 1, max_count))(1, 1, 6)"
   ]
  },
  {
   "cell_type": "markdown",
   "id": "d50b10d3-f1a4-40e7-a9cd-3550b53095a5",
   "metadata": {},
   "source": [
    "# Junkyard"
   ]
  },
  {
   "cell_type": "markdown",
   "id": "767801fa-a7e5-40d5-bc10-b5b2fa8b2194",
   "metadata": {},
   "source": [
    "Ignore everything below. It's saved in case we need it someday."
   ]
  },
  {
   "cell_type": "code",
   "execution_count": null,
   "id": "3a703e07-2836-4f99-983e-c2cf7edc4752",
   "metadata": {},
   "outputs": [],
   "source": []
  }
 ],
 "metadata": {
  "jupytext": {
   "formats": "ipynb,md:myst"
  },
  "kernelspec": {
   "display_name": "Python 3 (ipykernel)",
   "language": "python",
   "name": "python3"
  },
  "language_info": {
   "codemirror_mode": {
    "name": "ipython",
    "version": 3
   },
   "file_extension": ".py",
   "mimetype": "text/x-python",
   "name": "python",
   "nbconvert_exporter": "python",
   "pygments_lexer": "ipython3",
   "version": "3.9.7"
  }
 },
 "nbformat": 4,
 "nbformat_minor": 5
}
