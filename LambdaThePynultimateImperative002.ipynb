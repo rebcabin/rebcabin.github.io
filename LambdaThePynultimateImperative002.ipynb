{
 "cells": [
  {
   "cell_type": "markdown",
   "id": "3a76f68e-f22a-4278-b747-19b46d5f94ae",
   "metadata": {},
   "source": [
    "# Lambda, the Pynultimate Imperative"
   ]
  },
  {
   "cell_type": "markdown",
   "id": "510d45a6-8421-40ca-9be5-8127c1d18237",
   "metadata": {},
   "source": [
    "#### Version 2\n",
    "#### Brian Beckman\n",
    "#### 12 Nov 2022\n",
    "#### License: [Creative Commons Attribution 4.0 International Public License](https://creativecommons.org/licenses/by/4.0/legalcode)"
   ]
  },
  {
   "cell_type": "markdown",
   "id": "5a7aaedb-0423-4c26-9144-b1e230dd799a",
   "metadata": {},
   "source": [
    "# Introduction"
   ]
  },
  {
   "cell_type": "markdown",
   "id": "3441580e-c02a-4fa2-8f74-25d127464332",
   "metadata": {},
   "source": [
    "In a classic paper, [_Lambda, the Ultimate Imperative_](https://www.researchgate.net/publication/37596655_Lambda_The_Ultimate_Imperative), Steele and Sussman show how to model most imperative constructs with just _lambda_:"
   ]
  },
  {
   "cell_type": "markdown",
   "id": "732d965e-2640-468a-8dfa-4dc9690b5025",
   "metadata": {},
   "source": [
    "> We demonstrate how to model the following common [imperative] programming constructs in ... an applicative-order language similar to LISP: Simple Recursion, Iteration, Compound Statements and Expressions, GO TO and Assignment, Continuation-Passing, Escape Expressions, Fluid Variables, Call by Name, Call by Need, and Call by Reference. The models require only (possibly self-referent) lambda application, conditionals, and (rarely) assignment."
   ]
  },
  {
   "cell_type": "markdown",
   "id": "5671e4da-8bae-4d07-b787-d0fe038de6b6",
   "metadata": {},
   "source": [
    "It's useful to recap this paper in Python, which has most of the listed imperative constructs. Imagine compiling Python into an intermediate language in which the semantics, even those with side-effects, are laid bare as trees of $\\lambda$ expressions. In such a representation, optimizations are \n",
    "1. easy to write as tree-to-tree transforms\n",
    "1. easy to extend via just function composition (even Kleisli-monadic)\n",
    "2. independent of surface syntax, thus easy to share with other imperative languages like Fortran, C, Java\n",
    "3. independent of back ends, thus easy to run interactively; or to translate into LLVM, x86, ARM64, C, for execution; or to transpile into other surface languages"
   ]
  },
  {
   "cell_type": "markdown",
   "id": "d073480b-92a4-44fc-9a03-e52129093751",
   "metadata": {},
   "source": [
    "The use-cases above are similar to those for a SQL algebraizer. Many SQL implementations \n",
    "1. translate the surface language into bare-bones expressions in a closed relational algebra, free of original syntax\n",
    "2. run the algebraic expressions through symbolic optimizers, which often rearrange the expressions completely\n",
    "2. incrementally extend the system by composing new optimizations\n",
    "3. translate optimized expressions into commands for local and distributed servers"
   ]
  },
  {
   "cell_type": "markdown",
   "id": "e440b17b-ed1e-4a26-a8aa-f00ed59c4bfe",
   "metadata": {},
   "source": [
    "We follow the paper more-or-less directly, with gleanings from [SICP](https://sarabander.github.io/sicp/)."
   ]
  },
  {
   "cell_type": "markdown",
   "id": "fab97f19-27e0-4004-b9de-f951fcc50e7e",
   "metadata": {},
   "source": [
    "## _Schemulation:_ Python Semantics in Python"
   ]
  },
  {
   "cell_type": "markdown",
   "id": "cd1ff76f-d551-46ab-a060-4814ab47ec29",
   "metadata": {},
   "source": [
    "Ideally, we'd compile Python into Scheme or Clojure or Common Lisp, then write transformations, translations, interpreters, debuggers, etc. in Scheme or Clojure or Common Lisp. However, to maintain a convenient notebook structure and to avoid creeping dependencies, we'll just model Python imperatives in a Scheme-like applicative-order $\\lambda$-calculus embedded in basic Python."
   ]
  },
  {
   "cell_type": "markdown",
   "id": "a7a73270-30c7-4f50-90bf-d95c8f215f6a",
   "metadata": {},
   "source": [
    "Some people may find this weird. Why not just implement Scheme in Python instead of emulating Scheme in Python? It's an engineering judgment call. Most authors of compilers and interpreters spend undue time on syntax before even getting to semantics. Compiler textbooks tell you to do this! Semantics becomes a hidden \"implementation detail,\" but then developers forgive themselves for making an ungodly mess of it. We prefer the other way around. Get the semantics clean, composable, extendable, maintainable, and correct, _first_, then spend time on syntax, if you even care any more. Or just let someone else do it. From the development point of view, syntax is a distraction. It's been solved for decades, but it makes young developers and professors feel powerful. The decision to spend time on syntax before semantics is not engineering, it's self-indulgence."
   ]
  },
  {
   "cell_type": "markdown",
   "id": "3886ba49-9390-4fd9-a4ab-ad13b88a1a47",
   "metadata": {},
   "source": [
    "## Orthogonality as a Design Principle"
   ]
  },
  {
   "cell_type": "markdown",
   "id": "608bdc5e-19a2-4f7d-b350-eb8cd975bb15",
   "metadata": {},
   "source": [
    "We prefer designs that minimize cross-talk. Each facility -- transformation layer or module -- should have the least possible dependency on other facilities. For example, tranformations that affect control flow need not necessarily depend on transformations that affect numerics."
   ]
  },
  {
   "cell_type": "markdown",
   "id": "bdf71eec-c4fa-4ad4-a155-09c4a2327dc7",
   "metadata": {},
   "source": [
    "Contrast to a braided design, where each facility explicitly accounts for every other."
   ]
  },
  {
   "cell_type": "markdown",
   "id": "3096ba84-72a8-4928-814b-ab05acfe721d",
   "metadata": {},
   "source": [
    "# Environment and Frame"
   ]
  },
  {
   "cell_type": "markdown",
   "id": "81df4344-49c9-4d00-a6f0-9a8904394029",
   "metadata": {},
   "source": [
    "We find it necessary to model Scheme's environments and frames explicitly. We tried multiple short-cut alternatives and found that none of them compose well."
   ]
  },
  {
   "cell_type": "markdown",
   "id": "ae24100b-5793-4fce-985e-e788d02e5a21",
   "metadata": {},
   "source": [
    "[SICP 3.2](https://sarabander.github.io/sicp/html/3_002e2.xhtml#g_t3_002e2) has some apparent contradictions in the definition of environment and frame. It says that \"an environment is a sequence of frames,\" but the rest of the text and figures clearly imply that an environment has just one frame."
   ]
  },
  {
   "cell_type": "markdown",
   "id": "a497199a-798e-4903-af13-0d2559e1d48e",
   "metadata": {},
   "source": [
    "The best resolution appears to be:"
   ]
  },
  {
   "cell_type": "markdown",
   "id": "2d51e004-559c-4868-af7a-e5f97c2345df",
   "metadata": {},
   "source": [
    "> An ___environment___ is a frame $\\phi$ and a pointer $\\pi$ to an enclosing environment. A ___frame___ is a mathematical function from variable names to values; no variable name may appear more than once in a frame."
   ]
  },
  {
   "cell_type": "markdown",
   "id": "83e26f24-712b-439b-b80f-b5820602996f",
   "metadata": {},
   "source": [
    "We note in passing that this works only for a single thread. [Clojure, for instance, solves that problem with _Vars_](https://clojure.org/reference/vars)."
   ]
  },
  {
   "cell_type": "markdown",
   "id": "8a755018-dc17-4b55-a206-0bfbb7518601",
   "metadata": {},
   "source": [
    "## Greek and ALL CAPS<a id=\"greek\"></a>"
   ]
  },
  {
   "cell_type": "markdown",
   "id": "d0cef101-9abd-46c5-bad3-7d617629d95c",
   "metadata": {},
   "source": [
    "$\\pi$ is a nice pun: it evokes $\\pi\\eta\\rho\\iota$, a Greek prefix meaning \"surrounding.\""
   ]
  },
  {
   "cell_type": "markdown",
   "id": "a5b3bc82-e54a-483d-b316-d73fca0e1a19",
   "metadata": {},
   "source": [
    "We use Greek letters for system attributes. User code should avoid Greek to avoid clobbering system attributes."
   ]
  },
  {
   "cell_type": "markdown",
   "id": "6c9fb02d-6dc2-433c-af33-867b222d3c16",
   "metadata": {},
   "source": [
    "We use ALL CAPS for system functions that implement Schemulator."
   ]
  },
  {
   "cell_type": "markdown",
   "id": "5e792017-45b7-4ec9-b7cb-89682ffaa1a3",
   "metadata": {},
   "source": [
    "## Bindings"
   ]
  },
  {
   "cell_type": "markdown",
   "id": "27e4595e-51ea-4dcb-a8ae-d5251e2cd0ac",
   "metadata": {},
   "source": [
    "> A ___binding___ is an association from a variable name to a value, that is, an entry in a frame."
   ]
  },
  {
   "cell_type": "markdown",
   "id": "eff2aff9-b04b-484e-a6ac-6f51ab2fa9de",
   "metadata": {},
   "source": [
    "We might model a binding as a pair, or as a row in a table, an element of a relation (subset of a Cartesian product), an element of a Python dictionary, or as an attribute of a Python object. We prefer the attribute model because it affords _dot_ notation for lookup, that is, `o.foo` rather than the dictionary's syntax `o['foo']`."
   ]
  },
  {
   "cell_type": "markdown",
   "id": "de5caced-7ae8-474c-8890-e04046faba5c",
   "metadata": {},
   "source": [
    "If the definitions above are acceptable, the apparent contradiction in SICP is resolved. SICP says that an environment _is_ a sequence of frames. Rather, I'd say that any environment _implies_ a virtual sequence of frames via the chain of $\\pi\\eta\\rho\\iota$ pointers to enclosing environments."
   ]
  },
  {
   "cell_type": "markdown",
   "id": "89cc50c3-7d05-4bfc-8186-3f458601e2a7",
   "metadata": {},
   "source": [
    "> The system maintains a unique ___global environment___, whose _pointer-to-enclosing-environment_ is `None`."
   ]
  },
  {
   "cell_type": "markdown",
   "id": "895febad-d1a1-4d58-95b3-69945e624d04",
   "metadata": {},
   "source": [
    "> A frame $\\phi$ belongs to a virtual sequence of environments implied by the unidirectional pointer-chain of enclosing environments rooted in $\\phi$ and ending at the unique global environment. The ___value of a variable in an environment___ is the value in the first binding in any frame of that sequence. Bindings lower in the chain may ___shadow___ bindings higher in the chain, rendering them inaccessible. If no frame in a chain specifies a binding for the variable, then the variable is ___unbound___ in the environment. A variable may be ___bound___ in one environment and unbound in another."
   ]
  },
  {
   "cell_type": "markdown",
   "id": "8a712cf9-9f68-4f00-af45-b471433059be",
   "metadata": {},
   "source": [
    "Thanks to [divs1210](https://gist.github.com/divs1210?page=3) for the idea of modeling frames as dummy lambda functions, and assigning attributes to them."
   ]
  },
  {
   "cell_type": "markdown",
   "id": "3b1ba719-c8c0-42b1-b8f8-f3ba53d7fea6",
   "metadata": {},
   "source": [
    "We override `__getattr__` to avoid a separate function for recursive lookup. We can't also override `__setaddr__` to call `setattr(self.$\\phi$ ...)` because `self.$\\phi$` diverges on `getattr(self.$\\phi$ ...)`."
   ]
  },
  {
   "cell_type": "markdown",
   "id": "b5be1d36-5d76-4c34-8f06-eb6d234a8287",
   "metadata": {},
   "source": [
    "There is a unique global environment, $\\Gamma\\Pi$, for each session."
   ]
  },
  {
   "cell_type": "markdown",
   "id": "7982554b-7ebc-4e7f-8c2b-98fd6d0681f4",
   "metadata": {},
   "source": [
    "TODO: Coalesce $\\Gamma\\Pi$ with Python's global environment."
   ]
  },
  {
   "cell_type": "code",
   "execution_count": 1,
   "id": "0029529f-496a-4661-b426-bfc665408c40",
   "metadata": {},
   "outputs": [],
   "source": [
    "from dataclasses import dataclass, field\n",
    "from types import FunctionType\n",
    "from typing import Any\n",
    "@dataclass\n",
    "class Environment:\n",
    "    \"\"\"Set attributes via settattr(env.ϕ, key, val). When getting\n",
    "    attributes, it's ok to omit the ϕ because of overloaded \n",
    "    __getattr__.\"\"\"\n",
    "    ϕ: FunctionType   # \"frame,\" also nice place to hang attributes via 'setattr'\n",
    "    π: \"Environment\"  # via Greek πηρι, short name for 'enclosing'\n",
    "    def _get_it(self, key: str) -> Any:\n",
    "        \"recursive lookup\"\n",
    "        try:\n",
    "            ρ = getattr(self.ϕ, key)\n",
    "        except AttributeError as _:\n",
    "            if self.π is None:\n",
    "                raise NameError(f'Name {key} is unbound.')\n",
    "            else:  # recurse\n",
    "                ρ = self.π.__getattr__(key)\n",
    "        return ρ\n",
    "    def __getattr__(self, key: str) -> Any:\n",
    "        \"\"\"recursive lookup by dot notation\"\"\"\n",
    "        return self._get_it(key)\n",
    "    def __getitem__(self, key: str) -> Any:\n",
    "        \"\"\"recursive lookup by bracket notation\"\"\"\n",
    "        return self._get_it(key)\n",
    "# diverges because it calls __getattr__ for 'self.ϕ'\n",
    "#    def __setattr__(self, key, val):\n",
    "#        setattr(getattr(self, 'ϕ'), key, val)\n",
    "#        setattr(self.ϕ, key, val)\n",
    "# The ugliness of 'setattr' is hidden in DEFINE.    "
   ]
  },
  {
   "cell_type": "markdown",
   "id": "79898275-2730-4fda-8075-3eede21ec0fa",
   "metadata": {},
   "source": [
    "# Unique Global Environment $\\Gamma\\Pi$<a id=\"global-environment\"></a>"
   ]
  },
  {
   "cell_type": "code",
   "execution_count": 2,
   "id": "15e16d10-cd0d-45a4-b093-3b4588a6e20e",
   "metadata": {},
   "outputs": [
    {
     "data": {
      "text/plain": [
       "43"
      ]
     },
     "execution_count": 2,
     "metadata": {},
     "output_type": "execute_result"
    }
   ],
   "source": [
    "ΓΠ = Environment(lambda: None, None)  # Γ for \"global,\" Π for \"environment\"\n",
    "setattr(ΓΠ.ϕ, 'γόὂ', 43)\n",
    "ΓΠ.γόὂ"
   ]
  },
  {
   "cell_type": "markdown",
   "id": "79b8ea49-1d8f-44e5-96f9-837c3b265298",
   "metadata": {},
   "source": [
    "# Procedure(code{body, params}, $\\pi$)<a id=\"procedure\"></a>"
   ]
  },
  {
   "cell_type": "markdown",
   "id": "424d31a1-8399-444f-8675-13a4cbc1493f",
   "metadata": {},
   "source": [
    "A ___procedure___ is a pair of code and environment. ___Code___ is a dictionary of parameter names and a $\\lambda$ expression. The $\\lambda$, by convention, takes a sigle argument, $\\pi$, the environment in which its formal parameters are bound to actual arguments via procedure application, as described in SICP 3.2. This convention seems to be the best we can do for composable $\\lambda$s in Schemulator. For now, we support only positional arguments, one-to-one with the argument list. That's consistent with [Gambit Scheme](https://github.com/gambit/gambit), which reports \"Wrong number of arguments ...\" if the application has too many or too few arguments."
   ]
  },
  {
   "cell_type": "markdown",
   "id": "366aee97-0679-4639-9b0b-5a5b3c2b5e2c",
   "metadata": {},
   "source": [
    "By default, procedures are defined in the unique global environment, $\\Gamma\\Pi$."
   ]
  },
  {
   "cell_type": "code",
   "execution_count": 3,
   "id": "624c88bf-2197-4eed-807c-e7338157eb96",
   "metadata": {},
   "outputs": [],
   "source": [
    "from typing import Dict, List, Tuple, Any\n",
    "Parameters = List[str]  # positional arguments only\n",
    "class Procedure: \n",
    "    \"\"\"forward reference; will be corrected.\"\"\"\n",
    "    pass\n",
    "def APPLY(proc: Procedure, \n",
    "          args: List[Any], \n",
    "          π: Environment = ΓΠ) -> Any:\n",
    "    \"\"\"forward reference; will be corrected.\"\"\"\n",
    "    print(args)\n",
    "@dataclass\n",
    "class Procedure:\n",
    "    code: Dict  # TODO: Check for duplicated symbols in `parameters`.\n",
    "    π: Environment=ΓΠ  # Defined in global environment by default.\n",
    "    def __call__(self, *args):\n",
    "        return APPLY(self, args, self.π)"
   ]
  },
  {
   "cell_type": "markdown",
   "id": "bda3079d-0652-4fdc-942d-230ff10fcd0e",
   "metadata": {},
   "source": [
    "Following the example for _square_ in SICP 3.2.1, let's define it in the global environment and test the invocation of `APPLY`:"
   ]
  },
  {
   "cell_type": "code",
   "execution_count": 4,
   "id": "a2501887-60eb-4d19-8f3b-e2ee5b565c67",
   "metadata": {},
   "outputs": [
    {
     "name": "stdout",
     "output_type": "stream",
     "text": [
      "(5,)\n",
      "(5, 6)\n"
     ]
    }
   ],
   "source": [
    "setattr(\n",
    "    ΓΠ.ϕ, \n",
    "    \"square\", \n",
    "    Procedure(\n",
    "        {\"body\": lambda π: π.x * π.x,  # ugly, I know; sorry :(\n",
    "         \"parameters\": ['x']}))\n",
    "ΓΠ.square(5)\n",
    "ΓΠ.square(5, 6)"
   ]
  },
  {
   "cell_type": "markdown",
   "id": "decb0745-15d4-4155-9072-db053fa2af66",
   "metadata": {},
   "source": [
    "## $\\Lambda$($\\lambda$, params, $\\pi$)"
   ]
  },
  {
   "cell_type": "markdown",
   "id": "29bc33c8-7f4f-4688-88d9-18c3e2ce298c",
   "metadata": {},
   "source": [
    "Some syntactical help for anonymous procedures. Default parameter list is empty and default parent environment is the unique global environment $\\Gamma{}\\Pi$."
   ]
  },
  {
   "cell_type": "code",
   "execution_count": 5,
   "id": "bc04a5d8-ee84-4f29-9f39-f66c7dff4b66",
   "metadata": {},
   "outputs": [],
   "source": [
    "def Λ(body: FunctionType, \n",
    "      parameters: List[str] = [],  # default empty\n",
    "      π = ΓΠ) -> Procedure:        # default global\n",
    "    ρ = Procedure(\n",
    "        code={\"body\": body, \"parameters\": parameters}, \n",
    "        π=π)\n",
    "    return ρ"
   ]
  },
  {
   "cell_type": "code",
   "execution_count": 6,
   "id": "da3388dc-9d9b-47c5-a293-f958340a466e",
   "metadata": {},
   "outputs": [
    {
     "name": "stdout",
     "output_type": "stream",
     "text": [
      "(5,)\n",
      "(5, 6)\n"
     ]
    }
   ],
   "source": [
    "setattr(\n",
    "    ΓΠ.ϕ,\n",
    "    \"square\",\n",
    "    Λ(lambda π: π.x * π.x, ['x']))\n",
    "ΓΠ.square(5)\n",
    "ΓΠ.square(5, 6)"
   ]
  },
  {
   "cell_type": "markdown",
   "id": "8ec1eaf0-ad86-44c4-8b60-d6478a66b33f",
   "metadata": {},
   "source": [
    "# Var(sym)<a id=\"var\"></a>"
   ]
  },
  {
   "cell_type": "markdown",
   "id": "319dffdd-ab20-42b9-997d-dc1cafbf2132",
   "metadata": {},
   "source": [
    "Sometimes, we want to interpret strings not as self-evaluating atoms but as references to variables in an environment. We test the type [after defining `EVAL`, below](#eval)."
   ]
  },
  {
   "cell_type": "code",
   "execution_count": 7,
   "id": "e446b347-57de-4da4-a0e0-8ea3a4b21e32",
   "metadata": {},
   "outputs": [],
   "source": [
    "@dataclass\n",
    "class Var():\n",
    "    sym: str"
   ]
  },
  {
   "cell_type": "markdown",
   "id": "5aaeb3f7-5214-4343-beae-35f5e5625d76",
   "metadata": {},
   "source": [
    "# Application(head, args, $\\pi$)<a id=\"application\"></a>"
   ]
  },
  {
   "cell_type": "markdown",
   "id": "1e43071a-dbab-43c7-a6ea-01cb570821ad",
   "metadata": {},
   "source": [
    "In $\\lambda$-calculus, an _Application_ is an unevaluated list with a Procedure or symbol (`str`) in the first slot and unevaluated actual arguments in the remaining positions."
   ]
  },
  {
   "cell_type": "code",
   "execution_count": 8,
   "id": "f7004787-8d04-4f4e-b3d9-c5dc449a6355",
   "metadata": {},
   "outputs": [],
   "source": [
    "from typing import Union, Any\n",
    "class Application:\n",
    "    \"\"\"forward reference; corrected immediately below\"\"\"\n",
    "    pass\n",
    "def EVAL_APPLICATION(expr: Application, π: Environment = ΓΠ):\n",
    "    \"\"\"forward reference; corrected below\"\"\"\n",
    "    pass\n",
    "from dataclasses import field\n",
    "@dataclass\n",
    "class Application():\n",
    "    head: Union[str, Procedure]\n",
    "    args: List[Any] = field(default_factory=list)\n",
    "    π: Environment = ΓΠ\n",
    "    def __call__(self):\n",
    "        EVAL_APPLICATION(self, π)"
   ]
  },
  {
   "cell_type": "markdown",
   "id": "145c23d4-fcf4-4515-aa12-31aeeae3b4d3",
   "metadata": {},
   "source": [
    "## $\\Xi$(head, args, $\\pi$)"
   ]
  },
  {
   "cell_type": "markdown",
   "id": "0ed50bfb-df83-4af5-bb84-47e113826c3f",
   "metadata": {},
   "source": [
    "Just as [Procedure](#procedure) has a [system-reserved Greek](#greek) shortcut, $\\Lambda$, we make a shortcut, $\\Xi$, for `Application`."
   ]
  },
  {
   "cell_type": "code",
   "execution_count": 9,
   "id": "f8a9bb0a-62ee-482c-84e2-c2897a1e80c5",
   "metadata": {},
   "outputs": [],
   "source": [
    "Ξ = Application"
   ]
  },
  {
   "cell_type": "markdown",
   "id": "b906b688-6898-42bc-9132-93c24e3ce579",
   "metadata": {},
   "source": [
    "We test this a bit later."
   ]
  },
  {
   "cell_type": "markdown",
   "id": "e15b4c8b-a301-49ef-97ca-4cd09f5d7ab4",
   "metadata": {},
   "source": [
    "# QUOTE, QUASIQUOTE, UNQUOTE"
   ]
  },
  {
   "cell_type": "markdown",
   "id": "1efc7baa-675d-4d81-9b2d-fc85ef3859bc",
   "metadata": {},
   "source": [
    "TODO"
   ]
  },
  {
   "cell_type": "markdown",
   "id": "b5ac5fb3-84fc-46dd-84e2-a658e7e6c63e",
   "metadata": {},
   "source": [
    "## EVAL(expr, $\\pi$)<a id=\"eval\"></a>"
   ]
  },
  {
   "cell_type": "markdown",
   "id": "643caf0c-4812-4e2a-af07-a501d04736ee",
   "metadata": {},
   "source": [
    "work in progress"
   ]
  },
  {
   "cell_type": "markdown",
   "id": "dc28795c-1c88-4c36-8b28-ce885c3b7d2e",
   "metadata": {},
   "source": [
    "`EVAL` calls `APPLY` for Applications. But `APPLY` calls `EVAL` on all arguments, so we must refer to the earlier forward reference for `APPLY` before defining `EVAL`. We get to test this after [`APPLY` is corrected, below](#apply)."
   ]
  },
  {
   "cell_type": "code",
   "execution_count": 10,
   "id": "c6194306-2954-471b-a0b5-b44acf365017",
   "metadata": {},
   "outputs": [],
   "source": [
    "def EVAL_APPLICATION(expr: Application, π: Environment = ΓΠ) -> Any:\n",
    "    if isinstance(expr.head, str):\n",
    "        head = EVAL(expr.π[expr.head], expr.π)\n",
    "        assert isinstance(head, Procedure), \\\n",
    "            f'The head of {expr} must be a string or a Procedure, ' \\\n",
    "            f'not a {expr.head}'\n",
    "    elif isinstance(expr.head, Procedure): \n",
    "        head = expr.head\n",
    "    else:\n",
    "        raise ValueError(\n",
    "            f'The head of {expr} must be a string or a Procedure, '\n",
    "            f'not a {expr.head}')\n",
    "    eargs = [EVAL(arg, π) for arg in expr.args]\n",
    "    ρ = APPLY(head, eargs, π)\n",
    "    return ρ"
   ]
  },
  {
   "cell_type": "code",
   "execution_count": 11,
   "id": "49a0fcbc-8932-4443-a420-d12ce8ea97c2",
   "metadata": {},
   "outputs": [],
   "source": [
    "from typing import Any, Dict, Tuple, List\n",
    "\n",
    "def EVAL(expr: Any, π: Environment = ΓΠ) -> Any:\n",
    "    \"\"\"Python does a lot of this for us.\"\"\"\n",
    "    if isinstance(expr, int) or \\\n",
    "       isinstance(expr, float) or \\\n",
    "       isinstance(expr, str) or \\\n",
    "       isinstance(expr, bool):\n",
    "        ρ = expr\n",
    "    elif isinstance(expr, Procedure):\n",
    "        ρ = expr\n",
    "    elif isinstance(expr, Dict):\n",
    "        # self-evaluating, for memo tables:\n",
    "        ρ = expr\n",
    "    elif isinstance(expr, Tuple):\n",
    "        # self-evaluating, for memoized, curried functions\n",
    "        ρ = expr\n",
    "    elif isinstance(expr, Var):\n",
    "        ρ = π[expr.sym]  # recursive lookup in Environment\n",
    "    elif expr is None:\n",
    "        ρ = None\n",
    "    elif isinstance(expr, Application):\n",
    "        ρ = EVAL_APPLICATION(expr, π)\n",
    "    else:\n",
    "        raise ValueError(f'{expr} has unsupported type {type(expr)}')\n",
    "    return ρ"
   ]
  },
  {
   "cell_type": "markdown",
   "id": "2ca03c76-d169-426a-a1a5-31cf7469f76f",
   "metadata": {},
   "source": [
    "### Test Var Lookup"
   ]
  },
  {
   "cell_type": "markdown",
   "id": "e2b93af6-db65-4303-930f-597a34b0dffe",
   "metadata": {},
   "source": [
    "We defined this little [Greek](#greek) system-test variable in [section \"Global Environment\"](#global-environment)."
   ]
  },
  {
   "cell_type": "code",
   "execution_count": 12,
   "id": "c0b8683f-fe7e-41d7-b56d-a4ee16a04f77",
   "metadata": {},
   "outputs": [
    {
     "data": {
      "text/plain": [
       "43"
      ]
     },
     "execution_count": 12,
     "metadata": {},
     "output_type": "execute_result"
    }
   ],
   "source": [
    "EVAL(Var('γόὂ'))"
   ]
  },
  {
   "cell_type": "markdown",
   "id": "2a73a82a-6d1d-4a3c-a946-f7ee9ca354f0",
   "metadata": {},
   "source": [
    "## APPLY(proc, args, $\\pi$)<a id=\"apply\"></a>"
   ]
  },
  {
   "cell_type": "markdown",
   "id": "34fa4a65-e698-4029-9582-f593c4eede91",
   "metadata": {},
   "source": [
    "By default, procedures are applied in the unique global environment, $\\Gamma\\Pi$."
   ]
  },
  {
   "cell_type": "code",
   "execution_count": 13,
   "id": "a57cad60-aee7-45fc-b3c8-f85ff5d9a1d4",
   "metadata": {},
   "outputs": [
    {
     "name": "stdout",
     "output_type": "stream",
     "text": [
      "25\n"
     ]
    }
   ],
   "source": [
    "class IllegalArgumentsError(ValueError):\n",
    "    pass\n",
    "\n",
    "def APPLY(proc: Procedure, \n",
    "          args: List[Any] = [], # default empty argument list\n",
    "          π: Environment = ΓΠ) -> Any:\n",
    "    \"\"\"How about a nice __getitem__ overload on 'Procedure' for this.\"\"\"\n",
    "    if len(proc.code['parameters']) != len(args):\n",
    "        raise IllegalArgumentsError(\n",
    "            f\"Wrong number of arguments passed to procedure {proc}\")\n",
    "    evaled_args = [EVAL(arg, π) for arg in args]\n",
    "    E1 = Environment(lambda: None, π)\n",
    "    for k, v in zip(proc.code['parameters'], evaled_args):\n",
    "        setattr(E1.ϕ, k, v)\n",
    "    ρ = proc.code['body'](E1)\n",
    "    return ρ\n",
    "    \n",
    "print(APPLY(ΓΠ.square, [5]))"
   ]
  },
  {
   "cell_type": "markdown",
   "id": "c726a8fe-b489-4be4-b3a7-96de9be589f0",
   "metadata": {},
   "source": [
    "Call via \"Pythonic\" round brackets:"
   ]
  },
  {
   "cell_type": "code",
   "execution_count": 14,
   "id": "7cb12c20-323e-4060-853e-f84eaba1b1a5",
   "metadata": {},
   "outputs": [
    {
     "data": {
      "text/plain": [
       "25"
      ]
     },
     "execution_count": 14,
     "metadata": {},
     "output_type": "execute_result"
    }
   ],
   "source": [
    "ΓΠ.square(5)"
   ]
  },
  {
   "cell_type": "markdown",
   "id": "71b9cb28-b54c-4a74-889a-250517a93767",
   "metadata": {},
   "source": [
    "Works on anonymous procedures, too:"
   ]
  },
  {
   "cell_type": "code",
   "execution_count": 15,
   "id": "f6d34218-7230-4589-b1e3-cc106bbc1882",
   "metadata": {},
   "outputs": [
    {
     "data": {
      "text/plain": [
       "25"
      ]
     },
     "execution_count": 15,
     "metadata": {},
     "output_type": "execute_result"
    }
   ],
   "source": [
    "Λ(lambda π: π.x * π.x, ['x'])(5)"
   ]
  },
  {
   "cell_type": "markdown",
   "id": "e981eb73-129d-4636-a516-0dfd4e08efe2",
   "metadata": {},
   "source": [
    "Test multiple parameters and arguments:"
   ]
  },
  {
   "cell_type": "code",
   "execution_count": 16,
   "id": "5ebc5e7f-7ff6-4334-84f2-1b2854fd339e",
   "metadata": {},
   "outputs": [
    {
     "data": {
      "text/plain": [
       "42"
      ]
     },
     "execution_count": 16,
     "metadata": {},
     "output_type": "execute_result"
    }
   ],
   "source": [
    "Λ(lambda π: π.x * π.y, ['x', 'y'])(6, 7)"
   ]
  },
  {
   "cell_type": "markdown",
   "id": "910eceff-2c72-4cdf-bdc5-b07ec23c96d5",
   "metadata": {},
   "source": [
    "### Test Application"
   ]
  },
  {
   "cell_type": "code",
   "execution_count": 17,
   "id": "afd3a73f-6e0d-4b1e-96b1-5446db0c1269",
   "metadata": {},
   "outputs": [
    {
     "data": {
      "text/plain": [
       "25"
      ]
     },
     "execution_count": 17,
     "metadata": {},
     "output_type": "execute_result"
    }
   ],
   "source": [
    "EVAL(Application(ΓΠ.square, [5]))"
   ]
  },
  {
   "cell_type": "markdown",
   "id": "ab5ee0d5-0b3e-450f-8874-0116729af857",
   "metadata": {},
   "source": [
    "Test its Greek shortcut:"
   ]
  },
  {
   "cell_type": "code",
   "execution_count": 18,
   "id": "42fa385e-2ec1-4ccd-8a46-783a35cbeda3",
   "metadata": {},
   "outputs": [
    {
     "data": {
      "text/plain": [
       "1764"
      ]
     },
     "execution_count": 18,
     "metadata": {},
     "output_type": "execute_result"
    }
   ],
   "source": [
    "EVAL(Ξ('square', [42]))"
   ]
  },
  {
   "cell_type": "code",
   "execution_count": 19,
   "id": "25a4e368-959e-425f-80cd-14d2bd8283e9",
   "metadata": {},
   "outputs": [
    {
     "data": {
      "text/plain": [
       "1849"
      ]
     },
     "execution_count": 19,
     "metadata": {},
     "output_type": "execute_result"
    }
   ],
   "source": [
    "EVAL(Ξ('square', [Var('γόὂ')]))"
   ]
  },
  {
   "cell_type": "markdown",
   "id": "9cf13206-d8d2-4f05-91f4-67efcee6dc99",
   "metadata": {},
   "source": [
    "## DEFINE(sym, val, $\\pi$)"
   ]
  },
  {
   "cell_type": "markdown",
   "id": "df57b592-2563-476e-987e-3ca7f780953d",
   "metadata": {},
   "source": [
    "Package up the \"defining\" boilerplate."
   ]
  },
  {
   "cell_type": "markdown",
   "id": "d9c19035-8083-4490-a7fa-eae9d2db1e60",
   "metadata": {},
   "source": [
    "By default, symbols are defined in the unique global environment, $\\Gamma\\Pi$."
   ]
  },
  {
   "cell_type": "code",
   "execution_count": 20,
   "id": "2f7313b3-271a-4073-b4a0-7f17290bcf71",
   "metadata": {},
   "outputs": [
    {
     "data": {
      "text/plain": [
       "42"
      ]
     },
     "execution_count": 20,
     "metadata": {},
     "output_type": "execute_result"
    }
   ],
   "source": [
    "def DEFINE(sym: str, val: Any, π: Environment=ΓΠ) -> None:\n",
    "    \"\"\"official Scheme\"\"\"\n",
    "    setattr(π.ϕ, sym, val)\n",
    "    return val\n",
    "\n",
    "DEFINE('saxpy', \n",
    "       Λ(lambda π: π.a * π.x + π.y, ['a', 'x', 'y']))\n",
    "\n",
    "ΓΠ.saxpy(4, 10, 2)"
   ]
  },
  {
   "cell_type": "markdown",
   "id": "a1f2597c-cefd-42f4-af81-9e39c8895099",
   "metadata": {},
   "source": [
    "### SICP 3.2.2"
   ]
  },
  {
   "cell_type": "code",
   "execution_count": 21,
   "id": "8cfcb5e3-3d96-4377-9957-f625e1081331",
   "metadata": {},
   "outputs": [
    {
     "data": {
      "text/plain": [
       "136"
      ]
     },
     "execution_count": 21,
     "metadata": {},
     "output_type": "execute_result"
    }
   ],
   "source": [
    "DEFINE('square', \n",
    "       Λ(lambda π: π.x * π.x, ['x']))\n",
    "\n",
    "DEFINE('sum_of_squares',\n",
    "       Λ(lambda π: π.square(π.x) + π.square(π.y), ['x', 'y']))\n",
    "\n",
    "DEFINE('f',\n",
    "       Λ(lambda π: π.sum_of_squares(1 + π.a, 2 * π.a), ['a']))\n",
    "\n",
    "ΓΠ.f(5)"
   ]
  },
  {
   "cell_type": "markdown",
   "id": "a08ca583-5050-4d4c-b427-36e8a5ffea7e",
   "metadata": {},
   "source": [
    "### Exercise 3.9"
   ]
  },
  {
   "cell_type": "code",
   "execution_count": 22,
   "id": "9684ccd8-bdc3-4b1d-8b86-8800972a8d7f",
   "metadata": {},
   "outputs": [
    {
     "data": {
      "text/plain": [
       "720"
      ]
     },
     "execution_count": 22,
     "metadata": {},
     "output_type": "execute_result"
    }
   ],
   "source": [
    "DEFINE('factorial',\n",
    "       Λ(lambda π: 1 if π.n < 2 else \\\n",
    "         π.n * π.factorial(π.n - 1), ['n']))\n",
    "\n",
    "ΓΠ.factorial(6)"
   ]
  },
  {
   "cell_type": "markdown",
   "id": "09a7cbfc-0681-4990-be95-8a6a8253926a",
   "metadata": {},
   "source": [
    "This doesn't tail-recurse because Python does not tail-recurse. See [Tail Recursion](#tail-recursion) for mitigation work-in-progress."
   ]
  },
  {
   "cell_type": "code",
   "execution_count": 23,
   "id": "01406a4e-ff0b-4ecb-bc1a-67f2173ea03f",
   "metadata": {},
   "outputs": [
    {
     "data": {
      "text/plain": [
       "720"
      ]
     },
     "execution_count": 23,
     "metadata": {},
     "output_type": "execute_result"
    }
   ],
   "source": [
    "DEFINE('fact_iter',\n",
    "       Λ(lambda π: π.product if π.counter > π.max_count else \\\n",
    "         π.fact_iter(\n",
    "           π.counter * π.product,\n",
    "           π.counter + 1,\n",
    "           π.max_count\n",
    "           ), ['product', 'counter', 'max_count']))\n",
    "\n",
    "ΓΠ.fact_iter(1, 1, 6)"
   ]
  },
  {
   "cell_type": "markdown",
   "id": "49333d00-057e-4136-82f5-602068a7e388",
   "metadata": {},
   "source": [
    "## Procedures that Apply Procedures"
   ]
  },
  {
   "cell_type": "markdown",
   "id": "dceee784-b183-40be-9d47-94b1f2c285f1",
   "metadata": {},
   "source": [
    "Here is a procedure of `f` and `x` that applies `f` to `x`:"
   ]
  },
  {
   "cell_type": "code",
   "execution_count": 24,
   "id": "cd07f625-5eb2-46c4-8a65-159d1c8c299a",
   "metadata": {},
   "outputs": [
    {
     "data": {
      "text/plain": [
       "1764"
      ]
     },
     "execution_count": 24,
     "metadata": {},
     "output_type": "execute_result"
    }
   ],
   "source": [
    "# Outer parens necessary to break lines for comments (Python).\n",
    "(Λ(lambda π:      # Create environment E1 in ΓΠ\n",
    "  π.f(π.x),       # Apply E1.f to E1.x.\n",
    "  ['f', 'x'])     # parameters\n",
    "(ΓΠ.square, 42))  # <~~~ Bind f to square, x to 42."
   ]
  },
  {
   "cell_type": "markdown",
   "id": "8c5bd8ef-a19d-48cf-b511-6422387c5f22",
   "metadata": {},
   "source": [
    "### Anonymous Sibling"
   ]
  },
  {
   "cell_type": "markdown",
   "id": "63db30a9-559b-4069-8242-2fcbeaa47419",
   "metadata": {},
   "source": [
    "Here is a procedure that applies an internal procedure; shadowing is no problem, here:"
   ]
  },
  {
   "cell_type": "code",
   "execution_count": 25,
   "id": "5aca4f8c-6401-4d1b-b687-3bb56a0e7146",
   "metadata": {},
   "outputs": [
    {
     "data": {
      "text/plain": [
       "1764"
      ]
     },
     "execution_count": 25,
     "metadata": {},
     "output_type": "execute_result"
    }
   ],
   "source": [
    "Λ(lambda π:     # Create environment E1 in ΓΠ.\n",
    "  Λ(lambda π:   # Create environment E2 in ΓΠ.\n",
    "    π.n * π.n,  # <~~~ n is bound in E2.\n",
    "    ['n']       #      (E2 is sibling to E1)\n",
    "   )            # Parent environment implicitly ΓΠ.\n",
    "  (π.n),        # <~~~ Look up in E1, bind in E2.\n",
    "  ['n'])(42)    # <~~~ Bind in E1."
   ]
  },
  {
   "cell_type": "markdown",
   "id": "4fc0943f-da21-480a-a15f-35cf30fb918c",
   "metadata": {},
   "source": [
    "### Anonymous Child"
   ]
  },
  {
   "cell_type": "markdown",
   "id": "8a522470-5b7d-4d30-bb1c-d362cbfbf324",
   "metadata": {},
   "source": [
    "Include the non-default $\\pi$ on the inner to chain the environments:"
   ]
  },
  {
   "cell_type": "code",
   "execution_count": 26,
   "id": "693a105e-ccae-4366-994c-95947c4557c4",
   "metadata": {},
   "outputs": [
    {
     "data": {
      "text/plain": [
       "1764"
      ]
     },
     "execution_count": 26,
     "metadata": {},
     "output_type": "execute_result"
    }
   ],
   "source": [
    "Λ(lambda π:     # Create environment E1 in ΓΠ.\n",
    "  Λ(lambda π:   # Create environment E2 in E1 !!!! \n",
    "    π.x * π.n,  # <~~~ n in E1, x in E2.\n",
    "    ['x'],      #      (E2 is child of E1)\n",
    "    π)          # Parent environment *explicitly* E1.\n",
    "  (π.n),        # <~~~ Look up in E1, bind in E2\n",
    "  ['n'])(42)    # <~~~ Bind in E1"
   ]
  },
  {
   "cell_type": "markdown",
   "id": "a4af2acd-c522-40db-bea0-85611e6091b1",
   "metadata": {},
   "source": [
    "## Procedures that Return Procedures"
   ]
  },
  {
   "cell_type": "markdown",
   "id": "c54d6dd7-8410-43d2-ae24-bf98e800e019",
   "metadata": {},
   "source": [
    "The $\\lambda$ below is just the identityf function: it returns its argument."
   ]
  },
  {
   "cell_type": "markdown",
   "id": "438fa220-ed0b-4c97-adf0-9cc740e923ca",
   "metadata": {},
   "source": [
    "### Known to Parent"
   ]
  },
  {
   "cell_type": "code",
   "execution_count": 27,
   "id": "151a96a5-226d-400f-bc35-f612dd17fd4c",
   "metadata": {},
   "outputs": [
    {
     "data": {
      "text/plain": [
       "42"
      ]
     },
     "execution_count": 27,
     "metadata": {},
     "output_type": "execute_result"
    }
   ],
   "source": [
    "Λ(lambda π:  # Create environment E1 in ΓΠ.\n",
    "  π.f,       # Just return the value of parameter f.\n",
    "  ['f'])     # Parent environment implicitly ΓΠ.\n",
    "(ΓΠ.square)  # <~~~ Procedure bound in ΓΠ\n",
    "(42)         # Apply the returned procedure."
   ]
  },
  {
   "cell_type": "markdown",
   "id": "e0fa8693-c9c0-4bf7-baab-ec3772d57012",
   "metadata": {},
   "source": [
    "### Anonymous"
   ]
  },
  {
   "cell_type": "markdown",
   "id": "5e9e93e8-ae81-49ed-9d71-a2fbb6916b49",
   "metadata": {},
   "source": [
    "Return a fresh anonymous procedure rather than one bound to a global symbol as above:"
   ]
  },
  {
   "cell_type": "code",
   "execution_count": 28,
   "id": "563871af-7158-4864-b361-1f4916660c0f",
   "metadata": {},
   "outputs": [
    {
     "data": {
      "text/plain": [
       "42"
      ]
     },
     "execution_count": 28,
     "metadata": {},
     "output_type": "execute_result"
    }
   ],
   "source": [
    "Λ(lambda π:                      # Identity function as above.\n",
    "  π.f, \n",
    "  ['f'])\n",
    "(Λ(lambda π: π.x * π.x, ['x']))  # <~~~ Anonymous procedure\n",
    "(42)                             # Apply the returned procedure."
   ]
  },
  {
   "cell_type": "markdown",
   "id": "1acfef76-6bfd-4088-90e9-aa8236de5150",
   "metadata": {},
   "source": [
    "## THUNK: Procedure of No Arguments"
   ]
  },
  {
   "cell_type": "code",
   "execution_count": 29,
   "id": "35619643-7479-4d9d-b931-c63bd7cb6c62",
   "metadata": {},
   "outputs": [
    {
     "data": {
      "text/plain": [
       "42"
      ]
     },
     "execution_count": 29,
     "metadata": {},
     "output_type": "execute_result"
    }
   ],
   "source": [
    "Λ(lambda π: 42)()"
   ]
  },
  {
   "cell_type": "code",
   "execution_count": 30,
   "id": "caf7335a-423a-48e2-8ff8-7f3d1c9627b5",
   "metadata": {},
   "outputs": [],
   "source": [
    "def THUNK(body: Any,\n",
    "          π: Environment = ΓΠ) -> Procedure:\n",
    "    ρ = Λ(lambda π: \n",
    "          EVAL(body, π=π), \n",
    "          [], \n",
    "          π=π)\n",
    "    return ρ"
   ]
  },
  {
   "cell_type": "code",
   "execution_count": 31,
   "id": "5fb30a1a-3f65-45be-9ac3-8cf95e4136d9",
   "metadata": {},
   "outputs": [
    {
     "data": {
      "text/plain": [
       "42"
      ]
     },
     "execution_count": 31,
     "metadata": {},
     "output_type": "execute_result"
    }
   ],
   "source": [
    "THUNK(42)()"
   ]
  },
  {
   "cell_type": "code",
   "execution_count": 32,
   "id": "eaeb5e36-9957-4917-9943-4a2a7c0ff98c",
   "metadata": {},
   "outputs": [
    {
     "data": {
      "text/plain": [
       "42"
      ]
     },
     "execution_count": 32,
     "metadata": {},
     "output_type": "execute_result"
    }
   ],
   "source": [
    "APPLY(THUNK(42), [])"
   ]
  },
  {
   "cell_type": "markdown",
   "id": "2a2d573f-fc3b-4057-92c5-dfb0dc3fc907",
   "metadata": {},
   "source": [
    "## $\\Upsilon$: Squaring Square Roots of Functions"
   ]
  },
  {
   "cell_type": "markdown",
   "id": "fa941f14-a865-46ff-8d63-6fe3c91610fa",
   "metadata": {},
   "source": [
    "[See this other noteobook](https://github.com/rebcabin/rebcabin.github.io/blob/main/PythonYCombinators.md). We follow its derivations step-by-step from first principles."
   ]
  },
  {
   "cell_type": "markdown",
   "id": "4599b260-3c75-44ab-82ff-4e8138b06b84",
   "metadata": {},
   "source": [
    "The running example is recursive factorial."
   ]
  },
  {
   "cell_type": "markdown",
   "id": "7e55ba32-d65f-479e-8be9-c13e4fb7382c",
   "metadata": {},
   "source": [
    "Don't forget non-default $\\pi$ on the inner lest `sf` be undefined."
   ]
  },
  {
   "cell_type": "code",
   "execution_count": 33,
   "id": "e451dac2-5973-4a25-beef-5b682c8f8aba",
   "metadata": {},
   "outputs": [
    {
     "data": {
      "text/plain": [
       "720"
      ]
     },
     "execution_count": 33,
     "metadata": {},
     "output_type": "execute_result"
    }
   ],
   "source": [
    "Λ(lambda π: \n",
    "  Λ(lambda π: 1 if π.n < 1 else π.n * π.sf(π.sf)(π.n - 1), ['n'], π), ['sf'])(\n",
    "    Λ(lambda π: \n",
    "      Λ(lambda π: 1 if π.n < 1 else π.n * π.sf(π.sf)(π.n - 1), ['n'], π), ['sf']))(6)"
   ]
  },
  {
   "cell_type": "markdown",
   "id": "b7576a93-7e2c-44fa-84ce-27a162577bbf",
   "metadata": {},
   "source": [
    "Abstract `sf(sf)(m)` into a delayed $\\lambda$ of `m`:"
   ]
  },
  {
   "cell_type": "code",
   "execution_count": 34,
   "id": "5a767251-c8a9-4c40-a2b6-236c33b659c8",
   "metadata": {},
   "outputs": [
    {
     "data": {
      "text/plain": [
       "720"
      ]
     },
     "execution_count": 34,
     "metadata": {},
     "output_type": "execute_result"
    }
   ],
   "source": [
    "Λ(lambda π: \n",
    "  Λ(lambda π: \n",
    "    Λ(lambda π: 1 if π.n < 1 else π.n * π.f(π.n - 1), ['n'], π), \n",
    "    ['f'], π)(Λ(lambda π: π.sf(π.sf)(π.m), ['m'], π)), \n",
    "  ['sf'])(\n",
    "Λ(lambda π: \n",
    "  Λ(lambda π: \n",
    "    Λ(lambda π: 1 if π.n < 1 else π.n * π.f(π.n - 1), ['n'], π), \n",
    "    ['f'], π)(Λ(lambda π: π.sf(π.sf)(π.m), ['m'], π)), \n",
    "  ['sf']))(6)"
   ]
  },
  {
   "cell_type": "markdown",
   "id": "733e321d-96ec-4701-9e86-ecf053af7240",
   "metadata": {},
   "source": [
    "Abstract the _domain code_ into `d`, a function of `f`, the _business code_, is a function of `n`, the _business parameter_."
   ]
  },
  {
   "cell_type": "code",
   "execution_count": 35,
   "id": "57a340f0-4da0-492f-93fd-0f6561b1d307",
   "metadata": {},
   "outputs": [
    {
     "data": {
      "text/plain": [
       "720"
      ]
     },
     "execution_count": 35,
     "metadata": {},
     "output_type": "execute_result"
    }
   ],
   "source": [
    "Λ(lambda π: # of d\n",
    "  Λ(lambda π: π.d(Λ(lambda π: π.sf(π.sf)(π.m), ['m'], π)),\n",
    "    ['sf'], π)(\n",
    "      Λ(lambda π: π.d(Λ(lambda π: π.sf(π.sf)(π.m), ['m'], π)),\n",
    "        ['sf'], π)), \n",
    "  ['d'])(\n",
    "    Λ(lambda π: # of f\n",
    "      Λ(lambda π: 1 if π.n < 1 else π.n * π.f(π.n - 1), ['n'], π), \n",
    "      ['f'])\n",
    "    )(6)"
   ]
  },
  {
   "cell_type": "markdown",
   "id": "3b15c6ba-b8ca-4b44-9889-a3072254912a",
   "metadata": {},
   "source": [
    "Abstract the self-applied $\\lambda$ of `sf` into `g`:"
   ]
  },
  {
   "cell_type": "code",
   "execution_count": 36,
   "id": "310477d3-5718-4d51-9596-12286c93d866",
   "metadata": {},
   "outputs": [
    {
     "data": {
      "text/plain": [
       "720"
      ]
     },
     "execution_count": 36,
     "metadata": {},
     "output_type": "execute_result"
    }
   ],
   "source": [
    "Λ(lambda π: # function of domain code, d\n",
    "  Λ(lambda π: π.g(π.g), ['g'], π)(\n",
    "      Λ(lambda π: π.d(Λ(lambda π: π.sf(π.sf)(π.m), ['m'], π)),\n",
    "        ['sf'], π)), \n",
    "  ['d'])(\n",
    "    Λ(lambda π: # domain code; function of business code, f\n",
    "      Λ(lambda π: 1 if π.n < 1 else π.n * π.f(π.n - 1), \n",
    "        ['n'], π), # business parameter, n\n",
    "      ['f']) # recursive function\n",
    ")(6)"
   ]
  },
  {
   "cell_type": "markdown",
   "id": "e795c1ea-5886-46c7-8a6e-e17898af7d3d",
   "metadata": {},
   "source": [
    "## Recursive Factorial via $\\Upsilon{}1$"
   ]
  },
  {
   "cell_type": "markdown",
   "id": "8c2a3bae-3fe2-470b-b7b2-f5b679a0de0e",
   "metadata": {},
   "source": [
    "The glyph that looks like \"Y\" is actually capital Upsilon ($\\Upsilon$ in $\\LaTeX$). Names in user code should not collide with it if users remember that they should [avoid Greek in user code](#greek)."
   ]
  },
  {
   "cell_type": "markdown",
   "id": "d63a5781-6a63-4363-87af-64e353fcd5f9",
   "metadata": {},
   "source": [
    "Package into a system function, $\\Upsilon{}1$, for later use. The \"1\" in the name means that this is for domain codes that return business codes of one parameter:"
   ]
  },
  {
   "cell_type": "code",
   "execution_count": 37,
   "id": "cf6757a1-2796-4106-8ac1-197ffef48c83",
   "metadata": {},
   "outputs": [
    {
     "data": {
      "text/plain": [
       "720"
      ]
     },
     "execution_count": 37,
     "metadata": {},
     "output_type": "execute_result"
    }
   ],
   "source": [
    "DEFINE('Υ1', \n",
    "       Λ(lambda π: # function of domain code, d\n",
    "         Λ(lambda π: π.g(π.g), ['g'], π)(\n",
    "             # of business code of one parameter\n",
    "             Λ(lambda π: π.d(\n",
    "                 Λ(lambda π: π.sf(π.sf)(π.m), \n",
    "                   ['m'], π)),\n",
    "               ['sf'], π)), \n",
    "         ['d']))\n",
    "\n",
    "DEFINE('fact_recursive',\n",
    "      Λ(lambda π: # domain code; function of business code, f\n",
    "        Λ(lambda π: 1 if π.n < 1 else π.n * π.f(π.n - 1), \n",
    "          ['n'], π), # business parameter, n\n",
    "        ['f'])) # recursive function\n",
    "\n",
    "ΓΠ.Υ1(ΓΠ.fact_recursive)(6)"
   ]
  },
  {
   "cell_type": "markdown",
   "id": "ee3789f3-095d-428d-b299-d70b914a2b26",
   "metadata": {},
   "source": [
    "## Iterative Factorial via $\\Upsilon{}3$"
   ]
  },
  {
   "cell_type": "markdown",
   "id": "caa53000-ba85-45d6-8712-3e73b2cc2bee",
   "metadata": {},
   "source": [
    "$\\Upsilon$ must be tailored for a given number of business parameters. This one is for three. We could write a Python-AST hack to handle any number of business parameters, but that's Python macrology, a rabbit hole to sidestep for now (TODO: reconsider)."
   ]
  },
  {
   "cell_type": "code",
   "execution_count": 38,
   "id": "6ee91c25-be26-401d-b4de-e218b3cd1ba8",
   "metadata": {},
   "outputs": [],
   "source": [
    "# λ d: (λ g: g[g])(λ sf: d[λ m, c, x: sf[sf][m, c, x]]) \n",
    "DEFINE('Υ3', \n",
    "       Λ(lambda π: # of d, the domain code ...\n",
    "         Λ(lambda π: π.g(π.g), ['g'], π)(\n",
    "             # of business code of three parameters\n",
    "             Λ(lambda π: π.d(\n",
    "                 Λ(lambda π: π.sf(π.sf)(π.m, π.c, π.x), \n",
    "                   ['m', 'c', 'x'], π)), \n",
    "               ['sf'], π)), \n",
    "         ['d']));"
   ]
  },
  {
   "cell_type": "markdown",
   "id": "5f2828c7-3d41-4067-ba30-4077ea9731cc",
   "metadata": {},
   "source": [
    "Here is user-level domain code, redefining `fact_iter` in domain-code form. Any domain code is a function of `f`, recursive _business code_. In this case, `f` is a function of 3 business parameters. This will get us to a tail-recursive solution in the [section on tail recursion](#tail-recursion)."
   ]
  },
  {
   "cell_type": "code",
   "execution_count": 39,
   "id": "9e64f6f6-757e-4573-a25b-fe56906c606c",
   "metadata": {},
   "outputs": [],
   "source": [
    "# λ f: λ m, c, x: m if c > x else f(m*c, c+1, x)\n",
    "DEFINE('fact_iter', # domain code is a function of f ...\n",
    "       Λ(lambda π: # ... which is business code.\n",
    "         Λ(lambda π: π.m if π.c > π.x else \n",
    "           π.f(π.m * π.c, π.c + 1, π.x), # business code\n",
    "           ['m', 'c', 'x'], π), # business parameters\n",
    "         ['f']));"
   ]
  },
  {
   "cell_type": "code",
   "execution_count": 40,
   "id": "5a1e66d9-d326-475c-8c4e-1617804d6b10",
   "metadata": {},
   "outputs": [
    {
     "data": {
      "text/plain": [
       "720"
      ]
     },
     "execution_count": 40,
     "metadata": {},
     "output_type": "execute_result"
    }
   ],
   "source": [
    "ΓΠ.Υ3(ΓΠ.fact_iter)(1, 1, 6)"
   ]
  },
  {
   "cell_type": "markdown",
   "id": "baa87f5a-d74b-43af-b51a-82a2dc288e96",
   "metadata": {},
   "source": [
    "# Tail Recursion<a id=\"tail-recursion\"></a>"
   ]
  },
  {
   "cell_type": "markdown",
   "id": "947be86a-ef5e-4e6c-ab0a-82f0de6e4ca8",
   "metadata": {},
   "source": [
    "Thanks to [Thomas Baruchel for this idea on tail recursion](https://stackoverflow.com/questions/13591970/does-python-optimize-tail-recursion). If users are aware that their domain code is tail-recursive, then they may call it via `LOOP` instead of via $\\Upsilon$. In Scheme, detection of tail recursion is automatic. In Python and Schemulator, users must manage tail recursion explicitly. This isn't a terrible issue. Tail-calls are lexically obvious, so users should always know. In Clojure, there is precedent. Users must explicitly write `loop` and `recur`. In any event, domain code can always be called via the proper $\\Upsilon$, the one that knows the count of business parameters."
   ]
  },
  {
   "cell_type": "markdown",
   "id": "0019487a-a67c-4c33-b163-adadac0f9a55",
   "metadata": {},
   "source": [
    "We imitate Clojure's names `loop` and `recur`. The glyph that looks like \"P\" below is Greek Capital Rho for \"recur.\" `LOOP3` has the same signature as $\\Upsilon3$; it takes domain code as its sole argument. Names in user code should not collide with P B if users remember that they should [avoid Greek in user code](#greek). As with $\\Upsilon$, Rho and `LOOP` must know their argument counts. That's OK for now (TODO: reconsider)."
   ]
  },
  {
   "cell_type": "code",
   "execution_count": 41,
   "id": "e0c2c7c9-284c-49fe-80ed-b348613d5c6c",
   "metadata": {},
   "outputs": [
    {
     "data": {
      "text/plain": [
       "2432902008176640000"
      ]
     },
     "execution_count": 41,
     "metadata": {},
     "output_type": "execute_result"
    }
   ],
   "source": [
    "class TailCall(Exception):  \n",
    "    \"\"\"αναδρομική κλήση\"\"\"\n",
    "    def __init__(self, *args):\n",
    "        \"\"\"Overwrite old args with new.\"\"\"\n",
    "        self.args = args\n",
    "\n",
    "def RECUR(*args):  \n",
    "    \"\"\"υψώνω: in sincere flattery of Clojure\"\"\"\n",
    "    raise TailCall(*args)\n",
    "\n",
    "def LOOP3(d: Procedure) -> Procedure:\n",
    "    \"\"\"in sincere flattery of Clojure, and thanks to Thomas Baruchel.\"\"\"\n",
    "    DEFINE('Ρ3', Λ(lambda π: RECUR(π.m, π.c, π.x), ['m', 'c', 'x']));\n",
    "    def looper(*args):\n",
    "        \"\"\"Expression form of a while-loop statement.\"\"\"\n",
    "        while True:\n",
    "            try: \n",
    "                return d(ΓΠ.Ρ3)(*args)\n",
    "            except TailCall as e:\n",
    "                args = e.args\n",
    "    ρ = Λ(lambda π: looper(π.m, π.c, π.x), ['m', 'c', 'x'], π=d.π)\n",
    "    return ρ\n",
    "\n",
    "LOOP3(ΓΠ.fact_iter)(1, 1, 20)"
   ]
  },
  {
   "cell_type": "markdown",
   "id": "8ca958a0-614d-473e-9eca-9b53121b167b",
   "metadata": {},
   "source": [
    "> ***Results are undefined if you call any `LOOP` function with non-tail-recursive domain code.***"
   ]
  },
  {
   "cell_type": "markdown",
   "id": "2a1535b8-6e3f-4071-987d-af88c22a6166",
   "metadata": {},
   "source": [
    "## Prove It"
   ]
  },
  {
   "cell_type": "markdown",
   "id": "b969d0b0-2677-4681-b7f4-4fc92e03fd72",
   "metadata": {},
   "source": [
    "The recursive version blows Python's recursion limit."
   ]
  },
  {
   "cell_type": "code",
   "execution_count": 42,
   "id": "22aa12bb-ce0d-4485-8671-89cc03088334",
   "metadata": {},
   "outputs": [
    {
     "name": "stdout",
     "output_type": "stream",
     "text": [
      "('maximum recursion depth exceeded while calling a Python object',)\n"
     ]
    }
   ],
   "source": [
    "try:\n",
    "    print(ΓΠ.Υ3(ΓΠ.fact_iter)(1, 1, 371))  # smallest that blows the limit\n",
    "except RecursionError as e:\n",
    "    print(e.args)"
   ]
  },
  {
   "cell_type": "markdown",
   "id": "1d8b113d-d655-4316-ae18-f0289ca764c4",
   "metadata": {},
   "source": [
    "The tail-call version does not. Notice the domain code `fact_iter` is EXACTLY the same as in the recursive version above."
   ]
  },
  {
   "cell_type": "code",
   "execution_count": 43,
   "id": "ead045e6-152f-45b6-8ffd-6e786fbd92e3",
   "metadata": {},
   "outputs": [
    {
     "name": "stdout",
     "output_type": "stream",
     "text": [
      "62855331391956382225770747671578463391737329533894512598427801110945034468278942464657803357681644567456425552976030580621321979460216977452900971020528827454747222314767055377166178979913914561731056981125802575231189040557633076476027243392033243975113638811069534081487925145774927875946264739315358214889904107990202974498463787992100004990782629189964738943664888156971839391704156239112246066337315375642383996621347503787994281720705740025352350835984768237469912254154807846776304145838142892399708018434373722381046714286547893121562168332378475094954963294494432743104052734833831780190434067451905680090591212077352655077968066965024491777167004584808674339603547723464540669873303767018897408000000000000000000000000000000000000000000000000000000000000000000000000000000000000000000\n"
     ]
    }
   ],
   "source": [
    "try:\n",
    "    print(LOOP3(ΓΠ.fact_iter)(1, 1, 371))\n",
    "except RecursionError as e:\n",
    "    print(e.args)"
   ]
  },
  {
   "cell_type": "markdown",
   "id": "8ef9da0d-2fc9-4507-ba99-13979b7f1cf5",
   "metadata": {},
   "source": [
    "## Tail-Recursive Fibonacci<a id=\"tail-recursive-fibonacci\"></a>"
   ]
  },
  {
   "cell_type": "markdown",
   "id": "60b0fecb-ebee-4d3f-8090-8f5db2455eb4",
   "metadata": {},
   "source": [
    "Write domain code for catastropically slow, non-tail-recursive, exponentially diverging Fibonacci:"
   ]
  },
  {
   "cell_type": "code",
   "execution_count": 44,
   "id": "24124806-e810-41be-8e4a-6f6f46285ed1",
   "metadata": {},
   "outputs": [
    {
     "data": {
      "text/plain": [
       "13"
      ]
     },
     "execution_count": 44,
     "metadata": {},
     "output_type": "execute_result"
    }
   ],
   "source": [
    "DEFINE('fib_slow', \n",
    "       Λ(lambda π: \n",
    "         Λ(lambda π: 1 if π.n < 2 else \n",
    "           π.f(π.n - 1) + π.f(π.n - 2), ['n'], π),\n",
    "         ['f']))\n",
    "\n",
    "ΓΠ.Υ1(ΓΠ.fib_slow)(6)"
   ]
  },
  {
   "cell_type": "markdown",
   "id": "4f7f288c-9039-40cc-9c01-003182f35e82",
   "metadata": {},
   "source": [
    "This is miserable even for $n=23$. You won't want to call it for bigger arguments."
   ]
  },
  {
   "cell_type": "code",
   "execution_count": 45,
   "id": "2dd5dea4-5f9a-440b-a384-679bd0a7c2f0",
   "metadata": {},
   "outputs": [
    {
     "data": {
      "text/plain": [
       "46368"
      ]
     },
     "execution_count": 45,
     "metadata": {},
     "output_type": "execute_result"
    }
   ],
   "source": [
    "ΓΠ.Υ1(ΓΠ.fib_slow)(23)"
   ]
  },
  {
   "cell_type": "code",
   "execution_count": 46,
   "id": "856660f2-c796-4c20-89e9-ccdbf1229705",
   "metadata": {},
   "outputs": [
    {
     "name": "stdout",
     "output_type": "stream",
     "text": [
      "826 ms ± 1.13 ms per loop (mean ± std. dev. of 7 runs, 1 loop each)\n"
     ]
    }
   ],
   "source": [
    "timeit(ΓΠ.Υ1(ΓΠ.fib_slow)(23))"
   ]
  },
  {
   "cell_type": "markdown",
   "id": "b6406f60-28e1-4cb1-86d4-bd1cb582a454",
   "metadata": {},
   "source": [
    "Without linearization, Fibonacci 500 would not complete in $10^{30}$ times the Age of the Universe. One way to linearize is tail recursion. Another way is [memoization](#memoization) (not _memorization_). Tail-recursive memoization is possible but not necessary. A tail-recursive Fibonacci easy and blazingly fast:"
   ]
  },
  {
   "cell_type": "code",
   "execution_count": 47,
   "id": "a3ce9fbc-3609-4751-87fc-91437bd65a5e",
   "metadata": {},
   "outputs": [],
   "source": [
    "DEFINE('fib_iter',\n",
    "       Λ(lambda π:\n",
    "         Λ(lambda π: π.b if π.n < 1 else \n",
    "           π.f(π.b, π.a + π.b, π.n - 1),\n",
    "           ['a', 'b', 'n'], π),\n",
    "         ['f']));"
   ]
  },
  {
   "cell_type": "markdown",
   "id": "ea746bc4-101b-45ae-b3f3-a990f87ff58a",
   "metadata": {},
   "source": [
    "Check it:"
   ]
  },
  {
   "cell_type": "code",
   "execution_count": 48,
   "id": "fac98926-a4b3-4002-b421-5007ca391f49",
   "metadata": {},
   "outputs": [
    {
     "data": {
      "text/plain": [
       "46368"
      ]
     },
     "execution_count": 48,
     "metadata": {},
     "output_type": "execute_result"
    }
   ],
   "source": [
    "LOOP3(ΓΠ.fib_iter)(0, 1, 23)"
   ]
  },
  {
   "cell_type": "markdown",
   "id": "a83ccb6d-ede9-4910-a237-9c6cbacedc5b",
   "metadata": {},
   "source": [
    "Time it:"
   ]
  },
  {
   "cell_type": "code",
   "execution_count": 49,
   "id": "fe6d7ec8-cd48-4172-a9d9-fe64346dee16",
   "metadata": {},
   "outputs": [
    {
     "name": "stdout",
     "output_type": "stream",
     "text": [
      "191 µs ± 1.68 µs per loop (mean ± std. dev. of 7 runs, 10,000 loops each)\n"
     ]
    }
   ],
   "source": [
    "timeit(LOOP3(ΓΠ.fib_iter)(0, 1, 23))"
   ]
  },
  {
   "cell_type": "markdown",
   "id": "9d003b80-33b9-46e6-899c-e6d8a8b01337",
   "metadata": {},
   "source": [
    "4000 times faster. Stress it:"
   ]
  },
  {
   "cell_type": "code",
   "execution_count": 50,
   "id": "2ea94848-5fba-46f2-aa48-209b085369d8",
   "metadata": {},
   "outputs": [
    {
     "data": {
      "text/plain": [
       "6276302800488957086035253108349684055478528702736457439025824448927937256811663264475883711527806250329984690249846819800648580083040107584710332687596562185073640422286799239932615797105974710857095487342820351307477141875012176874307156016229965832589137779724973854362777629878229505500260477136108363709090010421536915488632339240756987974122598603591920306874926755600361865354330444681915154695741851960071089944015319300128574107662757054790648152751366475529121877212785489665101733755898580317984402963873738187000120737824193162011399200547424034440836239726275765901190914513013217132050988064832024783370583789324109052449717186857327239783000020791777804503930439875068662687670678802914269784817022567088069496231111407908953313902398529655056082228598715882365779469902465675715699187225655878240668599547496218159297881601061923195562143932693324644219266564617042934227893371179832389642895285401263875342640468017378925921483580111278055044254198382265567395946431803304304326865077742925818757370691726168228648841319231470626"
      ]
     },
     "execution_count": 50,
     "metadata": {},
     "output_type": "execute_result"
    }
   ],
   "source": [
    "LOOP3(ΓΠ.fib_iter)(0, 1, 5000)"
   ]
  },
  {
   "cell_type": "markdown",
   "id": "c29ff3d0-9914-43f1-889e-2afea66b6666",
   "metadata": {},
   "source": [
    "# Memoized [sic] Fibonacci<a id=\"memoization\"></a>"
   ]
  },
  {
   "cell_type": "markdown",
   "id": "92f61b47-e64c-4517-9eb9-457fd965d1bb",
   "metadata": {},
   "source": [
    "## Curried Memo Table"
   ]
  },
  {
   "cell_type": "markdown",
   "id": "66097304-2a5e-422e-ab4e-9bfe688402d8",
   "metadata": {},
   "source": [
    "One way to pass a memo table is through a Curried second argument. We'll need $\\Upsilon2C$, generic for 2-parameter, Curried business code:"
   ]
  },
  {
   "cell_type": "code",
   "execution_count": 51,
   "id": "4982e8bc-cc80-48d4-9615-7a752c1de4be",
   "metadata": {},
   "outputs": [],
   "source": [
    "DEFINE('Υ2C', \n",
    "       Λ(lambda π: # function of domain code, d ...\n",
    "         Λ(lambda π: π.g(π.g), ['g'], π)(\n",
    "             # with business code of 2 parameters, curried\n",
    "             Λ(lambda π: \n",
    "               π.d(Λ(lambda π: \n",
    "                     Λ(lambda π: π.sf(π.sf)(π.m)(π.n), \n",
    "                       ['n'], π), ['m'], π)),\n",
    "               ['sf'], π)), \n",
    "         ['d']));"
   ]
  },
  {
   "cell_type": "markdown",
   "id": "1f31346b-83e1-4ff1-91a1-10c1a1ceae32",
   "metadata": {},
   "source": [
    "The domain code for a memoized, Curried Fibonacci follows. The parameter `a` is the _accumulator_, _associator_, or memo, whatever word you like best. This is easiest to read (and to write) from the bottom up. It looks horrendous, but it isn't really."
   ]
  },
  {
   "cell_type": "code",
   "execution_count": 52,
   "id": "1db24f2a-3644-47e0-8062-f3994ccf354a",
   "metadata": {},
   "outputs": [
    {
     "data": {
      "text/plain": [
       "46368"
      ]
     },
     "execution_count": 52,
     "metadata": {},
     "output_type": "execute_result"
    }
   ],
   "source": [
    "DEFINE('fib_fast',\n",
    "       Λ(lambda π: # of f; level 1\n",
    "         Λ(lambda π: # of a; level 2\n",
    "           Λ(lambda π: # of n; level 3\n",
    "             (π.a, 1) if π.n < 2 else\n",
    "             Λ(lambda π: # of n_1; level 4\n",
    "               (π.a, π.a[π.n_1]) # optimizer should remove these two lines\n",
    "               if π.n_1 in π.a else # ^^^\n",
    "               Λ(lambda π: # of fim1; level 5\n",
    "                 Λ(lambda π: # of m1; level 6\n",
    "                   Λ(lambda π: # of r1; level 7\n",
    "                     Λ(lambda π: # of a1; level 8\n",
    "                       Λ(lambda π: # of n_2; level 9\n",
    "                         (π.a1, π.r1 + π.a1[π.n_2]) # <~~~ a quick exit\n",
    "                         if π.n_2 in π.a1 else \n",
    "                         Λ(lambda π: # of fim2; level 10\n",
    "                           Λ(lambda π: # of m2; level 11\n",
    "                             Λ(lambda π: # of r2; level 12\n",
    "                               Λ(lambda π: # of a2; level 13\n",
    "                                 (π.a2, π.r1 + π.r2), # <~~~ the money line\n",
    "                                 ['a2'], π)(π.m2[0] | {π.n_2: π.r2}),  # <~~~ update memo\n",
    "                               ['r2'], π)(π.m2[1]), # unpack\n",
    "                             ['m2'], π)(π.fim2(π.n_2)), # unpack\n",
    "                           ['fim2'], π)(π.f(π.a1)), # <~~~ recurse\n",
    "                         ['n_2'], π)(π.n - 2), # DRY\n",
    "                       ['a1'], π)(π.m1[0] | {π.n_1: π.r1}), # <~~~ update memo\n",
    "                     ['r1'], π)(π.m1[1]), # unpack\n",
    "                   ['m1'], π)(π.fim1(π.n_1)), # unpack\n",
    "                 ['fim1'], π)(π.f(π.a)), # <~~~ recurse\n",
    "               ['n_1'], π)(π.n - 1), # DRY\n",
    "             ['n'], π), # business parameter\n",
    "           ['a'], π), # curried memo\n",
    "         ['f'])) # domain code \n",
    "ΓΠ.Υ2C(ΓΠ.fib_fast)({})(23)[1]"
   ]
  },
  {
   "cell_type": "markdown",
   "id": "a294cfdd-a94f-40d0-8aa5-8d7a0c0a2b1a",
   "metadata": {},
   "source": [
    "1,000 times faster"
   ]
  },
  {
   "cell_type": "code",
   "execution_count": 53,
   "id": "73e6fad5-4202-4b6b-9d26-4d9d5bf91422",
   "metadata": {},
   "outputs": [
    {
     "name": "stdout",
     "output_type": "stream",
     "text": [
      "947 µs ± 1.53 µs per loop (mean ± std. dev. of 7 runs, 1,000 loops each)\n"
     ]
    }
   ],
   "source": [
    "timeit(ΓΠ.Υ2C(ΓΠ.fib_fast)({})(23)[1])"
   ]
  },
  {
   "cell_type": "markdown",
   "id": "ef1731e0-d277-4e02-bfa8-ed2c67bf2598",
   "metadata": {},
   "source": [
    "But still blows the recursion limit:"
   ]
  },
  {
   "cell_type": "code",
   "execution_count": 54,
   "id": "01ddb2e3-7b21-4946-a0a3-12f89725e619",
   "metadata": {},
   "outputs": [
    {
     "name": "stdout",
     "output_type": "stream",
     "text": [
      "('maximum recursion depth exceeded while calling a Python object',)\n",
      "205697230343233228174223751303346572685\n"
     ]
    }
   ],
   "source": [
    "try:\n",
    "    print(ΓΠ.Υ2C(ΓΠ.fib_fast)({})(185)[1])\n",
    "except RecursionError as e:\n",
    "    print(e.args)\n",
    "\n",
    "try:\n",
    "    print(ΓΠ.Υ2C(ΓΠ.fib_fast)({})(184)[1])\n",
    "except RecursionError as e:\n",
    "    print(e.args)"
   ]
  },
  {
   "cell_type": "markdown",
   "id": "a62017ed-455d-4813-9f94-769d26ff68b8",
   "metadata": {},
   "source": [
    "## Memo Table as Business Parameter"
   ]
  },
  {
   "cell_type": "markdown",
   "id": "3b4e5c3e-2d22-4a24-b1a6-472382e0e406",
   "metadata": {},
   "source": [
    "Currying is useful in general, but complicates this case. Get rid of it."
   ]
  },
  {
   "cell_type": "code",
   "execution_count": 55,
   "id": "640a45c0-c543-452a-b5e8-637ddfd94ff9",
   "metadata": {},
   "outputs": [],
   "source": [
    "DEFINE('fib_fast_uncurried',\n",
    "      Λ(lambda π: # of f; level 1\n",
    "        Λ(lambda π: # of a, n; level 2\n",
    "          (π.a, 1) if π.n < 2 else\n",
    "          Λ(lambda π: # of n_1; level 3\n",
    "            Λ(lambda π: # of t1; level 4\n",
    "              Λ(lambda π: # of m1; level 5\n",
    "                Λ(lambda π: # of r1; level 6\n",
    "                  Λ(lambda π: # of a1; level 7\n",
    "                    Λ(lambda π: # of n_2; level 8\n",
    "                      (π.a1, π.r1 + π.a1[π.n_2]) # <~~~ quick exit\n",
    "                      if π.n_2 in π.a1 else \n",
    "                      Λ(lambda π: # of t_2; level 9\n",
    "                        Λ(lambda π: # of m_2; level 10\n",
    "                          Λ(lambda π: # of r_2; level 11\n",
    "                            Λ(lambda π: # of a_2; level 12\n",
    "                              (π.a2, π.r1 + π.r2), # <~~~ the money line\n",
    "                              ['a2'], π)(π.m2 | {π.n_2: π.r2}), # <~~~ update memo\n",
    "                            ['r2'], π)(π.t2[1]), # nupaci\n",
    "                          ['m2'], π)(π.t2[0]), # unpack\n",
    "                        ['t2'], π)(π.f(π.a1, π.n_2)), # <~~~ recurse\n",
    "                      ['n_2'], π)(π.n - 2), # dry\n",
    "                    ['a1'], π)(π.m1 | {π.n_1: π.r1}), # <~~~ update memo\n",
    "                  ['r1'], π)(π.t1[1]), # unpac\n",
    "                ['m1'], π)(π.t1[0]), # unpack\n",
    "              ['t1'], π)(π.f(π.a, π.n_1)), # <~~~ recurse\n",
    "            ['n_1'], π)(π.n - 1), # DRY\n",
    "          ['a', 'n'], π), # busines parameters\n",
    "        ['f'])); # domain-code signature"
   ]
  },
  {
   "cell_type": "markdown",
   "id": "daed92f6-647e-4852-a04d-cf6059089903",
   "metadata": {},
   "source": [
    "Need $\\Upsilon2$ to call it:"
   ]
  },
  {
   "cell_type": "code",
   "execution_count": 56,
   "id": "8ee3fb3a-70d0-48b6-ba17-f9276fe977f7",
   "metadata": {},
   "outputs": [],
   "source": [
    "DEFINE('Υ2', \n",
    "       Λ(lambda π: # of d, the domain code ...\n",
    "         Λ(lambda π: π.g(π.g), ['g'], π)(\n",
    "             # of business code of two parameters\n",
    "             Λ(lambda π: \n",
    "               π.d(Λ(lambda π: π.sf(π.sf)(π.m, π.c), \n",
    "                     ['m', 'c'], π)), \n",
    "               ['sf'], π)), \n",
    "         ['d']));"
   ]
  },
  {
   "cell_type": "markdown",
   "id": "a75570c2-aefc-4994-a9c9-8f212abe3df0",
   "metadata": {},
   "source": [
    "The recursion limit is a little higher, but we don't want any of that."
   ]
  },
  {
   "cell_type": "code",
   "execution_count": 57,
   "id": "37005807-3bee-4119-a98b-e75c2b328429",
   "metadata": {},
   "outputs": [
    {
     "name": "stdout",
     "output_type": "stream",
     "text": [
      "('maximum recursion depth exceeded while calling a Python object',)\n",
      "('maximum recursion depth exceeded while calling a Python object',)\n"
     ]
    }
   ],
   "source": [
    "try:\n",
    "    print(ΓΠ.Υ2(ΓΠ.fib_fast_uncurried)({}, 246)[1])\n",
    "except RecursionError as e:\n",
    "    print(e.args)\n",
    "    \n",
    "try:\n",
    "    print(ΓΠ.Υ2(ΓΠ.fib_fast_uncurried)({}, 245)[1])\n",
    "except RecursionError as e:\n",
    "    print(e.args)"
   ]
  },
  {
   "cell_type": "markdown",
   "id": "a4c688de-5aec-4525-bb93-fcb70d99d508",
   "metadata": {},
   "source": [
    "## Recursive With Memo"
   ]
  },
  {
   "cell_type": "markdown",
   "id": "c3bc8b75-88e3-4fac-b4be-351d8a3b80ce",
   "metadata": {},
   "source": [
    "Section [Tail-Recursive Fibonacci](#tail-recursive-fibonacci) exhibits a very short solution without a memo table. Could we write a tail-recursive version with a memo table? Is it worth the effort? Perhaps as a mental exercise."
   ]
  },
  {
   "cell_type": "markdown",
   "id": "f81a08a1-e77e-4d85-9567-de25543afcdf",
   "metadata": {},
   "source": [
    "Pseudocode:"
   ]
  },
  {
   "cell_type": "markdown",
   "id": "864b27fe-4b2c-4683-a417-ca6a31d1eb1e",
   "metadata": {},
   "source": [
    "```\n",
    "f(r1, r2, a, n, x):\n",
    "    (a, 1) if n < 1 else\n",
    "    f(r2, r1 + r2, a | {x - (n-1): r1, x - (n-2): r2}, x)\n",
    "```"
   ]
  },
  {
   "cell_type": "markdown",
   "id": "83f000c1-3393-4b4f-ae30-890ff8761ab5",
   "metadata": {},
   "source": [
    "### Non-Tail-Recursive"
   ]
  },
  {
   "cell_type": "code",
   "execution_count": 58,
   "id": "94bf2bed-d912-48bd-9120-9cf2918930bf",
   "metadata": {},
   "outputs": [],
   "source": [
    "DEFINE('Υ5', \n",
    "       Λ(lambda π: # of d, the domain code ...\n",
    "         Λ(lambda π: π.g(π.g), ['g'], π)(\n",
    "             # of business code of five parameters\n",
    "             Λ(lambda π: π.d(\n",
    "                 Λ(lambda π: π.sf(π.sf)(π.m, π.c, π.x, π.a, π.b), \n",
    "                   ['m', 'c', 'x', 'a', 'b'], π)), \n",
    "               ['sf'], π)), \n",
    "         ['d']));"
   ]
  },
  {
   "cell_type": "code",
   "execution_count": 59,
   "id": "a8c3af0c-5449-4e84-97ee-5c5601d2377f",
   "metadata": {},
   "outputs": [],
   "source": [
    "DEFINE('fib_tc_memo',\n",
    "      Λ(lambda π: \n",
    "        Λ(lambda π:\n",
    "          (π.a | {π.x: π.r2}, π.r2) if π.n < 1 else \\\n",
    "          π.f(π.r2, π.r1 + π.r2, \n",
    "              π.a | {π.x-π.n: π.r2},\n",
    "              π.n - 1,\n",
    "              π.x),\n",
    "         ['r1', 'r2', 'a', 'n', 'x'], π), \n",
    "        ['f']));"
   ]
  },
  {
   "cell_type": "code",
   "execution_count": 60,
   "id": "9788fe5f-b8a4-4113-b976-873d3ddb6ef8",
   "metadata": {},
   "outputs": [
    {
     "data": {
      "text/plain": [
       "({0: 1,\n",
       "  1: 1,\n",
       "  2: 2,\n",
       "  3: 3,\n",
       "  4: 5,\n",
       "  5: 8,\n",
       "  6: 13,\n",
       "  7: 21,\n",
       "  8: 34,\n",
       "  9: 55,\n",
       "  10: 89,\n",
       "  11: 144,\n",
       "  12: 233,\n",
       "  13: 377,\n",
       "  14: 610,\n",
       "  15: 987,\n",
       "  16: 1597,\n",
       "  17: 2584,\n",
       "  18: 4181,\n",
       "  19: 6765,\n",
       "  20: 10946,\n",
       "  21: 17711,\n",
       "  22: 28657,\n",
       "  23: 46368},\n",
       " 46368)"
      ]
     },
     "execution_count": 60,
     "metadata": {},
     "output_type": "execute_result"
    }
   ],
   "source": [
    "ΓΠ.Υ5(ΓΠ.fib_tc_memo)(0, 1, {}, 23, 23)"
   ]
  },
  {
   "cell_type": "markdown",
   "id": "c1758ef2-ff1f-4c4c-a6c0-02c5f551df3f",
   "metadata": {},
   "source": [
    "### Tail-Recusive"
   ]
  },
  {
   "cell_type": "code",
   "execution_count": 61,
   "id": "6b03a478-9fbf-4b6f-a9b5-8a2a1d3e2c43",
   "metadata": {},
   "outputs": [],
   "source": [
    "def LOOP5(d: Procedure) -> Procedure:\n",
    "    \"\"\"in sincere flattery of Clojure, and thanks to Thomas Baruchel.\"\"\"\n",
    "    DEFINE('Ρ3', Λ(lambda π: \n",
    "                   RECUR(π.m, π.c, π.x, π.a, π.b), \n",
    "                   ['m', 'c', 'x', 'a', 'b']));\n",
    "    def looper(*args):\n",
    "        \"\"\"Expression form of a while-loop statement.\"\"\"\n",
    "        while True:\n",
    "            try: \n",
    "                return d(ΓΠ.Ρ3)(*args)\n",
    "            except TailCall as e:\n",
    "                args = e.args\n",
    "    ρ = Λ(lambda π: \n",
    "               looper(π.m, π.c, π.x, π.a, π.b), \n",
    "               ['m', 'c', 'x', 'a', 'b'], π=d.π)\n",
    "    return ρ"
   ]
  },
  {
   "cell_type": "code",
   "execution_count": 62,
   "id": "32c44d8e-70e2-4590-8465-88fcc50eddda",
   "metadata": {},
   "outputs": [
    {
     "data": {
      "text/plain": [
       "({0: 1,\n",
       "  1: 1,\n",
       "  2: 2,\n",
       "  3: 3,\n",
       "  4: 5,\n",
       "  5: 8,\n",
       "  6: 13,\n",
       "  7: 21,\n",
       "  8: 34,\n",
       "  9: 55,\n",
       "  10: 89,\n",
       "  11: 144,\n",
       "  12: 233,\n",
       "  13: 377,\n",
       "  14: 610,\n",
       "  15: 987,\n",
       "  16: 1597,\n",
       "  17: 2584,\n",
       "  18: 4181,\n",
       "  19: 6765,\n",
       "  20: 10946,\n",
       "  21: 17711,\n",
       "  22: 28657,\n",
       "  23: 46368},\n",
       " 46368)"
      ]
     },
     "execution_count": 62,
     "metadata": {},
     "output_type": "execute_result"
    }
   ],
   "source": [
    "LOOP5(ΓΠ.fib_tc_memo)(0, 1, {}, 23, 23)"
   ]
  },
  {
   "cell_type": "markdown",
   "id": "a0b3be7e-25d4-4bdd-9df5-1da2689b1ce8",
   "metadata": {},
   "source": [
    "### Test the Limits"
   ]
  },
  {
   "cell_type": "code",
   "execution_count": 63,
   "id": "583a263d-f387-40b6-b2c4-9e6608ad3835",
   "metadata": {},
   "outputs": [
    {
     "name": "stdout",
     "output_type": "stream",
     "text": [
      "('maximum recursion depth exceeded while calling a Python object',)\n",
      "225591516161936330872512695036072072046011324913758190588638866418474627738686883405015987052796968498626\n"
     ]
    }
   ],
   "source": [
    "try:\n",
    "    print(ΓΠ.Υ5(ΓΠ.fib_tc_memo)(0, 1, {}, 500, 500)[1])\n",
    "except RecursionError as e:\n",
    "    print(e.args)\n",
    "    \n",
    "try:\n",
    "    print(LOOP5(ΓΠ.fib_tc_memo)(0, 1, {}, 500, 500)[1])\n",
    "except RecursionError as e:\n",
    "    print(e.args)"
   ]
  },
  {
   "cell_type": "markdown",
   "id": "abe8c818-5e88-4d2a-a5ee-129f588c5b56",
   "metadata": {},
   "source": [
    "# DO"
   ]
  },
  {
   "cell_type": "markdown",
   "id": "f4b35c6c-35d3-406c-b9ef-c127625666df",
   "metadata": {},
   "source": [
    "```\n",
    "(DO ((<var1> <init1> <step1>)\n",
    "     (<var2> <init2> <step2>)\n",
    "     ...\n",
    "     (<varN> <initN> <stepN>))\n",
    "    (<pred> <value>) \n",
    "    <optional body>)\n",
    "```"
   ]
  },
  {
   "cell_type": "markdown",
   "id": "95a70f5d-f55c-4a3d-a1ad-cb9d9b132072",
   "metadata": {},
   "source": [
    "# LABELS"
   ]
  },
  {
   "cell_type": "markdown",
   "id": "ae349e3a-073b-4234-be24-b41695ad1836",
   "metadata": {},
   "source": [
    "# SET_BANG"
   ]
  },
  {
   "cell_type": "markdown",
   "id": "139882ff-e0f9-47dd-8da5-9cb461c4b872",
   "metadata": {},
   "source": [
    "Tested below in [block](#block). Like Gambit and unlike Common Lisp and Emacs Lisp, we can only `set!` symbols that are already `define`d."
   ]
  },
  {
   "cell_type": "code",
   "execution_count": 64,
   "id": "1e4a8c72-e0de-4db1-962d-615e12b7e99e",
   "metadata": {},
   "outputs": [],
   "source": [
    "def SET_BANG(\n",
    "        sym: str, \n",
    "        val: Any, \n",
    "        π: Environment = ΓΠ) -> None:\n",
    "    ee = EVAL(val, π)\n",
    "    \"\"\"recursive lookup\"\"\"\n",
    "    while π is not None:\n",
    "        # Find the right π; ...\n",
    "        try:\n",
    "            getattr(π.ϕ, sym)  # ... don't recurse via π[sym]\n",
    "            break\n",
    "        except AttributeError as _:\n",
    "            if π.π is None:\n",
    "                raise NameError(f'Name {sym} is unbound.')\n",
    "            else:  # recurse\n",
    "                π = π.π\n",
    "    setattr(π.ϕ, sym, ee)\n",
    "    return None  # following Gambit Scheme"
   ]
  },
  {
   "cell_type": "markdown",
   "id": "60ccc1b6-5edb-440c-9768-666a1c5db14e",
   "metadata": {},
   "source": [
    "# BLOCK / BEGIN<a id=\"block\"></a>"
   ]
  },
  {
   "cell_type": "markdown",
   "id": "27d72e88-af70-4df6-9aa7-7d7818778772",
   "metadata": {},
   "source": [
    "Sequencing of statements and expressions is not fundamental. Instead, we must chain $\\lambda$s. The paper calls the form `BLOCK`. Scheme calls it `BEGIN`. Common Lisp calls it `PROGN`."
   ]
  },
  {
   "cell_type": "markdown",
   "id": "ab681d3c-0bfd-4343-8b67-b4ee8826b295",
   "metadata": {},
   "source": [
    "## 1-THUNK Convention: Statements are 1-Thunks"
   ]
  },
  {
   "cell_type": "markdown",
   "id": "18410f2c-e4d4-4cda-9db1-8453c21f26eb",
   "metadata": {},
   "source": [
    "In the logician's $\\lambda$-calculus, all $\\lambda$-forms take one parameter. In Schemulator, procedures of one parameter are ***1-Thunks***, just as procedures of no parameters are ***thunks***. We need to pass the output of one 1-thunk to the next 1-thunk so as to force time-order of execution to follow dependency order of argument evaluation by function application, i.e, to follow applicative-order semantics. Haskell calls such forcing \"scheduling.\" That might be a bit of a heavy word for the forcing because there is no run-time scheduler: it's all done at compile time."
   ]
  },
  {
   "cell_type": "code",
   "execution_count": 65,
   "id": "36cf7040-f160-47ec-8b1c-25c9741e846d",
   "metadata": {},
   "outputs": [],
   "source": [
    "def THUNK1(body: Any,\n",
    "           π: Environment = ΓΠ):\n",
    "    ρ = Λ(lambda π: body, ['_'], π=π)\n",
    "    return ρ"
   ]
  },
  {
   "cell_type": "markdown",
   "id": "119eba13-42f9-4742-a260-8bcb6e84498f",
   "metadata": {},
   "source": [
    "Use `_` as a dummy parameter, as does Python."
   ]
  },
  {
   "cell_type": "code",
   "execution_count": 67,
   "id": "6e0d7e22-79cd-4620-a5b9-88db85124446",
   "metadata": {},
   "outputs": [
    {
     "name": "stdout",
     "output_type": "stream",
     "text": [
      "42\n",
      "1764\n",
      "1764\n",
      "('Name z is unbound.',)\n"
     ]
    }
   ],
   "source": [
    "def BLOCK(*ss: List[Procedure], \n",
    "         π: Environment = ΓΠ) -> Any:\n",
    "    intermediate = None\n",
    "    for s in ss:\n",
    "        if intermediate is not None:\n",
    "            intermediate = APPLY(\n",
    "                s, \n",
    "                [APPLY(\n",
    "                    intermediate,\n",
    "                    [None],\n",
    "                    π=π)],\n",
    "                π=π)\n",
    "        intermediate = APPLY(s, [None], π)\n",
    "\n",
    "DEFINE('x', 0)\n",
    "BLOCK(\n",
    "    Λ(lambda π: SET_BANG('x', 6, π), ['_']), \n",
    "    Λ(lambda π: print(π.x * 7), ['_']))\n",
    "\n",
    "DEFINE('y', 42)\n",
    "BLOCK(\n",
    "    Λ(lambda π: SET_BANG('x', 6, π), ['_']), \n",
    "    Λ(lambda π: SET_BANG('x', π.x * 7, π), ['_']),\n",
    "    Λ(lambda π: print(π.x * π.y), ['_']))\n",
    "\n",
    "try:\n",
    "    BLOCK(\n",
    "        Λ(lambda π: SET_BANG('x', 6, π), ['_']), \n",
    "        Λ(lambda π: SET_BANG('x', π.x * 7, π), ['_']),\n",
    "        Λ(lambda π: print(π.x * π.y), ['_']),\n",
    "        Λ(lambda π: π.z, ['_']))\n",
    "except NameError as e:\n",
    "    print(e.args)"
   ]
  },
  {
   "cell_type": "code",
   "execution_count": null,
   "id": "49281976-102f-49f7-bc50-44ddf550dda4",
   "metadata": {},
   "outputs": [],
   "source": [
    "BEGIN = BLOCK"
   ]
  },
  {
   "cell_type": "markdown",
   "id": "0c6e7c85-c08b-4195-82ee-de5fe74a94e2",
   "metadata": {},
   "source": [
    "# LET*, LET, LETREC"
   ]
  },
  {
   "cell_type": "markdown",
   "id": "4b02fe5b-edda-4c8a-a362-aa42207d8710",
   "metadata": {},
   "source": [
    "`LET_STAR` is sequential binding of locals. `LET` is parallel binding. `LETREC` is mutually recursive `LET`."
   ]
  },
  {
   "cell_type": "markdown",
   "id": "5e21fafb-9888-45d0-af14-c63790a01dd5",
   "metadata": {},
   "source": [
    "Remember that $\\Xi$ is a [Greek](#greek) shortcut for [`Application`](#application). Body of any of the _Lets_ must be an `Application` so that the environment $\\pi$ can be propagated."
   ]
  },
  {
   "cell_type": "markdown",
   "id": "c7674450-e98f-4fd9-bb79-a1462e681399",
   "metadata": {},
   "source": [
    "> ***Results are undefined if the body is not an [`Application`](#application) or $\\Xi$.***"
   ]
  },
  {
   "cell_type": "code",
   "execution_count": 69,
   "id": "3f83dd4e-056e-4fd9-b71d-31d3aa2be956",
   "metadata": {},
   "outputs": [],
   "source": [
    "def LET_STAR(\n",
    "        binding_pairs: List[Tuple[str, Any]], \n",
    "        body: Any, \n",
    "        π: Environment = ΓΠ) -> Any:\n",
    "    if len(binding_pairs) == 0:\n",
    "        ρ = EVAL(body, π)\n",
    "        return ρ\n",
    "    key, val = binding_pairs[0]\n",
    "    if len(binding_pairs) == 1:\n",
    "        νλ = Λ(lambda π:\n",
    "              EVAL(body, π),\n",
    "              [key], π=π)\n",
    "    else:\n",
    "        νλ = Λ(lambda π:\n",
    "              LET_STAR(binding_pairs[1:], body, π),\n",
    "              [key], π=π)\n",
    "    ρ = νλ(EVAL(val, π))\n",
    "    return ρ        "
   ]
  },
  {
   "cell_type": "markdown",
   "id": "71ab923a-0e08-4038-ae3d-66e455479614",
   "metadata": {},
   "source": [
    "Test depth 0:"
   ]
  },
  {
   "cell_type": "code",
   "execution_count": 70,
   "id": "2217f772-2cdc-4066-a918-49bd79fd77ed",
   "metadata": {},
   "outputs": [
    {
     "name": "stdout",
     "output_type": "stream",
     "text": [
      "1806\n",
      "None\n"
     ]
    }
   ],
   "source": [
    "print(LET_STAR([], \n",
    "               Ξ(Λ(lambda π: print(43 * 42)))))"
   ]
  },
  {
   "cell_type": "markdown",
   "id": "bb9ab036-edad-4e66-bed6-8704c3593825",
   "metadata": {},
   "source": [
    "Test depth 1:"
   ]
  },
  {
   "cell_type": "code",
   "execution_count": 74,
   "id": "dfe2e1ba-96a9-4d1d-8370-0ed7f7a098f4",
   "metadata": {},
   "outputs": [
    {
     "name": "stdout",
     "output_type": "stream",
     "text": [
      "1764\n"
     ]
    }
   ],
   "source": [
    "print(LET_STAR([('z', 42)], \n",
    "               Ξ(ΓΠ.square, [Var('z')])))"
   ]
  },
  {
   "cell_type": "markdown",
   "id": "3bc47cb5-5ad2-4eba-bdee-b224654ec346",
   "metadata": {},
   "source": [
    "Test depth 2:"
   ]
  },
  {
   "cell_type": "code",
   "execution_count": 75,
   "id": "a9303158-5ada-43cc-ad31-4d1e90fe7fb8",
   "metadata": {},
   "outputs": [
    {
     "name": "stdout",
     "output_type": "stream",
     "text": [
      "1806\n",
      "None\n"
     ]
    }
   ],
   "source": [
    "print(LET_STAR([('z', 42), ('y', 43)], \n",
    "               Ξ(Λ(lambda π: print(π.z * π.y)))))"
   ]
  },
  {
   "cell_type": "markdown",
   "id": "e53d8194-80fc-45f6-9f30-367e7c6024ed",
   "metadata": {},
   "source": [
    "Test depth 3, plus dependence on earlier definitions:"
   ]
  },
  {
   "cell_type": "code",
   "execution_count": 77,
   "id": "cac34a72-3ea7-48bf-8b20-3b55ae35a35d",
   "metadata": {},
   "outputs": [
    {
     "name": "stdout",
     "output_type": "stream",
     "text": [
      "1806\n",
      "None\n"
     ]
    }
   ],
   "source": [
    "print(LET_STAR([('z', 42), ('y', 43), \n",
    "                ('w', \n",
    "                 Ξ(Λ(lambda π: π.z * π.y, ['z', 'y']), \n",
    "                   [Var('z'), Var('y')]))\n",
    "               ], \n",
    "               body=Ξ(Λ(lambda π: print(π.w)))))"
   ]
  },
  {
   "cell_type": "markdown",
   "id": "97681661-302d-41dd-96d1-da6d95d460ef",
   "metadata": {},
   "source": [
    "# COND"
   ]
  },
  {
   "cell_type": "markdown",
   "id": "6c8ab79e-f72c-4b70-97e1-27c04868749e",
   "metadata": {},
   "source": [
    "# Junkyard"
   ]
  },
  {
   "cell_type": "markdown",
   "id": "767801fa-a7e5-40d5-bc10-b5b2fa8b2194",
   "metadata": {},
   "source": [
    "Ignore everything below. It's saved in case we need it someday."
   ]
  }
 ],
 "metadata": {
  "jupytext": {
   "formats": "ipynb,md:myst"
  },
  "kernelspec": {
   "display_name": "Python 3 (ipykernel)",
   "language": "python",
   "name": "python3"
  },
  "language_info": {
   "codemirror_mode": {
    "name": "ipython",
    "version": 3
   },
   "file_extension": ".py",
   "mimetype": "text/x-python",
   "name": "python",
   "nbconvert_exporter": "python",
   "pygments_lexer": "ipython3",
   "version": "3.10.5"
  }
 },
 "nbformat": 4,
 "nbformat_minor": 5
}
