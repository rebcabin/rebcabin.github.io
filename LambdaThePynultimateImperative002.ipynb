{
 "cells": [
  {
   "cell_type": "markdown",
   "id": "3a76f68e-f22a-4278-b747-19b46d5f94ae",
   "metadata": {},
   "source": [
    "# Lambda, the Pynultimate Imperative"
   ]
  },
  {
   "cell_type": "markdown",
   "id": "510d45a6-8421-40ca-9be5-8127c1d18237",
   "metadata": {},
   "source": [
    "#### Version 2\n",
    "#### Brian Beckman\n",
    "#### 9 Nov 2022"
   ]
  },
  {
   "cell_type": "markdown",
   "id": "5a7aaedb-0423-4c26-9144-b1e230dd799a",
   "metadata": {},
   "source": [
    "# Introduction"
   ]
  },
  {
   "cell_type": "markdown",
   "id": "3441580e-c02a-4fa2-8f74-25d127464332",
   "metadata": {},
   "source": [
    "In a classic paper, [_Lambda, the Ultimate Imperative_](https://www.researchgate.net/publication/37596655_Lambda_The_Ultimate_Imperative), Steele and Sussman show how to model most imperative constructs with just _lambda_:"
   ]
  },
  {
   "cell_type": "markdown",
   "id": "732d965e-2640-468a-8dfa-4dc9690b5025",
   "metadata": {},
   "source": [
    "> We demonstrate how to model the following common [imperative] programming constructs in ... an applicative-order language similar to LISP: Simple Recursion, Iteration, Compound Statements and Expressions, GO TO and Assignment, Continuation-Passing, Escape Expressions, Fluid Variables, Call by Name, Call by Need, and Call by Reference. The models require only (possibly self-referent) lambda application, conditionals, and (rarely) assignment."
   ]
  },
  {
   "cell_type": "markdown",
   "id": "5671e4da-8bae-4d07-b787-d0fe038de6b6",
   "metadata": {},
   "source": [
    "It's useful to recap this paper in Python, which has most of the listed imperative constructs. Imagine compiling Python into an intermediate language in which the semantics, even those with side-effects, are laid bare as trees of $\\lambda$ expressions. In such a representation, optimizations are \n",
    "1. easy to write as tree-to-tree transforms\n",
    "1. easy to extend via just function composition (even Kleisli-monadic)\n",
    "2. independent of surface syntax, thus easy to share with other imperative languages like Fortran, C, Java\n",
    "3. independent of back ends, thus easy to run interactively; or to translate into LLVM, x86, ARM64, C, for execution; or to transpile into other surface languages"
   ]
  },
  {
   "cell_type": "markdown",
   "id": "d073480b-92a4-44fc-9a03-e52129093751",
   "metadata": {},
   "source": [
    "The use-cases above are similar to those for a SQL algebraizer. Many SQL implementations \n",
    "1. translate the surface language into bare-bones expressions in a closed relational algebra, free of original syntax\n",
    "2. run the algebraic expressions through symbolic optimizers, which often rearrange the expressions completely\n",
    "2. incrementally extend the system by composing new optimizations\n",
    "3. translate optimized expressions into commands for local and distributed servers"
   ]
  },
  {
   "cell_type": "markdown",
   "id": "e440b17b-ed1e-4a26-a8aa-f00ed59c4bfe",
   "metadata": {},
   "source": [
    "We follow the paper more-or-less directly, with gleanings from [SICP](https://sarabander.github.io/sicp/)."
   ]
  },
  {
   "cell_type": "markdown",
   "id": "fab97f19-27e0-4004-b9de-f951fcc50e7e",
   "metadata": {},
   "source": [
    "## _Schemulation:_ Python Semantics in Python"
   ]
  },
  {
   "cell_type": "markdown",
   "id": "cd1ff76f-d551-46ab-a060-4814ab47ec29",
   "metadata": {},
   "source": [
    "Ideally, we'd compile Python into Scheme or Clojure or Common Lisp, then write transformations, translations, interpreters, debuggers, etc. in Scheme or Clojure or Common Lisp. However, to maintain a convenient notebook structure and to avoid creeping dependencies, we'll just model Python imperatives in a Scheme-like applicative-order $\\lambda$ calculus embedded in basic Python."
   ]
  },
  {
   "cell_type": "markdown",
   "id": "a7a73270-30c7-4f50-90bf-d95c8f215f6a",
   "metadata": {},
   "source": [
    "Some people may find this weird. Why not just implement Scheme in Python instead of emulating Scheme in Python? It's an engineering judgment call. Most authors of compilers and interpreters spend undue time on syntax before even getting to semantics. Compiler textbooks tell you to do this! Semantics becomes a hidden \"implementation detail,\" but then developers forgive themselves for making an ungodly mess of it. We prefer the other way around. Get the semantics clean, composable, extendable, maintainable, and correct, _first_, then spend time on syntax, if you even care any more. Or just let someone else do it. From the development point of view, syntax is a distraction. It's been solved for decades, but it makes young developers and professors feel powerful. The decision to spend time on syntax before semantics is not engineering, it's self-indulgence."
   ]
  },
  {
   "cell_type": "markdown",
   "id": "3886ba49-9390-4fd9-a4ab-ad13b88a1a47",
   "metadata": {},
   "source": [
    "## Orthogonality as a Design Principle"
   ]
  },
  {
   "cell_type": "markdown",
   "id": "608bdc5e-19a2-4f7d-b350-eb8cd975bb15",
   "metadata": {},
   "source": [
    "We prefer designs that minimize cross-talk. Each facility -- transformation layer or module -- should have the least possible dependency on other facilities. For example, tranformations that affect control flow need not necessarily depend on transformations that affect numerics."
   ]
  },
  {
   "cell_type": "markdown",
   "id": "bdf71eec-c4fa-4ad4-a155-09c4a2327dc7",
   "metadata": {},
   "source": [
    "Contrast to a braided design, where each facility explicitly accounts for every other."
   ]
  },
  {
   "cell_type": "markdown",
   "id": "3096ba84-72a8-4928-814b-ab05acfe721d",
   "metadata": {},
   "source": [
    "# Environment and Frame"
   ]
  },
  {
   "cell_type": "markdown",
   "id": "81df4344-49c9-4d00-a6f0-9a8904394029",
   "metadata": {},
   "source": [
    "We find it necessary to model Scheme's environments and frames explicitly. We tried multiple short-cut alternatives and found that none of them compose well."
   ]
  },
  {
   "cell_type": "markdown",
   "id": "ae24100b-5793-4fce-985e-e788d02e5a21",
   "metadata": {},
   "source": [
    "[SICP 3.2](https://sarabander.github.io/sicp/html/3_002e2.xhtml#g_t3_002e2) has some apparent contradictions in the definition of environment and frame. It says that \"an environment is a sequence of frames,\" but the rest of the text and figures clearly imply that an environment has just one frame."
   ]
  },
  {
   "cell_type": "markdown",
   "id": "a497199a-798e-4903-af13-0d2559e1d48e",
   "metadata": {},
   "source": [
    "The best resolution appears to be:"
   ]
  },
  {
   "cell_type": "markdown",
   "id": "2d51e004-559c-4868-af7a-e5f97c2345df",
   "metadata": {},
   "source": [
    "> An ___environment___ is a frame $\\phi$ and a pointer $\\pi$ to an enclosing environment. A ___frame___ is a mathematical function from variable names to values; no variable name may appear more than once in a frame."
   ]
  },
  {
   "cell_type": "markdown",
   "id": "83e26f24-712b-439b-b80f-b5820602996f",
   "metadata": {},
   "source": [
    "We note in passing that this works only for a single thread. [Clojure, for instance, solves that problem with _Vars_](https://clojure.org/reference/vars)."
   ]
  },
  {
   "cell_type": "markdown",
   "id": "8a755018-dc17-4b55-a206-0bfbb7518601",
   "metadata": {},
   "source": [
    "## Greek and ALL CAPS<a id=\"greek\"></a>"
   ]
  },
  {
   "cell_type": "markdown",
   "id": "d0cef101-9abd-46c5-bad3-7d617629d95c",
   "metadata": {},
   "source": [
    "$\\pi$ is a nice pun: it evokes $\\pi\\eta\\rho\\iota$, a Greek prefix meaning \"surrounding.\""
   ]
  },
  {
   "cell_type": "markdown",
   "id": "a5b3bc82-e54a-483d-b316-d73fca0e1a19",
   "metadata": {},
   "source": [
    "We use Greek letters for system attributes. User code should avoid Greek to avoid clobbering system attributes."
   ]
  },
  {
   "cell_type": "markdown",
   "id": "6c9fb02d-6dc2-433c-af33-867b222d3c16",
   "metadata": {},
   "source": [
    "We use ALL CAPS for system functions that implement Schemulator."
   ]
  },
  {
   "cell_type": "markdown",
   "id": "5e792017-45b7-4ec9-b7cb-89682ffaa1a3",
   "metadata": {},
   "source": [
    "## Bindings"
   ]
  },
  {
   "cell_type": "markdown",
   "id": "27e4595e-51ea-4dcb-a8ae-d5251e2cd0ac",
   "metadata": {},
   "source": [
    "> A ___binding___ is an association from a variable name to a value, that is, an entry in a frame."
   ]
  },
  {
   "cell_type": "markdown",
   "id": "eff2aff9-b04b-484e-a6ac-6f51ab2fa9de",
   "metadata": {},
   "source": [
    "We might model a binding as a pair, or as a row in a table, an element of a relation (subset of a Cartesian product), an element of a Python dictionary, or as an attribute of a Python object. We prefer the attribute model because it affords _dot_ notation for lookup, that is, `o.foo` rather than the dictionary's syntax `o['foo']`."
   ]
  },
  {
   "cell_type": "markdown",
   "id": "de5caced-7ae8-474c-8890-e04046faba5c",
   "metadata": {},
   "source": [
    "If the definitions above are acceptable, the apparent contradiction in SICP is resolved. SICP says that an environment _is_ a sequence of frames. Rather, I'd say that any environment _implies_ a virtual sequence of frames via the chain of $\\pi\\eta\\rho\\iota$ pointers to enclosing environments."
   ]
  },
  {
   "cell_type": "markdown",
   "id": "89cc50c3-7d05-4bfc-8186-3f458601e2a7",
   "metadata": {},
   "source": [
    "> The system maintains a unique ___global environment___, whose _pointer-to-enclosing-environment_ is `None`."
   ]
  },
  {
   "cell_type": "markdown",
   "id": "895febad-d1a1-4d58-95b3-69945e624d04",
   "metadata": {},
   "source": [
    "> A frame $\\phi$ belongs to a virtual sequence of environments implied by the unidirectional pointer-chain of enclosing environments rooted in $\\phi$ and ending at the unique global environment. The ___value of a variable in an environment___ is the value in the first binding in any frame of that sequence. Bindings lower in the chain may ___shadow___ bindings higher in the chain, rendering them inaccessible. If no frame in a chain specifies a binding for the variable, then the variable is ___unbound___ in the environment. A variable may be ___bound___ in one environment and unbound in another."
   ]
  },
  {
   "cell_type": "markdown",
   "id": "8a712cf9-9f68-4f00-af45-b471433059be",
   "metadata": {},
   "source": [
    "Thanks to [divs1210](https://gist.github.com/divs1210?page=3) for the idea of modeling frames as dummy lambda functions, and assigning attributes to them."
   ]
  },
  {
   "cell_type": "markdown",
   "id": "3b1ba719-c8c0-42b1-b8f8-f3ba53d7fea6",
   "metadata": {},
   "source": [
    "We override `__getattr__` to avoid a separate function for recursive lookup. We can't also override `__setaddr__` to call `setattr(self.$\\phi$ ...)` because `self.$\\phi$` diverges on `getattr(self.$\\phi$ ...)`."
   ]
  },
  {
   "cell_type": "markdown",
   "id": "b5be1d36-5d76-4c34-8f06-eb6d234a8287",
   "metadata": {},
   "source": [
    "There is a unique global environment, $\\Gamma\\Pi$, for each session."
   ]
  },
  {
   "cell_type": "markdown",
   "id": "7982554b-7ebc-4e7f-8c2b-98fd6d0681f4",
   "metadata": {},
   "source": [
    "TODO: Coalesce $\\Gamma\\Pi$ with Python's global environment."
   ]
  },
  {
   "cell_type": "code",
   "execution_count": 1,
   "id": "ff41f461-d806-48f4-914e-b4c07c50c116",
   "metadata": {},
   "outputs": [
    {
     "data": {
      "text/plain": [
       "43"
      ]
     },
     "execution_count": 1,
     "metadata": {},
     "output_type": "execute_result"
    }
   ],
   "source": [
    "from dataclasses import dataclass, field\n",
    "from types import FunctionType\n",
    "@dataclass\n",
    "class Environment:\n",
    "    \"\"\"Set attributes via settattr(env.ϕ, key, val). When getting\n",
    "    attributes, it's ok to omit the ϕ because of overloaded \n",
    "    __getattr__.\"\"\"\n",
    "    ϕ: FunctionType   # \"frame,\" also nice place to hang attributes via 'setattr'\n",
    "    π: \"Environment\"  # via Greek πηρι, short name for 'enclosing'\n",
    "    def __getattr__(self, key):\n",
    "        \"\"\"recursive lookup\"\"\"\n",
    "        try:\n",
    "            result = getattr(self.ϕ, key)\n",
    "        except AttributeError as _:\n",
    "            if self.π is None:\n",
    "                raise NameError(f'Name {key} is unbound.')\n",
    "            else:  # recurse\n",
    "                result = self.π.__getattr__(key)\n",
    "        return result\n",
    "# diverges because it calls __getattr__ for 'self.ϕ'\n",
    "#    def __setattr__(self, key, val):\n",
    "#        setattr(getattr(self, 'ϕ'), key, val)\n",
    "#        setattr(self.ϕ, key, val)\n",
    "# The ugliness of 'setattr' is hidden in DEFINE.\n",
    "    \n",
    "ΓΠ = Environment(lambda: None, None)  # Γ for \"global,\" Π for \"environment\"\n",
    "setattr(ΓΠ.ϕ, 'γόὂ', 43)\n",
    "ΓΠ.γόὂ"
   ]
  },
  {
   "cell_type": "markdown",
   "id": "79b8ea49-1d8f-44e5-96f9-837c3b265298",
   "metadata": {},
   "source": [
    "# Procedure"
   ]
  },
  {
   "cell_type": "markdown",
   "id": "424d31a1-8399-444f-8675-13a4cbc1493f",
   "metadata": {},
   "source": [
    "A ___procedure___ is a pair of code and environment. ___Code___ is a dictionary of parameter names and a $\\lambda$ expression. The $\\lambda$, by convention, takes a sigle argument, $\\pi$, the environment in which its formal parameters are bound to actual arguments via procedure application, as described in SICP 3.2. This convention seems to be the best we can do for composable $\\lambda$s in Schemulator. For now, we support only positional arguments, one-to-one with the argument list. That's consistent with [Gambit Scheme](https://github.com/gambit/gambit), which reports \"Wrong number of arguments ...\" if the application has too many or too few arguments."
   ]
  },
  {
   "cell_type": "markdown",
   "id": "366aee97-0679-4639-9b0b-5a5b3c2b5e2c",
   "metadata": {},
   "source": [
    "By default, procedures are defined in the unique global environment, $\\Gamma\\Pi$."
   ]
  },
  {
   "cell_type": "code",
   "execution_count": 2,
   "id": "624c88bf-2197-4eed-807c-e7338157eb96",
   "metadata": {},
   "outputs": [],
   "source": [
    "from typing import Dict, List, Tuple\n",
    "Parameters = List[str]  # positional arguments only\n",
    "def APPLY(proc, args, π=ΓΠ):\n",
    "    \"\"\"forward reference; Will be redefined.\"\"\"\n",
    "    print(args)\n",
    "@dataclass\n",
    "class Procedure:\n",
    "    code: Dict  # TODO: Check for duplicated symbols in `parameters`.\n",
    "    π: Environment=ΓΠ  # Defined in global environment by default.\n",
    "    def __call__(self, *args):\n",
    "        \"\"\"experimental\"\"\"\n",
    "        return APPLY(self, args, self.π)"
   ]
  },
  {
   "cell_type": "markdown",
   "id": "bda3079d-0652-4fdc-942d-230ff10fcd0e",
   "metadata": {},
   "source": [
    "Following the example for _square_ in SICP 3.2.1, let's define it in the global environment and test the invocation of `APPLY`:"
   ]
  },
  {
   "cell_type": "code",
   "execution_count": 3,
   "id": "a2501887-60eb-4d19-8f3b-e2ee5b565c67",
   "metadata": {},
   "outputs": [
    {
     "name": "stdout",
     "output_type": "stream",
     "text": [
      "(5,)\n",
      "(5, 6)\n"
     ]
    }
   ],
   "source": [
    "setattr(\n",
    "    ΓΠ.ϕ, \n",
    "    \"square\", \n",
    "    Procedure(\n",
    "        {\"body\": lambda π: π.x * π.x,  # ugly, I know; sorry :(\n",
    "         \"parameters\": ['x']}))\n",
    "ΓΠ.square(5)\n",
    "ΓΠ.square(5, 6)"
   ]
  },
  {
   "cell_type": "markdown",
   "id": "decb0745-15d4-4155-9072-db053fa2af66",
   "metadata": {},
   "source": [
    "## $\\Lambda$"
   ]
  },
  {
   "cell_type": "markdown",
   "id": "29bc33c8-7f4f-4688-88d9-18c3e2ce298c",
   "metadata": {},
   "source": [
    "Some syntactical help for anonymous procedures:"
   ]
  },
  {
   "cell_type": "code",
   "execution_count": 4,
   "id": "bc04a5d8-ee84-4f29-9f39-f66c7dff4b66",
   "metadata": {},
   "outputs": [],
   "source": [
    "def Λ(body, parameters, π=ΓΠ):\n",
    "    result = Procedure(\n",
    "        code={\"body\": body, \"parameters\": parameters}, \n",
    "        π=π)\n",
    "    return result"
   ]
  },
  {
   "cell_type": "code",
   "execution_count": 5,
   "id": "da3388dc-9d9b-47c5-a293-f958340a466e",
   "metadata": {},
   "outputs": [
    {
     "name": "stdout",
     "output_type": "stream",
     "text": [
      "(5,)\n",
      "(5, 6)\n"
     ]
    }
   ],
   "source": [
    "setattr(\n",
    "    ΓΠ.ϕ,\n",
    "    \"square\",\n",
    "    Λ(lambda π: π.x * π.x, ['x']))\n",
    "ΓΠ.square(5)\n",
    "ΓΠ.square(5, 6)"
   ]
  },
  {
   "cell_type": "markdown",
   "id": "b5ac5fb3-84fc-46dd-84e2-a658e7e6c63e",
   "metadata": {},
   "source": [
    "## EVAL"
   ]
  },
  {
   "cell_type": "markdown",
   "id": "7a0145a0-1898-404c-9eab-5188d207d23b",
   "metadata": {},
   "source": [
    "work in progress"
   ]
  },
  {
   "cell_type": "code",
   "execution_count": 6,
   "id": "ceab5fd6-9187-4121-972b-444a17d799a5",
   "metadata": {},
   "outputs": [],
   "source": [
    "from typing import Any, Dict, Tuple, List\n",
    "def EVAL(expr: Any, π: Environment=ΓΠ) -> Any:\n",
    "    \"\"\"Python does almost all this for us.\"\"\"\n",
    "    if isinstance(expr, int) or \\\n",
    "       isinstance(expr, float) or \\\n",
    "       isinstance(expr, str) or \\\n",
    "       isinstance(expr, bool):\n",
    "        result = expr\n",
    "    elif isinstance(expr, Procedure):\n",
    "        result = expr\n",
    "    elif isinstance(expr, Dict):\n",
    "        # for memo tables:\n",
    "        result = expr\n",
    "    elif isinstance(expr, Tuple):\n",
    "        # for memoized, curried functions\n",
    "        result = expr\n",
    "    else:\n",
    "        raise ValueError\n",
    "    return result"
   ]
  },
  {
   "cell_type": "markdown",
   "id": "2a73a82a-6d1d-4a3c-a946-f7ee9ca354f0",
   "metadata": {},
   "source": [
    "## APPLY"
   ]
  },
  {
   "cell_type": "markdown",
   "id": "34fa4a65-e698-4029-9582-f593c4eede91",
   "metadata": {},
   "source": [
    "By default, procedures are applied in the unique global environment, $\\Gamma\\Pi$."
   ]
  },
  {
   "cell_type": "code",
   "execution_count": 7,
   "id": "a57cad60-aee7-45fc-b3c8-f85ff5d9a1d4",
   "metadata": {},
   "outputs": [
    {
     "name": "stdout",
     "output_type": "stream",
     "text": [
      "25\n"
     ]
    }
   ],
   "source": [
    "class IllegalArgumentsError(ValueError):\n",
    "    pass\n",
    "\n",
    "def APPLY(proc: Procedure, args: List[Any], π:Environment=ΓΠ) -> Any:\n",
    "    \"\"\"How about a nice __getitem__ overload on 'Procedure' for this.\"\"\"\n",
    "    if len(proc.code['parameters']) != len(args):\n",
    "        raise IllegalArgumentsError(\n",
    "            f\"Wrong number of arguments passed to procedure {proc}\")\n",
    "    evaled_args = [EVAL(arg, π) for arg in args]\n",
    "    E1 = Environment(lambda: None, π)\n",
    "    for k, v in zip(proc.code['parameters'], evaled_args):\n",
    "        setattr(E1.ϕ, k, v)\n",
    "    result = proc.code['body'](E1)\n",
    "    return result\n",
    "    \n",
    "print(APPLY(ΓΠ.square, [5]))"
   ]
  },
  {
   "cell_type": "markdown",
   "id": "c726a8fe-b489-4be4-b3a7-96de9be589f0",
   "metadata": {},
   "source": [
    "Call via \"Pythonic\" round brackets:"
   ]
  },
  {
   "cell_type": "code",
   "execution_count": 8,
   "id": "7cb12c20-323e-4060-853e-f84eaba1b1a5",
   "metadata": {},
   "outputs": [
    {
     "data": {
      "text/plain": [
       "25"
      ]
     },
     "execution_count": 8,
     "metadata": {},
     "output_type": "execute_result"
    }
   ],
   "source": [
    "ΓΠ.square(5)"
   ]
  },
  {
   "cell_type": "markdown",
   "id": "71b9cb28-b54c-4a74-889a-250517a93767",
   "metadata": {},
   "source": [
    "Works on anonymous procedures, too:"
   ]
  },
  {
   "cell_type": "code",
   "execution_count": 9,
   "id": "f6d34218-7230-4589-b1e3-cc106bbc1882",
   "metadata": {},
   "outputs": [
    {
     "data": {
      "text/plain": [
       "25"
      ]
     },
     "execution_count": 9,
     "metadata": {},
     "output_type": "execute_result"
    }
   ],
   "source": [
    "Λ(lambda π: π.x * π.x, ['x'])(5)"
   ]
  },
  {
   "cell_type": "markdown",
   "id": "9cf13206-d8d2-4f05-91f4-67efcee6dc99",
   "metadata": {},
   "source": [
    "## DEFINE"
   ]
  },
  {
   "cell_type": "markdown",
   "id": "df57b592-2563-476e-987e-3ca7f780953d",
   "metadata": {},
   "source": [
    "Package up the \"defining\" boilerplate."
   ]
  },
  {
   "cell_type": "markdown",
   "id": "d9c19035-8083-4490-a7fa-eae9d2db1e60",
   "metadata": {},
   "source": [
    "By default, symbols are defined in the unique global environment, $\\Gamma\\Pi$."
   ]
  },
  {
   "cell_type": "code",
   "execution_count": 10,
   "id": "2f7313b3-271a-4073-b4a0-7f17290bcf71",
   "metadata": {},
   "outputs": [
    {
     "data": {
      "text/plain": [
       "42"
      ]
     },
     "execution_count": 10,
     "metadata": {},
     "output_type": "execute_result"
    }
   ],
   "source": [
    "def DEFINE(sym: str, val: Any, π: Environment=ΓΠ) -> None:\n",
    "    \"\"\"official Scheme\"\"\"\n",
    "    setattr(π.ϕ, sym, val)\n",
    "    return val\n",
    "\n",
    "DEFINE('saxpy', \n",
    "       Λ(lambda π: π.a * π.x + π.y, ['a', 'x', 'y']))\n",
    "\n",
    "ΓΠ.saxpy(4, 10, 2)"
   ]
  },
  {
   "cell_type": "markdown",
   "id": "a1f2597c-cefd-42f4-af81-9e39c8895099",
   "metadata": {},
   "source": [
    "### SICP 3.2.2"
   ]
  },
  {
   "cell_type": "code",
   "execution_count": 11,
   "id": "8cfcb5e3-3d96-4377-9957-f625e1081331",
   "metadata": {},
   "outputs": [
    {
     "data": {
      "text/plain": [
       "136"
      ]
     },
     "execution_count": 11,
     "metadata": {},
     "output_type": "execute_result"
    }
   ],
   "source": [
    "DEFINE('square', \n",
    "       Λ(lambda π: π.x * π.x, ['x']))\n",
    "\n",
    "DEFINE('sum_of_squares',\n",
    "       Λ(lambda π: π.square(π.x) + π.square(π.y), ['x', 'y']))\n",
    "\n",
    "DEFINE('f',\n",
    "       Λ(lambda π: π.sum_of_squares(1 + π.a, 2 * π.a), ['a']))\n",
    "\n",
    "ΓΠ.f(5)"
   ]
  },
  {
   "cell_type": "markdown",
   "id": "a08ca583-5050-4d4c-b427-36e8a5ffea7e",
   "metadata": {},
   "source": [
    "### Exercise 3.9"
   ]
  },
  {
   "cell_type": "code",
   "execution_count": 12,
   "id": "9684ccd8-bdc3-4b1d-8b86-8800972a8d7f",
   "metadata": {},
   "outputs": [
    {
     "data": {
      "text/plain": [
       "720"
      ]
     },
     "execution_count": 12,
     "metadata": {},
     "output_type": "execute_result"
    }
   ],
   "source": [
    "DEFINE('factorial',\n",
    "       Λ(lambda π: 1 if π.n < 2 else \\\n",
    "         π.n * π.factorial(π.n - 1), ['n']))\n",
    "\n",
    "ΓΠ.factorial(6)"
   ]
  },
  {
   "cell_type": "markdown",
   "id": "09a7cbfc-0681-4990-be95-8a6a8253926a",
   "metadata": {},
   "source": [
    "This doesn't tail-recurse because Python does not tail-recurse. See [Tail Recursion](#tail-recursion) for mitigation work-in-progress."
   ]
  },
  {
   "cell_type": "code",
   "execution_count": 13,
   "id": "01406a4e-ff0b-4ecb-bc1a-67f2173ea03f",
   "metadata": {},
   "outputs": [
    {
     "data": {
      "text/plain": [
       "720"
      ]
     },
     "execution_count": 13,
     "metadata": {},
     "output_type": "execute_result"
    }
   ],
   "source": [
    "DEFINE('fact_iter',\n",
    "       Λ(lambda π: π.product if π.counter > π.max_count else \\\n",
    "         π.fact_iter(\n",
    "           π.counter * π.product,\n",
    "           π.counter + 1,\n",
    "           π.max_count\n",
    "           ), ['product', 'counter', 'max_count']))\n",
    "\n",
    "ΓΠ.fact_iter(1, 1, 6)"
   ]
  },
  {
   "cell_type": "markdown",
   "id": "49333d00-057e-4136-82f5-602068a7e388",
   "metadata": {},
   "source": [
    "## Procedures that Apply Procedures"
   ]
  },
  {
   "cell_type": "code",
   "execution_count": 14,
   "id": "cd07f625-5eb2-46c4-8a65-159d1c8c299a",
   "metadata": {},
   "outputs": [
    {
     "data": {
      "text/plain": [
       "1764"
      ]
     },
     "execution_count": 14,
     "metadata": {},
     "output_type": "execute_result"
    }
   ],
   "source": [
    "Λ(lambda π: π.f(π.x),['f', 'x'])(ΓΠ.square, 42)"
   ]
  },
  {
   "cell_type": "markdown",
   "id": "63db30a9-559b-4069-8242-2fcbeaa47419",
   "metadata": {},
   "source": [
    "Anonymously; shadowing is no problem, here:"
   ]
  },
  {
   "cell_type": "code",
   "execution_count": 15,
   "id": "5aca4f8c-6401-4d1b-b687-3bb56a0e7146",
   "metadata": {},
   "outputs": [
    {
     "data": {
      "text/plain": [
       "1764"
      ]
     },
     "execution_count": 15,
     "metadata": {},
     "output_type": "execute_result"
    }
   ],
   "source": [
    "Λ(lambda π: Λ(lambda π: π.n * π.n, ['n'], π)(π.n), ['n'])(42)"
   ]
  },
  {
   "cell_type": "markdown",
   "id": "8a522470-5b7d-4d30-bb1c-d362cbfbf324",
   "metadata": {},
   "source": [
    "But you had better include the non-default $\\pi$ on the inner if you don't want accidentally the correct answer."
   ]
  },
  {
   "cell_type": "code",
   "execution_count": 16,
   "id": "693a105e-ccae-4366-994c-95947c4557c4",
   "metadata": {},
   "outputs": [
    {
     "data": {
      "text/plain": [
       "1764"
      ]
     },
     "execution_count": 16,
     "metadata": {},
     "output_type": "execute_result"
    }
   ],
   "source": [
    "Λ(lambda π: Λ(lambda π: π.x * π.n, ['x'], π)(π.n), ['n'])(42)"
   ]
  },
  {
   "cell_type": "markdown",
   "id": "a4af2acd-c522-40db-bea0-85611e6091b1",
   "metadata": {},
   "source": [
    "## Procedures that Return Procedures"
   ]
  },
  {
   "cell_type": "code",
   "execution_count": 17,
   "id": "151a96a5-226d-400f-bc35-f612dd17fd4c",
   "metadata": {},
   "outputs": [
    {
     "data": {
      "text/plain": [
       "1764"
      ]
     },
     "execution_count": 17,
     "metadata": {},
     "output_type": "execute_result"
    }
   ],
   "source": [
    "Λ(lambda π: π.f, ['f'])(ΓΠ.square)(42)"
   ]
  },
  {
   "cell_type": "markdown",
   "id": "5e9e93e8-ae81-49ed-9d71-a2fbb6916b49",
   "metadata": {},
   "source": [
    "Anonymously:"
   ]
  },
  {
   "cell_type": "code",
   "execution_count": 18,
   "id": "563871af-7158-4864-b361-1f4916660c0f",
   "metadata": {},
   "outputs": [
    {
     "data": {
      "text/plain": [
       "1764"
      ]
     },
     "execution_count": 18,
     "metadata": {},
     "output_type": "execute_result"
    }
   ],
   "source": [
    "Λ(lambda π: π.f, ['f'])(Λ(lambda π: π.x * π.x, ['x']))(42)"
   ]
  },
  {
   "cell_type": "markdown",
   "id": "2a2d573f-fc3b-4057-92c5-dfb0dc3fc907",
   "metadata": {},
   "source": [
    "## $\\Upsilon$: Squaring Square Roots of Functions"
   ]
  },
  {
   "cell_type": "markdown",
   "id": "fa941f14-a865-46ff-8d63-6fe3c91610fa",
   "metadata": {},
   "source": [
    "[See this other noteobook](https://github.com/rebcabin/rebcabin.github.io/blob/main/PythonYCombinators.md). We follow its derivations step-by-step from first principles."
   ]
  },
  {
   "cell_type": "markdown",
   "id": "7e55ba32-d65f-479e-8be9-c13e4fb7382c",
   "metadata": {},
   "source": [
    "Don't forget non-default $\\pi$ on the inner lest `sf` be undefined."
   ]
  },
  {
   "cell_type": "code",
   "execution_count": 19,
   "id": "e451dac2-5973-4a25-beef-5b682c8f8aba",
   "metadata": {},
   "outputs": [
    {
     "data": {
      "text/plain": [
       "720"
      ]
     },
     "execution_count": 19,
     "metadata": {},
     "output_type": "execute_result"
    }
   ],
   "source": [
    "Λ(lambda π: \n",
    "  Λ(lambda π: 1 if π.n < 1 else π.n * π.sf(π.sf)(π.n - 1), ['n'], π), ['sf'])(\n",
    "    Λ(lambda π: \n",
    "      Λ(lambda π: 1 if π.n < 1 else π.n * π.sf(π.sf)(π.n - 1), ['n'], π), ['sf']))(6)"
   ]
  },
  {
   "cell_type": "markdown",
   "id": "b7576a93-7e2c-44fa-84ce-27a162577bbf",
   "metadata": {},
   "source": [
    "Abstract into a $\\lambda$ of `m` a $\\lambda$-delayed self-application of `sf`:"
   ]
  },
  {
   "cell_type": "code",
   "execution_count": 20,
   "id": "5a767251-c8a9-4c40-a2b6-236c33b659c8",
   "metadata": {},
   "outputs": [
    {
     "data": {
      "text/plain": [
       "720"
      ]
     },
     "execution_count": 20,
     "metadata": {},
     "output_type": "execute_result"
    }
   ],
   "source": [
    "Λ(lambda π: \n",
    "  Λ(lambda π: \n",
    "    Λ(lambda π: 1 if π.n < 1 else π.n * π.f(π.n - 1), ['n'], π), \n",
    "    ['f'], π)(Λ(lambda π: π.sf(π.sf)(π.m), ['m'], π)), \n",
    "  ['sf'])(\n",
    "Λ(lambda π: \n",
    "  Λ(lambda π: \n",
    "    Λ(lambda π: 1 if π.n < 1 else π.n * π.f(π.n - 1), ['n'], π), \n",
    "    ['f'], π)(Λ(lambda π: π.sf(π.sf)(π.m), ['m'], π)), \n",
    "  ['sf']))(6)"
   ]
  },
  {
   "cell_type": "markdown",
   "id": "733e321d-96ec-4701-9e86-ecf053af7240",
   "metadata": {},
   "source": [
    "Abstract into `d` the _domain code_, a function of `f`, the _business code_, a function of `n`, the _busieness parameter_."
   ]
  },
  {
   "cell_type": "code",
   "execution_count": 21,
   "id": "57a340f0-4da0-492f-93fd-0f6561b1d307",
   "metadata": {},
   "outputs": [
    {
     "data": {
      "text/plain": [
       "720"
      ]
     },
     "execution_count": 21,
     "metadata": {},
     "output_type": "execute_result"
    }
   ],
   "source": [
    "Λ(lambda π: # of d\n",
    "  Λ(lambda π: π.d(Λ(lambda π: π.sf(π.sf)(π.m), ['m'], π)),\n",
    "    ['sf'], π)(\n",
    "      Λ(lambda π: π.d(Λ(lambda π: π.sf(π.sf)(π.m), ['m'], π)),\n",
    "        ['sf'], π)), \n",
    "  ['d'])(\n",
    "    Λ(lambda π: # of f\n",
    "      Λ(lambda π: 1 if π.n < 1 else π.n * π.f(π.n - 1), ['n'], π), \n",
    "      ['f'])\n",
    "    )(6)"
   ]
  },
  {
   "cell_type": "markdown",
   "id": "3b15c6ba-b8ca-4b44-9889-a3072254912a",
   "metadata": {},
   "source": [
    "Abstract into `g` the self-application of the function of the square root, the function of `sf`."
   ]
  },
  {
   "cell_type": "code",
   "execution_count": 22,
   "id": "310477d3-5718-4d51-9596-12286c93d866",
   "metadata": {},
   "outputs": [
    {
     "data": {
      "text/plain": [
       "720"
      ]
     },
     "execution_count": 22,
     "metadata": {},
     "output_type": "execute_result"
    }
   ],
   "source": [
    "Λ(lambda π: # function of domain code, d\n",
    "  Λ(lambda π: π.g(π.g), ['g'], π)(\n",
    "      Λ(lambda π: π.d(Λ(lambda π: π.sf(π.sf)(π.m), ['m'], π)),\n",
    "        ['sf'], π)), \n",
    "  ['d'])(\n",
    "    Λ(lambda π: # domain code; function of business code, f\n",
    "      Λ(lambda π: 1 if π.n < 1 else π.n * π.f(π.n - 1), \n",
    "        ['n'], π), # business parameter, n\n",
    "      ['f']) # recursive function\n",
    ")(6)"
   ]
  },
  {
   "cell_type": "markdown",
   "id": "e795c1ea-5886-46c7-8a6e-e17898af7d3d",
   "metadata": {},
   "source": [
    "## Recursive Factorial via $\\Upsilon{}1$"
   ]
  },
  {
   "cell_type": "markdown",
   "id": "d63a5781-6a63-4363-87af-64e353fcd5f9",
   "metadata": {},
   "source": [
    "Package into a system function, $\\Upsilon{}1$, for later use. The \"1\" in the name means that this combinator is for domain codes that return business codes of one parameter:"
   ]
  },
  {
   "cell_type": "code",
   "execution_count": 23,
   "id": "cf6757a1-2796-4106-8ac1-197ffef48c83",
   "metadata": {},
   "outputs": [
    {
     "data": {
      "text/plain": [
       "720"
      ]
     },
     "execution_count": 23,
     "metadata": {},
     "output_type": "execute_result"
    }
   ],
   "source": [
    "DEFINE('Υ1', \n",
    "       Λ(lambda π: # function of domain code, d\n",
    "         Λ(lambda π: π.g(π.g), ['g'], π)(\n",
    "             # of business code of one parameter\n",
    "             Λ(lambda π: π.d(Λ(lambda π: π.sf(π.sf)(π.m), ['m'], π)),\n",
    "               ['sf'], π)), \n",
    "         ['d']))\n",
    "\n",
    "DEFINE('fact_recursive',\n",
    "      Λ(lambda π: # domain code; function of business code, f\n",
    "        Λ(lambda π: 1 if π.n < 1 else π.n * π.f(π.n - 1), \n",
    "          ['n'], π), # business parameter, n\n",
    "        ['f'])) # recursive function\n",
    "\n",
    "ΓΠ.Υ1(ΓΠ.fact_recursive)(6)"
   ]
  },
  {
   "cell_type": "markdown",
   "id": "ee3789f3-095d-428d-b299-d70b914a2b26",
   "metadata": {},
   "source": [
    "## Iterative Factorial via $\\Upsilon{}3$"
   ]
  },
  {
   "cell_type": "markdown",
   "id": "77e83037-7770-4aa9-8fcc-8510ba45451d",
   "metadata": {},
   "source": [
    "The thing that looks like \"Y\" below is actually capital Upsilon ($\\Upsilon$ in $\\LaTeX$). Names in user code should not collide with it if users remember that they should [avoid Greek in user code](#greek)."
   ]
  },
  {
   "cell_type": "code",
   "execution_count": 24,
   "id": "6ee91c25-be26-401d-b4de-e218b3cd1ba8",
   "metadata": {},
   "outputs": [],
   "source": [
    "# λ d: (λ g: g[g])(λ sf: d[λ m, c, x: sf[sf][m, c, x]]) \n",
    "DEFINE('Υ3', \n",
    "       Λ(lambda π: # of d, the domain code ...\n",
    "         Λ(lambda π: π.g(π.g), ['g'], π)(\n",
    "             # of business code of three parameters\n",
    "             Λ(lambda π: π.d(Λ(lambda π: π.sf(π.sf)(π.m, π.c, π.x), \n",
    "                               ['m', 'c', 'x'], π)), \n",
    "               ['sf'], π)), \n",
    "         ['d']));"
   ]
  },
  {
   "cell_type": "markdown",
   "id": "594eb656-9982-4f70-b377-a53cff75ba89",
   "metadata": {},
   "source": [
    "$\\Upsilon$ must be tailored for a given number of arguments. This one is for 3 arguments. We could write a Python-AST hack to handle any number of arguments, but that's Python macrology, a rabbit hole we'd like to sidestep for now. An alternative is a tower of general-purpose multi-pargument $\\Upsilon$s, and that's OK for now (TODO: reconsider)."
   ]
  },
  {
   "cell_type": "markdown",
   "id": "5f2828c7-3d41-4067-ba30-4077ea9731cc",
   "metadata": {},
   "source": [
    "User-level domain code, redefining `fact_iter`. Any domain code is a function of `f`, recursive _business code_. In this case, `f` is a function of 3 _business parameters_. This will get us to a tail-recursive solution in the [section on tail recursion](#tail-recursion). "
   ]
  },
  {
   "cell_type": "code",
   "execution_count": 25,
   "id": "9e64f6f6-757e-4573-a25b-fe56906c606c",
   "metadata": {},
   "outputs": [],
   "source": [
    "# λ f: λ m, c, x: m if c > x else f(m*c, c+1, x)\n",
    "DEFINE('fact_iter', # domain code is a function of f ...\n",
    "       Λ(lambda π: # ... which is business code.\n",
    "         Λ(lambda π: π.m if π.c > π.x else \n",
    "           π.f(π.m * π.c, π.c + 1, π.x), # business code\n",
    "           ['m', 'c', 'x'], π), # business parameters\n",
    "         ['f']));"
   ]
  },
  {
   "cell_type": "code",
   "execution_count": 26,
   "id": "5a1e66d9-d326-475c-8c4e-1617804d6b10",
   "metadata": {},
   "outputs": [
    {
     "data": {
      "text/plain": [
       "720"
      ]
     },
     "execution_count": 26,
     "metadata": {},
     "output_type": "execute_result"
    }
   ],
   "source": [
    "ΓΠ.Υ3(ΓΠ.fact_iter)(1, 1, 6)"
   ]
  },
  {
   "cell_type": "markdown",
   "id": "baa87f5a-d74b-43af-b51a-82a2dc288e96",
   "metadata": {},
   "source": [
    "# Tail Recursion<a id=\"tail-recursion\"></a>"
   ]
  },
  {
   "cell_type": "markdown",
   "id": "947be86a-ef5e-4e6c-ab0a-82f0de6e4ca8",
   "metadata": {},
   "source": [
    "Thanks to [Thomas Baruchel for this idea on tail recursion](https://stackoverflow.com/questions/13591970/does-python-optimize-tail-recursion). If users are aware that their domain code is tail-recursive, then they may call it as follows instead of through $\\Upsilon$. In Scheme, tail recursion is the default, but in Python and Schemulator, users must manage tail recursion explicitly. This isn't a terrible issue, tail-calls are lexically obvious, so users should always know. Clojure does likewise, where users must explicitly write `loop` and `recur`. In any event, domain code can always be called via the proper $\\Upsilon$, the one that knows the actual argument count. "
   ]
  },
  {
   "cell_type": "markdown",
   "id": "0019487a-a67c-4c33-b163-adadac0f9a55",
   "metadata": {},
   "source": [
    "We imitate Clojure's names `loop` and `recur`. The thing that looks like \"P\" below is Greek Capital Rho for \"recur.\" `LOOP3` has the same signature as $\\Upsilon3$; it takes domain code as its sole argument. Names in user code should not collide with P B if users remember that they should [avoid Greek in user code](#greek). As with $\\Upsilon$, Rho and `LOOP` must know their argument counts. That's OK for now (TODO: reconsider)."
   ]
  },
  {
   "cell_type": "code",
   "execution_count": 27,
   "id": "e0c2c7c9-284c-49fe-80ed-b348613d5c6c",
   "metadata": {},
   "outputs": [
    {
     "data": {
      "text/plain": [
       "720"
      ]
     },
     "execution_count": 27,
     "metadata": {},
     "output_type": "execute_result"
    }
   ],
   "source": [
    "class TailCall(Exception):  \n",
    "    \"\"\"αναδρομική κλήση\"\"\"\n",
    "    def __init__(self, *args):\n",
    "        \"\"\"Overwrite old args with new.\"\"\"\n",
    "        self.args = args\n",
    "\n",
    "def RECUR(*args):  \n",
    "    \"\"\"υψώνω: in sincere flattery of Clojure\"\"\"\n",
    "    raise TailCall(*args)\n",
    "\n",
    "def LOOP3(d: Procedure) -> Procedure:\n",
    "    \"\"\"in sincere flattery of Clojure, and thanks to Thomas Baruchel.\"\"\"\n",
    "    DEFINE('Ρ3', Λ(lambda π: RECUR(π.m, π.c, π.x), ['m', 'c', 'x']));\n",
    "    def looper(*args):\n",
    "        \"\"\"Expression form of a while-loop statement.\"\"\"\n",
    "        while True:\n",
    "            try: \n",
    "                return d(ΓΠ.Ρ3)(*args)\n",
    "            except TailCall as e:\n",
    "                args = e.args\n",
    "    result = Λ(lambda π: looper(π.m, π.c, π.x), ['m', 'c', 'x'], π=d.π)\n",
    "    return result\n",
    "\n",
    "LOOP3(ΓΠ.fact_iter)(1, 1, 6)  # <~~~ DON'T DO THIS, even though it works"
   ]
  },
  {
   "cell_type": "markdown",
   "id": "8ca958a0-614d-473e-9eca-9b53121b167b",
   "metadata": {},
   "source": [
    "Results are undefined if you call any `LOOP` function with non-tail-recursive domain code."
   ]
  },
  {
   "cell_type": "markdown",
   "id": "2a1535b8-6e3f-4071-987d-af88c22a6166",
   "metadata": {},
   "source": [
    "## Prove It"
   ]
  },
  {
   "cell_type": "markdown",
   "id": "b969d0b0-2677-4681-b7f4-4fc92e03fd72",
   "metadata": {},
   "source": [
    "The recursive version blows Python's recursion limit."
   ]
  },
  {
   "cell_type": "code",
   "execution_count": 28,
   "id": "22aa12bb-ce0d-4485-8671-89cc03088334",
   "metadata": {},
   "outputs": [
    {
     "name": "stdout",
     "output_type": "stream",
     "text": [
      "('maximum recursion depth exceeded while calling a Python object',)\n"
     ]
    }
   ],
   "source": [
    "try:\n",
    "    print(ΓΠ.Υ3(ΓΠ.fact_iter)(1, 1, 371))  # smallest that blows the limit\n",
    "except RecursionError as e:\n",
    "    print(e.args)"
   ]
  },
  {
   "cell_type": "markdown",
   "id": "1d8b113d-d655-4316-ae18-f0289ca764c4",
   "metadata": {},
   "source": [
    "The tail-call version does not. Notice the domain code `fact_iter` is EXACTLY the same as in the recursive version above."
   ]
  },
  {
   "cell_type": "code",
   "execution_count": 29,
   "id": "ead045e6-152f-45b6-8ffd-6e786fbd92e3",
   "metadata": {},
   "outputs": [
    {
     "name": "stdout",
     "output_type": "stream",
     "text": [
      "62855331391956382225770747671578463391737329533894512598427801110945034468278942464657803357681644567456425552976030580621321979460216977452900971020528827454747222314767055377166178979913914561731056981125802575231189040557633076476027243392033243975113638811069534081487925145774927875946264739315358214889904107990202974498463787992100004990782629189964738943664888156971839391704156239112246066337315375642383996621347503787994281720705740025352350835984768237469912254154807846776304145838142892399708018434373722381046714286547893121562168332378475094954963294494432743104052734833831780190434067451905680090591212077352655077968066965024491777167004584808674339603547723464540669873303767018897408000000000000000000000000000000000000000000000000000000000000000000000000000000000000000000\n"
     ]
    }
   ],
   "source": [
    "try:\n",
    "    print(LOOP3(ΓΠ.fact_iter)(1, 1, 371))\n",
    "except RecursionError as e:\n",
    "    print(e.args)"
   ]
  },
  {
   "cell_type": "markdown",
   "id": "c29ff3d0-9914-43f1-889e-2afea66b6666",
   "metadata": {},
   "source": [
    "# Memoization [sic]"
   ]
  },
  {
   "cell_type": "markdown",
   "id": "27c9798e-c31b-41eb-b786-b7293e2739a9",
   "metadata": {},
   "source": [
    "Write domain code for catastropically slow, non-tail-recursive, exponentially diverging Fibonacci:"
   ]
  },
  {
   "cell_type": "code",
   "execution_count": 30,
   "id": "24124806-e810-41be-8e4a-6f6f46285ed1",
   "metadata": {},
   "outputs": [
    {
     "data": {
      "text/plain": [
       "13"
      ]
     },
     "execution_count": 30,
     "metadata": {},
     "output_type": "execute_result"
    }
   ],
   "source": [
    "DEFINE('fib_slow', \n",
    "       Λ(lambda π: \n",
    "         Λ(lambda π: 1 if π.n < 2 else π.f(π.n - 1) + π.f(π.n - 2), ['n'], π),\n",
    "         ['f']))\n",
    "\n",
    "ΓΠ.Υ1(ΓΠ.fib_slow)(6)"
   ]
  },
  {
   "cell_type": "markdown",
   "id": "2b3d000b-1f79-458a-98e5-38921be3f3ed",
   "metadata": {},
   "source": [
    "This is miserable even for $n=23$. You won't want to call it for bigger arguments. "
   ]
  },
  {
   "cell_type": "code",
   "execution_count": 31,
   "id": "2dd5dea4-5f9a-440b-a384-679bd0a7c2f0",
   "metadata": {},
   "outputs": [
    {
     "data": {
      "text/plain": [
       "46368"
      ]
     },
     "execution_count": 31,
     "metadata": {},
     "output_type": "execute_result"
    }
   ],
   "source": [
    "ΓΠ.Υ1(ΓΠ.fib_slow)(23)"
   ]
  },
  {
   "cell_type": "code",
   "execution_count": 32,
   "id": "856660f2-c796-4c20-89e9-ccdbf1229705",
   "metadata": {},
   "outputs": [
    {
     "name": "stdout",
     "output_type": "stream",
     "text": [
      "804 ms ± 2.38 ms per loop (mean ± std. dev. of 7 runs, 1 loop each)\n"
     ]
    }
   ],
   "source": [
    "timeit(ΓΠ.Υ1(ΓΠ.fib_slow)(23))"
   ]
  },
  {
   "cell_type": "markdown",
   "id": "66097304-2a5e-422e-ab4e-9bfe688402d8",
   "metadata": {},
   "source": [
    "To pass a memo table, we'll need $\\Upsilon2C$, which is generic for 2-parameter, Curried business code:"
   ]
  },
  {
   "cell_type": "code",
   "execution_count": 33,
   "id": "4982e8bc-cc80-48d4-9615-7a752c1de4be",
   "metadata": {},
   "outputs": [],
   "source": [
    "DEFINE('Υ2C', \n",
    "       Λ(lambda π: # function of domain code, d ...\n",
    "         Λ(lambda π: π.g(π.g), ['g'], π)(\n",
    "             # with business code of 2 parameters\n",
    "             Λ(lambda π: \n",
    "               π.d(Λ(lambda π: \n",
    "                     Λ(lambda π: π.sf(π.sf)(π.m)(π.n), \n",
    "                       ['n'], π), ['m'], π)),\n",
    "               ['sf'], π)), \n",
    "         ['d']));"
   ]
  },
  {
   "cell_type": "markdown",
   "id": "1f31346b-83e1-4ff1-91a1-10c1a1ceae32",
   "metadata": {},
   "source": [
    "The domain code for a memoized, Curried Fibonacci follows. The parameter `a` is the _accumulator_, _associator_, or memo, whatever word you like best."
   ]
  },
  {
   "cell_type": "code",
   "execution_count": 34,
   "id": "1db24f2a-3644-47e0-8062-f3994ccf354a",
   "metadata": {},
   "outputs": [
    {
     "data": {
      "text/plain": [
       "46368"
      ]
     },
     "execution_count": 34,
     "metadata": {},
     "output_type": "execute_result"
    }
   ],
   "source": [
    "DEFINE('fib_fast',\n",
    "       Λ(lambda π: # of f, level 1\n",
    "         Λ(lambda π: # of a, level 2\n",
    "           Λ(lambda π: # of n, level 3\n",
    "             (π.a, 1) if π.n < 2 else\n",
    "             Λ(lambda π: # of n_1, level 4\n",
    "               Λ(lambda π: # of fim1, level 5\n",
    "                 Λ(lambda π: # of m1, level 6\n",
    "                   Λ(lambda π: # of r1, level 7\n",
    "                     Λ(lambda π: # of a1, level 8\n",
    "                       Λ(lambda π: # of n_2, level 9\n",
    "                         (π.a1, π.r1 + π.a1[π.n_2]) if π.n_2 in π.a1 else \n",
    "                         Λ(lambda π: # of fim2, level 10\n",
    "                           Λ(lambda π: # of m2, level 11\n",
    "                             Λ(lambda π: # of r2, level 12\n",
    "                               Λ(lambda π: # of a2, level 13\n",
    "                                 (π.a2, π.r1 + π.r2), \n",
    "                                 ['a2'], π)(π.m2[0] | {π.n_2: π.r2}), \n",
    "                               ['r2'], π)(π.m2[1]), \n",
    "                             ['m2'], π)(π.fim2(π.n_2)), \n",
    "                           ['fim2'], π)(π.f(π.a1)), \n",
    "                         ['n_2'], π)(π.n - 2),\n",
    "                       ['a1'], π)(π.m1[0] | {π.n_1: π.r1}),\n",
    "                     ['r1'], π)(π.m1[1]),\n",
    "                   ['m1'], π)(π.fim1(π.n_1)),\n",
    "                 ['fim1'], π)(π.f(π.a)),\n",
    "               ['n_1'], π)(π.n - 1), \n",
    "             ['n'], π), \n",
    "           ['a'], π),\n",
    "         ['f']))\n",
    "ΓΠ.Υ2C(ΓΠ.fib_fast)({})(23)[1]"
   ]
  },
  {
   "cell_type": "markdown",
   "id": "a294cfdd-a94f-40d0-8aa5-8d7a0c0a2b1a",
   "metadata": {},
   "source": [
    "1,000 times faster"
   ]
  },
  {
   "cell_type": "code",
   "execution_count": 35,
   "id": "73e6fad5-4202-4b6b-9d26-4d9d5bf91422",
   "metadata": {},
   "outputs": [
    {
     "name": "stdout",
     "output_type": "stream",
     "text": [
      "865 µs ± 5.58 µs per loop (mean ± std. dev. of 7 runs, 1,000 loops each)\n"
     ]
    }
   ],
   "source": [
    "timeit(ΓΠ.Υ2C(ΓΠ.fib_fast)({})(23)[1])"
   ]
  },
  {
   "cell_type": "markdown",
   "id": "ef1731e0-d277-4e02-bfa8-ed2c67bf2598",
   "metadata": {},
   "source": [
    "But still blows the recursion limit:"
   ]
  },
  {
   "cell_type": "code",
   "execution_count": 36,
   "id": "01ddb2e3-7b21-4946-a0a3-12f89725e619",
   "metadata": {},
   "outputs": [
    {
     "name": "stdout",
     "output_type": "stream",
     "text": [
      "('maximum recursion depth exceeded while calling a Python object',)\n",
      "205697230343233228174223751303346572685\n"
     ]
    }
   ],
   "source": [
    "try:\n",
    "    print(ΓΠ.Υ2C(ΓΠ.fib_fast)({})(185)[1])\n",
    "except RecursionError as e:\n",
    "    print(e.args)\n",
    "\n",
    "try:\n",
    "    print(ΓΠ.Υ2C(ΓΠ.fib_fast)({})(184)[1])\n",
    "except RecursionError as e:\n",
    "    print(e.args)"
   ]
  },
  {
   "cell_type": "markdown",
   "id": "d50b10d3-f1a4-40e7-a9cd-3550b53095a5",
   "metadata": {},
   "source": [
    "# Junkyard"
   ]
  },
  {
   "cell_type": "markdown",
   "id": "767801fa-a7e5-40d5-bc10-b5b2fa8b2194",
   "metadata": {},
   "source": [
    "Ignore everything below. It's saved in case we need it someday."
   ]
  },
  {
   "cell_type": "code",
   "execution_count": null,
   "id": "3a703e07-2836-4f99-983e-c2cf7edc4752",
   "metadata": {},
   "outputs": [],
   "source": []
  }
 ],
 "metadata": {
  "jupytext": {
   "formats": "ipynb,md:myst"
  },
  "kernelspec": {
   "display_name": "Python 3 (ipykernel)",
   "language": "python",
   "name": "python3"
  },
  "language_info": {
   "codemirror_mode": {
    "name": "ipython",
    "version": 3
   },
   "file_extension": ".py",
   "mimetype": "text/x-python",
   "name": "python",
   "nbconvert_exporter": "python",
   "pygments_lexer": "ipython3",
   "version": "3.9.7"
  }
 },
 "nbformat": 4,
 "nbformat_minor": 5
}
