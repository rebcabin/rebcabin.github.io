{
 "cells": [
  {
   "cell_type": "markdown",
   "id": "3a76f68e-f22a-4278-b747-19b46d5f94ae",
   "metadata": {},
   "source": [
    "# Lambda, the Pynultimate Imperative"
   ]
  },
  {
   "cell_type": "markdown",
   "id": "510d45a6-8421-40ca-9be5-8127c1d18237",
   "metadata": {},
   "source": [
    "#### Brian Beckman\n",
    "#### 7 Nov 2022"
   ]
  },
  {
   "cell_type": "markdown",
   "id": "5a7aaedb-0423-4c26-9144-b1e230dd799a",
   "metadata": {},
   "source": [
    "# Introduction"
   ]
  },
  {
   "cell_type": "markdown",
   "id": "3441580e-c02a-4fa2-8f74-25d127464332",
   "metadata": {},
   "source": [
    "In a classic paper, [_Lambda, the Ultimate Imperative_](https://www.researchgate.net/publication/37596655_Lambda_The_Ultimate_Imperative), Steele and Sussman show how to model most imperative constructs with just _lambda_:"
   ]
  },
  {
   "cell_type": "markdown",
   "id": "732d965e-2640-468a-8dfa-4dc9690b5025",
   "metadata": {},
   "source": [
    "> We demonstrate how to model the following common [imperative] programming constructs in ... an applicative-order language similar to LISP: Simple Recursion, Iteration, Compound Statements and Expressions, GO TO and Assignment, Continuation-Passing, Escape Expressions, Fluid Variables, Call by Name, Call by Need, and Call by Reference. The models require only (possibly self-referent) lambda application, conditionals, and (rarely) assignment. "
   ]
  },
  {
   "cell_type": "markdown",
   "id": "5671e4da-8bae-4d07-b787-d0fe038de6b6",
   "metadata": {},
   "source": [
    "It's useful to recap this paper in Python, which has most of the listed imperative constructs. Imagine compiling Python into an intermediate language in which the semantics, even those with side-effects, are laid bare as trees of $\\lambda$ expressions. In such a representation, optimizations are \n",
    "1. easy to write as tree-to-tree transforms\n",
    "1. easy to extend via just function composition\n",
    "2. independent of surface syntax, thus easy to share with other imperative languages like Fortran, C, Java\n",
    "3. independent of back ends, thus easy to run interactively; or to translate into LLVM, x86, ARM64, C, for execution; or to transpile into other surface languages"
   ]
  },
  {
   "cell_type": "markdown",
   "id": "d073480b-92a4-44fc-9a03-e52129093751",
   "metadata": {},
   "source": [
    "The use-cases above are similar to those for a SQL algebraizer. Many SQL implementations \n",
    "1. translate the surface language into bare-bones expressions in a closed relational algebra, free of original syntax\n",
    "2. run the algebraic expressions through symbolic optimizers, which often rearrange the expressions completely\n",
    "2. incrementally extend the system by composing new optimization\n",
    "3. translate optimized expressions into commands for local and distributed servers"
   ]
  },
  {
   "cell_type": "markdown",
   "id": "e440b17b-ed1e-4a26-a8aa-f00ed59c4bfe",
   "metadata": {},
   "source": [
    "We follow the paper more-or-less directly, with gleanings from [SICP](https://sarabander.github.io/sicp/)."
   ]
  },
  {
   "cell_type": "markdown",
   "id": "fab97f19-27e0-4004-b9de-f951fcc50e7e",
   "metadata": {},
   "source": [
    "## _Schemulation:_ Python Semantics in Python"
   ]
  },
  {
   "cell_type": "markdown",
   "id": "cd1ff76f-d551-46ab-a060-4814ab47ec29",
   "metadata": {},
   "source": [
    "Ideally, we'd compile Python into Scheme or Clojure or Common Lisp, then write transformations, translations, interpreters, debuggers, etc. in Scheme or Clojure or Common Lisp. However, to maintain a convenient notebook structure and to avoid creeping dependencies, we'll just model Python imperatives in a Scheme-like applicative-order $\\lambda$ calculus embedded in basic Python. "
   ]
  },
  {
   "cell_type": "markdown",
   "id": "28c0e25f-8879-4269-a1b6-a96a7d21aac0",
   "metadata": {},
   "source": [
    "Each facility in our work must address three concerns:\n",
    "1. What constructions in the $\\lambda$ calculus are we talking about? This is a theoretical level, translated into Python $\\lambda$ expressions as directly as possible.\n",
    "2. What imperative constructs, i.e., Simple Recursion, Iteration, Compound Statements and Expressions, etc., of the ***object-language***, here Python, are we talking about? \n",
    "3. How do we represent and implement those constructs in the Schemulator? "
   ]
  },
  {
   "cell_type": "markdown",
   "id": "3886ba49-9390-4fd9-a4ab-ad13b88a1a47",
   "metadata": {},
   "source": [
    "## Orthogonality as a Design Principle"
   ]
  },
  {
   "cell_type": "markdown",
   "id": "608bdc5e-19a2-4f7d-b350-eb8cd975bb15",
   "metadata": {},
   "source": [
    "We prefer designs that minimize cross-talk. Each facility -- transformation layer or module -- should have the least possible dependency on other facilities. For example, tranformations that affect control flow need not necessarily depend on transformations that affect numerics."
   ]
  },
  {
   "cell_type": "markdown",
   "id": "bdf71eec-c4fa-4ad4-a155-09c4a2327dc7",
   "metadata": {},
   "source": [
    "Contrast to a braided design, where each facility explicitly accounts for every other."
   ]
  },
  {
   "cell_type": "markdown",
   "id": "3a398cb8-85d7-40aa-bd5b-212d254b186f",
   "metadata": {},
   "source": [
    "# Definitions"
   ]
  },
  {
   "cell_type": "markdown",
   "id": "892ebbd0-7c09-494c-90f7-67c9141dfa39",
   "metadata": {},
   "source": [
    "## Functions and $\\lambda$ Expressions"
   ]
  },
  {
   "cell_type": "markdown",
   "id": "6aec61fc-7501-4212-8260-fc58df3e8b18",
   "metadata": {},
   "source": [
    "All functions in $\\lambda$ calculus are anonymous. Python functions can be _named_ or _anonymous_. In Python, named functions are usually introduced via `def`, as follows:"
   ]
  },
  {
   "cell_type": "code",
   "execution_count": 1,
   "id": "b206f62e-bdba-4df8-bd11-cdef99c0c8e0",
   "metadata": {},
   "outputs": [],
   "source": [
    "def foo(x):\n",
    "    result = x * (x + 1)\n",
    "    return result"
   ]
  },
  {
   "cell_type": "markdown",
   "id": "f4ced86e-0ba3-4130-a474-c884fdb61b07",
   "metadata": {},
   "source": [
    "> Aside: The local variable `result` is a habit: a convenient place to hang a debugger breakpoint, as an alternative to direct returns, which some debuggers won't report to the user easily:"
   ]
  },
  {
   "cell_type": "code",
   "execution_count": 2,
   "id": "50e43cde-0056-461d-8545-54461c22f7b3",
   "metadata": {},
   "outputs": [],
   "source": [
    "def foo(x):\n",
    "    return x * (x + 1)"
   ]
  },
  {
   "cell_type": "markdown",
   "id": "a8855fdd-0b13-4bad-b5c7-25a49cca9602",
   "metadata": {},
   "source": [
    "Invoke named functions as follows:"
   ]
  },
  {
   "cell_type": "code",
   "execution_count": 2,
   "id": "d070a634-c55c-4dd9-b7f5-a51552294920",
   "metadata": {},
   "outputs": [
    {
     "data": {
      "text/plain": [
       "42"
      ]
     },
     "execution_count": 2,
     "metadata": {},
     "output_type": "execute_result"
    }
   ],
   "source": [
    "foo(6)"
   ]
  },
  {
   "cell_type": "markdown",
   "id": "14c78ed9-092b-45b6-926a-5d8e34d5c39d",
   "metadata": {},
   "source": [
    "Python and Schemulator anonymous functions are introduced via $\\lambda$ expressions, as follows:"
   ]
  },
  {
   "cell_type": "markdown",
   "id": "7db07878-cb6b-426e-b5e2-28f26a3c895a",
   "metadata": {},
   "source": [
    "`(lambda x: x * (x + 1))`"
   ]
  },
  {
   "cell_type": "markdown",
   "id": "81c68f44-3343-49d9-8dda-b2d299478d34",
   "metadata": {},
   "source": [
    "and invoked as follows:"
   ]
  },
  {
   "cell_type": "code",
   "execution_count": 14,
   "id": "b2633e60-98d0-49f1-a1ad-b7db6ec1f69e",
   "metadata": {},
   "outputs": [
    {
     "data": {
      "text/plain": [
       "42"
      ]
     },
     "execution_count": 14,
     "metadata": {},
     "output_type": "execute_result"
    }
   ],
   "source": [
    "(lambda x: x * (x + 1))(6)"
   ]
  },
  {
   "cell_type": "markdown",
   "id": "3c6c9ee2-d6ec-4550-9431-8475a7916df7",
   "metadata": {},
   "source": [
    "Notice that we must invoke the $\\lambda$ literally, by copy-paste, because there is no name by which to invoke it."
   ]
  },
  {
   "cell_type": "markdown",
   "id": "1e9b5e63-0a98-485c-b36a-89dfd1fbadc5",
   "metadata": {},
   "source": [
    "However, we can name anonymous functions by assigning them to Python variables. Although the $\\lambda$ expression below is valid Schemulator, the assignment and the name `foo` are not. We say that the name `foo` is ___notional___ in Schemulator, meaning convenient for discussion or implementation in Python but not representable in the Schemulator language."
   ]
  },
  {
   "cell_type": "code",
   "execution_count": 15,
   "id": "ecfda006-e673-43a1-a5d8-afae4f2b4f22",
   "metadata": {},
   "outputs": [
    {
     "data": {
      "text/plain": [
       "42"
      ]
     },
     "execution_count": 15,
     "metadata": {},
     "output_type": "execute_result"
    }
   ],
   "source": [
    "foo = (lambda x: x * (x + 1))\n",
    "foo(6)"
   ]
  },
  {
   "cell_type": "markdown",
   "id": "6b5ec44a-0e1b-4665-9dfb-cd89255689ba",
   "metadata": {},
   "source": [
    "The bodies of Python $\\lambda$ expressions contain exactly one Python _expression_. There is no place to hang a debugger breakpoint in a Python $\\lambda$ expression. We cannot write assignment _statements_ inside Python $\\lambda$s. Python $\\lambda$s are hard to debug."
   ]
  },
  {
   "cell_type": "markdown",
   "id": "3a4a686f-8bf3-4829-bd1c-ea7ac4df66e1",
   "metadata": {},
   "source": [
    "## Bound and Free Variables<a id=\"bound-and-free\"></a>"
   ]
  },
  {
   "cell_type": "markdown",
   "id": "44fcd6bd-1dff-4793-bc0c-41f0ce046ff3",
   "metadata": {},
   "source": [
    "This is a confusing topic because the parlances of Python and of $\\lambda$ calculus differ. Schemulator is a simulation of $\\lambda$ calculus in Python, and the parlance of Schemulator must split the difference."
   ]
  },
  {
   "cell_type": "markdown",
   "id": "058bfe35-83af-41e1-8fe4-5c31f9f7e414",
   "metadata": {},
   "source": [
    "In $\\lambda$ calculus, Python, and Schemulator, we say a variable is ___bound___ if it has a value, and ___unbound___ otherwise. Don't confuse this meaning of _bound_ with the meanings of _$\\lambda$-bound_ and _P-bound_, defined below."
   ]
  },
  {
   "cell_type": "markdown",
   "id": "0bbf3cf9-66b6-410b-9ddd-eb74145622a5",
   "metadata": {},
   "source": [
    "## Bindings"
   ]
  },
  {
   "cell_type": "markdown",
   "id": "9943774b-5c65-4d7b-becb-bc677cfa73b4",
   "metadata": {},
   "source": [
    "The pair of a variable and its current value is its ___binding___. We say that looking up the value of a variable is ___consulting___ its binding. "
   ]
  },
  {
   "cell_type": "markdown",
   "id": "305016ec-9c2d-4f98-a685-b1f45a167f9c",
   "metadata": {},
   "source": [
    "## Contexts"
   ]
  },
  {
   "cell_type": "markdown",
   "id": "eca56067-5966-4849-a6de-88dab3a6582d",
   "metadata": {},
   "source": [
    "Bindings depend on context. A binding can change depending on where its variable appears in the program text, and depending on when its binding is consulted. The ___static context___ of a binding is its ___lexical closure___ -- the lexical or textual body of a function where the variable appears -- plus the static contexts of all the enclosing functions. The ___dynamic context___ of a binding consists of the run-time stack frames in force when the binding is consulted. The word _context_ by itself means _static context_. We may loosely say _context_ and mean only one set of bindings, not the entire tower."
   ]
  },
  {
   "cell_type": "markdown",
   "id": "2dd9c7b5-acc1-4879-9d8e-a9b08e0dd9b3",
   "metadata": {},
   "source": [
    "## Parameters and Non-Parameters"
   ]
  },
  {
   "cell_type": "markdown",
   "id": "96ea83df-5b52-489f-90ab-3af215e7e51c",
   "metadata": {},
   "source": [
    "In the body of a function, named or not, a variable is either a ___parameter___ or a ___non-parameter___. The body of the following contains parameter `x` and non-parameters `a`, `w`, `y`, and `z`:"
   ]
  },
  {
   "cell_type": "code",
   "execution_count": 16,
   "id": "5d33cb7b-c7d9-4f0d-bc66-0904c98fa437",
   "metadata": {},
   "outputs": [],
   "source": [
    "foo = (lambda x: (a * x + y) / (w * z))"
   ]
  },
  {
   "cell_type": "markdown",
   "id": "943c345d-1e64-4e5a-8082-61e0647f5058",
   "metadata": {},
   "source": [
    "### $\\lambda$-Bound, $\\lambda$-Free"
   ]
  },
  {
   "cell_type": "markdown",
   "id": "71e33bdc-88d8-4f59-8887-6eee52aade8e",
   "metadata": {},
   "source": [
    "In $\\lambda$ calculus, parameters of a function are ___bound variables___ and non-parameters are ___free variables___. Because Python parlance differs, we'll say that parameters are ___$\\lambda$-bound___ and non-parameters are ___$\\lambda$-free___. The only $\\lambda$-bound variable in `foo` above is `x`; `a`, `w`, `y`, and `z` are $\\lambda$-free."
   ]
  },
  {
   "cell_type": "markdown",
   "id": "9a8dd949-2ca3-4a59-8fbb-631a759f90b6",
   "metadata": {},
   "source": [
    "A variable may be $\\lambda$-free in one context $\\lambda$-bound in another. For example, in"
   ]
  },
  {
   "cell_type": "markdown",
   "id": "7c89dcb3-fb5e-4feb-bd73-d653e8d6be6f",
   "metadata": {},
   "source": [
    "`lambda w: lambda x: (a * x + y) / (w * z)`"
   ]
  },
  {
   "cell_type": "markdown",
   "id": "f6dba7cd-2ecb-4100-8625-9614ab06ce6b",
   "metadata": {},
   "source": [
    "`w` is $\\lambda$-bound in the outer context `lambda w: ...` and $\\lambda$-free in the inner context `lambda a: ...`"
   ]
  },
  {
   "cell_type": "markdown",
   "id": "fc34406d-1244-4714-9036-7db08029b95d",
   "metadata": {},
   "source": [
    "### P-Bound, P-Unbound, P-Global, P-Free"
   ]
  },
  {
   "cell_type": "markdown",
   "id": "a410c8b4-2094-4999-bf42-917298425c56",
   "metadata": {},
   "source": [
    "In Python parlance, \n",
    "\n",
    "1. Parameters are ___P-bound___.\n",
    "\n",
    "2. ___P-unbound:___ Non-parameters may be _P-closure-unbound_ and _P-instruction_global_, like `a`. Functions with P-unbound variables can be compiled -- Python will generate instructions to consult their bindings -- but they won't run unless and until all P-unbounds have bindings in some context. P-unbound variables are unbound: they don't have values.\n",
    "\n",
    "3. ___P-global:___ Non-parameters may be _P-closure_global_ and _P-instruction_global_, like `z`. P-globals are bound: they have values.\n",
    "\n",
    "4. ___P-free:___ Non-parameters may be _P-closure-nonlocal_ and _P-freevars-free_, like `w` and `y`. P-free variables are always $\\lambda$-bound somewhere in their context. P-free variables are bound: they have values. This is the most confusing nomenclature."
   ]
  },
  {
   "cell_type": "markdown",
   "id": "0f82bc47-2df4-4d73-95f1-ddf69c611e02",
   "metadata": {},
   "source": [
    "The following example motivates the adjectives by examining the disassembly instructions, the closure data, and the `co_freevars` attribute of the Python compiler's `__code__` attribute:"
   ]
  },
  {
   "cell_type": "code",
   "execution_count": 17,
   "id": "747fd1af-fe32-4942-9037-76372a4e0886",
   "metadata": {},
   "outputs": [
    {
     "name": "stdout",
     "output_type": "stream",
     "text": [
      "  4           0 LOAD_GLOBAL              0 (a)\n",
      "              2 LOAD_FAST                0 (x)\n",
      "              4 BINARY_MULTIPLY\n",
      "              6 LOAD_DEREF               0 (y)\n",
      "              8 BINARY_ADD\n",
      "             10 LOAD_GLOBAL              1 (w)\n",
      "             12 LOAD_GLOBAL              2 (z)\n",
      "             14 BINARY_MULTIPLY\n",
      "             16 BINARY_TRUE_DIVIDE\n",
      "             18 RETURN_VALUE\n",
      "{'parameters(foo)': mappingproxy(OrderedDict([('x', <Parameter \"x\">)]))}\n",
      "{'ClosureVars(foo)': ClosureVars(nonlocals={'y': 37}, globals={'z': 43}, builtins={}, unbound={'a', 'w'})}\n",
      "{'freevars(foo)': ('y',)}\n"
     ]
    }
   ],
   "source": [
    "z = 43\n",
    "def bar():\n",
    "    y = 37\n",
    "    foo = (lambda x: (a * x + y) / (w * z))\n",
    "    import dis\n",
    "    dis.dis(foo)\n",
    "    import inspect\n",
    "    from pprint import pprint\n",
    "    pprint({\"parameters(foo)\": inspect.signature(foo).parameters})\n",
    "    pprint({\"ClosureVars(foo)\": inspect.getclosurevars(foo)})\n",
    "    pprint({\"freevars(foo)\": foo.__code__.co_freevars})\n",
    "bar()"
   ]
  },
  {
   "cell_type": "markdown",
   "id": "23c630b5-3b69-4021-9d64-b89c73e1248e",
   "metadata": {},
   "source": [
    "The following paragraphs explain the output above."
   ]
  },
  {
   "cell_type": "markdown",
   "id": "3b08b892-0b1c-404a-ab72-fbf4d74a18f1",
   "metadata": {},
   "source": [
    "### Parameters"
   ]
  },
  {
   "cell_type": "markdown",
   "id": "256fd85e-28de-4779-9f68-4f3b78354393",
   "metadata": {},
   "source": [
    "#### P-Bound"
   ]
  },
  {
   "cell_type": "markdown",
   "id": "c30c78a1-a1ca-430d-b149-14507ebd74d0",
   "metadata": {},
   "source": [
    "Python reckons `x` a parameter via the `LOAD_FAST` instruction. The non-parameter categories do not pertain. `inspect.signature(...).parameters` corroborates this reckoning. Such variables are both _P-bound_ and bound: they have values."
   ]
  },
  {
   "cell_type": "markdown",
   "id": "017c128b-8bc4-4091-b498-bbc6a93efb81",
   "metadata": {},
   "source": [
    "### Non-Parameters"
   ]
  },
  {
   "cell_type": "markdown",
   "id": "938df457-4be3-4bdc-8fc1-1604ed3f34c3",
   "metadata": {},
   "source": [
    "#### P-Unbound"
   ]
  },
  {
   "cell_type": "markdown",
   "id": "a2439a73-fec1-485b-be8a-eb4ce3f67d95",
   "metadata": {},
   "source": [
    "Python reckons `a`, `w`, and `z` _P-instruction-global_ via `LOAD_GLOBAL`. Because `inspect.getclosurevars(foo)` reveals that `a` and `w` are also P-closure-unbound, we'll get an error if we run the lambda. Unboundedness is the dominating property, so we call this category of variables simply _P-unbound_. They are also simply unbound: they don't have values in this context. "
   ]
  },
  {
   "cell_type": "markdown",
   "id": "e9f6b04b-c832-40c7-b8f3-d54197eb0aa4",
   "metadata": {},
   "source": [
    "#### P-Global"
   ]
  },
  {
   "cell_type": "markdown",
   "id": "ae9b35dc-28ea-4c2e-87b1-eeb43edc8870",
   "metadata": {},
   "source": [
    "Python reckons `z` as P-instruction-global by `dis` and P-closure-global by `inspect.getclosurevars(foo)`. I believe that P-closure-global implies P-instruction-global, so we call this category just _P-global_. P-globals are bound: they have values."
   ]
  },
  {
   "cell_type": "markdown",
   "id": "3d2b8e69-74e1-4e35-ab12-58d679eaa450",
   "metadata": {},
   "source": [
    "#### P-Free"
   ]
  },
  {
   "cell_type": "markdown",
   "id": "ff7dfc11-44e0-4ae5-a27e-365ce99dd4ca",
   "metadata": {},
   "source": [
    "Python reckons `y` P-closure-nonlocal and P-freevars-free. I believe these are synonyms, so we call this category of variables _P-free_. P-frees are bound: they have values somewhere in their context. "
   ]
  },
  {
   "cell_type": "markdown",
   "id": "aa03c811-e9fd-4c98-999a-531af61abd71",
   "metadata": {},
   "source": [
    "## Change of Context"
   ]
  },
  {
   "cell_type": "markdown",
   "id": "25dac429-f8ed-41ac-b8fe-10ba2ab894f5",
   "metadata": {},
   "source": [
    "Let's give a parameter `w` to the enclosing context `bar`. `w` becomes P-free in the inner context of `lambda x ...`; it was previously P-unbound."
   ]
  },
  {
   "cell_type": "code",
   "execution_count": 18,
   "id": "39e5ed2c-1fa6-44b6-aaae-063e05cc8aec",
   "metadata": {},
   "outputs": [
    {
     "name": "stdout",
     "output_type": "stream",
     "text": [
      "  4           0 LOAD_GLOBAL              0 (a)\n",
      "              2 LOAD_FAST                0 (x)\n",
      "              4 BINARY_MULTIPLY\n",
      "              6 LOAD_DEREF               1 (y)\n",
      "              8 BINARY_ADD\n",
      "             10 LOAD_DEREF               0 (w)\n",
      "             12 LOAD_GLOBAL              1 (z)\n",
      "             14 BINARY_MULTIPLY\n",
      "             16 BINARY_TRUE_DIVIDE\n",
      "             18 RETURN_VALUE\n",
      "{'parameters(foo)': mappingproxy(OrderedDict([('x', <Parameter \"x\">)]))}\n",
      "{'ClosureVars(foo)': ClosureVars(nonlocals={'w': 19, 'y': 37}, globals={'z': 43}, builtins={}, unbound={'a'})}\n",
      "{'freevars(foo)': ('w', 'y')}\n"
     ]
    }
   ],
   "source": [
    "z = 43\n",
    "def bar(w):\n",
    "    y = 37\n",
    "    foo = (lambda x: (a * x + y) / (w * z))\n",
    "    import dis\n",
    "    dis.dis(foo)\n",
    "    import inspect\n",
    "    from pprint import pprint\n",
    "    pprint({\"parameters(foo)\": inspect.signature(foo).parameters})\n",
    "    pprint({\"ClosureVars(foo)\": inspect.getclosurevars(foo)})\n",
    "    pprint({\"freevars(foo)\": foo.__code__.co_freevars})\n",
    "\n",
    "bar(19)"
   ]
  },
  {
   "cell_type": "markdown",
   "id": "e8c74ea7-b1e3-40be-9a31-74cb3a71d1d3",
   "metadata": {},
   "source": [
    "### Enclosing $\\lambda$"
   ]
  },
  {
   "cell_type": "markdown",
   "id": "ea68dec4-4607-4a77-976c-b473de43cec0",
   "metadata": {},
   "source": [
    "We can't assign to -- and thus can't create -- local variables in an enclosing $\\lambda$ expression. Assignment is a statement and statements are not allowed in Python $\\lambda$ expressions. However, we can have parameters, which show up in the inner lambda as P-free."
   ]
  },
  {
   "cell_type": "markdown",
   "id": "1a85a450-22f8-4d31-b5f0-c195a4b0245b",
   "metadata": {},
   "source": [
    "Replace the first outer `def bar` above with a $\\lambda$ expression. `y`, once P-free within the inner context, defined by assignment in the outer context, becomes P-unbound. `w`, once P-unbound, becomes P-free. `z` remains P-global and `a` remains P-unbound."
   ]
  },
  {
   "cell_type": "code",
   "execution_count": 19,
   "id": "59ae7926-19a0-4bfa-b401-0b1d167b4c57",
   "metadata": {},
   "outputs": [
    {
     "name": "stdout",
     "output_type": "stream",
     "text": [
      "  5           0 LOAD_GLOBAL              0 (a)\n",
      "              2 LOAD_FAST                0 (x)\n",
      "              4 BINARY_MULTIPLY\n",
      "              6 LOAD_GLOBAL              1 (y)\n",
      "              8 BINARY_ADD\n",
      "             10 LOAD_DEREF               0 (w)\n",
      "             12 LOAD_GLOBAL              2 (z)\n",
      "             14 BINARY_MULTIPLY\n",
      "             16 BINARY_TRUE_DIVIDE\n",
      "             18 RETURN_VALUE\n",
      "{'ClosureVars(λ)': ClosureVars(nonlocals={'w': 19}, globals={'z': 43}, builtins={}, unbound={'a', 'y'})}\n",
      "{'freevars(λ)': ('w',)}\n"
     ]
    }
   ],
   "source": [
    "z = 43\n",
    "import dis, inspect\n",
    "from pprint import pprint\n",
    "(lambda w:\n",
    "    dis.dis((lambda x: (a * x + y) / (w * z))))(19)\n",
    "(lambda w:\n",
    "    pprint({\"ClosureVars(λ)\": \n",
    "            inspect.getclosurevars(\n",
    "                (lambda x: (a * x + y) / (w * z)))}))(19)\n",
    "(lambda w:\n",
    "    pprint({\"freevars(λ)\":\n",
    "            (lambda x: (a * x + y) / (w * z)).__code__.co_freevars}))(19)"
   ]
  },
  {
   "cell_type": "markdown",
   "id": "e5c7c31e-5878-4549-9c55-65176e5aee17",
   "metadata": {},
   "source": [
    "### Summary"
   ]
  },
  {
   "cell_type": "markdown",
   "id": "882580c5-6228-4033-a309-0ec6da3a1154",
   "metadata": {},
   "source": [
    "> $\\lambda$-free variables are P-free iff they are non-local and not global, either defined in an outer context by assignment, or parameters of an outer context. \n",
    "\n",
    "> $\\lambda$-free variables are P-global iff they are defined by assignment at top level and not shadowed by P-locals with the same names in deeper enclosing contexts. \n",
    "\n",
    "> $\\lambda$-free variables are P-unbound iff they are not defined and are not parameters in any enclosing context. \n",
    "\n",
    "> $\\lambda$-bound variables are P-bound. "
   ]
  },
  {
   "cell_type": "markdown",
   "id": "4e318dc6-150f-4870-bac4-2d00713f8022",
   "metadata": {},
   "source": [
    "### Analyzer"
   ]
  },
  {
   "cell_type": "markdown",
   "id": "a8e7e834-7217-4458-86ff-f7693ffd2cd4",
   "metadata": {},
   "source": [
    "We have enough tooling now to write a small Python library for analyzing functions. Please make sure you understand and accept the following results:"
   ]
  },
  {
   "cell_type": "code",
   "execution_count": 23,
   "id": "fe7a600e-8f72-4a74-897e-e0fe6a763df1",
   "metadata": {},
   "outputs": [
    {
     "name": "stdout",
     "output_type": "stream",
     "text": [
      "{'all_vars(list)': ['x', 'w', 'a', 'y', 'z'],\n",
      " 'all_vars(set)': {'a', 'x', 'y', 'w', 'z'},\n",
      " 'p_bounds': ['x'],\n",
      " 'p_frees': ['w'],\n",
      " 'p_globals': ['z'],\n",
      " 'p_unbounds': ['a', 'y']}\n",
      "{'all_vars(list)': ['x', 'w', 'y', 'a', 'z'],\n",
      " 'all_vars(set)': {'a', 'x', 'y', 'w', 'z'},\n",
      " 'p_bounds': ['x'],\n",
      " 'p_frees': ['w', 'y'],\n",
      " 'p_globals': ['z'],\n",
      " 'p_unbounds': ['a']}\n"
     ]
    }
   ],
   "source": [
    "from types import FunctionType\n",
    "from typing import Dict, List\n",
    "def variable_analysis(f: FunctionType) -> Dict[str, List[str]]:\n",
    "    p_bounds = list(inspect.signature(f).parameters.keys())\n",
    "    closurevars = inspect.getclosurevars(f)\n",
    "    p_frees = list(closurevars.nonlocals.keys())\n",
    "    p_unbounds = list(closurevars.unbound)\n",
    "    p_globals = list(closurevars.globals.keys())\n",
    "    all_vars = p_bounds + p_frees + p_unbounds + p_globals\n",
    "    assert len(set(all_vars)) == len(all_vars)\n",
    "    result = {'p_bounds': p_bounds,\n",
    "              'p_frees': p_frees,\n",
    "              'p_unbounds': p_unbounds,\n",
    "              'p_globals': p_globals,\n",
    "              'all_vars(set)': set(all_vars),\n",
    "              'all_vars(list)': all_vars,\n",
    "             }\n",
    "    return result\n",
    "pprint((lambda w: \n",
    " variable_analysis(lambda x: (a * x + y) / (w * z)))(19))\n",
    "def bar(w):\n",
    "    y = 37\n",
    "    result = variable_analysis(lambda x: (a * x + y) / (w * z))\n",
    "    return result\n",
    "pprint(bar(19))"
   ]
  },
  {
   "cell_type": "markdown",
   "id": "3096ba84-72a8-4928-814b-ab05acfe721d",
   "metadata": {},
   "source": [
    "# Environment and Frame"
   ]
  },
  {
   "cell_type": "markdown",
   "id": "81df4344-49c9-4d00-a6f0-9a8904394029",
   "metadata": {},
   "source": [
    "We find it necessary to model Scheme's environments and frames explicitly. We tried multiple short-cut alternatives and found that none of them compose well."
   ]
  },
  {
   "cell_type": "markdown",
   "id": "ae24100b-5793-4fce-985e-e788d02e5a21",
   "metadata": {},
   "source": [
    "[SICP 3.2](https://sarabander.github.io/sicp/html/3_002e2.xhtml#g_t3_002e2) has some apparent contradictions in the definition of environment and frame. It says that \"an environment is a sequence of frames,\" but the rest of the text and figures clearly imply that an environment has just one frame. "
   ]
  },
  {
   "cell_type": "markdown",
   "id": "a497199a-798e-4903-af13-0d2559e1d48e",
   "metadata": {},
   "source": [
    "The best resolution appears to be:"
   ]
  },
  {
   "cell_type": "markdown",
   "id": "2d51e004-559c-4868-af7a-e5f97c2345df",
   "metadata": {},
   "source": [
    "> An ___environment___ is a frame $\\phi$ and a pointer $\\pi$ to an enclosing environment. A ___frame___ is a mathematical function from variable names to values; no variable name may appear more than once in a frame. "
   ]
  },
  {
   "cell_type": "markdown",
   "id": "c2ed60a9-b56d-4da0-a2cc-f3d95014334f",
   "metadata": {},
   "source": [
    "We note in passing that this works only for a single thread. [Clojure, for instance, solves that problem with _Vars_](https://clojure.org/reference/vars). "
   ]
  },
  {
   "cell_type": "markdown",
   "id": "27e4595e-51ea-4dcb-a8ae-d5251e2cd0ac",
   "metadata": {},
   "source": [
    "> A ___binding___ is an association from a variable name to a value, that is, an entry in a frame. "
   ]
  },
  {
   "cell_type": "markdown",
   "id": "eff2aff9-b04b-484e-a6ac-6f51ab2fa9de",
   "metadata": {},
   "source": [
    "We might model a binding as a pair, or as a row in a table, an element of a relation (subset of a Cartesian product), an element of a Python dictionary, or as an attribute of a Python object. We prefer the attribute model because it affords _dot_ notation for lookup, that is, `o.foo` rather than the dictionay's syntax `o['foo']`."
   ]
  },
  {
   "cell_type": "markdown",
   "id": "de5caced-7ae8-474c-8890-e04046faba5c",
   "metadata": {},
   "source": [
    "If the definitions above are acceptable, the apparent contradiction in SICP is resolved. SICP says that an environment _is_ a sequence of frames. Rather, I'd say that any environment _implies_ a virtual sequence of frames via the chain of pointers to enclosing environments."
   ]
  },
  {
   "cell_type": "markdown",
   "id": "89cc50c3-7d05-4bfc-8186-3f458601e2a7",
   "metadata": {},
   "source": [
    "> The system maintains a unique ___global environment___, whose _pointer-to-enclosing-environment_ is `None`. "
   ]
  },
  {
   "cell_type": "markdown",
   "id": "895febad-d1a1-4d58-95b3-69945e624d04",
   "metadata": {},
   "source": [
    "> A frame $\\phi$ belongs to a virtual sequence of environments implied by the unidirectional pointer-chain of enclosing environments rooted in $\\phi$ and ending at the unique global environment. The ___value of a variable in an environment___ is the value in the first binding in any frame of that sequence. Bindings lower in the chain may ___shadow___ bindings higher in the chain, rendering them inaccessible. If no frame in a chain specifies a binding for the variable, then the variable is ___unbound___ in the environment. A variable may be ___bound___ in one environment and unbound in another."
   ]
  },
  {
   "cell_type": "markdown",
   "id": "56f4d5c3-ccdd-42f9-824a-438dc82e502a",
   "metadata": {},
   "source": [
    "User code should avoid Greek to avoid clobbering system stuff."
   ]
  },
  {
   "cell_type": "code",
   "execution_count": 278,
   "id": "ff41f461-d806-48f4-914e-b4c07c50c116",
   "metadata": {},
   "outputs": [
    {
     "data": {
      "text/plain": [
       "43"
      ]
     },
     "execution_count": 278,
     "metadata": {},
     "output_type": "execute_result"
    }
   ],
   "source": [
    "from dataclasses import dataclass, field\n",
    "from types import FunctionType\n",
    "@dataclass\n",
    "class Environment:\n",
    "    \"\"\"Set attributes via settattr(env.ϕ, key, val). When getting\n",
    "    attributes, it's ok to omit the ϕ.\"\"\"\n",
    "    ϕ: FunctionType   # \"frame,\" also nice place to hang attributes via 'setattr'\n",
    "    π: \"Environment\"  # via Greek πηρι, short name for 'enclosing'\n",
    "    # Recursive lookup\n",
    "    def __getattr__(self, key):\n",
    "        try:\n",
    "            result = getattr(self.ϕ, key)\n",
    "        except AttributeError as _:\n",
    "            if self.π is None:\n",
    "                raise NameError(f'Name {key} is unbound.')\n",
    "            else:  # recurse\n",
    "                result = self.π.__getattr__(key)\n",
    "        return result\n",
    "# The ugliness of 'setattr' is hidden in DEFINE and DEFINE_PROC.\n",
    "    \n",
    "ΓΠ = Environment(lambda: None, None)  # Γ for \"global,\" Π for \"environment\"\n",
    "setattr(ΓΠ.ϕ, 'γόὂ', 43)\n",
    "ΓΠ.γόὂ"
   ]
  },
  {
   "cell_type": "markdown",
   "id": "79b8ea49-1d8f-44e5-96f9-837c3b265298",
   "metadata": {},
   "source": [
    "# Procedure"
   ]
  },
  {
   "cell_type": "markdown",
   "id": "424d31a1-8399-444f-8675-13a4cbc1493f",
   "metadata": {},
   "source": [
    "A ___procedure___ is a pair of code and environment. ___Code___ is a dictionary of parameter names and a $\\lambda$ expression. The $\\lambda$, by convention, takes a sigle argument, the environment in which its formal parameters are bound via some application of the procedure, as described in SICP 3.2. This convention seems to be the best we can do for composable $\\lambda$s in Schemulator. For now, we support only positional arguments, one-to-one with the argument list. That's consistent with [Gambit Scheme](https://github.com/gambit/gambit), which reports \"Wrong number of arguments ...\" if the application has too many or too few arguments."
   ]
  },
  {
   "cell_type": "code",
   "execution_count": 279,
   "id": "624c88bf-2197-4eed-807c-e7338157eb96",
   "metadata": {},
   "outputs": [],
   "source": [
    "from typing import Dict, Set\n",
    "Parameters = List[str]  # positional arguments only\n",
    "@dataclass\n",
    "class Procedure:\n",
    "    code: Dict\n",
    "    π: Environment"
   ]
  },
  {
   "cell_type": "markdown",
   "id": "bda3079d-0652-4fdc-942d-230ff10fcd0e",
   "metadata": {},
   "source": [
    "Following the example for _square_ in SICP 3.2.1, let's define it in the global environment:"
   ]
  },
  {
   "cell_type": "code",
   "execution_count": 280,
   "id": "a2501887-60eb-4d19-8f3b-e2ee5b565c67",
   "metadata": {},
   "outputs": [],
   "source": [
    "setattr(\n",
    "    ΓΠ.ϕ, \n",
    "    \"square\", \n",
    "    Procedure(\n",
    "        {\"body\": lambda π: π.x * π.x,  # ugly, I know; sorry :(\n",
    "         \"parameters\": ['x']}, \n",
    "        ΓΠ))"
   ]
  },
  {
   "cell_type": "markdown",
   "id": "8f437f4a-69b9-4a0c-9055-e3c90497b35f",
   "metadata": {},
   "source": [
    "Define the recursive lookup algorithm, raising an exception for unbound. Catch it if you care."
   ]
  },
  {
   "cell_type": "markdown",
   "id": "b5ac5fb3-84fc-46dd-84e2-a658e7e6c63e",
   "metadata": {},
   "source": [
    "## EVAL"
   ]
  },
  {
   "cell_type": "markdown",
   "id": "7a0145a0-1898-404c-9eab-5188d207d23b",
   "metadata": {},
   "source": [
    "work in progress"
   ]
  },
  {
   "cell_type": "code",
   "execution_count": 282,
   "id": "ceab5fd6-9187-4121-972b-444a17d799a5",
   "metadata": {},
   "outputs": [],
   "source": [
    "def EVAL(expr: Any, π: Environment) -> Any:\n",
    "    if isinstance(expr, int) or \\\n",
    "       isinstance(expr, float) or \\\n",
    "       isinstance(expr, str) or \\\n",
    "       isinstance(expr, bool):\n",
    "        result = expr\n",
    "    else:\n",
    "        raise ValueError\n",
    "    return result"
   ]
  },
  {
   "cell_type": "markdown",
   "id": "125df480-1aad-4775-8366-dde3136cdf55",
   "metadata": {},
   "source": [
    "Apply \"square\""
   ]
  },
  {
   "cell_type": "markdown",
   "id": "2a73a82a-6d1d-4a3c-a946-f7ee9ca354f0",
   "metadata": {},
   "source": [
    "## APPLY"
   ]
  },
  {
   "cell_type": "code",
   "execution_count": 283,
   "id": "f25e361c-89b4-4150-abb8-174cfafe04fb",
   "metadata": {},
   "outputs": [
    {
     "data": {
      "text/plain": [
       "25"
      ]
     },
     "execution_count": 283,
     "metadata": {},
     "output_type": "execute_result"
    }
   ],
   "source": [
    "class IllegalArgumentsError(ValueError):\n",
    "    pass\n",
    "\n",
    "def APPLY(proc: Procedure, args: List[Any], π:Environment) -> Any:\n",
    "    if len(proc.code['parameters']) != len(args):\n",
    "        raise IllegalArgumentsError(\n",
    "            f\"Wrong number of arguments passed to procedure {proc_str}\")\n",
    "    evaled_args = [EVAL(arg, π) for arg in args]\n",
    "    E1 = Environment(lambda: None, π)\n",
    "    for k, v in zip(proc.code['parameters'], evaled_args):\n",
    "        setattr(E1.ϕ, k, v)\n",
    "    result = proc.code['body'](E1)\n",
    "    return result\n",
    "    \n",
    "APPLY(ΓΠ.square, [5], ΓΠ)"
   ]
  },
  {
   "cell_type": "markdown",
   "id": "9cf13206-d8d2-4f05-91f4-67efcee6dc99",
   "metadata": {},
   "source": [
    "## DEFINE"
   ]
  },
  {
   "cell_type": "markdown",
   "id": "df57b592-2563-476e-987e-3ca7f780953d",
   "metadata": {},
   "source": [
    "Package up the \"defining\" boilerplate."
   ]
  },
  {
   "cell_type": "code",
   "execution_count": 284,
   "id": "2f7313b3-271a-4073-b4a0-7f17290bcf71",
   "metadata": {},
   "outputs": [
    {
     "data": {
      "text/plain": [
       "42"
      ]
     },
     "execution_count": 284,
     "metadata": {},
     "output_type": "execute_result"
    }
   ],
   "source": [
    "def DEFINE(sym: str, val: Any, π: Environment) -> None:\n",
    "    \"\"\"official Scheme\"\"\"\n",
    "    setattr(π.ϕ, sym, val)\n",
    "def DEFINE_PROC(sym: str, \n",
    "                parameters: List[str], \n",
    "                body: FunctionType, \n",
    "                π: Environment) -> None:\n",
    "    \"\"\"unofficial convenience (alternative syntax in Scheme)\"\"\"\n",
    "    DEFINE(\n",
    "        sym,\n",
    "        Procedure(\n",
    "            {\"body\": body, \"parameters\": parameters}, \n",
    "            π),\n",
    "        π)\n",
    "    \n",
    "DEFINE_PROC('saxpy', ['a', 'x', 'y'],\n",
    "            lambda π: π.a * π.x + π.y, \n",
    "            ΓΠ)  # ugly, i know; sorry :(\n",
    "\n",
    "APPLY(ΓΠ.saxpy, [4, 10, 2], ΓΠ)"
   ]
  },
  {
   "cell_type": "markdown",
   "id": "a1f2597c-cefd-42f4-af81-9e39c8895099",
   "metadata": {},
   "source": [
    "SICP 3.2.2"
   ]
  },
  {
   "cell_type": "code",
   "execution_count": 285,
   "id": "8cfcb5e3-3d96-4377-9957-f625e1081331",
   "metadata": {},
   "outputs": [
    {
     "data": {
      "text/plain": [
       "136"
      ]
     },
     "execution_count": 285,
     "metadata": {},
     "output_type": "execute_result"
    }
   ],
   "source": [
    "DEFINE_PROC('square', ['x'], \n",
    "            lambda π: π.x * π.x, \n",
    "            ΓΠ)\n",
    "\n",
    "DEFINE_PROC('sum_of_squares', ['x', 'y'],\n",
    "           lambda π: \\\n",
    "            APPLY(π.square, [π.x], π) + \\\n",
    "            APPLY(π.square, [π.y], π),\n",
    "           ΓΠ)\n",
    "\n",
    "DEFINE_PROC('f', ['a'],\n",
    "           lambda π: \\\n",
    "            APPLY(π.sum_of_squares, \n",
    "                  [1 + π.a, 2 * π.a], π), \n",
    "                  ΓΠ)\n",
    "\n",
    "APPLY(ΓΠ.f, [5], ΓΠ)"
   ]
  },
  {
   "cell_type": "markdown",
   "id": "d50b10d3-f1a4-40e7-a9cd-3550b53095a5",
   "metadata": {},
   "source": [
    "# Junkyard"
   ]
  },
  {
   "cell_type": "markdown",
   "id": "05b5ae06-0e80-4e67-ad5a-1c61a65bbdfc",
   "metadata": {},
   "source": [
    "Everything below this line best ignored. It is saved for later but discarded for now."
   ]
  },
  {
   "cell_type": "markdown",
   "id": "5682e005-311c-4671-a069-41b18f32396d",
   "metadata": {},
   "source": [
    "# LET_STAR"
   ]
  },
  {
   "cell_type": "markdown",
   "id": "ecbc2a68-2057-4dac-bd53-d7860622ac65",
   "metadata": {},
   "source": [
    "Install bindings in a given environment, possibly destroying prior bindings with the same variable names. Return a function that expects to be called with that environment."
   ]
  },
  {
   "cell_type": "code",
   "execution_count": 79,
   "id": "c317eaca-9272-4c06-9ec3-5ab32f689ba3",
   "metadata": {},
   "outputs": [
    {
     "name": "stdout",
     "output_type": "stream",
     "text": [
      "0.2975551580202743\n",
      "0.2975551580202743\n"
     ]
    },
    {
     "ename": "AttributeError",
     "evalue": "'function' object has no attribute 'a'",
     "output_type": "error",
     "traceback": [
      "\u001b[0;31m---------------------------------------------------------------------------\u001b[0m",
      "\u001b[0;31mAttributeError\u001b[0m                            Traceback (most recent call last)",
      "Input \u001b[0;32mIn [79]\u001b[0m, in \u001b[0;36m<cell line: 29>\u001b[0;34m()\u001b[0m\n\u001b[1;32m     27\u001b[0m _ge \u001b[38;5;241m=\u001b[39m \u001b[38;5;28;01mlambda\u001b[39;00m: \u001b[38;5;28;01mNone\u001b[39;00m\n\u001b[1;32m     28\u001b[0m \u001b[38;5;28msetattr\u001b[39m(_ge, \u001b[38;5;124m'\u001b[39m\u001b[38;5;124mz\u001b[39m\u001b[38;5;124m'\u001b[39m, \u001b[38;5;241m43\u001b[39m)\n\u001b[1;32m     29\u001b[0m pprint(LET_STAR([\u001b[38;5;124m'\u001b[39m\u001b[38;5;124my\u001b[39m\u001b[38;5;124m'\u001b[39m, \u001b[38;5;241m6\u001b[39m, \u001b[38;5;124m'\u001b[39m\u001b[38;5;124ma\u001b[39m\u001b[38;5;124m'\u001b[39m, \u001b[38;5;28;01mlambda\u001b[39;00m e: e\u001b[38;5;241m.\u001b[39my \u001b[38;5;241m*\u001b[39m e\u001b[38;5;241m.\u001b[39my \u001b[38;5;241m-\u001b[39m \u001b[38;5;241m7\u001b[39m],\n\u001b[0;32m---> 30\u001b[0m                 \u001b[43mLET_STAR\u001b[49m\u001b[43m(\u001b[49m\u001b[43m[\u001b[49m\u001b[38;5;124;43m'\u001b[39;49m\u001b[38;5;124;43mw\u001b[39;49m\u001b[38;5;124;43m'\u001b[39;49m\u001b[43m,\u001b[49m\u001b[43m \u001b[49m\u001b[38;5;28;43;01mlambda\u001b[39;49;00m\u001b[43m \u001b[49m\u001b[43me\u001b[49m\u001b[43m:\u001b[49m\u001b[43m \u001b[49m\u001b[43me\u001b[49m\u001b[38;5;241;43m.\u001b[39;49m\u001b[43ma\u001b[49m\u001b[43m \u001b[49m\u001b[38;5;241;43m-\u001b[39;49m\u001b[43m \u001b[49m\u001b[38;5;241;43m10\u001b[39;49m\u001b[43m,\u001b[49m\u001b[43m \u001b[49m\u001b[38;5;124;43m'\u001b[39;49m\u001b[38;5;124;43mx\u001b[39;49m\u001b[38;5;124;43m'\u001b[39;49m\u001b[43m,\u001b[49m\u001b[43m \u001b[49m\u001b[38;5;241;43m17\u001b[39;49m\u001b[43m]\u001b[49m\u001b[43m,\u001b[49m\n\u001b[1;32m     31\u001b[0m \u001b[43m                         \u001b[49m\u001b[38;5;28;43;01mlambda\u001b[39;49;00m\u001b[43m \u001b[49m\u001b[43me\u001b[49m\u001b[43m:\u001b[49m\u001b[43m \u001b[49m\u001b[43m(\u001b[49m\u001b[43me\u001b[49m\u001b[38;5;241;43m.\u001b[39;49m\u001b[43ma\u001b[49m\u001b[43m \u001b[49m\u001b[38;5;241;43m*\u001b[39;49m\u001b[43m \u001b[49m\u001b[43me\u001b[49m\u001b[38;5;241;43m.\u001b[39;49m\u001b[43mx\u001b[49m\u001b[43m \u001b[49m\u001b[38;5;241;43m+\u001b[39;49m\u001b[43m \u001b[49m\u001b[43me\u001b[49m\u001b[38;5;241;43m.\u001b[39;49m\u001b[43my\u001b[49m\u001b[43m)\u001b[49m\u001b[43m \u001b[49m\u001b[38;5;241;43m/\u001b[39;49m\u001b[43m \u001b[49m\u001b[43m(\u001b[49m\u001b[43me\u001b[49m\u001b[38;5;241;43m.\u001b[39;49m\u001b[43mw\u001b[49m\u001b[43m \u001b[49m\u001b[38;5;241;43m*\u001b[39;49m\u001b[43m \u001b[49m\u001b[43me\u001b[49m\u001b[38;5;241;43m.\u001b[39;49m\u001b[43mz\u001b[49m\u001b[43m)\u001b[49m\u001b[43m,\u001b[49m\n\u001b[1;32m     32\u001b[0m \u001b[43m                         \u001b[49m\u001b[43m_ge\u001b[49m\u001b[43m)\u001b[49m,\n\u001b[1;32m     33\u001b[0m                 _ge)(_ge))\n",
      "Input \u001b[0;32mIn [79]\u001b[0m, in \u001b[0;36mLET_STAR\u001b[0;34m(bindings, fn, e)\u001b[0m\n\u001b[1;32m      9\u001b[0m k, v \u001b[38;5;241m=\u001b[39m bindings[:\u001b[38;5;241m2\u001b[39m]\n\u001b[1;32m     10\u001b[0m \u001b[38;5;28;01mif\u001b[39;00m \u001b[38;5;28misinstance\u001b[39m(v, Callable):\n\u001b[0;32m---> 11\u001b[0m     v \u001b[38;5;241m=\u001b[39m \u001b[43mv\u001b[49m\u001b[43m(\u001b[49m\u001b[43me\u001b[49m\u001b[43m)\u001b[49m\n\u001b[1;32m     12\u001b[0m \u001b[38;5;28msetattr\u001b[39m(e, k, v)\n\u001b[1;32m     13\u001b[0m result \u001b[38;5;241m=\u001b[39m LET_STAR(bindings[\u001b[38;5;241m2\u001b[39m:], fn, e)\n",
      "Input \u001b[0;32mIn [79]\u001b[0m, in \u001b[0;36m<lambda>\u001b[0;34m(e)\u001b[0m\n\u001b[1;32m     27\u001b[0m _ge \u001b[38;5;241m=\u001b[39m \u001b[38;5;28;01mlambda\u001b[39;00m: \u001b[38;5;28;01mNone\u001b[39;00m\n\u001b[1;32m     28\u001b[0m \u001b[38;5;28msetattr\u001b[39m(_ge, \u001b[38;5;124m'\u001b[39m\u001b[38;5;124mz\u001b[39m\u001b[38;5;124m'\u001b[39m, \u001b[38;5;241m43\u001b[39m)\n\u001b[1;32m     29\u001b[0m pprint(LET_STAR([\u001b[38;5;124m'\u001b[39m\u001b[38;5;124my\u001b[39m\u001b[38;5;124m'\u001b[39m, \u001b[38;5;241m6\u001b[39m, \u001b[38;5;124m'\u001b[39m\u001b[38;5;124ma\u001b[39m\u001b[38;5;124m'\u001b[39m, \u001b[38;5;28;01mlambda\u001b[39;00m e: e\u001b[38;5;241m.\u001b[39my \u001b[38;5;241m*\u001b[39m e\u001b[38;5;241m.\u001b[39my \u001b[38;5;241m-\u001b[39m \u001b[38;5;241m7\u001b[39m],\n\u001b[0;32m---> 30\u001b[0m                 LET_STAR([\u001b[38;5;124m'\u001b[39m\u001b[38;5;124mw\u001b[39m\u001b[38;5;124m'\u001b[39m, \u001b[38;5;28;01mlambda\u001b[39;00m e: \u001b[43me\u001b[49m\u001b[38;5;241;43m.\u001b[39;49m\u001b[43ma\u001b[49m \u001b[38;5;241m-\u001b[39m \u001b[38;5;241m10\u001b[39m, \u001b[38;5;124m'\u001b[39m\u001b[38;5;124mx\u001b[39m\u001b[38;5;124m'\u001b[39m, \u001b[38;5;241m17\u001b[39m],\n\u001b[1;32m     31\u001b[0m                          \u001b[38;5;28;01mlambda\u001b[39;00m e: (e\u001b[38;5;241m.\u001b[39ma \u001b[38;5;241m*\u001b[39m e\u001b[38;5;241m.\u001b[39mx \u001b[38;5;241m+\u001b[39m e\u001b[38;5;241m.\u001b[39my) \u001b[38;5;241m/\u001b[39m (e\u001b[38;5;241m.\u001b[39mw \u001b[38;5;241m*\u001b[39m e\u001b[38;5;241m.\u001b[39mz),\n\u001b[1;32m     32\u001b[0m                          _ge),\n\u001b[1;32m     33\u001b[0m                 _ge)(_ge))\n",
      "\u001b[0;31mAttributeError\u001b[0m: 'function' object has no attribute 'a'"
     ]
    }
   ],
   "source": [
    "from typing import Sequence, Callable, Any, Union, List, Tuple\n",
    "from pprint import pprint\n",
    "class IllegalArgumentError(ValueError):\n",
    "    pass\n",
    "def LET_STAR(bindings: Union[List, Tuple], fn, e):\n",
    "    if len(bindings) == 0:\n",
    "        result = fn\n",
    "    else:\n",
    "        k, v = bindings[:2]\n",
    "        if isinstance(v, Callable):\n",
    "            v = v(e)\n",
    "        setattr(e, k, v)\n",
    "        result = LET_STAR(bindings[2:], fn, e)\n",
    "    return result\n",
    "_ge = lambda: None\n",
    "setattr(_ge, 'z', 43)\n",
    "pprint(LET_STAR(['y', 6, 'a', 29, 'w', 39, 'x', 17],\n",
    "                lambda e: (e.a * e.x + e.y) / (e.w * e.z),\n",
    "                _ge)(_ge))\n",
    "_ge = lambda: None\n",
    "setattr(_ge, 'z', 43)\n",
    "pprint(LET_STAR(['y', 6, 'a', 29],\n",
    "                LET_STAR(['w', 39, 'x', 17],\n",
    "                         lambda e: (e.a * e.x + e.y) / (e.w * e.z),\n",
    "                         _ge),\n",
    "                _ge)(_ge))\n",
    "_ge = lambda: None\n",
    "setattr(_ge, 'z', 43)\n",
    "pprint(LET_STAR(['y', 6, 'a', lambda e: e.y * e.y - 7],\n",
    "                LET_STAR(['w', lambda e: e.a - 10, 'x', 17],\n",
    "                         lambda e: (e.a * e.x + e.y) / (e.w * e.z),\n",
    "                         _ge),\n",
    "                _ge)(_ge))"
   ]
  },
  {
   "cell_type": "markdown",
   "id": "bf4053f6-fbdf-41c1-aae8-2b64230ae5d3",
   "metadata": {},
   "source": [
    "# BLOCK"
   ]
  },
  {
   "cell_type": "code",
   "execution_count": 75,
   "id": "94ed7571-b3a3-4a28-ace2-936225d66f48",
   "metadata": {},
   "outputs": [
    {
     "data": {
      "text/plain": [
       "42"
      ]
     },
     "execution_count": 75,
     "metadata": {},
     "output_type": "execute_result"
    }
   ],
   "source": [
    "from typing import Sequence, Callable, Any, Union, List, Tuple\n",
    "from pprint import pprint\n",
    "class IllegalArgumentError(ValueError):\n",
    "    pass\n",
    "def BLOCK(stmts: Union[List[Callable], Tuple[Callable]], \n",
    "          e=lambda: None):\n",
    "    \"\"\"\n",
    "    ex: LET_STAR(['x', 0],\n",
    "             BLOCK([lambda e: setattr(e, 'x', 6), lambda e: e.x * (e.x + 1)]))\n",
    "    gives: 42\n",
    "    \"\"\"\n",
    "    if len(stmts) < 1:\n",
    "        raise IllegalArgumentError(\"A BLOCK must have at least one statement.\")\n",
    "\n",
    "    results = [stmt(e) for stmt in stmts]\n",
    "    return lambda e: results[-1]\n",
    "BLOCK([lambda e: setattr(e, 'x', 6), lambda e: e.x * (e.x + 1)])(lambda: None)"
   ]
  },
  {
   "cell_type": "markdown",
   "id": "11a0374b-22d2-453b-9647-ea20b4b2d64e",
   "metadata": {},
   "source": [
    "The first schemulation is `LET*`, an expression that \"defines\" local variables by binding their values to parameters of nested $\\lambda$ expressions. Later variables may refer to earlier ones in the nesting. "
   ]
  },
  {
   "cell_type": "markdown",
   "id": "d0e1e2e1-35c4-4279-bbbd-9b3ae4e75bbd",
   "metadata": {},
   "source": [
    "We want to write a function that wraps $\\lambda$ expressions in other $\\lambda$ expressions. The desired effect is for"
   ]
  },
  {
   "cell_type": "markdown",
   "id": "fa38e50b-50ae-4cd1-8115-cd6778754fef",
   "metadata": {},
   "source": [
    "`LET_STAR(['y', 6, 'a', 29], lambda w: lambda x: (a * x + y) / (w * z))`"
   ]
  },
  {
   "cell_type": "markdown",
   "id": "bb166a92-95f2-4d0c-a0e0-a00e8dffa969",
   "metadata": {},
   "source": [
    "to produce"
   ]
  },
  {
   "cell_type": "markdown",
   "id": "e28ee42d-ac71-48e9-92f4-a80f9ca9bd28",
   "metadata": {},
   "source": [
    "`(lambda y: (lambda a: lambda w: lambda x: (a * x + y) / (w * z))(29))(6)`"
   ]
  },
  {
   "cell_type": "markdown",
   "id": "63d25f26-1ccc-42ec-ae82-0fa4b4c6e2f2",
   "metadata": {},
   "source": [
    "We consider two implementation strategies. Neither is great, so we accept a compromise. "
   ]
  },
  {
   "cell_type": "markdown",
   "id": "d0613246-a4aa-49e5-b6fe-60ae8b9c8140",
   "metadata": {},
   "source": [
    "## Explicit Environments"
   ]
  },
  {
   "cell_type": "markdown",
   "id": "2e42a6ec-8d80-4907-873d-6918a2b8caf2",
   "metadata": {},
   "source": [
    "[divs1210](https://gist.github.com/divs1210/d218d4b747b08751b2a232260321cdeb) presents a method for composing $\\lambda$s by inserting bindings via `setattr` into an explicit `env` $\\lambda$. Every function must have an explicit `env` parameter. The method invites an explicit simulation of Scheme's _frames and environments_ from [SICP 3.2](https://sarabander.github.io/sicp/html/3_002e2.xhtml#g_t3_002e2). The required depth of this simulation is not clear."
   ]
  },
  {
   "cell_type": "markdown",
   "id": "39c4fadf-5f53-46ab-a835-32d861702d93",
   "metadata": {},
   "source": [
    "We pursued this method at some length in [another development](#frames-and-environments) and found it oppressive. Because Python already has an adequate, if idiosyncratic, environment model (see [Bound and Free Variables](#bound-and-free) above), we choose that alternative, with its downsides."
   ]
  },
  {
   "cell_type": "markdown",
   "id": "a2abd5e1-f7c5-416f-affa-fbe973f6a3aa",
   "metadata": {},
   "source": [
    "## Pythonic Environments"
   ]
  },
  {
   "cell_type": "markdown",
   "id": "cc6c7ed8-0654-4f99-92a7-ec4472745bc6",
   "metadata": {},
   "source": [
    "We find that the best, though compromised, alternative is to operate on strings:"
   ]
  },
  {
   "cell_type": "markdown",
   "id": "def0874f-9c15-46c6-8446-c9fca8fda779",
   "metadata": {},
   "source": [
    "`eval(LET_STAR(['y', 6, 'a', 29], 'lambda w: lambda x: (a * x + y) / (w * z)'))`"
   ]
  },
  {
   "cell_type": "markdown",
   "id": "c66f60d2-3f8b-43bc-bbbd-fafe33e3229a",
   "metadata": {},
   "source": [
    "This strategy is similar to macros in Lisp, just using strings instead of the AST. We might pursue the AST route in another development (see [macropy](https://github.com/lihaoyi/macropy), but we go with this compromise for now. "
   ]
  },
  {
   "cell_type": "markdown",
   "id": "0423427c-8da5-41d7-9494-239166f58543",
   "metadata": {},
   "source": [
    "We arrived at the compromise after examining altenatives via `inspect` and `eval` inside the implementation of `LET_STAR`. Nothing was easy. Skip the following section if you don't care why not."
   ]
  },
  {
   "cell_type": "markdown",
   "id": "c81eb451-b1aa-4d06-8e90-4c6871b16a1d",
   "metadata": {},
   "source": [
    "### Eliminating Alternatives"
   ]
  },
  {
   "cell_type": "markdown",
   "id": "793144bc-b81b-4f99-8101-c0bab32dc9f9",
   "metadata": {},
   "source": [
    "Whereas the notebook's `??` operator recovers the source for a $\\lambda$ expression at top level:"
   ]
  },
  {
   "cell_type": "code",
   "execution_count": 25,
   "id": "a17dbcb5-cb3b-4498-8977-cbb507050825",
   "metadata": {},
   "outputs": [
    {
     "name": "stdout",
     "output_type": "stream",
     "text": [
      "Object `lambda w: lambda x: (a * x + y) / (w * z)` not found.\n"
     ]
    }
   ],
   "source": [
    "??lambda w: lambda x: (a * x + y) / (w * z)"
   ]
  },
  {
   "cell_type": "markdown",
   "id": "6e438454-691a-4508-a9f1-5014564df3cf",
   "metadata": {},
   "source": [
    "it's not so easy to do when the $\\lambda$ is a function argument"
   ]
  },
  {
   "cell_type": "code",
   "execution_count": 26,
   "id": "1e4a6555-dc2c-4a60-a48d-06cc122b7994",
   "metadata": {},
   "outputs": [
    {
     "ename": "SyntaxError",
     "evalue": "invalid syntax (3649393497.py, line 2)",
     "output_type": "error",
     "traceback": [
      "\u001b[0;36m  Input \u001b[0;32mIn [26]\u001b[0;36m\u001b[0m\n\u001b[0;31m    return ??fn\u001b[0m\n\u001b[0m           ^\u001b[0m\n\u001b[0;31mSyntaxError\u001b[0m\u001b[0;31m:\u001b[0m invalid syntax\n"
     ]
    }
   ],
   "source": [
    "def foo(fn: FunctionType):\n",
    "    return ??fn"
   ]
  },
  {
   "cell_type": "markdown",
   "id": "c7f2f5c3-01d3-4ecf-afbe-1c9a7981e830",
   "metadata": {},
   "source": [
    "The standard `inspect` module is no help, as it seems to chase definitions outward:"
   ]
  },
  {
   "cell_type": "code",
   "execution_count": 28,
   "id": "3c7b7873-4495-4b26-a04b-47bc04a618b0",
   "metadata": {},
   "outputs": [
    {
     "name": "stdout",
     "output_type": "stream",
     "text": [
      "foo(Any, lambda w: lambda x: (a * x + y) / (w * z))\n",
      "\n"
     ]
    }
   ],
   "source": [
    "import inspect\n",
    "from typing import Any\n",
    "def foo(noise_argument, fn: FunctionType):\n",
    "    print(inspect.getsource(fn))\n",
    "foo(Any, lambda w: lambda x: (a * x + y) / (w * z))"
   ]
  },
  {
   "cell_type": "markdown",
   "id": "538045cd-f012-457f-ab31-bc436628acb0",
   "metadata": {},
   "source": [
    "Worse, `eval`, anywhere in the function body, seems to percolate inward, prematurely evaluating the `fn` argument, making it impossible to compose functions. We elide the investigatory notes and invite the reader to refute us."
   ]
  },
  {
   "cell_type": "markdown",
   "id": "37dda290-b90a-4fb8-aef5-7d9fdf738cef",
   "metadata": {},
   "source": [
    "## Implementation"
   ]
  },
  {
   "cell_type": "markdown",
   "id": "662f66ae-a961-4061-be59-7160c971b91a",
   "metadata": {},
   "source": []
  },
  {
   "cell_type": "code",
   "execution_count": 39,
   "id": "a965057f-c3a3-407f-9cb9-16c2f89b547f",
   "metadata": {},
   "outputs": [
    {
     "data": {
      "text/plain": [
       "0.2975551580202743"
      ]
     },
     "execution_count": 39,
     "metadata": {},
     "output_type": "execute_result"
    }
   ],
   "source": [
    "from typing import List, Sequence, Callable, Any\n",
    "class IllegalArgumentError(ValueError):\n",
    "    pass\n",
    "def LET_STAR(bindings: Sequence, fn: str) -> str:\n",
    "    if len(bindings) % 2 == 1:\n",
    "        raise IllegalArgumentError(\"Bindings must have k, v pairs.\")\n",
    "    if not isinstance(fn, str):\n",
    "        raise IllegalArgumentError(\"fn must be a string containing a λ expression.\")\n",
    "\n",
    "    if len(bindings) == 0:\n",
    "        result = fn\n",
    "    else:\n",
    "        k, v = bindings[:2]\n",
    "        result = f'(lambda {k}: {LET_STAR(bindings[2:], fn)})({v})'\n",
    "    \n",
    "    return result\n",
    "eval(LET_STAR(['y', 6, 'a', 29], 'lambda w: lambda x: (a * x + y) / (w * z)'))(39)(17)"
   ]
  },
  {
   "cell_type": "markdown",
   "id": "3978475c-4f72-4b79-ba8c-c117360899e8",
   "metadata": {},
   "source": [
    "# COND"
   ]
  },
  {
   "cell_type": "code",
   "execution_count": 42,
   "id": "efb8d386-cdc7-4b9d-9e81-aede710829c2",
   "metadata": {},
   "outputs": [],
   "source": [
    "from typing import Union\n",
    "def COND(clauses, fn: Callable) -> str:\n",
    "    if len(clauses) %2 == 1:\n",
    "        raise IllegalArgumentError(\"Clauses must be pred, fn pairs\")\n",
    "    pass"
   ]
  },
  {
   "cell_type": "markdown",
   "id": "e23a5592-81d0-4c7a-a191-66007d481740",
   "metadata": {},
   "source": [
    "## Frames and Environments<a id=\"frames-and-environments\"></a>"
   ]
  },
  {
   "cell_type": "markdown",
   "id": "f8effc9f-29f9-41ad-853d-cdaef5749363",
   "metadata": {},
   "source": [
    "See [SICP 3.2](https://sarabander.github.io/sicp/html/3_002e2.xhtml#g_t3_002e2) for Scheme's documentation on frames and environments."
   ]
  },
  {
   "cell_type": "markdown",
   "id": "b1dddaa0-5753-49e8-9ec4-255f1d2db4da",
   "metadata": {},
   "source": [
    "A ***frame*** is a lookup table -- a mathematical function -- from symbols to values. A symbol may appear no more than once in a frame. Symbols and values are not defined yet. Take them as primitive notions for now with their intuitive meanings."
   ]
  },
  {
   "cell_type": "markdown",
   "id": "39ad6869-1aab-4125-892e-16bac6cd3a2c",
   "metadata": {},
   "source": [
    "An element of a frame is a ***key-value pair***, also called a ***binding*** of the symbol. The term \"_binding_\" also pertains to the value of a parameter in a context where it represents a bound variable -- a function parameter that has an actual argument as a value. Don't conflate these two meanings of \"_binding_.\""
   ]
  },
  {
   "cell_type": "markdown",
   "id": "3320396c-db3e-42a4-a4e7-8d088a007ee9",
   "metadata": {},
   "source": [
    "Logically, a frame is a Python dictionary, and that's a good model for it because we shall have to test for existence and values of keys. We considered attributes of lambdas, but they're difficult to chain."
   ]
  },
  {
   "cell_type": "markdown",
   "id": "5fca00d6-2f1c-45ca-98a2-c5a724fe2ba8",
   "metadata": {},
   "source": [
    "An ***environment*** is a sequence of frames. If a symbol appears in more than one frame in an environment, the symbol in the earlier frame ***shadows*** the symbol in a later frame. This structure supports ***lexical binding***."
   ]
  },
  {
   "cell_type": "markdown",
   "id": "f0aee59e-84ed-45be-837a-41073fbbda33",
   "metadata": {},
   "source": [
    "## Variable Bindings as Object Attributes"
   ]
  },
  {
   "cell_type": "markdown",
   "id": "2edadb6a-5f3b-4a07-93d8-8c979d7b43e4",
   "metadata": {},
   "source": [
    "Python's built-in `setattr` gives us a pleasing notation for variable bindings as attributes of $\\lambda$ expressions. Consider:"
   ]
  },
  {
   "cell_type": "code",
   "execution_count": 174,
   "id": "7406e01c-2534-4cbd-8000-22882db70636",
   "metadata": {},
   "outputs": [
    {
     "data": {
      "text/plain": [
       "42"
      ]
     },
     "execution_count": 174,
     "metadata": {},
     "output_type": "execute_result"
    }
   ],
   "source": [
    "import types\n",
    "\n",
    "def obj_attribute():\n",
    "    obj = lambda: None  # <~~~ We want lambdas, lots of them!\n",
    "    if isinstance(obj, types.FunctionType):\n",
    "        setattr(obj, 'foo', 42)\n",
    "    return obj.foo  # <~~~ pretty\n",
    "obj_attribute()"
   ]
  },
  {
   "cell_type": "markdown",
   "id": "b5f737fa-d2e2-445b-9731-103c69893232",
   "metadata": {},
   "source": [
    "versus"
   ]
  },
  {
   "cell_type": "code",
   "execution_count": 175,
   "id": "0a728938-0502-40f0-9de1-03a697e00121",
   "metadata": {},
   "outputs": [
    {
     "data": {
      "text/plain": [
       "42"
      ]
     },
     "execution_count": 175,
     "metadata": {},
     "output_type": "execute_result"
    }
   ],
   "source": [
    "def dict_attribute():\n",
    "    dict = {}\n",
    "    dict['foo'] = 42\n",
    "    return dict['foo']  # <~~~ ugly\n",
    "dict_attribute()"
   ]
  },
  {
   "cell_type": "markdown",
   "id": "730f6e6f-5fcf-480b-8624-6f6fb4ff792d",
   "metadata": {},
   "source": [
    "Because we work mostly with $\\lambda$ expressions, we choose `obj_attribute` as a pattern, as suggested by [divs1210](https://gist.github.com/divs1210/d218d4b747b08751b2a232260321cdeb) for this idea. However, environments are sequences of frames, and we can't easily design a `LOOKUP` function that takes a symbol as a parameter and finds its binding in a sequence of frames. `frame.x` is a beautiful notation, but it doesn't extend to `env.x`."
   ]
  },
  {
   "cell_type": "markdown",
   "id": "a6482265-922d-402c-a5f8-9b0addc7dd27",
   "metadata": {},
   "source": [
    "# Global Environment"
   ]
  },
  {
   "cell_type": "markdown",
   "id": "fb09ce7e-cf7e-49ab-8136-5b940238f2f7",
   "metadata": {},
   "source": [
    "## SICP 1.1.2: Naming and the Environment"
   ]
  },
  {
   "cell_type": "markdown",
   "id": "0fa8bdb3-5512-4fb0-a16f-35d219cea579",
   "metadata": {},
   "source": [
    "The first step in representing Python in applicative-order $\\lambda$ calculus is to have a global environment in which to install global names."
   ]
  },
  {
   "cell_type": "code",
   "execution_count": 176,
   "id": "ec909d9e-1094-40a2-9448-4d761179e6a0",
   "metadata": {},
   "outputs": [],
   "source": [
    "from collections import deque\n",
    "G_FRM = {}  # would prefer lambda: None but it doesn't chain.\n",
    "G_ENV = deque([G_FRM])  # for efficient appendleft"
   ]
  },
  {
   "cell_type": "markdown",
   "id": "189a471c-bff9-468c-ae31-475cf5b6e5a6",
   "metadata": {},
   "source": [
    "## DEFINE: SICP 3.2.1"
   ]
  },
  {
   "cell_type": "markdown",
   "id": "aa9520af-b7bf-4962-95c2-3cfa0f24c05c",
   "metadata": {},
   "source": [
    "Quoting:"
   ]
  },
  {
   "cell_type": "markdown",
   "id": "73ca6b78-c30a-461a-a9ab-a077ebee53d8",
   "metadata": {},
   "source": [
    "> In the environment model of evaluation, a procedure is always a pair consisting of some code and a pointer to an environment. Procedures are created in one way only: by evaluating a λ-expression. This produces a procedure whose code is obtained from the text of the λ-expression and whose environment is the environment in which the λ-expression was evaluated to produce the procedure."
   ]
  },
  {
   "cell_type": "markdown",
   "id": "17c9f8d5-3fc3-408b-bbec-7b09e638dace",
   "metadata": {},
   "source": [
    "Rather than implicit ambient environments, we make them explicit with the following convention:"
   ]
  },
  {
   "cell_type": "markdown",
   "id": "51396206-3273-448d-ad78-f85e887f47d6",
   "metadata": {},
   "source": [
    "> Every $\\lambda$ expression in the schemulator has an explicit environment (list of frames) in its last parameter slot. The environment defaults to the global environment"
   ]
  },
  {
   "cell_type": "markdown",
   "id": "739da49c-d20f-471b-9df7-2fa0680a8baa",
   "metadata": {},
   "source": [
    "Pursuing the example in SICP 3.2.1, consider the procedure definition"
   ]
  },
  {
   "cell_type": "markdown",
   "id": "de090e27-7357-4efc-8f1b-91099faecc8b",
   "metadata": {},
   "source": [
    "```\n",
    "(define (square x)\n",
    "  (* x x))\n",
    "```"
   ]
  },
  {
   "cell_type": "code",
   "execution_count": 178,
   "id": "611b1481-8162-47d8-9b9c-3ab4c1a389d2",
   "metadata": {},
   "outputs": [],
   "source": [
    "from typing import Deque, Any, Union\n",
    "from types import FunctionType\n",
    "from copy import deepcopy\n",
    "ENV = List[FunctionType]"
   ]
  },
  {
   "cell_type": "code",
   "execution_count": 165,
   "id": "12f465b6-c26c-4a0d-90f2-f879f211535b",
   "metadata": {},
   "outputs": [],
   "source": [
    "def DEFINE(sym: str, \n",
    "           params: Union[None, List[str]],\n",
    "           val: Any, \n",
    "           env: ENV) -> ENV:\n",
    "    \"\"\"Deposit definition in frame 0 of the env. Works for \n",
    "    local and global envs. Make new frame when defining \n",
    "    functions. If defining a function, params must be a list,\n",
    "    even an empty one. If defining a symbol ...\n",
    "    Raise exception on any error.\"\"\"\n",
    "\n",
    "    # If params are None, there is no new frame. If params\n",
    "    # are empty\n",
    "    if \n",
    "    params_frame = {}\n",
    "    for param in params:\n",
    "        params_frame[param] = None\n",
    "    \n",
    "    frame = env[0]\n",
    "    if sym in frame:  # overwrite old definition\n",
    "        old_env = frame[sym][1]\n",
    "        _ = old_env.popleft()\n",
    "        old_env.appendleft(new_frame)\n",
    "        \n",
    "    frame[sym] = val\n",
    "    return env"
   ]
  },
  {
   "cell_type": "code",
   "execution_count": 166,
   "id": "a6012350-ab70-422a-9a8f-3781dfd1ab39",
   "metadata": {},
   "outputs": [
    {
     "data": {
      "text/plain": [
       "deque([{'x': None},\n",
       "       {'x': None, 'square': <function __main__.<lambda>(env)>},\n",
       "       {'x': None, 'square': <function __main__.<lambda>(env)>},\n",
       "       {'x': None, 'square': <function __main__.<lambda>(env)>},\n",
       "       {'x': None, 'square': <function __main__.<lambda>(env)>},\n",
       "       {'square': <function __main__.<lambda>(env)>}])"
      ]
     },
     "execution_count": 166,
     "metadata": {},
     "output_type": "execute_result"
    }
   ],
   "source": [
    "DEFINE(\"square\",\n",
    "       [\"x\"],\n",
    "       lambda env: LOOKUP('x', env) * LOOKUP(env, \"x\"),\n",
    "       G_ENV)"
   ]
  },
  {
   "cell_type": "code",
   "execution_count": 161,
   "id": "8ea64ee9-970e-47b1-92bf-e6fb33924b17",
   "metadata": {},
   "outputs": [],
   "source": [
    "def LOOKUP(env: ENV, sym: str) -> Any:\n",
    "    for frame in env:\n",
    "        if sym in frame:\n",
    "            return frame[sym]\n",
    "        else:\n",
    "            raise KeyNotFound(f\"{sym}\")"
   ]
  },
  {
   "cell_type": "code",
   "execution_count": 162,
   "id": "db3f82ba-89a7-45b3-9467-5c2f89649254",
   "metadata": {},
   "outputs": [
    {
     "ename": "TypeError",
     "evalue": "'int' object is not iterable",
     "output_type": "error",
     "traceback": [
      "\u001b[0;31m---------------------------------------------------------------------------\u001b[0m",
      "\u001b[0;31mTypeError\u001b[0m                                 Traceback (most recent call last)",
      "Input \u001b[0;32mIn [162]\u001b[0m, in \u001b[0;36m<cell line: 1>\u001b[0;34m()\u001b[0m\n\u001b[0;32m----> 1\u001b[0m \u001b[43mG_FRM\u001b[49m\u001b[43m[\u001b[49m\u001b[38;5;124;43m'\u001b[39;49m\u001b[38;5;124;43msquare\u001b[39;49m\u001b[38;5;124;43m'\u001b[39;49m\u001b[43m]\u001b[49m\u001b[43m(\u001b[49m\u001b[38;5;241;43m42\u001b[39;49m\u001b[43m)\u001b[49m\n",
      "Input \u001b[0;32mIn [160]\u001b[0m, in \u001b[0;36m<lambda>\u001b[0;34m(env)\u001b[0m\n\u001b[1;32m      1\u001b[0m DEFINE(\u001b[38;5;124m\"\u001b[39m\u001b[38;5;124msquare\u001b[39m\u001b[38;5;124m\"\u001b[39m,\n\u001b[1;32m      2\u001b[0m        [\u001b[38;5;124m\"\u001b[39m\u001b[38;5;124mx\u001b[39m\u001b[38;5;124m\"\u001b[39m],\n\u001b[0;32m----> 3\u001b[0m        \u001b[38;5;28;01mlambda\u001b[39;00m env: \u001b[43mLOOKUP\u001b[49m\u001b[43m(\u001b[49m\u001b[43menv\u001b[49m\u001b[43m,\u001b[49m\u001b[43m \u001b[49m\u001b[38;5;124;43m\"\u001b[39;49m\u001b[38;5;124;43mx\u001b[39;49m\u001b[38;5;124;43m\"\u001b[39;49m\u001b[43m)\u001b[49m \u001b[38;5;241m*\u001b[39m LOOKUP(env, \u001b[38;5;124m\"\u001b[39m\u001b[38;5;124mx\u001b[39m\u001b[38;5;124m\"\u001b[39m),\n\u001b[1;32m      4\u001b[0m        G_ENV)\n",
      "Input \u001b[0;32mIn [161]\u001b[0m, in \u001b[0;36mLOOKUP\u001b[0;34m(env, sym)\u001b[0m\n\u001b[1;32m      1\u001b[0m \u001b[38;5;28;01mdef\u001b[39;00m \u001b[38;5;21mLOOKUP\u001b[39m(env: ENV, sym: \u001b[38;5;28mstr\u001b[39m) \u001b[38;5;241m-\u001b[39m\u001b[38;5;241m>\u001b[39m Any:\n\u001b[0;32m----> 2\u001b[0m     \u001b[38;5;28;01mfor\u001b[39;00m frame \u001b[38;5;129;01min\u001b[39;00m env:\n\u001b[1;32m      3\u001b[0m         \u001b[38;5;28;01mif\u001b[39;00m sym \u001b[38;5;129;01min\u001b[39;00m frame:\n\u001b[1;32m      4\u001b[0m             \u001b[38;5;28;01mreturn\u001b[39;00m frame[sym]\n",
      "\u001b[0;31mTypeError\u001b[0m: 'int' object is not iterable"
     ]
    }
   ],
   "source": [
    "G_FRM['square'](42)"
   ]
  },
  {
   "cell_type": "markdown",
   "id": "9ba1f2a9-ccc3-44d1-b6e6-a8063a11acc3",
   "metadata": {},
   "source": [
    "From SICP 1.2.1, we can also define constants."
   ]
  },
  {
   "cell_type": "code",
   "execution_count": 114,
   "id": "d75cdd4a-b0eb-4c7a-b987-8e0824574a47",
   "metadata": {},
   "outputs": [],
   "source": [
    "DEFINE(\"size\",  # short alias for g_schemu_env\n",
    "      2, G_ENV)"
   ]
  },
  {
   "cell_type": "code",
   "execution_count": 115,
   "id": "ec8895db-9ce5-4409-89c2-9a9182ac13a1",
   "metadata": {},
   "outputs": [
    {
     "data": {
      "text/plain": [
       "4"
      ]
     },
     "execution_count": 115,
     "metadata": {},
     "output_type": "execute_result"
    }
   ],
   "source": [
    "G_FRM.square(G_FRM.size)"
   ]
  },
  {
   "cell_type": "markdown",
   "id": "65b71df8-5fef-47c8-9d82-84e62557c06a",
   "metadata": {},
   "source": [
    "## COND: SICP 1.1.6"
   ]
  },
  {
   "cell_type": "markdown",
   "id": "449100c3-2145-41d6-818e-48d43907cad6",
   "metadata": {},
   "source": [
    "Thanks again to [divs1210](https://gist.github.com/divs1210/d218d4b747b08751b2a232260321cdeb) for inspiration."
   ]
  },
  {
   "cell_type": "code",
   "execution_count": 116,
   "id": "ea38ed2d-a5ab-465c-aa2f-3d183a97ee28",
   "metadata": {},
   "outputs": [],
   "source": [
    "DEFINE(\"_else\", lambda env: True, G_ENV)\n",
    "\n",
    "def COND(pred_val_pairs, _else=lambda env: None, env=_ge) -> FunctionType: \n",
    "    \"\"\"Functional if-elif-...-else expression\n",
    "    ex: COND([lambda env: 1 == 0, lambda env: 'a',\n",
    "              lambda env: 2 == 0, lambda env: 'b',\n",
    "              lambda env: 3 == 0, lambda env: 'c')\n",
    "              _gf._else,          lambda env: 'd'])\n",
    "    gives: 'd'.\n",
    "    \"\"\"\n",
    "    if len(pred_val_pairs) == 0:\n",
    "        return _else(env)\n",
    "\n",
    "    pred, val = pred_val_pairs[:2]\n",
    "    if pred(env):\n",
    "        result = val(env)\n",
    "    else:\n",
    "        result = COND(pred_val_pairs[2:], _else, env)\n",
    "    return result"
   ]
  },
  {
   "cell_type": "code",
   "execution_count": 117,
   "id": "1856f776-34cc-4388-9ea1-a30f40e3ed68",
   "metadata": {},
   "outputs": [
    {
     "data": {
      "text/plain": [
       "'d'"
      ]
     },
     "execution_count": 117,
     "metadata": {},
     "output_type": "execute_result"
    }
   ],
   "source": [
    "COND([lambda env: 1 == 0, lambda env: 'a',\n",
    "      lambda env: 2 == 0, lambda env: 'b',\n",
    "      lambda env: 3 == 0, lambda env: 'c',\n",
    "      G_FRM._else,        lambda env: 'd'])"
   ]
  },
  {
   "cell_type": "markdown",
   "id": "6e88b73f-142b-449c-84a1-8d708af2b53f",
   "metadata": {},
   "source": [
    "Show that lambdas after the first True are not evaluated."
   ]
  },
  {
   "cell_type": "code",
   "execution_count": 118,
   "id": "0d3840be-98f5-445f-928a-318bf63b0174",
   "metadata": {},
   "outputs": [
    {
     "data": {
      "text/plain": [
       "'b'"
      ]
     },
     "execution_count": 118,
     "metadata": {},
     "output_type": "execute_result"
    }
   ],
   "source": [
    "COND([lambda env: 1 == 0, lambda env: 'a',\n",
    "      lambda env: 1 == 1, lambda env: 'b',\n",
    "      lambda env: 1 == 1, lambda env: 1 / 0])"
   ]
  },
  {
   "cell_type": "markdown",
   "id": "f619489f-3d6f-46c5-b984-584b9c98ce43",
   "metadata": {},
   "source": [
    "Example: `abs`. This is user-defined, so we won't put it in all caps."
   ]
  },
  {
   "cell_type": "code",
   "execution_count": null,
   "id": "ade11ab6-a7b1-453a-9cd1-21e39435bec9",
   "metadata": {},
   "outputs": [],
   "source": [
    "DEFINE(\"abs\",\n",
    "       COND([lambda env: env.x <  0, lambda env: - env.x,\n",
    "             lambda env: env.x == 0, lambda env: 0,\n",
    "             lambda env: env.x >  0, lambda env: env.x]))"
   ]
  },
  {
   "cell_type": "markdown",
   "id": "3d44e5f0-63ee-4497-85bd-d959764ef59b",
   "metadata": {},
   "source": [
    "# Expressions"
   ]
  },
  {
   "cell_type": "code",
   "execution_count": null,
   "id": "635e0069-51c9-41e0-936e-45e70da09ff3",
   "metadata": {},
   "outputs": [],
   "source": []
  }
 ],
 "metadata": {
  "jupytext": {
   "formats": "ipynb,md:myst"
  },
  "kernelspec": {
   "display_name": "Python 3 (ipykernel)",
   "language": "python",
   "name": "python3"
  },
  "language_info": {
   "codemirror_mode": {
    "name": "ipython",
    "version": 3
   },
   "file_extension": ".py",
   "mimetype": "text/x-python",
   "name": "python",
   "nbconvert_exporter": "python",
   "pygments_lexer": "ipython3",
   "version": "3.9.7"
  }
 },
 "nbformat": 4,
 "nbformat_minor": 5
}
