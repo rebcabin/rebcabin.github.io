{
 "cells": [
  {
   "cell_type": "markdown",
   "id": "3a76f68e-f22a-4278-b747-19b46d5f94ae",
   "metadata": {},
   "source": [
    "# Lambda, the Pynultimate Imperative"
   ]
  },
  {
   "cell_type": "markdown",
   "id": "510d45a6-8421-40ca-9be5-8127c1d18237",
   "metadata": {},
   "source": [
    "#### Brian Beckman\n",
    "#### 5 Nov 2022"
   ]
  },
  {
   "cell_type": "markdown",
   "id": "5a7aaedb-0423-4c26-9144-b1e230dd799a",
   "metadata": {},
   "source": [
    "# Introduction"
   ]
  },
  {
   "cell_type": "markdown",
   "id": "3441580e-c02a-4fa2-8f74-25d127464332",
   "metadata": {},
   "source": [
    "In a classic paper, [_Lambda, the Ultimate Imperative_](https://www.researchgate.net/publication/37596655_Lambda_The_Ultimate_Imperative), Steele and Sussman show how to model most imperative control structures with just _lambda_:"
   ]
  },
  {
   "cell_type": "markdown",
   "id": "732d965e-2640-468a-8dfa-4dc9690b5025",
   "metadata": {},
   "source": [
    "> We demonstrate how to model the following common programming constructs in terms of an applicative order language similar to LISP: Simple Recursion, Iteration, Compound Statements and Expressions, GO TO and Assignment, Continuation-Passing, Escape Expressions, Fluid Variables, Call by Name, Call by Need, and Call by Reference. The models require only (possibly self-referent) lambda application, conditionals, and (rarely) assignment. No complex data structures such as stacks are used. The models are transparent, involving only local syntactic transformations. This paper is partly tutorial in intent, gathering all the models together for purposes of context."
   ]
  },
  {
   "cell_type": "markdown",
   "id": "5671e4da-8bae-4d07-b787-d0fe038de6b6",
   "metadata": {},
   "source": [
    "It's useful to recapitulate this development in Python. Imagine compiling Python into an intermediate language in which the semantics, even those with side-effects, are laid bare as trees of lambda expressions. In such a representation, optimizations are \n",
    "1. easy to write as tree-to-tree transforms\n",
    "2. independent of syntactical details of the surface language, thus easy to share with other surface languages like Fortran, C, Java\n",
    "3. independent of back ends, thus easy to run in an interactive debugger; or to translate into LLVM, x86, ARM64, C, for execution; or to transpile into other surface languages"
   ]
  },
  {
   "cell_type": "markdown",
   "id": "d073480b-92a4-44fc-9a03-e52129093751",
   "metadata": {},
   "source": [
    "The use-cases above are similar to those for a SQL algebraizer. Many SQL implementations \n",
    "1. translate the surface language into bare-bones expressions in the relational algebra, free of syntactical concerns\n",
    "2. run the algebraic expressions through a symbolic optimizer, which often rearranges them completely\n",
    "3. translate the optimized expressions into commands for a hardware back-end, or a distributed back-end, or other mechanization"
   ]
  },
  {
   "cell_type": "markdown",
   "id": "e440b17b-ed1e-4a26-a8aa-f00ed59c4bfe",
   "metadata": {},
   "source": [
    "We follow the paper more-or-less directly, with gleanings from [SICP](https://sarabander.github.io/sicp/)."
   ]
  },
  {
   "cell_type": "markdown",
   "id": "fab97f19-27e0-4004-b9de-f951fcc50e7e",
   "metadata": {},
   "source": [
    "## _Schemulation:_ Emulating Python in Python"
   ]
  },
  {
   "cell_type": "markdown",
   "id": "cd1ff76f-d551-46ab-a060-4814ab47ec29",
   "metadata": {},
   "source": [
    "Ideally, we'd compile Python into Scheme or Clojure, then write our transformers etc. in Scheme or Clojure. However, to maintain a convenient notebook structure and to avoid creeping dependencies, we'll just model Python imperatives in Python. We'll build a Scheme-like applicative-order lambda calculus in basic Python so that we can follow Steele and Sussman's paper. We may introduce some normal-order evaluation as discussed in SICP 1.1.5 ff."
   ]
  },
  {
   "cell_type": "markdown",
   "id": "3a398cb8-85d7-40aa-bd5b-212d254b186f",
   "metadata": {},
   "source": [
    "# Definitions"
   ]
  },
  {
   "cell_type": "markdown",
   "id": "892ebbd0-7c09-494c-90f7-67c9141dfa39",
   "metadata": {},
   "source": [
    "## Functions and Lambda Expressions"
   ]
  },
  {
   "cell_type": "markdown",
   "id": "6aec61fc-7501-4212-8260-fc58df3e8b18",
   "metadata": {},
   "source": [
    "Functions can be _named_ or _anonymous_. A named function is usually introduced Python with a `def`, as follows:"
   ]
  },
  {
   "cell_type": "code",
   "execution_count": 32,
   "id": "b206f62e-bdba-4df8-bd11-cdef99c0c8e0",
   "metadata": {},
   "outputs": [],
   "source": [
    "def foo(x):\n",
    "    result = x * (x + 1)\n",
    "    return result"
   ]
  },
  {
   "cell_type": "markdown",
   "id": "f4ced86e-0ba3-4130-a474-c884fdb61b07",
   "metadata": {},
   "source": [
    "We have the habit of defining local variables for results and then returning the values of those variables, as an alternative to direct returns:"
   ]
  },
  {
   "cell_type": "code",
   "execution_count": 33,
   "id": "50e43cde-0056-461d-8545-54461c22f7b3",
   "metadata": {},
   "outputs": [],
   "source": [
    "def foo(x):\n",
    "    return x * (x + 1)"
   ]
  },
  {
   "cell_type": "markdown",
   "id": "1e990505-9ecc-4d72-82f4-af57e1eb7ad4",
   "metadata": {},
   "source": [
    "This gives us a convenient place to hang a debugger breakpoint. Some debuggers are a bit shy about reporting return values."
   ]
  },
  {
   "cell_type": "markdown",
   "id": "a8855fdd-0b13-4bad-b5c7-25a49cca9602",
   "metadata": {},
   "source": [
    "Invoke named functions as follows:"
   ]
  },
  {
   "cell_type": "code",
   "execution_count": 34,
   "id": "d070a634-c55c-4dd9-b7f5-a51552294920",
   "metadata": {},
   "outputs": [
    {
     "data": {
      "text/plain": [
       "42"
      ]
     },
     "execution_count": 34,
     "metadata": {},
     "output_type": "execute_result"
    }
   ],
   "source": [
    "foo(6)"
   ]
  },
  {
   "cell_type": "markdown",
   "id": "14c78ed9-092b-45b6-926a-5d8e34d5c39d",
   "metadata": {},
   "source": [
    "Anonymous functions are introduced via lambda expressions, as follows:"
   ]
  },
  {
   "cell_type": "code",
   "execution_count": 35,
   "id": "1c34ff26-a92d-4c97-b167-38084d42d8d9",
   "metadata": {},
   "outputs": [
    {
     "data": {
      "text/plain": [
       "<function __main__.<lambda>(x)>"
      ]
     },
     "execution_count": 35,
     "metadata": {},
     "output_type": "execute_result"
    }
   ],
   "source": [
    "(lambda x: x * (x + 1))"
   ]
  },
  {
   "cell_type": "markdown",
   "id": "81c68f44-3343-49d9-8dda-b2d299478d34",
   "metadata": {},
   "source": [
    "and invoked as follows:"
   ]
  },
  {
   "cell_type": "code",
   "execution_count": 36,
   "id": "b2633e60-98d0-49f1-a1ad-b7db6ec1f69e",
   "metadata": {},
   "outputs": [
    {
     "data": {
      "text/plain": [
       "42"
      ]
     },
     "execution_count": 36,
     "metadata": {},
     "output_type": "execute_result"
    }
   ],
   "source": [
    "(lambda x: x * (x + 1))(6)"
   ]
  },
  {
   "cell_type": "markdown",
   "id": "1e9b5e63-0a98-485c-b36a-89dfd1fbadc5",
   "metadata": {},
   "source": [
    "We can also give names to functions by assigning lambda expressions to Python variables:"
   ]
  },
  {
   "cell_type": "code",
   "execution_count": 37,
   "id": "ecfda006-e673-43a1-a5d8-afae4f2b4f22",
   "metadata": {},
   "outputs": [
    {
     "data": {
      "text/plain": [
       "42"
      ]
     },
     "execution_count": 37,
     "metadata": {},
     "output_type": "execute_result"
    }
   ],
   "source": [
    "foo = (lambda x: x * (x + 1))\n",
    "foo(6)"
   ]
  },
  {
   "cell_type": "markdown",
   "id": "6b5ec44a-0e1b-4665-9dfb-cd89255689ba",
   "metadata": {},
   "source": [
    "Python lambda expressions may contain exactly one Python _expression_ in their bodies. We cannot assign a return value to a local variable in a lambda expression as we can with named functions. An assignment is a Python _statement_, not an expression. We solve this problem later with a `BLOCK` expression that lets us sequence multiple expressions in the schemulation. Until then, lambda expressions are difficult to debug. "
   ]
  },
  {
   "cell_type": "markdown",
   "id": "ac1f7b50-e564-4856-98c8-4eb54d294880",
   "metadata": {},
   "source": [
    "### Use Cases"
   ]
  },
  {
   "cell_type": "markdown",
   "id": "4f292d44-79e6-402d-a71a-5d67139c3f3c",
   "metadata": {},
   "source": [
    "In the ***object language*** of the schemulator, that is, the language being schemulated, we only use lambda expressions, no named functions. In the ***implementation language***, Python, we use both lambda expressions and named functions, plus any other features of Python we want. "
   ]
  },
  {
   "cell_type": "markdown",
   "id": "3a4a686f-8bf3-4829-bd1c-ea7ac4df66e1",
   "metadata": {},
   "source": [
    "## Bound and Free Variables"
   ]
  },
  {
   "cell_type": "markdown",
   "id": "2caedd24-3d20-41cd-bffc-7ee76e838b65",
   "metadata": {},
   "source": [
    "The bodies of Python's lambda expressions can refer to parameters and to non-parameters. Non-parameters are ***free variables***. In Python, they're looked up in a lexical environment rooted at top-level. Example: In the body of the innermost lambda in the following example, `x` is a parameter or bound variable, and `foo` is a free variable. In the body of the outermost lambda, `foo` is a bound variable. A given symbol may stand for a free variable in one place and for a bound variable in another place."
   ]
  },
  {
   "cell_type": "code",
   "execution_count": 39,
   "id": "8a3f7e5c-8fc1-44bb-b562-78ee8bf84501",
   "metadata": {},
   "outputs": [
    {
     "data": {
      "text/plain": [
       "42"
      ]
     },
     "execution_count": 39,
     "metadata": {},
     "output_type": "execute_result"
    }
   ],
   "source": [
    "(lambda foo: \n",
    " (lambda x: foo * x)(foo + 1))(6)"
   ]
  },
  {
   "cell_type": "markdown",
   "id": "ee0255df-65f3-4115-b539-cccf2f251552",
   "metadata": {},
   "source": [
    "We need to model that lookup in the schemulator."
   ]
  },
  {
   "cell_type": "markdown",
   "id": "e23a5592-81d0-4c7a-a191-66007d481740",
   "metadata": {},
   "source": [
    "## Frames and Environments"
   ]
  },
  {
   "cell_type": "markdown",
   "id": "f8effc9f-29f9-41ad-853d-cdaef5749363",
   "metadata": {},
   "source": [
    "See [SICP 3.2](https://sarabander.github.io/sicp/html/3_002e2.xhtml#g_t3_002e2) for Scheme's documentation on frames and environments."
   ]
  },
  {
   "cell_type": "markdown",
   "id": "b1dddaa0-5753-49e8-9ec4-255f1d2db4da",
   "metadata": {},
   "source": [
    "A ***frame*** is a lookup table -- a mathematical function -- from symbols to values. Symbols and values are not defined yet. Take them as primitive notions for now with their intuitive meanings."
   ]
  },
  {
   "cell_type": "markdown",
   "id": "39ad6869-1aab-4125-892e-16bac6cd3a2c",
   "metadata": {},
   "source": [
    "A symbol may appear no more than once in a frame.  An element of a frame is a ***key-value pair***, also called a ***binding*** of the symbol. The term \"_binding_\" also pertains to the value of a parameter in a context where it represents a bound variable -- a function parameter that has an actual argument as a value. Don't conflate these two meanings of \"_binding_.\""
   ]
  },
  {
   "cell_type": "markdown",
   "id": "3320396c-db3e-42a4-a4e7-8d088a007ee9",
   "metadata": {},
   "source": [
    "Logically, a frame is a Python dictionary. However, we choose a different implementation, as explained below."
   ]
  },
  {
   "cell_type": "markdown",
   "id": "5fca00d6-2f1c-45ca-98a2-c5a724fe2ba8",
   "metadata": {},
   "source": [
    "An ***environment*** is a sequence of frames. If a symbol appears in more than one frame in an environment, the symbol in the earlier frame ***shadows*** the symbol in a later frame. This structure supports ***lexical binding***."
   ]
  },
  {
   "cell_type": "markdown",
   "id": "f0aee59e-84ed-45be-837a-41073fbbda33",
   "metadata": {},
   "source": [
    "## Variable Bindings as Object Attributes"
   ]
  },
  {
   "cell_type": "markdown",
   "id": "2edadb6a-5f3b-4a07-93d8-8c979d7b43e4",
   "metadata": {},
   "source": [
    "Python's built-in `setattr` gives us a pleasing notation for variable bindings as attributes of lambda expressions. Consider:"
   ]
  },
  {
   "cell_type": "code",
   "execution_count": 41,
   "id": "7406e01c-2534-4cbd-8000-22882db70636",
   "metadata": {},
   "outputs": [
    {
     "data": {
      "text/plain": [
       "42"
      ]
     },
     "execution_count": 41,
     "metadata": {},
     "output_type": "execute_result"
    }
   ],
   "source": [
    "import types\n",
    "\n",
    "def obj_attribute():\n",
    "    obj = lambda: None  # <~~~ We want lambdas, lots of them!\n",
    "    if isinstance(obj, types.FunctionType):\n",
    "        setattr(obj, 'foo', 42)\n",
    "    return obj.foo  # <~~~ pretty\n",
    "obj_attribute()"
   ]
  },
  {
   "cell_type": "markdown",
   "id": "b5f737fa-d2e2-445b-9731-103c69893232",
   "metadata": {},
   "source": [
    "versus"
   ]
  },
  {
   "cell_type": "code",
   "execution_count": 40,
   "id": "0a728938-0502-40f0-9de1-03a697e00121",
   "metadata": {},
   "outputs": [
    {
     "data": {
      "text/plain": [
       "42"
      ]
     },
     "execution_count": 40,
     "metadata": {},
     "output_type": "execute_result"
    }
   ],
   "source": [
    "def dict_attribute():\n",
    "    dict = {}\n",
    "    dict['foo'] = 42\n",
    "    return dict['foo']  # <~~~ ugly\n",
    "dict_attribute()"
   ]
  },
  {
   "cell_type": "markdown",
   "id": "24a602ff-06a3-48d2-88be-1af6ef7f72f8",
   "metadata": {},
   "source": [
    "Because we work mostly with lambda expressions, we chose `obj_attribute` as a pattern. Thanks to [divs1210](https://gist.github.com/divs1210/d218d4b747b08751b2a232260321cdeb) for this idea."
   ]
  },
  {
   "cell_type": "markdown",
   "id": "a6482265-922d-402c-a5f8-9b0addc7dd27",
   "metadata": {},
   "source": [
    "# Global Environment"
   ]
  },
  {
   "cell_type": "markdown",
   "id": "fb09ce7e-cf7e-49ab-8136-5b940238f2f7",
   "metadata": {},
   "source": [
    "## SICP 1.1.2: Naming and the Environment"
   ]
  },
  {
   "cell_type": "markdown",
   "id": "0fa8bdb3-5512-4fb0-a16f-35d219cea579",
   "metadata": {},
   "source": [
    "The first challenge in \"compiling\" Python into applicative-order is to have a global environment in which to install global names. "
   ]
  },
  {
   "cell_type": "code",
   "execution_count": 42,
   "id": "ec909d9e-1094-40a2-9448-4d761179e6a0",
   "metadata": {},
   "outputs": [],
   "source": [
    "g_schemu_frame = lambda: None\n",
    "g_schemu_env = [g_schemu_frame]"
   ]
  },
  {
   "cell_type": "markdown",
   "id": "189a471c-bff9-468c-ae31-475cf5b6e5a6",
   "metadata": {},
   "source": [
    "## SICP 3.2.1"
   ]
  },
  {
   "cell_type": "markdown",
   "id": "aa9520af-b7bf-4962-95c2-3cfa0f24c05c",
   "metadata": {},
   "source": [
    "Quoting:"
   ]
  },
  {
   "cell_type": "markdown",
   "id": "73ca6b78-c30a-461a-a9ab-a077ebee53d8",
   "metadata": {},
   "source": [
    "> In the environment model of evaluation, a procedure is always a pair consisting of some code and a pointer to an environment. Procedures are created in one way only: by evaluating a λ-expression. This produces a procedure whose code is obtained from the text of the λ-expression and whose environment is the environment in which the λ-expression was evaluated to produce the procedure. "
   ]
  },
  {
   "cell_type": "markdown",
   "id": "17c9f8d5-3fc3-408b-bbec-7b09e638dace",
   "metadata": {},
   "source": [
    "Rather than implicit ambient environments, we make them explicit with the following convention:"
   ]
  },
  {
   "cell_type": "markdown",
   "id": "51396206-3273-448d-ad78-f85e887f47d6",
   "metadata": {},
   "source": [
    "> Every lambda expression has an explicit environment (list of frames) in its last parameter slot)"
   ]
  },
  {
   "cell_type": "markdown",
   "id": "739da49c-d20f-471b-9df7-2fa0680a8baa",
   "metadata": {},
   "source": [
    "Pursuing the example in SICP 3.2.1, consider the procedure definition"
   ]
  },
  {
   "cell_type": "markdown",
   "id": "de090e27-7357-4efc-8f1b-91099faecc8b",
   "metadata": {},
   "source": [
    "```\n",
    "(define (square x)\n",
    "  (* x x))\n",
    "```"
   ]
  },
  {
   "cell_type": "code",
   "execution_count": 43,
   "id": "a6012350-ab70-422a-9a8f-3781dfd1ab39",
   "metadata": {},
   "outputs": [
    {
     "data": {
      "text/plain": [
       "<function __main__.<lambda>(x, env)>"
      ]
     },
     "execution_count": 43,
     "metadata": {},
     "output_type": "execute_result"
    }
   ],
   "source": [
    "(lambda x, env: x * x)"
   ]
  },
  {
   "cell_type": "markdown",
   "id": "3d44e5f0-63ee-4497-85bd-d959764ef59b",
   "metadata": {},
   "source": [
    "# Expressions"
   ]
  },
  {
   "cell_type": "code",
   "execution_count": null,
   "id": "635e0069-51c9-41e0-936e-45e70da09ff3",
   "metadata": {},
   "outputs": [],
   "source": []
  }
 ],
 "metadata": {
  "jupytext": {
   "formats": "ipynb,md:myst"
  },
  "kernelspec": {
   "display_name": "Python 3 (ipykernel)",
   "language": "python",
   "name": "python3"
  },
  "language_info": {
   "codemirror_mode": {
    "name": "ipython",
    "version": 3
   },
   "file_extension": ".py",
   "mimetype": "text/x-python",
   "name": "python",
   "nbconvert_exporter": "python",
   "pygments_lexer": "ipython3",
   "version": "3.9.7"
  }
 },
 "nbformat": 4,
 "nbformat_minor": 5
}
